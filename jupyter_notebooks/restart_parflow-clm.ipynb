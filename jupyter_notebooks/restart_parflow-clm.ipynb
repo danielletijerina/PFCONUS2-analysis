{
 "cells": [
  {
   "cell_type": "code",
   "execution_count": 1,
   "id": "188b1029-1a6b-4a17-9f92-939d3947efb9",
   "metadata": {},
   "outputs": [],
   "source": [
    "%reset -f\n",
    "import os\n",
    "import sys\n",
    "import os.path\n",
    "from osgeo import gdal\n",
    "from pyproj import Proj, transform\n",
    "import pandas as pd\n",
    "import numpy as np\n",
    "from parflow import Run\n",
    "from parflow.tools.fs import get_absolute_path\n",
    "from parflow.tools.io import write_pfb, read_pfb\n",
    "from matplotlib import pyplot as plt"
   ]
  },
  {
   "cell_type": "code",
   "execution_count": 2,
   "id": "6bc048cd-843d-405e-91ae-12431dbd8721",
   "metadata": {},
   "outputs": [
    {
     "name": "stdout",
     "output_type": "stream",
     "text": [
      "/glade/scratch/tijerina/CONUS2/spinup_WY2003/run_inputs/drv_clmin.dat\n"
     ]
    }
   ],
   "source": [
    "#edit CLM input file 'drv_clmin.dat'. \n",
    "clm_input_dir = '/glade/scratch/tijerina/CONUS2/spinup_WY2003/run_inputs'   #@Danielle  spinup_WY2003/run_inputs/\n",
    "drv_clmin_name = 'drv_clmin.dat'  #@Danielle\n",
    "startcode_num = '1'  #@Danielle\n",
    "# should be string, \n",
    "# if your run is from the beginning of the water year (initial conditions), set it as 2, \n",
    "# if your run is from anytime except the beginning of the water year and you are using a restart, set it as 1\n",
    "clm_ic_num = '1'  #@Danielle\n",
    "# should be string\n",
    "# if this is your first run, set it as 2, \n",
    "# if this a run restart from a previous one, set it as 1\n",
    "\n",
    "#don't touch below unless the code can't run\n",
    "#=============================================\n",
    "if clm_input_dir[-1] == '/':\n",
    "        clm_input_dir = clm_input_dir[:-1]\n",
    "clm_path = clm_input_dir + '/' + drv_clmin_name\n",
    "print(clm_path)\n",
    "\n",
    "f1 = open(clm_path,'r')\n",
    "f2 = open(clm_path + '.bak','w')\n",
    "for line in f1:\n",
    "    line = line.strip()\n",
    "    if line[0:9] == 'startcode':\n",
    "        new_line = 'startcode      ' + startcode_num + '                                      1=restart file,2=defined\\n'\n",
    "        f2.write(line.replace(line,new_line))\n",
    "    elif line[0:6] == 'clm_ic':\n",
    "        new_line = 'clm_ic         ' + clm_ic_num + '                                      1=restart file,2=defined\\n'\n",
    "        f2.write(line.replace(line,new_line))\n",
    "    else:\n",
    "        f2.write(line + '\\n')\n",
    "f1.close()\n",
    "f2.close()\n",
    "os.remove(clm_path) \n",
    "os.rename(clm_path + '.bak',clm_path) "
   ]
  },
  {
   "cell_type": "code",
   "execution_count": 3,
   "id": "509a8c3f-8d38-4f04-b1ae-86850f1166c3",
   "metadata": {},
   "outputs": [
    {
     "name": "stdout",
     "output_type": "stream",
     "text": [
      "600\n"
     ]
    }
   ],
   "source": [
    "# get the restart timestep\n",
    "# set your path of clm_restart.tcl\n",
    "data_path = f'{clm_input_dir}/clm_restart.tcl'  #@Danielle #spinup_WY2003/run_inputs/\n",
    "\n",
    "#don't touch the below unless there is something wrong\n",
    "#=============================================\n",
    "data = pd.read_csv(data_path,sep='\\s+',header=None)\n",
    "restart_time = np.array(data)[0,2]\n",
    "restart_time = restart_time//24 * 24\n",
    "print(restart_time)"
   ]
  },
  {
   "cell_type": "code",
   "execution_count": 4,
   "id": "d0a8ac32-5e16-47b3-b920-a042e3538b55",
   "metadata": {},
   "outputs": [
    {
     "name": "stdout",
     "output_type": "stream",
     "text": [
      "In a terminal window, navigate to the directory where your restarts are located and enter this command: rename 00000 00600  *\n"
     ]
    }
   ],
   "source": [
    "# rename restart file\n",
    "# to the path where the clm.rst.xxxxx.x files located\n",
    "# It's better to put the restart file in a new folder, otherwise, it may also rename some other files with 00000\n",
    "# If you restart from the beginning of a water year, no need to do this step\n",
    "your_path = '/glade/scratch/tijerina/CONUS2/spinup_WY2003/clm-restarts'  #the path @Danielle #spinup_WY2003/run_inputs/clm-restarts\n",
    "\n",
    "#don't touch the below unless there is something wrong\n",
    "#=============================================\n",
    "cd_path = 'cd ' + your_path\n",
    "os.system(cd_path)\n",
    "num1 = '00000'\n",
    "num2 = str(restart_time).zfill(5)\n",
    "command = 'rename ' + num1 + ' ' + num2 + ' ' + ' *'\n",
    "print(f'In a terminal window, navigate to the directory where your restarts are located and enter this command: {command}')\n",
    "#os.system(command)"
   ]
  },
  {
   "cell_type": "code",
   "execution_count": 12,
   "id": "1c560bac-92d5-4fa3-a393-d8f5f57629aa",
   "metadata": {},
   "outputs": [],
   "source": [
    "#edit input python script"
   ]
  },
  {
   "cell_type": "code",
   "execution_count": null,
   "id": "deccc782-5a51-41fc-a55c-5dcd6db704c6",
   "metadata": {},
   "outputs": [],
   "source": []
  }
 ],
 "metadata": {
  "kernelspec": {
   "display_name": "Python [conda env:parflow-npl]",
   "language": "python",
   "name": "conda-env-parflow-npl-py"
  },
  "language_info": {
   "codemirror_mode": {
    "name": "ipython",
    "version": 3
   },
   "file_extension": ".py",
   "mimetype": "text/x-python",
   "name": "python",
   "nbconvert_exporter": "python",
   "pygments_lexer": "ipython3",
   "version": "3.7.12"
  }
 },
 "nbformat": 4,
 "nbformat_minor": 5
}
