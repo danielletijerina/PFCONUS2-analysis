{
 "cells": [
  {
   "cell_type": "code",
   "execution_count": 1,
   "metadata": {},
   "outputs": [],
   "source": [
    "import parflow as pf\n",
    "import numpy as np\n",
    "from osgeo import gdal"
   ]
  },
  {
   "cell_type": "markdown",
   "metadata": {},
   "source": [
    "#### Read in pfb"
   ]
  },
  {
   "cell_type": "code",
   "execution_count": 3,
   "metadata": {},
   "outputs": [],
   "source": [
    "# inputs for tiff\n",
    "path_to_dir = '/glade/scratch/tijerina/CONUS2/spinup_WY2003/run_inputs'\n",
    "run_name = 'spinup.wy2003'\n",
    "timestep = '00216'\n",
    "variable = 'press'\n",
    "\n",
    "\n",
    "# Out directory to save tiff\n",
    "out_dir = '/glade/work/tijerina/Figures/tiffs'"
   ]
  },
  {
   "cell_type": "code",
   "execution_count": 4,
   "metadata": {},
   "outputs": [
    {
     "name": "stdout",
     "output_type": "stream",
     "text": [
      "/glade/scratch/tijerina/CONUS2/spinup_WY2003/run_inputs/spinup.wy2003.out.press.00216.pfb\n"
     ]
    },
    {
     "data": {
      "text/plain": [
       "(10, 3256, 4442)"
      ]
     },
     "execution_count": 4,
     "metadata": {},
     "output_type": "execute_result"
    }
   ],
   "source": [
    "file = f'{path_to_dir}/{run_name}.out.{variable}.{timestep}.pfb'\n",
    "pfb = pf.read_pfb(file)\n",
    "#pfb = pf.read_pfb('/glade/scratch/tijerina/from_hoang/CONUS2_spinup_all_seepage.out.press.08754.pfb')\n",
    "print(file)\n",
    "pfb.shape\n"
   ]
  },
  {
   "cell_type": "code",
   "execution_count": 5,
   "metadata": {},
   "outputs": [],
   "source": [
    "# select layer (only for outputs with multiple layers)\n",
    "pfb10 = pfb[9,...]\n",
    "#### Flip pfb array to make tif\n",
    "# need to do this because read_pfb starts indexing at top left and we need it to start at bottom left\n",
    "\n",
    "pfb_flip = np.flipud(pfb10) # USE FOR SINGLE LAYER: np.flipud(pfb)"
   ]
  },
  {
   "cell_type": "code",
   "execution_count": 6,
   "metadata": {},
   "outputs": [],
   "source": [
    "# Set inactive domain to Nan\n",
    "pfb_flip[pfb_flip < -1000000000] = 'Nan'"
   ]
  },
  {
   "cell_type": "markdown",
   "metadata": {},
   "source": [
    "#### Read in CONUS2 file for georeferencing information"
   ]
  },
  {
   "cell_type": "code",
   "execution_count": 9,
   "metadata": {},
   "outputs": [
    {
     "data": {
      "text/plain": [
       "osgeo.gdal.Dataset"
      ]
     },
     "execution_count": 9,
     "metadata": {},
     "output_type": "execute_result"
    }
   ],
   "source": [
    "# this file is needed for the geotransform and projection below\n",
    "# this land cover file is in a directory with other tiffs, but it may be best to cp it into your working directory\n",
    "file = '/glade/work/tijerina/Figures_NotebookOutputs/tiffs/1km_CONUS2_landcover_IGBP.tif'\n",
    "\n",
    "# open tiff mask\n",
    "lc_tif = gdal.Open(file)\n",
    "# check to make sure file was read correctly as a osgeo.gdal dataset\n",
    "type(lc_tif)"
   ]
  },
  {
   "cell_type": "code",
   "execution_count": 8,
   "metadata": {},
   "outputs": [],
   "source": [
    "### Change the destination file name, what you would like your new tif to be called ###\n",
    "dst_filename = f'{out_dir}/{run_name}_{variable}.{timestep}.tiff'\n",
    "#dst_filename = 'Hoang_init_pressure.tiff'\n",
    "### number of grid cells in x ###\n",
    "x_pixels = 4442  \n",
    "### number of grid cells in y ###\n",
    "y_pixels = 3256  \n",
    "\n",
    "driver = gdal.GetDriverByName('GTiff')\n",
    "dataset = driver.Create(dst_filename,x_pixels, y_pixels, 1,gdal.GDT_Float32)\n",
    "\n",
    "### create tif with FLIPPED array you want to use ###\n",
    "dataset.GetRasterBand(1).WriteArray(pfb_flip) \n",
    "\n",
    "# Do not change code below here, unless you have used a different variable name above for the land cover tif\n",
    "# Add GeoTranform and Projection information to newly created tif file\n",
    "geotrans=lc_tif.GetGeoTransform()  #get GeoTranform from existing tif file (here 'lc_tif')\n",
    "proj=lc_tif.GetProjection() #you can import or get from a existing tif   \n",
    "dataset.SetGeoTransform(geotrans)\n",
    "dataset.SetProjection(proj)\n",
    "dataset.FlushCache()\n",
    "dataset=None"
   ]
  },
  {
   "cell_type": "code",
   "execution_count": null,
   "metadata": {},
   "outputs": [],
   "source": []
  }
 ],
 "metadata": {
  "kernelspec": {
   "display_name": "Python [conda env:parflow-npl]",
   "language": "python",
   "name": "conda-env-parflow-npl-py"
  },
  "language_info": {
   "codemirror_mode": {
    "name": "ipython",
    "version": 3
   },
   "file_extension": ".py",
   "mimetype": "text/x-python",
   "name": "python",
   "nbconvert_exporter": "python",
   "pygments_lexer": "ipython3",
   "version": "3.7.12"
  }
 },
 "nbformat": 4,
 "nbformat_minor": 4
}
