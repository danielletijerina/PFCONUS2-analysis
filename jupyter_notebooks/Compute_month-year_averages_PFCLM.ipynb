{
 "cells": [
  {
   "cell_type": "markdown",
   "id": "9c5c418a-dc9d-4b25-b786-b21ca47c2fc2",
   "metadata": {},
   "source": [
    "### Compute monthly and yearly averages of PFCLM outputs  \n",
    "This script takes already postprocessed PFCLM daily averages as PFB files and computes monthly and yearly averages to be saved as PFB files.\n",
    "\n",
    "**Inputs:**\n",
    "- Directory where PFCLM daily averages are and directory where you want to save output (these should be the same)\n",
    "- PFB files of PF and CLM daily averages\n",
    "- water year and day start/end\n",
    "\n",
    "**Outputs:**  \n",
    "Monthly and yearly averages of PFCLM variables saved as PFB files:  \n",
    "  - Overland flow at each grid cell (flow)\n",
    "    - Soil moisture (SM)\n",
    "    - Water table depth (WTD)\n",
    "\n",
    "  - _Subsurface Storage_\n",
    "    - Total Subsurface Storage (SUBstorage)\n",
    "    - GW storage (GWstorage)\n",
    "    - Soil moisture storage (SMstorage)\n",
    "\n",
    "  - _Total Water Storage_\n",
    "    - Surface water storage (SURF_WATstorage)\n",
    "    - Total water storage (TWS)  \n",
    "    \n",
    " - CLM variables  \n",
    "   - Latent heat (LH) – CLM out layer 1 [W/m^2]\n",
    "   - Sensible heat flux (SH) – CLM out layer 3 [W/m^2]\n",
    "   - ground evaporation without condensation (qflx_grnd) – CLM out layer 6 [mm/s]\n",
    "   - Vegetation transpiration (qflx_trans) – CLM out layer 9 [mm/s]\n",
    "   - Snow water equivalent (SWE) – CLM out layer 11 [mm]\n",
    "   - Ground temperature (Tgrnd) – CLM out layer 12 [K] skin temp\n",
    "   - Soil temperature (Tsoil) – CLM out layer 14 [K] @5cm\n",
    "   - Evapotranspiration calculation from qflx_evap_tot"
   ]
  },
  {
   "cell_type": "code",
   "execution_count": null,
   "id": "15ba8457-fff3-4ff9-88f2-6af85c7f7fa9",
   "metadata": {},
   "outputs": [],
   "source": [
    "import numpy as np\n",
    "from parflow import Run\n",
    "import sys\n",
    "from parflow.tools.io import read_pfb,write_pfb\n",
    "import parflow.tools.hydrology as hydro"
   ]
  },
  {
   "cell_type": "code",
   "execution_count": null,
   "id": "c09c8090-0d45-43fb-b821-8aea9e9103c5",
   "metadata": {},
   "outputs": [],
   "source": [
    "water_year = 2003\n",
    "day_start = 0 #day_start = 0 is the first day of the water year, Oct 1 (e.g., day_start = 2 starts at hour 49)\n",
    "day_end = 3 #day_end = 364 is the final day of the water year, Sept 30"
   ]
  },
  {
   "cell_type": "code",
   "execution_count": null,
   "id": "af4a3f09-d6c1-4706-8f72-59bc7937d09d",
   "metadata": {},
   "outputs": [],
   "source": [
    "# days in water year starts with October\n"
   ]
  },
  {
   "cell_type": "code",
   "execution_count": null,
   "id": "6127b4b9-3e8f-48bb-94a5-5beae79b9c17",
   "metadata": {},
   "outputs": [],
   "source": []
  }
 ],
 "metadata": {
  "kernelspec": {
   "display_name": "Python 3 (ipykernel)",
   "language": "python",
   "name": "python3"
  },
  "language_info": {
   "codemirror_mode": {
    "name": "ipython",
    "version": 3
   },
   "file_extension": ".py",
   "mimetype": "text/x-python",
   "name": "python",
   "nbconvert_exporter": "python",
   "pygments_lexer": "ipython3",
   "version": "3.9.12"
  }
 },
 "nbformat": 4,
 "nbformat_minor": 5
}
