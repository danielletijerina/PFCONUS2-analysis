{
 "cells": [
  {
   "cell_type": "markdown",
   "id": "f5c6c94c-04de-463c-a0bf-4a58b2eb6ac5",
   "metadata": {},
   "source": [
    "# Analysis of high pressure areas in CONUS2\n",
    "- find high pressures \n",
    "- read in Mannings n file \n",
    "- increase Mannings at high pressure locations\n"
   ]
  },
  {
   "cell_type": "code",
   "execution_count": 1,
   "id": "9b56f368-ec65-4774-a783-9486abdbaa0b",
   "metadata": {},
   "outputs": [],
   "source": [
    "import xarray as xr\n",
    "import numpy as np\n",
    "import os\n",
    "from glob import glob\n",
    "import matplotlib.pyplot as plt\n",
    "import pandas as pd\n",
    "\n",
    "import parflow as pf\n",
    "from parflow.tools.fs import get_absolute_path\n",
    "from parflow.tools.settings import set_working_directory\n",
    "from parflow.tools.io import write_pfb, read_pfb\n",
    "from parflow import Run\n",
    "import parflow.tools.hydrology as hydro\n",
    "\n"
   ]
  },
  {
   "cell_type": "code",
   "execution_count": 2,
   "id": "e550cf5d-4f8f-4406-8c6b-90b3bc79b3f8",
   "metadata": {},
   "outputs": [],
   "source": [
    "#setting the directory name that we will read our outputs from\n",
    "log_file = '/glade/scratch/tijerina/CONUS2/spinup_WY2003/logs/0.spinup.wy2003.out.txt'\n"
   ]
  },
  {
   "cell_type": "code",
   "execution_count": 6,
   "id": "aa2e2672-9591-48f7-bd24-208f23085a4f",
   "metadata": {},
   "outputs": [
    {
     "ename": "ValueError",
     "evalue": "could not convert string to float: 'Node'",
     "output_type": "error",
     "traceback": [
      "\u001b[0;31m---------------------------------------------------------------------------\u001b[0m",
      "\u001b[0;31mValueError\u001b[0m                                Traceback (most recent call last)",
      "\u001b[0;32m/glade/scratch/tijerina/ipykernel_272718/1996716277.py\u001b[0m in \u001b[0;36m<module>\u001b[0;34m\u001b[0m\n\u001b[1;32m      1\u001b[0m \u001b[0;32mfrom\u001b[0m \u001b[0mnumpy\u001b[0m \u001b[0;32mimport\u001b[0m \u001b[0mloadtxt\u001b[0m\u001b[0;34m\u001b[0m\u001b[0;34m\u001b[0m\u001b[0m\n\u001b[1;32m      2\u001b[0m \u001b[0;34m\u001b[0m\u001b[0m\n\u001b[0;32m----> 3\u001b[0;31m \u001b[0mlog_array\u001b[0m \u001b[0;34m=\u001b[0m \u001b[0mloadtxt\u001b[0m\u001b[0;34m(\u001b[0m\u001b[0mlog_file\u001b[0m\u001b[0;34m)\u001b[0m\u001b[0;34m\u001b[0m\u001b[0;34m\u001b[0m\u001b[0m\n\u001b[0m",
      "\u001b[0;32m/glade/work/tijerina/conda-envs/parflow-npl/lib/python3.7/site-packages/numpy/lib/npyio.py\u001b[0m in \u001b[0;36mloadtxt\u001b[0;34m(fname, dtype, comments, delimiter, converters, skiprows, usecols, unpack, ndmin, encoding, max_rows, like)\u001b[0m\n\u001b[1;32m   1146\u001b[0m         \u001b[0;31m# converting the data\u001b[0m\u001b[0;34m\u001b[0m\u001b[0;34m\u001b[0m\u001b[0;34m\u001b[0m\u001b[0m\n\u001b[1;32m   1147\u001b[0m         \u001b[0mX\u001b[0m \u001b[0;34m=\u001b[0m \u001b[0;32mNone\u001b[0m\u001b[0;34m\u001b[0m\u001b[0;34m\u001b[0m\u001b[0m\n\u001b[0;32m-> 1148\u001b[0;31m         \u001b[0;32mfor\u001b[0m \u001b[0mx\u001b[0m \u001b[0;32min\u001b[0m \u001b[0mread_data\u001b[0m\u001b[0;34m(\u001b[0m\u001b[0m_loadtxt_chunksize\u001b[0m\u001b[0;34m)\u001b[0m\u001b[0;34m:\u001b[0m\u001b[0;34m\u001b[0m\u001b[0;34m\u001b[0m\u001b[0m\n\u001b[0m\u001b[1;32m   1149\u001b[0m             \u001b[0;32mif\u001b[0m \u001b[0mX\u001b[0m \u001b[0;32mis\u001b[0m \u001b[0;32mNone\u001b[0m\u001b[0;34m:\u001b[0m\u001b[0;34m\u001b[0m\u001b[0;34m\u001b[0m\u001b[0m\n\u001b[1;32m   1150\u001b[0m                 \u001b[0mX\u001b[0m \u001b[0;34m=\u001b[0m \u001b[0mnp\u001b[0m\u001b[0;34m.\u001b[0m\u001b[0marray\u001b[0m\u001b[0;34m(\u001b[0m\u001b[0mx\u001b[0m\u001b[0;34m,\u001b[0m \u001b[0mdtype\u001b[0m\u001b[0;34m)\u001b[0m\u001b[0;34m\u001b[0m\u001b[0;34m\u001b[0m\u001b[0m\n",
      "\u001b[0;32m/glade/work/tijerina/conda-envs/parflow-npl/lib/python3.7/site-packages/numpy/lib/npyio.py\u001b[0m in \u001b[0;36mread_data\u001b[0;34m(chunk_size)\u001b[0m\n\u001b[1;32m    997\u001b[0m \u001b[0;34m\u001b[0m\u001b[0m\n\u001b[1;32m    998\u001b[0m             \u001b[0;31m# Convert each value according to its column and store\u001b[0m\u001b[0;34m\u001b[0m\u001b[0;34m\u001b[0m\u001b[0;34m\u001b[0m\u001b[0m\n\u001b[0;32m--> 999\u001b[0;31m             \u001b[0mitems\u001b[0m \u001b[0;34m=\u001b[0m \u001b[0;34m[\u001b[0m\u001b[0mconv\u001b[0m\u001b[0;34m(\u001b[0m\u001b[0mval\u001b[0m\u001b[0;34m)\u001b[0m \u001b[0;32mfor\u001b[0m \u001b[0;34m(\u001b[0m\u001b[0mconv\u001b[0m\u001b[0;34m,\u001b[0m \u001b[0mval\u001b[0m\u001b[0;34m)\u001b[0m \u001b[0;32min\u001b[0m \u001b[0mzip\u001b[0m\u001b[0;34m(\u001b[0m\u001b[0mconverters\u001b[0m\u001b[0;34m,\u001b[0m \u001b[0mvals\u001b[0m\u001b[0;34m)\u001b[0m\u001b[0;34m]\u001b[0m\u001b[0;34m\u001b[0m\u001b[0;34m\u001b[0m\u001b[0m\n\u001b[0m\u001b[1;32m   1000\u001b[0m \u001b[0;34m\u001b[0m\u001b[0m\n\u001b[1;32m   1001\u001b[0m             \u001b[0;31m# Then pack it according to the dtype's nesting\u001b[0m\u001b[0;34m\u001b[0m\u001b[0;34m\u001b[0m\u001b[0;34m\u001b[0m\u001b[0m\n",
      "\u001b[0;32m/glade/work/tijerina/conda-envs/parflow-npl/lib/python3.7/site-packages/numpy/lib/npyio.py\u001b[0m in \u001b[0;36m<listcomp>\u001b[0;34m(.0)\u001b[0m\n\u001b[1;32m    997\u001b[0m \u001b[0;34m\u001b[0m\u001b[0m\n\u001b[1;32m    998\u001b[0m             \u001b[0;31m# Convert each value according to its column and store\u001b[0m\u001b[0;34m\u001b[0m\u001b[0;34m\u001b[0m\u001b[0;34m\u001b[0m\u001b[0m\n\u001b[0;32m--> 999\u001b[0;31m             \u001b[0mitems\u001b[0m \u001b[0;34m=\u001b[0m \u001b[0;34m[\u001b[0m\u001b[0mconv\u001b[0m\u001b[0;34m(\u001b[0m\u001b[0mval\u001b[0m\u001b[0;34m)\u001b[0m \u001b[0;32mfor\u001b[0m \u001b[0;34m(\u001b[0m\u001b[0mconv\u001b[0m\u001b[0;34m,\u001b[0m \u001b[0mval\u001b[0m\u001b[0;34m)\u001b[0m \u001b[0;32min\u001b[0m \u001b[0mzip\u001b[0m\u001b[0;34m(\u001b[0m\u001b[0mconverters\u001b[0m\u001b[0;34m,\u001b[0m \u001b[0mvals\u001b[0m\u001b[0;34m)\u001b[0m\u001b[0;34m]\u001b[0m\u001b[0;34m\u001b[0m\u001b[0;34m\u001b[0m\u001b[0m\n\u001b[0m\u001b[1;32m   1000\u001b[0m \u001b[0;34m\u001b[0m\u001b[0m\n\u001b[1;32m   1001\u001b[0m             \u001b[0;31m# Then pack it according to the dtype's nesting\u001b[0m\u001b[0;34m\u001b[0m\u001b[0;34m\u001b[0m\u001b[0;34m\u001b[0m\u001b[0m\n",
      "\u001b[0;32m/glade/work/tijerina/conda-envs/parflow-npl/lib/python3.7/site-packages/numpy/lib/npyio.py\u001b[0m in \u001b[0;36mfloatconv\u001b[0;34m(x)\u001b[0m\n\u001b[1;32m    734\u001b[0m         \u001b[0;32mif\u001b[0m \u001b[0;34m'0x'\u001b[0m \u001b[0;32min\u001b[0m \u001b[0mx\u001b[0m\u001b[0;34m:\u001b[0m\u001b[0;34m\u001b[0m\u001b[0;34m\u001b[0m\u001b[0m\n\u001b[1;32m    735\u001b[0m             \u001b[0;32mreturn\u001b[0m \u001b[0mfloat\u001b[0m\u001b[0;34m.\u001b[0m\u001b[0mfromhex\u001b[0m\u001b[0;34m(\u001b[0m\u001b[0mx\u001b[0m\u001b[0;34m)\u001b[0m\u001b[0;34m\u001b[0m\u001b[0;34m\u001b[0m\u001b[0m\n\u001b[0;32m--> 736\u001b[0;31m         \u001b[0;32mreturn\u001b[0m \u001b[0mfloat\u001b[0m\u001b[0;34m(\u001b[0m\u001b[0mx\u001b[0m\u001b[0;34m)\u001b[0m\u001b[0;34m\u001b[0m\u001b[0;34m\u001b[0m\u001b[0m\n\u001b[0m\u001b[1;32m    737\u001b[0m \u001b[0;34m\u001b[0m\u001b[0m\n\u001b[1;32m    738\u001b[0m     \u001b[0mtyp\u001b[0m \u001b[0;34m=\u001b[0m \u001b[0mdtype\u001b[0m\u001b[0;34m.\u001b[0m\u001b[0mtype\u001b[0m\u001b[0;34m\u001b[0m\u001b[0;34m\u001b[0m\u001b[0m\n",
      "\u001b[0;31mValueError\u001b[0m: could not convert string to float: 'Node'"
     ]
    }
   ],
   "source": [
    "from numpy import loadtxt\n",
    "\n",
    "log_array = loadtxt(log_file)"
   ]
  },
  {
   "cell_type": "markdown",
   "id": "6ce59a83-4651-454d-bc26-febf5d9b87e6",
   "metadata": {},
   "source": [
    "####  Read in the domain properties"
   ]
  },
  {
   "cell_type": "code",
   "execution_count": 4,
   "id": "7f561c9f-d6dc-419f-9349-c8acb303e299",
   "metadata": {},
   "outputs": [
    {
     "name": "stdout",
     "output_type": "stream",
     "text": [
      "Warning: The following CLM variables could not be set:\n",
      "  - qflx_tran_vegm\n",
      "25 1 1 20 2.0 2.0 [1.   0.5  0.1  0.1  0.1  0.1  0.1  0.1  0.1  0.1  0.1  0.1  0.1  0.1\n",
      " 0.1  0.1  0.1  0.1  0.1  0.01]\n"
     ]
    }
   ],
   "source": [
    "run = Run.from_definition(f'{pf_run_dir}/{run_name}.pfidb')\n",
    "data = run.data_accessor\n",
    "nt = len(data.times)\n",
    "nx = data.shape[2]\n",
    "ny = data.shape[1]\n",
    "nz = data.shape[0]\n",
    "dx = data.dx\n",
    "dy = data.dy\n",
    "dz = data.dz\n",
    "\n",
    "print(nt,nx,ny,nz,dx,dy,dz)\n",
    "\n",
    "porosity = data.computed_porosity \n",
    "specific_storage = data.specific_storage \n",
    "#mannings = pf.read_pfb(f'{run_dir}/spinup.scaling.48_36.out.n.pfb') #run.Mannings.Geom.domain.Value\n",
    "#mannings = data.mannings\n",
    "\n",
    "## remove input filenames for TopoSlopes to force the data accessor to read the output slopes\n",
    "## this fixes a windows issue\n",
    "run.TopoSlopesX.FileName = None\n",
    "run.TopoSlopesY.FileName = None\n",
    "\n",
    "#slopex = data.slope_x \n",
    "#slopey = data.slope_y \n",
    "mask = data.mask\n",
    "\n",
    "# formatting the mask so that values outside the domain are NA and inside the domain are 1\n",
    "# check with mask that has 0 and 1\n",
    "nanmask=mask.copy()\n",
    "#nanmask[nanmask == 0] = 'NaN'\n",
    "nanmask[nanmask > 0] = 1"
   ]
  },
  {
   "cell_type": "code",
   "execution_count": 5,
   "id": "12963dbd-15b7-43cc-8328-7b236832e36b",
   "metadata": {},
   "outputs": [
    {
     "data": {
      "text/plain": [
       "25"
      ]
     },
     "execution_count": 5,
     "metadata": {},
     "output_type": "execute_result"
    }
   ],
   "source": [
    "nt"
   ]
  },
  {
   "cell_type": "markdown",
   "id": "80021223-211d-4d98-8c86-6491515adc3f",
   "metadata": {},
   "source": [
    "#### Read the simulation output files"
   ]
  },
  {
   "cell_type": "code",
   "execution_count": 6,
   "id": "d56750bc-26a4-4656-9842-095b3d8a0811",
   "metadata": {},
   "outputs": [],
   "source": [
    "#list all pressure files from outputs\n",
    "lw_press_files = glob(f'{pf_run_dir}/{run_name}.out.press*.pfb')\n",
    "#print(lw_press_files)\n",
    "#read in all pressure files into a 3D NParray\n",
    "pressure_arrays = pf.read_pfb_sequence(lw_press_files) * nanmask\n",
    "\n",
    "#list all saturation files from outputs\n",
    "lw_satur_files = glob(f'{pf_run_dir}/{run_name}.out.satur*.pfb')\n",
    "#read in all pressure files into a 3D NParray\n",
    "saturation_arrays = pf.read_pfb_sequence(lw_satur_files) * nanmask"
   ]
  },
  {
   "cell_type": "code",
   "execution_count": 7,
   "id": "42f8ff78-5253-4b40-a1bf-6e1a14e77691",
   "metadata": {},
   "outputs": [
    {
     "data": {
      "text/plain": [
       "(25, 20, 1, 1)"
      ]
     },
     "execution_count": 7,
     "metadata": {},
     "output_type": "execute_result"
    }
   ],
   "source": [
    "pressure_arrays.shape"
   ]
  },
  {
   "cell_type": "code",
   "execution_count": 8,
   "id": "3b522b70-e7b7-48ca-9422-d9737d96a0d2",
   "metadata": {},
   "outputs": [
    {
     "data": {
      "text/plain": [
       "23"
      ]
     },
     "execution_count": 8,
     "metadata": {},
     "output_type": "execute_result"
    }
   ],
   "source": [
    "len(lw_press_files)\n",
    "clm_counter = len(lw_press_files)-2\n",
    "clm_counter"
   ]
  },
  {
   "cell_type": "markdown",
   "id": "2f70b806-0933-4080-9ab9-4e3ee709459a",
   "metadata": {},
   "source": [
    "### Find indices of pressures that are negative, plot timeseries"
   ]
  },
  {
   "cell_type": "code",
   "execution_count": 9,
   "id": "a907d539-36ea-4e5a-9b91-ae28dc46c1da",
   "metadata": {},
   "outputs": [],
   "source": [
    "# Single Pressure file to find indices with very negative pressures \n",
    "single_pressure = pf.read_pfb(f'{pf_run_dir}/{run_name}.out.press.00024.pfb')*nanmask"
   ]
  },
  {
   "cell_type": "code",
   "execution_count": 10,
   "id": "87fa8625-a933-4586-a98d-05c03dee1453",
   "metadata": {},
   "outputs": [
    {
     "name": "stdout",
     "output_type": "stream",
     "text": [
      "-4.328001490647562\n",
      "-4.328001490647562\n"
     ]
    }
   ],
   "source": [
    "single_press_top = single_pressure[9,...]\n",
    "print(single_press_top.max())\n",
    "print(single_press_top.min())"
   ]
  },
  {
   "cell_type": "code",
   "execution_count": 11,
   "id": "8db8a93d-6b35-45af-bd09-f752ec27ccf1",
   "metadata": {},
   "outputs": [
    {
     "data": {
      "text/plain": [
       "array([ 468,  468,  468,  468,  469,  469,  469,  469,  470,  470,  470,\n",
       "        471,  471,  471,  471,  472,  472,  472,  472,  472,  472,  472,\n",
       "        473,  473,  473,  473,  473,  473,  474,  474,  474,  474,  474,\n",
       "        475,  475,  475,  475,  476,  476,  476,  476,  476,  477,  477,\n",
       "        477,  477,  477,  477,  478,  478,  478,  478,  478,  479,  479,\n",
       "        479,  479,  479,  479,  480,  480,  480,  480,  480,  480,  481,\n",
       "        481,  481,  481,  481,  482,  482,  482,  482,  482,  483,  483,\n",
       "        483,  483,  484,  484,  484,  485,  485,  485,  486,  486,  486,\n",
       "        487,  487,  487,  487,  488,  488,  488,  488, 1006, 1006, 1006,\n",
       "       1007, 1007, 1007, 1007, 1007, 1008, 1008, 1008, 1024, 1024, 1025,\n",
       "       1025, 1026, 1026, 1026, 1026, 1026, 1026, 1027, 1027, 1027, 1027,\n",
       "       1027, 1027, 1027, 1027, 1028, 1028, 1028, 1028, 1028, 1028, 1028,\n",
       "       1028, 1029, 1029, 1029, 1029, 1029, 1030, 1030, 1034, 1059, 1059,\n",
       "       1059, 1059, 1059, 1060, 1060, 1060, 1060, 1060, 1061, 1061, 1061,\n",
       "       1061, 1061, 1061, 1061, 1061, 1061, 1062, 1062, 1062, 1062, 1062,\n",
       "       1062, 1062, 1063, 1063, 1108, 1108, 1109, 1109, 1109, 1109, 1110,\n",
       "       1110, 1110, 1110, 1111, 1111, 1111, 1111, 1111, 1111, 1112, 1112,\n",
       "       1112, 1112, 1112, 1112, 1113, 1113, 1114, 1121, 1126, 1141, 1146,\n",
       "       1146, 1146, 1146, 1147, 1147, 1147, 1147, 1148, 1148, 1149, 1150,\n",
       "       1256, 1256, 1256, 1257, 1391, 1395, 1395, 1395, 1396, 1396, 1396,\n",
       "       1397, 1397, 1409, 1410, 1410, 1411, 1427, 1427, 1427, 1427, 1427,\n",
       "       1428, 1428, 1428, 1428, 1428, 1429, 1429, 1429, 1434, 1435, 1436,\n",
       "       1471, 1472, 1472, 1472, 1472, 1472, 1634, 1634, 1634, 1634, 1634,\n",
       "       1634, 1634, 1635, 1635, 1635, 1635, 1635, 1635, 1636, 1636, 1636,\n",
       "       1636, 1767, 1768, 1768, 1768, 1768, 1769, 1769, 1769, 1769, 1770,\n",
       "       1770, 1770, 1770, 1770, 1771, 1771, 1771, 1771, 1771, 1771, 1771,\n",
       "       1771, 1772, 1772, 1772, 1772, 1772, 1772, 1772, 1773, 1773, 1773,\n",
       "       1773, 1773, 1773, 1789, 1790, 1790, 1791, 1791, 1792, 1792, 1948,\n",
       "       1978, 2021, 2024, 2044, 2044, 2045, 2046, 2046, 2046, 2047, 2047,\n",
       "       2047, 2047, 2047, 2048, 2048, 2048, 2048, 2048, 2048, 2048, 2048,\n",
       "       2049, 2049, 2049, 2050, 2052, 2052, 2053, 2212, 2212, 2247])"
      ]
     },
     "execution_count": 11,
     "metadata": {},
     "output_type": "execute_result"
    }
   ],
   "source": [
    "# Find indices of pressure top layer that are super negative\n",
    "negative_array = np.argwhere(single_press_top < -2000)\n",
    "negative_array#[0:15,:] #print some indices\n",
    "y_index = negative_array[:,0]\n",
    "x_index = negative_array[:,1]\n",
    "y_index"
   ]
  },
  {
   "cell_type": "code",
   "execution_count": 12,
   "id": "f7557ba1-238a-4137-a088-e7e44982f0a0",
   "metadata": {},
   "outputs": [],
   "source": [
    "# Save plots for pressure at each negative index\n",
    "### THIS IS COMMENTED OUT TO HIDE THE OUTPUT PLOTS (there are a lot)\n",
    "\n",
    "# for i in range(len(negative_array)):\n",
    "#     fig, ax = plt.subplots(figsize=(7,5))\n",
    "#     ax.plot(pressure_arrays[0:86,9,y_index[i],x_index[i]])\n",
    "#     ax.set_ylabel('pressure [m]')\n",
    "#     plt.xlabel('Simulated Hours')\n",
    "#     plt.title(f'pressure_{negative_array[i]}')\n",
    "#     plt.savefig(f'negative_pressure_plots/pressure_{negative_array[i]}.png')\n",
    "    \n"
   ]
  },
  {
   "cell_type": "markdown",
   "id": "ebd791df-c73b-4174-8a8d-c4dee8d19c33",
   "metadata": {},
   "source": [
    "### Make timeseries plots of saturation at areas with very negative pressures"
   ]
  },
  {
   "cell_type": "code",
   "execution_count": 13,
   "id": "f040c09d-e097-41f6-875b-614eb80ac54d",
   "metadata": {},
   "outputs": [],
   "source": [
    "# saturation for the top 4 layers\n",
    "### THIS IS COMMENTED OUT TO HIDE THE OUTPUT PLOTS (there are a lot)\n",
    "\n",
    "# for i in range(len(negative_array)):\n",
    "#     fig, ax = plt.subplots(figsize=(7,5))\n",
    "#     ax.plot(saturation_arrays[0:86,9,y_index[i],x_index[i]], label = 'Top (10)')\n",
    "#     ax.plot(saturation_arrays[0:86,8,y_index[i],x_index[i]], label = '(9)')\n",
    "#     ax.plot(saturation_arrays[0:86,7,y_index[i],x_index[i]], label = '(8)')\n",
    "#     ax.plot(saturation_arrays[0:86,6,y_index[i],x_index[i]], label = '(7)')\n",
    "#     # ax.plot(saturation_arrays[0:86,5,y_index[i],x_index[i]], label = '(6)')\n",
    "#     # ax.plot(saturation_arrays[0:86,4,y_index[i],x_index[i]], label = '(5)')\n",
    "#     # ax.plot(saturation_arrays[0:86,3,y_index[i],x_index[i]], label = '(4)')\n",
    "#     # ax.plot(saturation_arrays[0:86,2,y_index[i],x_index[i]], label = '(3)')\n",
    "#     # ax.plot(saturation_arrays[0:86,1,y_index[i],x_index[i]], label = '(2)')\n",
    "#     #ax.plot(saturation_arrays[0:86,0,y_index[i],x_index[i]], label = 'Bottom (1)')\n",
    "#     ax.set_ylabel('saturation []')\n",
    "#     #ax.invert_yaxis()\n",
    "#     plt.xlabel('Simulated Hours')\n",
    "#     plt.legend()\n",
    "#     plt.title(f'top 4 layers, saturation_{negative_array[i]}')\n",
    "#     plt.savefig(f'negative_pressure_plots/saturation_{negative_array[i]}.png')\n",
    "# saturation_arrays[0:86,9,y_index[7],x_index[7]]"
   ]
  },
  {
   "cell_type": "code",
   "execution_count": 16,
   "id": "22c97e00-d72c-4c24-960b-616c22aa9c15",
   "metadata": {},
   "outputs": [
    {
     "data": {
      "text/plain": [
       "(87, 3256, 4442)"
      ]
     },
     "execution_count": 16,
     "metadata": {},
     "output_type": "execute_result"
    }
   ],
   "source": [
    "top_layer_sat_arrays.shape"
   ]
  },
  {
   "cell_type": "code",
   "execution_count": 31,
   "id": "c0e6dff0-bdc7-43d0-8702-e537bd371898",
   "metadata": {},
   "outputs": [],
   "source": [
    "# mean top layer saturation\n",
    "top_layer_sat_arrays = saturation_arrays[:,9,:,:]\n",
    "# mean soil moisture (top layer) for the 3+ days\n",
    "mean_soil_moisture = np.mean(top_layer_sat_arrays[0:71,...], axis = 0)"
   ]
  },
  {
   "cell_type": "markdown",
   "id": "c0778a01-be65-4637-bd1c-931802570c33",
   "metadata": {},
   "source": [
    "### Find slopes at locations with very negative pressures"
   ]
  },
  {
   "cell_type": "code",
   "execution_count": 14,
   "id": "2b7e1328-f372-44cf-8bea-c10400927ae9",
   "metadata": {},
   "outputs": [
    {
     "name": "stderr",
     "output_type": "stream",
     "text": [
      "/glade/u/apps/opt/conda/envs/npl/lib/python3.7/site-packages/ipykernel_launcher.py:6: SettingWithCopyWarning: \n",
      "A value is trying to be set on a copy of a slice from a DataFrame\n",
      "\n",
      "See the caveats in the documentation: https://pandas.pydata.org/pandas-docs/stable/user_guide/indexing.html#returning-a-view-versus-a-copy\n",
      "  \n",
      "/glade/u/apps/opt/conda/envs/npl/lib/python3.7/site-packages/ipykernel_launcher.py:7: SettingWithCopyWarning: \n",
      "A value is trying to be set on a copy of a slice from a DataFrame\n",
      "\n",
      "See the caveats in the documentation: https://pandas.pydata.org/pandas-docs/stable/user_guide/indexing.html#returning-a-view-versus-a-copy\n",
      "  import sys\n"
     ]
    }
   ],
   "source": [
    "### set up pandas data fram of nx & ny for negative pressure cells, slopes \n",
    "press_slopes = pd.DataFrame(columns = ['y_neg_index', 'x_neg_index', 'y_slope', 'x_slope'])\n",
    "press_slopes['y_neg_index'] = y_index\n",
    "press_slopes['x_neg_index'] = x_index\n",
    "for i in range(len(negative_array)):\n",
    "    press_slopes['y_slope'][i] = slopey[0,y_index[i],x_index[i]]\n",
    "    press_slopes['x_slope'][i] = slopex[0,y_index[i],x_index[i]]"
   ]
  },
  {
   "cell_type": "code",
   "execution_count": 38,
   "id": "482837a7-991b-43b1-99b8-c9b8dcf89c08",
   "metadata": {},
   "outputs": [
    {
     "data": {
      "text/html": [
       "<div>\n",
       "<style scoped>\n",
       "    .dataframe tbody tr th:only-of-type {\n",
       "        vertical-align: middle;\n",
       "    }\n",
       "\n",
       "    .dataframe tbody tr th {\n",
       "        vertical-align: top;\n",
       "    }\n",
       "\n",
       "    .dataframe thead th {\n",
       "        text-align: right;\n",
       "    }\n",
       "</style>\n",
       "<table border=\"1\" class=\"dataframe\">\n",
       "  <thead>\n",
       "    <tr style=\"text-align: right;\">\n",
       "      <th></th>\n",
       "      <th>y_neg_index</th>\n",
       "      <th>x_neg_index</th>\n",
       "      <th>y_slope</th>\n",
       "      <th>x_slope</th>\n",
       "    </tr>\n",
       "  </thead>\n",
       "  <tbody>\n",
       "    <tr>\n",
       "      <th>0</th>\n",
       "      <td>468</td>\n",
       "      <td>3608</td>\n",
       "      <td>0.000762</td>\n",
       "      <td>0.006506</td>\n",
       "    </tr>\n",
       "    <tr>\n",
       "      <th>1</th>\n",
       "      <td>468</td>\n",
       "      <td>3609</td>\n",
       "      <td>-0.00069</td>\n",
       "      <td>-0.007326</td>\n",
       "    </tr>\n",
       "    <tr>\n",
       "      <th>2</th>\n",
       "      <td>468</td>\n",
       "      <td>3610</td>\n",
       "      <td>0.000372</td>\n",
       "      <td>-0.003291</td>\n",
       "    </tr>\n",
       "    <tr>\n",
       "      <th>3</th>\n",
       "      <td>468</td>\n",
       "      <td>3611</td>\n",
       "      <td>0.000215</td>\n",
       "      <td>-0.001958</td>\n",
       "    </tr>\n",
       "    <tr>\n",
       "      <th>4</th>\n",
       "      <td>469</td>\n",
       "      <td>3608</td>\n",
       "      <td>-0.006897</td>\n",
       "      <td>0.005053</td>\n",
       "    </tr>\n",
       "    <tr>\n",
       "      <th>...</th>\n",
       "      <td>...</td>\n",
       "      <td>...</td>\n",
       "      <td>...</td>\n",
       "      <td>...</td>\n",
       "    </tr>\n",
       "    <tr>\n",
       "      <th>335</th>\n",
       "      <td>2052</td>\n",
       "      <td>4123</td>\n",
       "      <td>0.005684</td>\n",
       "      <td>-0.000627</td>\n",
       "    </tr>\n",
       "    <tr>\n",
       "      <th>336</th>\n",
       "      <td>2053</td>\n",
       "      <td>4123</td>\n",
       "      <td>0.00251</td>\n",
       "      <td>-0.004103</td>\n",
       "    </tr>\n",
       "    <tr>\n",
       "      <th>337</th>\n",
       "      <td>2212</td>\n",
       "      <td>4322</td>\n",
       "      <td>0.004453</td>\n",
       "      <td>0.000516</td>\n",
       "    </tr>\n",
       "    <tr>\n",
       "      <th>338</th>\n",
       "      <td>2212</td>\n",
       "      <td>4323</td>\n",
       "      <td>0.002087</td>\n",
       "      <td>-0.000914</td>\n",
       "    </tr>\n",
       "    <tr>\n",
       "      <th>339</th>\n",
       "      <td>2247</td>\n",
       "      <td>4317</td>\n",
       "      <td>-0.004325</td>\n",
       "      <td>0.002545</td>\n",
       "    </tr>\n",
       "  </tbody>\n",
       "</table>\n",
       "<p>340 rows × 4 columns</p>\n",
       "</div>"
      ],
      "text/plain": [
       "     y_neg_index  x_neg_index   y_slope   x_slope\n",
       "0            468         3608  0.000762  0.006506\n",
       "1            468         3609  -0.00069 -0.007326\n",
       "2            468         3610  0.000372 -0.003291\n",
       "3            468         3611  0.000215 -0.001958\n",
       "4            469         3608 -0.006897  0.005053\n",
       "..           ...          ...       ...       ...\n",
       "335         2052         4123  0.005684 -0.000627\n",
       "336         2053         4123   0.00251 -0.004103\n",
       "337         2212         4322  0.004453  0.000516\n",
       "338         2212         4323  0.002087 -0.000914\n",
       "339         2247         4317 -0.004325  0.002545\n",
       "\n",
       "[340 rows x 4 columns]"
      ]
     },
     "execution_count": 38,
     "metadata": {},
     "output_type": "execute_result"
    }
   ],
   "source": [
    "press_slopes"
   ]
  },
  {
   "cell_type": "code",
   "execution_count": 39,
   "id": "54851243-c82c-4158-bf50-94c89f3284cd",
   "metadata": {},
   "outputs": [],
   "source": [
    "press_slopes.to_csv('negative_pressure_plots/slopes_at_negative_pressures_CONUS2.csv', sep = \",\")"
   ]
  },
  {
   "cell_type": "markdown",
   "id": "6f044a55-dda0-403a-8caf-4ab20a14654d",
   "metadata": {},
   "source": [
    "### Calculate ET and make plots at locations with very negative pressures"
   ]
  },
  {
   "cell_type": "code",
   "execution_count": 29,
   "id": "fcb79d7f-43cc-4b21-add9-e3f6d5c15ba8",
   "metadata": {},
   "outputs": [],
   "source": [
    "set_working_directory(clm_run_dir)"
   ]
  },
  {
   "cell_type": "code",
   "execution_count": 19,
   "id": "221c2982-6549-472f-867d-0429d18cd955",
   "metadata": {},
   "outputs": [
    {
     "name": "stdout",
     "output_type": "stream",
     "text": [
      "reading file 0\n",
      "reading file 1\n",
      "reading file 2\n",
      "reading file 3\n",
      "reading file 4\n",
      "reading file 5\n",
      "reading file 6\n",
      "reading file 7\n",
      "reading file 8\n",
      "reading file 9\n",
      "reading file 10\n",
      "reading file 11\n",
      "reading file 12\n",
      "reading file 13\n",
      "reading file 14\n",
      "reading file 15\n",
      "reading file 16\n",
      "reading file 17\n",
      "reading file 18\n",
      "reading file 19\n",
      "reading file 20\n",
      "reading file 21\n",
      "reading file 22\n",
      "reading file 23\n",
      "reading file 24\n",
      "reading file 25\n",
      "reading file 26\n",
      "reading file 27\n",
      "reading file 28\n",
      "reading file 29\n",
      "reading file 30\n",
      "reading file 31\n",
      "reading file 32\n",
      "reading file 33\n",
      "reading file 34\n",
      "reading file 35\n",
      "reading file 36\n",
      "reading file 37\n",
      "reading file 38\n",
      "reading file 39\n",
      "reading file 40\n",
      "reading file 41\n",
      "reading file 42\n",
      "reading file 43\n",
      "reading file 44\n",
      "reading file 45\n",
      "reading file 46\n",
      "reading file 47\n",
      "reading file 48\n",
      "reading file 49\n",
      "reading file 50\n",
      "reading file 51\n",
      "reading file 52\n",
      "reading file 53\n",
      "reading file 54\n",
      "reading file 55\n",
      "reading file 56\n",
      "reading file 57\n",
      "reading file 58\n",
      "reading file 59\n",
      "reading file 60\n",
      "reading file 61\n",
      "reading file 62\n",
      "reading file 63\n",
      "reading file 64\n",
      "reading file 65\n",
      "reading file 66\n",
      "reading file 67\n",
      "reading file 68\n",
      "reading file 69\n",
      "reading file 70\n",
      "reading file 71\n",
      "reading file 72\n",
      "reading file 73\n",
      "reading file 74\n",
      "reading file 75\n",
      "reading file 76\n",
      "reading file 77\n",
      "reading file 78\n",
      "reading file 79\n",
      "reading file 80\n",
      "reading file 81\n",
      "reading file 82\n",
      "reading file 83\n",
      "reading file 84\n"
     ]
    }
   ],
   "source": [
    "# 4: qflx_evap_tot for total evaporation [mm/s]\n",
    "qflx_evap_CLM = np.zeros((86, ny, nx))\n",
    "for i in range(clm_counter):    \n",
    "    print(f'reading file {i}')\n",
    "    CLM_file = pf.read_pfb(f'{clm_run_dir}/{run_name}.out.clm_output.{str(i+1).zfill(5)}.C.pfb')\n",
    "    CLM_file[CLM_file<-9000] = 0 # set values outside of the domain to zero\n",
    "    qflx_evap_CLM[i, ...] = CLM_file[4,...] # fill qflx_evap_CLM array by flagging the 4 position in the CLM file for qflx_evap_tot"
   ]
  },
  {
   "cell_type": "code",
   "execution_count": 21,
   "id": "57ecd039-2549-4770-810a-9f6ebf2ad0eb",
   "metadata": {},
   "outputs": [
    {
     "name": "stdout",
     "output_type": "stream",
     "text": [
      "(86, 3256, 4442)\n"
     ]
    },
    {
     "data": {
      "text/plain": [
       "Text(0.5, 1.0, 'net veg. evaporation and transpiration and soil evaporation (mmh-1) for hour 1')"
      ]
     },
     "execution_count": 21,
     "metadata": {},
     "output_type": "execute_result"
    },
    {
     "data": {
      "image/png": "[encoded data removed]",
      "text/plain": [
       "<Figure size 432x288 with 2 Axes>"
      ]
     },
     "metadata": {
      "needs_background": "light"
     },
     "output_type": "display_data"
    }
   ],
   "source": [
    "# convert ET from mm/s to mm/h\n",
    "qflx_evap_CLM = qflx_evap_CLM*3600\n",
    "\n",
    "# checking evap flux values and make sure that loop worked\n",
    "# Plot of full CONUS, one timestep\n",
    "print(qflx_evap_CLM.shape)\n",
    "t = 0 #select timestep (hour) to plot\n",
    "plt.imshow(qflx_evap_CLM[t,...], origin=\"lower\")\n",
    "plt.colorbar()\n",
    "plt.annotate(f'Max: {qflx_evap_CLM[t].max()}', xy = (100,2200), color = 'white')\n",
    "plt.annotate(f'Min: {qflx_evap_CLM[t].min()}', xy = (100,2000), color = 'white')\n",
    "plt.title(f'net veg. evaporation and transpiration and soil evaporation (mmh-1) for hour {t+1}')"
   ]
  },
  {
   "cell_type": "code",
   "execution_count": 17,
   "id": "6b491ad9-5092-4e82-b5be-bab15e613f1f",
   "metadata": {},
   "outputs": [],
   "source": [
    "# Timeseries of ET where we have super negative pressures \n",
    "### THIS IS COMMENTED OUT TO HIDE THE OUTPUT PLOTS (there are a lot)\n",
    "# for i in range(len(negative_array)):\n",
    "#     fig, ax = plt.subplots(figsize=(7,5))\n",
    "#     ax.plot(qflx_evap_CLM[0:85,y_index[i],x_index[i]])\n",
    "#     ax.set_ylabel('et (qflx_evap_tot) [mm/h]')\n",
    "#     plt.xlabel('Simulated Hours')\n",
    "#     plt.title(f'et_{negative_array[i]}')\n",
    "#     plt.savefig(f'negative_pressure_plots/et_{negative_array[i]}.png', bbox_inches=\"tight\")"
   ]
  },
  {
   "cell_type": "code",
   "execution_count": 29,
   "id": "f87cdec4-6eda-4cda-afd3-4c2d58ae0609",
   "metadata": {},
   "outputs": [
    {
     "data": {
      "text/plain": [
       "(86, 3256, 4442)"
      ]
     },
     "execution_count": 29,
     "metadata": {},
     "output_type": "execute_result"
    }
   ],
   "source": [
    "qflx_evap_CLM.shape"
   ]
  },
  {
   "cell_type": "code",
   "execution_count": 30,
   "id": "20c90a78-ad52-4db5-9730-f94b94661744",
   "metadata": {},
   "outputs": [],
   "source": [
    "# mean ET for the 3+ days\n",
    "mean_soil_evap = np.mean(qflx_evap_CLM[0:71,...], axis = 0)"
   ]
  },
  {
   "cell_type": "markdown",
   "id": "62ce3980-108a-4b49-8b77-411dfdd7cea7",
   "metadata": {},
   "source": [
    "#### Subplots with pressure, sat, et at negative pressure locations"
   ]
  },
  {
   "cell_type": "code",
   "execution_count": 1,
   "id": "e2f3efc5-6837-483b-b4c0-fdc02f0b0d83",
   "metadata": {},
   "outputs": [],
   "source": [
    "# Make subplots combining the previous plots of pressure, saturation, and ET\n",
    "### THIS IS COMMENTED OUT TO HIDE THE OUTPUT PLOTS (there are a lot)\n",
    "\n",
    "# for i in range(len(negative_array)):\n",
    "#     fig, ax = plt.subplots(3,1,figsize=(6,8))\n",
    "#     fig.tight_layout(h_pad=2)\n",
    "#     ax[0].plot(pressure_arrays[0:86,9,y_index[i],x_index[i]])\n",
    "#     ax[0].set_title(f'pressure {negative_array[i]}')\n",
    "#     ax[0].set_ylabel('press [m]')\n",
    "#     ax[1].plot(saturation_arrays[0:86,9,y_index[i],x_index[i]], label = 'Top (10)')\n",
    "#     ax[1].plot(saturation_arrays[0:86,8,y_index[i],x_index[i]], label = '(9)')\n",
    "#     ax[1].plot(saturation_arrays[0:86,7,y_index[i],x_index[i]], label = '(8)')\n",
    "#     ax[1].plot(saturation_arrays[0:86,6,y_index[i],x_index[i]], label = '(7)')\n",
    "#     ax[1].set_title(f'top 4 layers, saturation {negative_array[i]}')\n",
    "#     ax[1].set_ylabel('sat []')\n",
    "#     ax[1].legend()\n",
    "#     ax[2].plot(qflx_evap_CLM[0:85,y_index[i],x_index[i]])\n",
    "#     ax[2].set_ylabel('et [m]')\n",
    "#     ax[2].set_title(f'et (qflx_evap_tot) {negative_array[i]}')\n",
    "#     ax[2].set_xlabel('Simulated Hours')\n",
    "#     #plt.savefig(f'negative_pressure_plots/subplots/subplots_ET-press-sat_{negative_array[i]}.png',bbox_inches=\"tight\")"
   ]
  },
  {
   "cell_type": "markdown",
   "id": "28307267-e4f5-4d2c-b494-7b4b37f9b016",
   "metadata": {},
   "source": [
    "### Bare soil and transpiration plots"
   ]
  },
  {
   "cell_type": "code",
   "execution_count": null,
   "id": "07bb6381-2cf3-4d05-acac-c39d697390f7",
   "metadata": {},
   "outputs": [],
   "source": [
    "# 6:  soil evaporation (mms-1) \n",
    "soil_evap_CLM = np.zeros((86, ny, nx))\n",
    "for i in range(clm_counter):    \n",
    "    print(f'reading file {i}')\n",
    "    CLM_file = pf.read_pfb(f'{clm_run_dir}/{run_name}.out.clm_output.{str(i+1).zfill(5)}.C.pfb')\n",
    "    CLM_file[CLM_file<-9000] = 0 # set values outside of the domain to zero\n",
    "    soil_evap_CLM[i, ...] = CLM_file[6,...] # fill soil_evap_CLM array by flagging the 6 position in the CLM file for soil_evap_tot"
   ]
  },
  {
   "cell_type": "code",
   "execution_count": 26,
   "id": "e2f36710-051d-44fd-98d6-09b499f6d975",
   "metadata": {},
   "outputs": [
    {
     "name": "stdout",
     "output_type": "stream",
     "text": [
      "(86, 3256, 4442)\n"
     ]
    },
    {
     "data": {
      "text/plain": [
       "Text(0.5, 1.0, 'bare soil evaporation (mmh-1) for hour 1')"
      ]
     },
     "execution_count": 26,
     "metadata": {},
     "output_type": "execute_result"
    },
    {
     "data": {
      "image/png": "[encoded data removed]",
      "text/plain": [
       "<Figure size 432x288 with 2 Axes>"
      ]
     },
     "metadata": {
      "needs_background": "light"
     },
     "output_type": "display_data"
    }
   ],
   "source": [
    "# convert bare soil ET from mm/s to mm/h\n",
    "soil_evap_CLM = soil_evap_CLM*3600\n",
    "\n",
    "# checking evap flux values and make sure that loop worked\n",
    "# Plot of full CONUS, one timestep\n",
    "print(soil_evap_CLM.shape)\n",
    "t = 0 #select timestep (hour) to plot\n",
    "plt.imshow(soil_evap_CLM[t,...], origin=\"lower\")\n",
    "plt.colorbar()\n",
    "plt.annotate(f'Max: {soil_evap_CLM[t].max()}', xy = (100,2200), color = 'white')\n",
    "plt.annotate(f'Min: {soil_evap_CLM[t].min()}', xy = (100,2000), color = 'white')\n",
    "plt.title(f'bare soil evaporation (mmh-1) for hour {t+1}')"
   ]
  },
  {
   "cell_type": "code",
   "execution_count": null,
   "id": "7fba4a6d-83c4-43cc-9844-51a85519efe6",
   "metadata": {},
   "outputs": [],
   "source": [
    "# Timeseries of ET where we have super negative pressures \n",
    "### THIS IS COMMENTED OUT TO HIDE THE OUTPUT PLOTS (there are a lot)\n",
    "for i in range(len(negative_array)):\n",
    "    fig, ax = plt.subplots(figsize=(7,5))\n",
    "    ax.plot(soil_evap_CLM[0:85,y_index[i],x_index[i]])\n",
    "    ax.set_ylabel('Bare Soil ET [mm/h]')\n",
    "    plt.xlabel('Simulated Hours')\n",
    "    plt.title(f'Bare Soil {negative_array[i]}')\n",
    "    plt.savefig(f'negative_pressure_plots/bare_soil_{negative_array[i]}.png', bbox_inches=\"tight\")"
   ]
  },
  {
   "cell_type": "code",
   "execution_count": null,
   "id": "acb76a39-eb6c-42ac-ad42-f71abfb77089",
   "metadata": {},
   "outputs": [],
   "source": [
    "#####################################################\n",
    "# 8:  transpiration (mms-1) \n",
    "transpiration_CLM = np.zeros((86, ny, nx))\n",
    "for i in range(clm_counter):    \n",
    "    print(f'reading file {i}')\n",
    "    CLM_file = pf.read_pfb(f'{clm_run_dir}/{run_name}.out.clm_output.{str(i+1).zfill(5)}.C.pfb')\n",
    "    CLM_file[CLM_file<-9000] = 0 # set values outside of the domain to zero\n",
    "    transpiration_CLM[i, ...] = CLM_file[8,...] # fill transpiration_CLM array by flagging the 8 position in the CLM file for transpiration"
   ]
  },
  {
   "cell_type": "code",
   "execution_count": 31,
   "id": "9ffb8bc6-1841-4cfb-a310-27ffd520a3a1",
   "metadata": {},
   "outputs": [
    {
     "name": "stdout",
     "output_type": "stream",
     "text": [
      "(86, 3256, 4442)\n"
     ]
    },
    {
     "data": {
      "text/plain": [
       "Text(0.5, 1.0, 'transpiration (mmh-1) for hour 13')"
      ]
     },
     "execution_count": 31,
     "metadata": {},
     "output_type": "execute_result"
    },
    {
     "data": {
      "image/png": "[encoded data removed]",
      "text/plain": [
       "<Figure size 432x288 with 2 Axes>"
      ]
     },
     "metadata": {
      "needs_background": "light"
     },
     "output_type": "display_data"
    }
   ],
   "source": [
    "# convert ET from mm/s to mm/h\n",
    "transpiration_CLM = transpiration_CLM*3600\n",
    "\n",
    "# checking evap flux values and make sure that loop worked\n",
    "# Plot of full CONUS, one timestep\n",
    "print(transpiration_CLM.shape)\n",
    "t = 12 #select timestep (hour) to plot\n",
    "plt.imshow(transpiration_CLM[t,...], origin=\"lower\")\n",
    "plt.colorbar()\n",
    "plt.annotate(f'Max: {transpiration_CLM[t].max()}', xy = (100,2200), color = 'white')\n",
    "plt.annotate(f'Min: {transpiration_CLM[t].min()}', xy = (100,2000), color = 'white')\n",
    "plt.title(f'transpiration (mmh-1) for hour {t+1}')"
   ]
  },
  {
   "cell_type": "code",
   "execution_count": 37,
   "id": "2846d790-046f-4ea4-845e-207ffbdf69c2",
   "metadata": {},
   "outputs": [
    {
     "data": {
      "text/html": [
       "<div>\n",
       "<style scoped>\n",
       "    .dataframe tbody tr th:only-of-type {\n",
       "        vertical-align: middle;\n",
       "    }\n",
       "\n",
       "    .dataframe tbody tr th {\n",
       "        vertical-align: top;\n",
       "    }\n",
       "\n",
       "    .dataframe thead th {\n",
       "        text-align: right;\n",
       "    }\n",
       "</style>\n",
       "<table border=\"1\" class=\"dataframe\">\n",
       "  <thead>\n",
       "    <tr style=\"text-align: right;\">\n",
       "      <th></th>\n",
       "      <th>tran_at_index</th>\n",
       "    </tr>\n",
       "  </thead>\n",
       "  <tbody>\n",
       "    <tr>\n",
       "      <th>0</th>\n",
       "      <td>0.0</td>\n",
       "    </tr>\n",
       "    <tr>\n",
       "      <th>1</th>\n",
       "      <td>0.0</td>\n",
       "    </tr>\n",
       "    <tr>\n",
       "      <th>2</th>\n",
       "      <td>0.0</td>\n",
       "    </tr>\n",
       "    <tr>\n",
       "      <th>3</th>\n",
       "      <td>0.0</td>\n",
       "    </tr>\n",
       "    <tr>\n",
       "      <th>4</th>\n",
       "      <td>0.0</td>\n",
       "    </tr>\n",
       "    <tr>\n",
       "      <th>...</th>\n",
       "      <td>...</td>\n",
       "    </tr>\n",
       "    <tr>\n",
       "      <th>81</th>\n",
       "      <td>0.0</td>\n",
       "    </tr>\n",
       "    <tr>\n",
       "      <th>82</th>\n",
       "      <td>0.0</td>\n",
       "    </tr>\n",
       "    <tr>\n",
       "      <th>83</th>\n",
       "      <td>0.0</td>\n",
       "    </tr>\n",
       "    <tr>\n",
       "      <th>84</th>\n",
       "      <td>0.0</td>\n",
       "    </tr>\n",
       "    <tr>\n",
       "      <th>85</th>\n",
       "      <td>0.0</td>\n",
       "    </tr>\n",
       "  </tbody>\n",
       "</table>\n",
       "<p>86 rows × 1 columns</p>\n",
       "</div>"
      ],
      "text/plain": [
       "    tran_at_index\n",
       "0             0.0\n",
       "1             0.0\n",
       "2             0.0\n",
       "3             0.0\n",
       "4             0.0\n",
       "..            ...\n",
       "81            0.0\n",
       "82            0.0\n",
       "83            0.0\n",
       "84            0.0\n",
       "85            0.0\n",
       "\n",
       "[86 rows x 1 columns]"
      ]
     },
     "execution_count": 37,
     "metadata": {},
     "output_type": "execute_result"
    }
   ],
   "source": [
    "transpir_df = pd.DataFrame(columns = ['tran_at_index'])\n",
    "transpir_df['tran_at_index'] = transpiration_CLM[:,2212,4323]\n",
    "transpir_df"
   ]
  },
  {
   "cell_type": "code",
   "execution_count": null,
   "id": "ef6c83ed-835a-4ae0-a6bb-e91966768179",
   "metadata": {},
   "outputs": [],
   "source": [
    "# # Timeseries of transpiration where we have super negative pressures \n",
    "# ### THIS IS COMMENTED OUT TO HIDE THE OUTPUT PLOTS (there are a lot)\n",
    "# for i in range(len(negative_array)):\n",
    "#     fig, ax = plt.subplots(figsize=(7,5))\n",
    "#     ax.plot(transpiration_CLM[0:85,y_index[i],x_index[i]])\n",
    "#     ax.set_ylabel('transpiration [mm/h]')\n",
    "#     plt.xlabel('Simulated Hours')\n",
    "#     plt.title(f'transpiration {negative_array[i]}')\n",
    "#     plt.savefig(f'negative_pressure_plots/transpiration_{negative_array[i]}.png', bbox_inches=\"tight\")"
   ]
  },
  {
   "cell_type": "markdown",
   "id": "21871bb7-1f6e-4b86-9a13-bbfd0a293ec8",
   "metadata": {},
   "source": [
    "### Find cells for saturation and ET where SM<0.2 and ET>0"
   ]
  },
  {
   "cell_type": "code",
   "execution_count": 21,
   "id": "8a50a4b0-7098-4033-b2ba-d89362176830",
   "metadata": {},
   "outputs": [
    {
     "name": "stdout",
     "output_type": "stream",
     "text": [
      "1.0\n",
      "-0.0\n"
     ]
    }
   ],
   "source": [
    "# read single saturation\n",
    "single_saturation = pf.read_pfb(f'{pf_run_dir}/{run_name}.out.satur.00035.pfb')*nanmask\n",
    "# grab only the top layer of saturation \n",
    "single_sat_top = single_saturation[9,...]\n",
    "print(single_sat_top.max())\n",
    "print(single_sat_top.min())"
   ]
  },
  {
   "cell_type": "code",
   "execution_count": 23,
   "id": "8eb2bbaa-1830-447c-b955-ed021b90858d",
   "metadata": {},
   "outputs": [
    {
     "data": {
      "text/plain": [
       "array([[0.76330274, 0.1225706 , 0.11264598],\n",
       "       [0.11372343, 0.11382402, 0.11257147],\n",
       "       [0.12233943, 0.11317266, 0.11271658]])"
      ]
     },
     "execution_count": 23,
     "metadata": {},
     "output_type": "execute_result"
    }
   ],
   "source": [
    "single_sat_top[2000:2003,2000:2003]"
   ]
  },
  {
   "cell_type": "code",
   "execution_count": 38,
   "id": "8c7e09f2-f179-45e2-8166-dd7763b0d37b",
   "metadata": {},
   "outputs": [
    {
     "name": "stdout",
     "output_type": "stream",
     "text": [
      "0.8180163365365788\n",
      "-0.05761551004272887\n"
     ]
    }
   ],
   "source": [
    "# ET\n",
    "single_CLM = pf.read_pfb(f'{clm_run_dir}/{run_name}.out.clm_output.00035.C.pfb')\n",
    "single_CLM[single_CLM<-9000] = 0 # set values outside of the domain to zero\n",
    "single_CLM.min()\n",
    "single_qflx_CLM = single_CLM[4,...] # fill qflx_evap_CLM array by flagging the 4 position in the CLM file for qflx_evap_tot\n",
    "single_qflx_CLM = single_qflx_CLM*3600 # ET IS IN mm/h\n",
    "print(single_qflx_CLM.max())\n",
    "print(single_qflx_CLM.min())"
   ]
  },
  {
   "cell_type": "code",
   "execution_count": 23,
   "id": "3d539dd0-84ef-4070-a191-26a967ed8fd7",
   "metadata": {},
   "outputs": [
    {
     "name": "stdout",
     "output_type": "stream",
     "text": [
      "(3256, 4442)\n"
     ]
    },
    {
     "data": {
      "text/plain": [
       "(3256, 4442)"
      ]
     },
     "execution_count": 23,
     "metadata": {},
     "output_type": "execute_result"
    }
   ],
   "source": [
    "print(mean_soil_evap.shape)\n",
    "mean_soil_moisture.shape"
   ]
  },
  {
   "cell_type": "code",
   "execution_count": 32,
   "id": "bd41b5b8-2e38-4e11-85e1-fb9b291aae13",
   "metadata": {},
   "outputs": [
    {
     "name": "stdout",
     "output_type": "stream",
     "text": [
      "[[  47 1807]\n",
      " [  50 1725]\n",
      " [  50 1726]\n",
      " [  50 1727]\n",
      " [  51 1722]\n",
      " [  51 1724]\n",
      " [  51 1725]\n",
      " [  51 1726]\n",
      " [  51 1727]\n",
      " [  52 1718]\n",
      " [  52 1719]\n",
      " [  52 1720]\n",
      " [  52 1721]\n",
      " [  52 1722]\n",
      " [  52 1723]]\n"
     ]
    },
    {
     "data": {
      "text/plain": [
       "(932368, 2)"
      ]
     },
     "execution_count": 32,
     "metadata": {},
     "output_type": "execute_result"
    }
   ],
   "source": [
    "### I FIRST DID THIS WITH A SINGLE HOURLY FILE (single_qflx_CLM, single_sat_top), BUT TAKING THE MEAN OF THE 3+ DAYS OF OUTPUTS I HAVE \n",
    "### MAKES MORE SENSE, SO THAT IS WHAT IS BELOW.\n",
    "# Find indices of pressure top layer that are super negative\n",
    "#et_sat_array = np.argwhere((single_sat_top < 0.2) & (single_qflx_CLM > 0)) #OLD, SINGLE HOUR\n",
    "\n",
    "et_sat_array = np.argwhere((mean_soil_moisture < 0.2) & (mean_soil_evap > 0))\n",
    "et_sat_index_y = et_sat_array[:,0]\n",
    "et_sat_index_x = et_sat_array[:,1]\n",
    "print(et_sat_array[0:15,:]) #print some indices\n",
    "et_sat_array.shape"
   ]
  },
  {
   "cell_type": "code",
   "execution_count": null,
   "id": "81964e11-7a39-4d0f-b9d8-2bd9b3d29021",
   "metadata": {},
   "outputs": [],
   "source": [
    "et_sat_df = pd.DataFrame(columns = ['ny', 'nx', 'mean ET [mm/h]', 'mean Sat []'])\n",
    "et_sat_df['ny'] = et_sat_index_y\n",
    "et_sat_df['nx'] = et_sat_index_x\n",
    "for i in range(len(et_sat_array[:,0])):\n",
    "    et_sat_df['mean ET [mm/h]'].loc[i] = mean_soil_evap[et_sat_index_y[i], et_sat_index_x[i]]\n",
    "    et_sat_df['mean Sat []'].loc[i] = mean_soil_moisture[et_sat_index_y[i], et_sat_index_x[i]]\n",
    "et_sat_df"
   ]
  },
  {
   "cell_type": "code",
   "execution_count": null,
   "id": "8e405089-acc9-4e4d-a57e-7be937948668",
   "metadata": {},
   "outputs": [],
   "source": [
    "et_sat_df.to_csv('negative_pressure_plots/Sat_less_0.2_ET_more_0-3dayAverage.csv', sep = \",\")"
   ]
  },
  {
   "cell_type": "code",
   "execution_count": null,
   "id": "95adcade-298c-40d1-9315-605fee624adf",
   "metadata": {},
   "outputs": [],
   "source": [
    "len(et_sat_array[:,0])"
   ]
  },
  {
   "cell_type": "code",
   "execution_count": null,
   "id": "fd05357d-74d0-4423-ad47-efbf7bd9d549",
   "metadata": {},
   "outputs": [],
   "source": []
  }
 ],
 "metadata": {
  "kernelspec": {
   "display_name": "Python [conda env:parflow-npl]",
   "language": "python",
   "name": "conda-env-parflow-npl-py"
  },
  "language_info": {
   "codemirror_mode": {
    "name": "ipython",
    "version": 3
   },
   "file_extension": ".py",
   "mimetype": "text/x-python",
   "name": "python",
   "nbconvert_exporter": "python",
   "pygments_lexer": "ipython3",
   "version": "3.7.12"
  }
 },
 "nbformat": 4,
 "nbformat_minor": 5
}
