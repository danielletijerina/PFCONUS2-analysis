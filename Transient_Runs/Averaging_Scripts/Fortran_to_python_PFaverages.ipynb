{
 "cells": [
  {
   "cell_type": "markdown",
   "id": "dfb5fe46-0cda-4eac-8a2f-07af27b77e10",
   "metadata": {},
   "source": [
    "## Comparing averages between Fortran scripts and PFTools Python functions"
   ]
  },
  {
   "cell_type": "markdown",
   "id": "d266b90f-a2e6-4573-9592-8952bfd3e8db",
   "metadata": {},
   "source": [
    "#### Post-Processed Outputs – MM’s CONUS1 paper\n",
    "All of MMs CONUS1 outputs were processed using fortran scripts that can be found on `/glade/p/univ/ucsm0002/CONUS_modern/CONUS.WY2003/scripts`\n",
    "\n",
    "_These consist of daily, monthly, and yearly averages of the following variables (variable and var name in Fortran script in parentheses)_  \n",
    "ParFlow Averages:\n",
    "-\tStreamflow (flow) ✅\n",
    "-\tSoil moisture (SM) - average ✅\n",
    "-\tWater table depth (WTd) - accumulated ✅\n",
    "-\tTotal Subsurface Storage (SUBstor)- accumulated ❌  \n",
    "    _- SUBstor = storage in all subsurface layers_\n",
    "-\tGW storage (GWstor)❌  \n",
    "    _- GWstor = storage below water table (in Fortran, this is specified by the bottom layer, not by a changing WTD)_\n",
    "-\tSoil moisture storage (SMstor)❌  \n",
    "    _- SMstor = storage above water table (in Fortran, this is only the top 4 soil layers)_\n",
    "\n",
    "Storage sums:\n",
    "-\tSurface Water Storage (surf_wat)✅  \n",
    "-\tTotal water storage (tws) = subsurface + surface +  SWE storages ❌ _(don't know which PFTools \"subsurface storage\" this is and how SWE storage is different than just the average calculated in the clm_averages.f90)_\n",
    "\n",
    "CLM Averages:\n",
    "-\tLatent heat (LH) – CLM out layer 1 [W/m^2] - average \n",
    "-\tSensible heat flux (SH) – CLM out layer 3 [W/m^2] - average \n",
    "-\tground evaporation without condensation (qflx_grnd) – CLM out layer 6 [mm/s] - accumulated\n",
    "-\tVegetation transpiration (qflx_trans) – CLM out layer 9 [mm/s] - accumulated\n",
    "-\tSnow water equivalent (SWE) – CLM out layer 11 [mm] - average??\n",
    "-\tGround temperature (Tgrnd) – CLM out layer 12 [K] skin temp - average\n",
    "-\tSoil temperature (Tsoil) – CLM out layer 14 [K] @5cm - average\n",
    "\n",
    "Other:\n",
    "- Evapotranspiration (calculated from PFTools, but not in fortran)❌"
   ]
  },
  {
   "cell_type": "markdown",
   "id": "f036577a-3186-4c7c-b6d0-8bf2deab70e2",
   "metadata": {},
   "source": [
    "## ParFlow Averages"
   ]
  },
  {
   "cell_type": "markdown",
   "id": "f7a8ce7e-641c-411f-8975-52d8c585a0f7",
   "metadata": {},
   "source": [
    "### Streamflow\n",
    "\n",
    "**Fortran**:  \n",
    "```\n",
    "flow(i,j) =  flow(i,j) +         &  \n",
    "1000.d0*((max(press(i,j,5),0.0d0))**(5.0/3.0))* &  \n",
    "sqrt(max(abs(Sx(i,j,1)),abs(Sy(i,j,1))))/mannings      !accum   \n",
    "```\n",
    "\n",
    "**PFTools Python**:  \n",
    "`calculate_overland_flow_grid(pressure, slopex, slopey, mannings, dx, dy, flow_method='OverlandKinematic', epsilon=1e-5, mask=None)`\n",
    "```\n",
    "    \"\"\"\n",
    "    Calculate overland outflow per grid cell of a domain\n",
    "    :param pressure: A nz-by-ny-by-nx ndarray of pressure values (bottom layer to top layer)\n",
    "    :param slopex: ny-by-nx\n",
    "    :param slopey: ny-by-nx\n",
    "    :param mannings: a scalar value, or a ny-by-nx ndarray\n",
    "    :param dx: Length of a grid element in the x direction\n",
    "    :param dy: Length of a grid element in the y direction\n",
    "    :param flow_method: Either 'OverlandFlow' or 'OverlandKinematic'\n",
    "        'OverlandKinematic' by default.\n",
    "    :param epsilon: Minimum slope magnitude for solver. Only applicable if kinematic=True.\n",
    "        This is set using the Solver.OverlandKinematic.Epsilon key in Parflow.\n",
    "    :param mask: A nz-by-ny-by-nx ndarray of mask values (bottom layer to top layer)\n",
    "        If None, assumed to be an nz-by-ny-by-nx ndarray of 1s.\n",
    "    :return: A ny-by-nx ndarray of overland flow values\n",
    "    \"\"\"\n",
    "```\n",
    "\n",
    "_________"
   ]
  },
  {
   "cell_type": "markdown",
   "id": "dfa2e834-f8b0-4464-9871-f6459b6f0f57",
   "metadata": {},
   "source": [
    "### Soil Moisture\n",
    "**Fortran**:  \n",
    "```\n",
    "sm(:,:) = sm(:,:) + sat(:,:,5)*porosity(:,:,5) / 24.0d0      !avg\n",
    "```\n",
    "\n",
    "**PFTools Python**:  \n",
    "`soil_moisture += saturation * porosity`\n",
    "\n",
    "_________"
   ]
  },
  {
   "cell_type": "markdown",
   "id": "6790cd8e-1ed0-4f15-850d-89b09669f43f",
   "metadata": {},
   "source": [
    "### Water Table Depth\n",
    "**Fortran**:  \n",
    "```\n",
    "WTd(:,:) = WTd(:,:) + (52.0d0 - press(:,:,1))/ 24.0d0        !avg\n",
    "```\n",
    "\n",
    "**PFTools Python**:  \n",
    "`calculate_water_table_depth(pressure, saturation, dz)`\n",
    "```\n",
    "    \"\"\"\n",
    "    Calculate water table depth from the land surface\n",
    "    :param pressure: A nz-by-ny-by-nx ndarray of pressure values (bottom layer to top layer)\n",
    "    :param saturation: A nz-by-ny-by-nx ndarray of saturation values (bottom layer to top layer)\n",
    "    :param dz: An ndarray of shape (nz,) of thickness values (bottom layer to top layer)\n",
    "    :return: A ny-by-nx ndarray of water table depth values (measured from the top)\n",
    "    \"\"\"\n",
    "```\n",
    "_________"
   ]
  },
  {
   "cell_type": "markdown",
   "id": "a8773ca1-f5ce-48d5-ad30-5d9c22e3446b",
   "metadata": {},
   "source": [
    "### Total Subsurface Storage  \n",
    "I **_think_** what's going on with \"Total Storage\" in fortran is that it is computing all storage from all subsurface layers (i.e., k = 1,5). This differs from the fortran \"Groundwater Storage\" which **_appears_** to be only subsurface storage from the deepest layer. Soooooo, I think that `calculate_subsurface_storage` is the function that aligns with \"Total Storage\" because it should calculate all layers.    \n",
    "**Fortran**:  \n",
    "```\n",
    "do k = 1, 5\n",
    "storage(i,j) = storage(i,j) + 1000.d0*1000.d0*dz(k)*    &\n",
    "               (press(i,j,k)*Ss*Sat(i,j,k) +     &\n",
    "               Sat(i,j,k)*porosity(i,j,k))/24.0d0\n",
    "end do !k - total storage  \n",
    "```\n",
    "\n",
    "**PFTools Python**:  \n",
    "`calculate_subsurface_storage(porosity, pressure, saturation, specific_storage, dx, dy, dz, mask=None)`\n",
    "```\n",
    "    \"\"\"\n",
    "    Calculate gridded subsurface storage across several layers.\n",
    "    For each layer in the subsurface, storage consists of two parts\n",
    "      - incompressible subsurface storage\n",
    "        (porosity * saturation * depth of this layer) * dx * dy\n",
    "      - compressible subsurface storage\n",
    "        (pressure * saturation * specific storage * depth of this layer) * dx * dy\n",
    "    \"\"\"\n",
    "```\n",
    "_________"
   ]
  },
  {
   "cell_type": "markdown",
   "id": "65519476-b29d-4a69-81e3-cfde775b432d",
   "metadata": {},
   "source": [
    "### Groundwater Storage  \n",
    "I don't think there is a function in PFTools for this, because If I'm understanding the fortran code for Groundwater Storage, it is only the deepest subsurface layer that is considered. **How do we want to treat this in CONUS2? How many layers (or how deep)?**  \n",
    "\n",
    "**Fortran**:  \n",
    "```\n",
    "do k = 1, 1\n",
    "GWstor(i,j) = GWstor(i,j) + 1000.d0*1000.d0*dz(k)*    &\n",
    "               (press(i,j,k)*Ss*Sat(i,j,k) +     &\n",
    "               Sat(i,j,k)*porosity(i,j,k))/24.0d0\n",
    "end do !k - groundwater storage\n",
    "```\n",
    "\n",
    "**PFTools Python**:  \n",
    "Calculate subsurface storage for deep layers  \n",
    "_EL: To me Groundwater storage is storage below the WTD. We could easily implement this by getting subsurface storage and setting it to 0 below wtd_\n",
    "_________"
   ]
  },
  {
   "cell_type": "markdown",
   "id": "60f7581d-b89c-43a8-bbce-8c83f735e28b",
   "metadata": {},
   "source": [
    "### Soil Moisture Storage  \n",
    "Similarly to the \"Total Storage\" and \"Groundwater Storage,\" if I understand the `k` correctly, this should be calculating the subsurface storage in the top 4 soil layers (layers 2-5), so everything except the \"Groundwater Storage\".\n",
    "**Fortran**:  \n",
    "```\n",
    "do k = 2, 5\n",
    "SMstor(i,j) = SMstor(i,j) + 1000.d0*1000.d0*dz(k)*    &\n",
    "               (press(i,j,k)*Ss*Sat(i,j,k) +     &\n",
    "               Sat(i,j,k)*porosity(i,j,k))/24.0d0\n",
    "end do !k - soil storage\n",
    "```\n",
    "**PFTools Python**:  \n",
    "Calculate subsurface storage for soil layers  \n",
    "_EL: to me this would be compressible and incompressible above the wtd. So we could do complementary of the gw storage_\n",
    "_________"
   ]
  },
  {
   "cell_type": "markdown",
   "id": "2c8f67bd-e585-41c5-b9c5-130c0079a9a3",
   "metadata": {},
   "source": [
    "##### ***If the above logic is correct, then Groundwater Storage (layer 1) + Soil Storage (layers 2-5) = Total Storage, (which is different than Total Water Storage (tws)!!!)  \n",
    "___"
   ]
  },
  {
   "cell_type": "markdown",
   "id": "56d16a29-d351-40c0-b36b-63d5427b60c3",
   "metadata": {},
   "source": [
    "## Storage Sums  \n",
    "Think about units for storage. Prob want to do m^3/h. \n",
    "\n"
   ]
  },
  {
   "cell_type": "markdown",
   "id": "1be221eb-0f66-43a1-87a9-d460ac8321e1",
   "metadata": {},
   "source": [
    "### Surface Water Storage  \n",
    "This computes any positive pressure?  \n",
    "What units should this be\n",
    "\n",
    "**Fortran**:  \n",
    "```\n",
    "surf_wat(i,j) = surf_wat(i,j) + max(press(i,j,5),0.0d0)/ 24.0d0        !avg\n",
    "```\n",
    "This calculates in m  \n",
    "\n",
    "**PFTools Python**:  \n",
    "`calculate_surface_storage(pressure, dx, dy, mask=None)`\n",
    "```\n",
    "    \"\"\"\n",
    "    Calculate gridded surface storage on the top layer.\n",
    "    Surface storage is given by:\n",
    "      Pressure at the top layer * dx * dy (for pressure values > 0)\n",
    "    :param pressure: A nz-by-ny-by-nx ndarray of pressure values (bottom layer to top layer)\n",
    "    :param dx: Length of a grid element in the x direction\n",
    "    :param dy: Length of a grid element in the y direction\n",
    "    :param mask: A nz-by-ny-by-nx ndarray of mask values (bottom layer to top layer)\n",
    "        If None, assumed to be an nz-by-ny-by-nx ndarray of 1s.\n",
    "    :return: An ny-by-nx ndarray of surface storage values\n",
    "    \"\"\"\n",
    "```\n",
    "This calculates in m^3\n",
    "_____"
   ]
  },
  {
   "cell_type": "markdown",
   "id": "0c6314f8-1498-486d-8a4e-f25bd07c085b",
   "metadata": {},
   "source": [
    "### Total Water Storage  \n",
    "I think that I have this correct, but I am not sure if SWE Storage needs to be calculated differently than it is in the clm_averages.f90, where the daily average is found. Maybe an accumulation?  \n",
    "\n",
    "**Fortran**:  \n",
    "```\n",
    "! subsurface storage (portion for 1 hour)\n",
    "do k = 1, 5\n",
    "substorage = substorage + dz(k)*    &\n",
    "               (press(i,j,k)*Ss*sat(i,j,k) +     &\n",
    "               sat(i,j,k)*porosity(i,j,k))\n",
    "end do !k - total storage\n",
    "\n",
    "! surface storage (portion for 1 hour)\n",
    "surfstorage = max(press(i,j,5),0.0d0)\n",
    "\n",
    "! swe storage (portion for 1 hour)\n",
    "swestorage = CLM(i,j,11) \n",
    "\n",
    "! total storage (add the storage for this hour, divide by 24 for daily mean)\n",
    "storage(i,j) = storage(i,j) + (substorage*1000 + surfstorage*1000 + swestorage)/24.0d0\n",
    "```  \n",
    "This divide by 24 can happen after daily is calculated.\n",
    "\n",
    "**PFTools Python**:  \n",
    "`calculate_subsurface_storage + calculate_surface_storage + SWE (STORAGE?) = TWS`   \n",
    "\n",
    "_EL: SWE storage would be swe from clm output * 1000 (mm->m)dxdy_\n",
    "_____"
   ]
  },
  {
   "cell_type": "markdown",
   "id": "ee8c8a52-e660-4e65-8240-5ac6ac2f10d2",
   "metadata": {},
   "source": [
    "## CLM Averages"
   ]
  },
  {
   "cell_type": "markdown",
   "id": "0d9cfe81-692e-4aee-91b8-79872e7a1bc2",
   "metadata": {},
   "source": [
    "### Variables as direct CLM outputs\n",
    "- Latent heat (LH) – CLM out layer 1 [W/m^2] - average\n",
    "- Sensible heat flux (SH) – CLM out layer 3 [W/m^2] - average\n",
    "- ground evaporation without condensation (qflx_grnd) – CLM out layer 6 [mm/s] - accumulated\n",
    "- Vegetation transpiration (qflx_trans) – CLM out layer 9 [mm/s] - accumulated\n",
    "- Snow water equivalent (SWE) – CLM out layer 11 [mm] - average\n",
    "- Ground temperature (Tgrnd) – CLM out layer 12 [K] skin temp - average\n",
    "- Soil temperature (Tsoil) – CLM out layer 14 [K] @5cm - average\n",
    "\n",
    "```\n",
    "SWE(:,:) = SWE(:,:) + CLM(:,:,11) / 24.0d0      !avg\n",
    "Tgrnd(:,:) = Tgrnd(:,:) + CLM(:,:,12) / 24.0d0      !avg\n",
    "! should I multiply these two fluxes by one hour (3600 s)?\n",
    "qflx_grnd(:,:) = qflx_grnd(:,:) + CLM(:,:,6)     !accum\n",
    "qflx_trans(:,:) = qflx_trans(:,:) + CLM(:,:,9)   !accum\n",
    "Tsoil(:,:) = Tsoil(:,:) + CLM(:,:,14) / 24.0d0      !avg\n",
    "LH(:,:) = LH(:,:) + CLM(:,:,1)/ 24.0d0      !avg\n",
    "SH(:,:) = SH(:,:) + CLM(:,:,3)/ 24.0d0      !avg\n",
    "```\n"
   ]
  },
  {
   "cell_type": "markdown",
   "id": "a73038b5-d5a1-4d11-ab22-28203f1e8d3d",
   "metadata": {},
   "source": [
    "### Evapotranspiration\n",
    "**Fortran**:  \n",
    "Not sure this was computed in the fortran scripts I have available. \n",
    "\n",
    "**PFTools Python**:  \n",
    "\n",
    "\n",
    "\n",
    "EL: I'd suggest using qflx_evap_tot * 3600(/s to /h) /1000 (mm to m) *dx *dy\n",
    "\n",
    "`calculate_evapotranspiration(et, dx, dy, dz, mask=None)`\n",
    "```\n",
    "    \"\"\"\n",
    "    Calculate gridded evapotranspiration across several layers.\n",
    "    :param et: A nz-by-ny-by-nx ndarray of evapotranspiration flux values with units 1/T (bottom layer to top layer)\n",
    "    :param dx: Length of a grid element in the x direction\n",
    "    :param dy: Length of a grid element in the y direction\n",
    "    :param dz: Thickness of a grid element in the z direction (bottom layer to top layer)\n",
    "    :param mask: A nz-by-ny-by-nx ndarray of mask values (bottom layer to top layer)\n",
    "        If None, assumed to be an nz-by-ny-by-nx ndarray of 1s.\n",
    "    :return: A nz-by-ny-by-nx ndarray of evapotranspiration values (units L^3/T), spanning all layers (bottom to top)\n",
    "    \"\"\"\n",
    "```\n",
    "____"
   ]
  },
  {
   "cell_type": "markdown",
   "id": "84ba5259-7a3a-41c8-912a-8cc55b074e10",
   "metadata": {},
   "source": [
    "## Meteorological Variables"
   ]
  },
  {
   "cell_type": "markdown",
   "id": "6fa870ed-1765-45a8-b8b6-f349a1fe3119",
   "metadata": {},
   "source": [
    "### Vapor Pressure Deficit\n",
    "- NLDAS Temperature\n",
    "- NLDAS Air Pressure\n",
    "- NLDAS Specific Humidity"
   ]
  },
  {
   "cell_type": "code",
   "execution_count": null,
   "id": "35dde167-7f60-4ec8-a188-e347ed7c1f89",
   "metadata": {},
   "outputs": [],
   "source": []
  }
 ],
 "metadata": {
  "kernelspec": {
   "display_name": "Python 3 (ipykernel)",
   "language": "python",
   "name": "python3"
  },
  "language_info": {
   "codemirror_mode": {
    "name": "ipython",
    "version": 3
   },
   "file_extension": ".py",
   "mimetype": "text/x-python",
   "name": "python",
   "nbconvert_exporter": "python",
   "pygments_lexer": "ipython3",
   "version": "3.10.0"
  }
 },
 "nbformat": 4,
 "nbformat_minor": 5
}
