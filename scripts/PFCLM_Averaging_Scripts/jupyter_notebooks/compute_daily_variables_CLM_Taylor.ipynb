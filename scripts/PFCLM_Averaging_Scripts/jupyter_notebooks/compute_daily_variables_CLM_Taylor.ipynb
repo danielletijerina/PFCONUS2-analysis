{
 "cells": [
  {
   "cell_type": "markdown",
   "metadata": {},
   "source": [
    "### Process and save CLM daily averages\n",
    "This script takes hourly CLM outputs as PFB files and computes the daily averages to be saved as PFB files.\n",
    "\n",
    "Inputs:\n",
    "- Directory where CLM outputs are and directory where you want to save output\n",
    "- Hourly PFB files of CLM outputs\n",
    "- Water year and day start/end\n",
    "\n",
    "Outputs:\n",
    "- PFB files for daily average of each variable:  \n",
    "    - Latent heat (LH) – CLM out layer 1 [W/m^2]\n",
    "    - Sensible heat flux (SH) – CLM out layer 3 [W/m^2]\n",
    "    - ground evaporation without condensation (qflx_grnd) – CLM out layer 6 [mm/s]\n",
    "    - Vegetation transpiration (qflx_trans) – CLM out layer 9 [mm/s]\n",
    "    - Snow water equivalent (SWE) – CLM out layer 11 [mm]\n",
    "    - Ground temperature (Tgrnd) – CLM out layer 12 [K] skin temp\n",
    "    - Soil temperature (Tsoil) – CLM out layer 14 - last layer [K] *** This script outputs all soil temp layers as a 3D array\n",
    "    - Evapotranspiration from qflx_evap_tot - CLM out layer 5 [mm/s] *** NOT converted in this script  \n",
    "\n",
    "\n",
    "Notes (10/23/22):  \n",
    "- Figure out which vars are sum (accumulated) and which are averages\n",
    "    - Updated this 10/25, but should get this checked\n",
    "- ET from qflx_evap_tot is just the direct CLM output. Do we want to convert this here? Is there a different way we want to calculate ET? (PFTools' `calculate_evapotranspiration` currently has weird units, so was recommended against using this).  \n",
    "  - *** Also, technically we can just output the qflx_evap_tot just the same as we would the other CLM variables and delete the ET part...\n",
    "- Soil Temp in this script is saved as a 3D array (temp for each soil layer), which is different than the Fortran scripts which only saved the CLM layer 14, temp @5cm\n"
   ]
  },
  {
   "cell_type": "code",
   "execution_count": 2,
   "metadata": {},
   "outputs": [],
   "source": [
    "import numpy as np\n",
    "from parflow import Run\n",
    "import sys\n",
    "from parflow.tools.io import read_pfb,write_pfb\n",
    "import parflow.tools.hydrology as hydro"
   ]
  },
  {
   "cell_type": "code",
   "execution_count": 3,
   "metadata": {},
   "outputs": [],
   "source": [
    "NCLMOUTPUTS = 13 + 4 #13 (number variables) + number of layers over which CLM is active, NZ root\n",
    "\n",
    "#these 3 entries (year, day start and day end) will eventually be argv to the script so that it can be run from bash script\n",
    "water_year = 1999\n",
    "day_start = 364 #day_start = 0 is the first day of the water year, Oct 1 (e.g., day_start = 2 starts at hour 49)\n",
    "day_end = 365 #day_end = 365 is the final day of the water year, Sept 30\n",
    "\n",
    "# water_year = int(sys.argv[1])\n",
    "# day_start = int(sys.argv[1])\n",
    "# day_end = int(sys.argv[1])\n",
    "\n",
    "# path to CLM outputs outputs\n",
    "#path_outputs = '/glade/scratch/tijerina/CONUS2/spinup_WY2003/run_inputs/' #f'/WY{water_year}/'\n",
    "path_outputs = f'/hydrodata/PFCLM/Taylor/simulations/{water_year}/' #f'/WY{water_year}/'\n",
    "\n",
    "\n",
    "# PFCLM run name\n",
    "runname = f'Taylor_{water_year}' #f'CONUS2_{water_year}'\n",
    "\n",
    "# directory to save averages to\n",
    "#directory_out = f'/glade/scratch/tijerina/CONUS2/spinup_WY2003/averages'\n",
    "directory_out = '/home/dtt2/CONUS2/analysis_scripts/Taylor_test_outputs'\n",
    "\n",
    "# # path to CLM outputs and pfidb\n",
    "# path_outputs = '/glade/scratch/tijerina/CONUS2/spinup_WY2003/run_inputs/'#f'/WY{water_year}/'\n",
    "# runname = 'spinup.wy2003' #f'CONUS2_{water_year}'\n",
    "\n",
    "# # directory to save averages to\n",
    "# directory_out = f'/glade/scratch/tijerina/CONUS2/spinup_WY2003/averages'"
   ]
  },
  {
   "cell_type": "code",
   "execution_count": 3,
   "metadata": {},
   "outputs": [],
   "source": [
    "### Keeping this here for now, but don't think we need it for CLM outputs ###\n",
    "#######################################\n",
    "\n",
    "#run = Run.from_definition(f'{path_outputs}/{runname}.pfidb')NCLMOUTPUTS = 13 + 4 #13 (number variables) + number of layers over which CLM is active, NZ root\n",
    "\n",
    "#these 3 entries (year, day start and day end) will eventually be argv to the script so that it can be run from bash script\n",
    "water_year = 1999\n",
    "day_start = 364 #day_start = 0 is the first day of the water year, Oct 1 (e.g., day_start = 2 starts at hour 49)\n",
    "day_end = 365 #day_end = 365 is the final day of the water year, Sept 30\n",
    "\n",
    "# water_year = int(sys.argv[1])\n",
    "# day_start = int(sys.argv[1])\n",
    "# day_end = int(sys.argv[1])\n",
    "\n",
    "# path to CLM outputs outputs\n",
    "#path_outputs = '/glade/scratch/tijerina/CONUS2/spinup_WY2003/run_inputs/' #f'/WY{water_year}/'\n",
    "path_outputs = f'/hydrodata/PFCLM/Taylor/simulations/{water_year}/' #f'/WY{water_year}/'\n",
    "\n",
    "\n",
    "# PFCLM run name\n",
    "runname = f'Taylor_{water_year}' #f'CONUS2_{water_year}'\n",
    "\n",
    "# directory to save averages to\n",
    "#directory_out = f'/glade/scratch/tijerina/CONUS2/spinup_WY2003/averages'\n",
    "directory_out = '/home/dtt2/CONUS2/analysis_scripts/Taylor_test_outputs'\n",
    "\n",
    "# # path to CLM outputs and pfidb\n",
    "# path_outputs = '/glade/scratch/tijerina/CONUS2/spinup_WY2003/run_inputs/'#f'/WY{water_year}/'\n",
    "# runname = 'spinup.wy2003' #f'CONUS2_{water_year}'\n",
    "\n",
    "# # directory to save averages to\n",
    "# directory_out = f'/glade/scratch/tijerina/CONUS2/spinup_WY2003/averages'\n",
    "#data = run.data_accessor\n",
    "\n",
    "# porosity = data.computed_porosity \n",
    "# specific_storage = data.specific_storage \n",
    "# mannings = data.mannings\n",
    "\n",
    "# ## remove input filenames for TopoSlopes to force the data accessor to read the output slopes\n",
    "# ## this fixes a windows issue\n",
    "# run.TopoSlopesX.FileName = None\n",
    "# run.TopoSlopesY.FileName = None\n",
    "\n",
    "# slopex = data.slope_x \n",
    "# slopey = data.slope_y \n",
    "# mask = data.mask\n",
    "\n",
    "# # dz_3d = data.dz\n",
    "\n",
    "# # formatting the mask so that values outside the domain are NA and inside the domain are 1\n",
    "# # check with mask that has 0 and 1\n",
    "# active_mask=mask.copy()\n",
    "# active_mask[active_mask > 0] = 1"
   ]
  },
  {
   "cell_type": "code",
   "execution_count": 4,
   "metadata": {},
   "outputs": [],
   "source": [
    "####### TAYLOR ########\n",
    "\n",
    "nz = 5 #10\n",
    "ny = 47 #3256\n",
    "nx = 45 #4442\n",
    "\n",
    "dx = 1000\n",
    "dy = 1000\n",
    "dz = 5 # 200\n",
    "#dz_3d = data.dz\n",
    "\n",
    "# apparently it's good to use high numbers when saving files to speed up reading?\n",
    "# for write_pfb function\n",
    "p = 5 #72\n",
    "q = 5 #48\n",
    "r = 1\n",
    "\n",
    "#### CONUS #######\n",
    "###READING ALL STATIC VARIABLES NEEDED\n",
    "\n",
    "# set data accessor time to 1 for reading CLM files\n",
    "##data.time = 1\n",
    "\n",
    "# nz = 10\n",
    "# ny = 3256\n",
    "# nx = 4442\n",
    "\n",
    "# dx = 1000\n",
    "# dy = 1000\n",
    "# dz = 200\n",
    "## dz_3d = data.dz\n",
    "\n",
    "# #apparently it's good to use high numbers when saving files to speed up reading?\n",
    "# p = 48\n",
    "# q = 36\n",
    "# r = 1\n",
    "\n",
    "\n",
    "#########################\n",
    "\n",
    "#list of clm variables you want\n",
    "variables_clm = ['eflx_lh_tot', 'eflx_sh_tot', 'qflx_evap_grnd','qflx_tran_veg', 'swe_out', 't_grnd', 't_soil']\n",
    "#indication whether you want the mean (1) or the sum (0)\n",
    "variables_clm_mean = [1,1,0,0,1,1,1] \n",
    "\n",
    "ALL_CLM = ['eflx_lh_tot','eflx_lwrad_out','eflx_sh_tot','eflx_soil_grnd','qflx_evap_tot','qflx_evap_grnd','qflx_evap_soi','qflx_evap_veg','qflx_tran_veg','qflx_infl','swe_out','t_grnd','qflx_qirr','t_soil']\n",
    "\n",
    "\n",
    "### CLM Outputs for reference ###\n",
    "# eflx_lh_tot    # CLM 1 / Py[0]   # latent heat flux total [W/m2] using the silo variable LatentHeat;\n",
    "# eflx_lwrad_out # CLM 2 / Py[1]   # outgoing long-wave radiation [W/m2] using the silo variable LongWave;\n",
    "# eflx_sh_tot    # CLM 3 / Py[2]   # sensible heat flux total [W/m2] using the silo variable SensibleHeat;\n",
    "# eflx_soil_grnd # CLM 4 / Py[3]   # ground heat flux [W/m2] using the silo variable GroundHeat;\n",
    "# qflx_evap_tot  # CLM 5 / Py[4]   # total evaporation [mm/s] using the silo variable EvaporationTotal;\n",
    "# qflx_evap_grnd # CLM 6 / Py[5]   # ground evaporation without condensation [mm/s] using the silo variable EvaporationGround- NoSublimation;\n",
    "# qflx_evap_soi  # CLM 7 / Py[6]   # soil evaporation [mm/s] using the silo variable EvaporationGround;\n",
    "# qflx_evap_veg  # CLM 8 / Py[7]   # vegetation evaporation (canopy) and transpiration (mms-1) using the silo variable EvaporationCanopy;\n",
    "# qflx_tran_veg  # CLM 9 / Py[8]   # vegetation transpiration [mm/s] using the silo variable Transpiration;\n",
    "# qflx_infl      # CLM 10 / Py[9]  # soil infiltration [mm/s] using the silo variable Infiltration;\n",
    "# swe_out        # CLM 11 / Py[10] # snow water equivalent [mm] using the silo variable SWE;\n",
    "# t_grnd         # CLM 12 / Py[11] # ground surface temperature [K] using the silo variable TemperatureGround;\n",
    "# qflx_qirr      # CLM 13 / Py[12] # irrigation flux\n",
    "# t_soil         # CLM \n",
    "\n",
    "\n",
    "### Fortran reference, can delete later ###\n",
    "# SWE(:,:) = SWE(:,:) + CLM(:,:,11) / 24.0d0      !avg\n",
    "# Tgrnd(:,:) = Tgrnd(:,:) + CLM(:,:,12) / 24.0d0      !avg\n",
    "# ! should I multiply these two fluxes by one hour (3600 s)?\n",
    "# qflx_grnd(:,:) = qflx_grnd(:,:) + CLM(:,:,6)     !accum\n",
    "# qflx_trans(:,:) = qflx_trans(:,:) + CLM(:,:,9)   !accum\n",
    "# Tsoil(:,:) = Tsoil(:,:) + CLM(:,:,14) / 24.0d0      !avg\n",
    "# LH(:,:) = LH(:,:) + CLM(:,:,1)/ 24.0d0      !avg\n",
    "# SH(:,:) = SH(:,:) + CLM(:,:,3)/ 24.0d0      !avg\n",
    "\n"
   ]
  },
  {
   "cell_type": "code",
   "execution_count": 5,
   "metadata": {},
   "outputs": [
    {
     "name": "stdout",
     "output_type": "stream",
     "text": [
      "reading /hydrodata/PFCLM/Taylor/simulations/1999/Taylor_1999.out.clm_output.08737.C.pfb\n",
      "reading /hydrodata/PFCLM/Taylor/simulations/1999/Taylor_1999.out.clm_output.08738.C.pfb\n",
      "reading /hydrodata/PFCLM/Taylor/simulations/1999/Taylor_1999.out.clm_output.08739.C.pfb\n",
      "reading /hydrodata/PFCLM/Taylor/simulations/1999/Taylor_1999.out.clm_output.08740.C.pfb\n",
      "reading /hydrodata/PFCLM/Taylor/simulations/1999/Taylor_1999.out.clm_output.08741.C.pfb\n",
      "reading /hydrodata/PFCLM/Taylor/simulations/1999/Taylor_1999.out.clm_output.08742.C.pfb\n",
      "reading /hydrodata/PFCLM/Taylor/simulations/1999/Taylor_1999.out.clm_output.08743.C.pfb\n",
      "reading /hydrodata/PFCLM/Taylor/simulations/1999/Taylor_1999.out.clm_output.08744.C.pfb\n",
      "reading /hydrodata/PFCLM/Taylor/simulations/1999/Taylor_1999.out.clm_output.08745.C.pfb\n",
      "reading /hydrodata/PFCLM/Taylor/simulations/1999/Taylor_1999.out.clm_output.08746.C.pfb\n",
      "reading /hydrodata/PFCLM/Taylor/simulations/1999/Taylor_1999.out.clm_output.08747.C.pfb\n",
      "reading /hydrodata/PFCLM/Taylor/simulations/1999/Taylor_1999.out.clm_output.08748.C.pfb\n",
      "reading /hydrodata/PFCLM/Taylor/simulations/1999/Taylor_1999.out.clm_output.08749.C.pfb\n",
      "reading /hydrodata/PFCLM/Taylor/simulations/1999/Taylor_1999.out.clm_output.08750.C.pfb\n",
      "reading /hydrodata/PFCLM/Taylor/simulations/1999/Taylor_1999.out.clm_output.08751.C.pfb\n",
      "reading /hydrodata/PFCLM/Taylor/simulations/1999/Taylor_1999.out.clm_output.08752.C.pfb\n",
      "reading /hydrodata/PFCLM/Taylor/simulations/1999/Taylor_1999.out.clm_output.08753.C.pfb\n",
      "reading /hydrodata/PFCLM/Taylor/simulations/1999/Taylor_1999.out.clm_output.08754.C.pfb\n",
      "reading /hydrodata/PFCLM/Taylor/simulations/1999/Taylor_1999.out.clm_output.08755.C.pfb\n",
      "reading /hydrodata/PFCLM/Taylor/simulations/1999/Taylor_1999.out.clm_output.08756.C.pfb\n",
      "reading /hydrodata/PFCLM/Taylor/simulations/1999/Taylor_1999.out.clm_output.08757.C.pfb\n",
      "reading /hydrodata/PFCLM/Taylor/simulations/1999/Taylor_1999.out.clm_output.08758.C.pfb\n",
      "reading /hydrodata/PFCLM/Taylor/simulations/1999/Taylor_1999.out.clm_output.08759.C.pfb\n",
      "reading /hydrodata/PFCLM/Taylor/simulations/1999/Taylor_1999.out.clm_output.08760.C.pfb\n"
     ]
    }
   ],
   "source": [
    "for day in range(day_start,day_end):\n",
    "\n",
    "    timestamp_day_out = str(int(day+1)).rjust(3, '0')\n",
    "\n",
    "    ##INITIALIZE WHATEVER DYNAMIC VARIABLES THAT NEED HOURLY READING \n",
    "    et = np.zeros((ny,nx)) \n",
    "    \n",
    "    if not variables_clm == False:\n",
    "        clm_output = np.zeros((NCLMOUTPUTS,ny,nx))\n",
    "    for h in range(day*24+1,(day+1)*24+1):\n",
    "        timestamp_reading = str(int(h)).rjust(5, '0')\n",
    "\n",
    "        #CLM Variables\n",
    "        clm_output += read_pfb(f'{path_outputs}{runname}.out.clm_output.{timestamp_reading}.C.pfb')\n",
    "        print(f'reading {path_outputs}{runname}.out.clm_output.{timestamp_reading}.C.pfb')\n",
    "        \n",
    "        # Calculate evapotranspiration from qflx_evap_tot\n",
    "        et += clm_output[4, ...] # NO CONVERSION [mm/s]\n",
    "        #et += clm_output[4, ...] * 3600 / 1000 #mm/s > mm/h > [m/h]\n",
    "        #et += clm_output[4, ...] * 3600 / 1000 * dx * dy #mm/s > mm/h > [m^3/h]\n",
    "        \n",
    "\n",
    "    # ### compute average for average variables\n",
    "    et /= 24\n",
    "\n",
    "    # ### SAVE VARIABLES\n",
    "    write_pfb(f'{directory_out}/ET.{water_year}.daily.{timestamp_day_out}.pfb',et,dx=dx,dy=dy,dz=dz,P=p,Q=q,R=r,dist=False)\n",
    "   \n",
    "\n",
    "    #Compute averages CLM outputs\n",
    "    for ind_clm in range(len(variables_clm)):\n",
    "        #Check if it's t_soil, then it's 3D!\n",
    "        if variables_clm[ind_clm] == 't_soil':\n",
    "            clm_save = clm_output[14:,:,:]\n",
    "        else:\n",
    "            ind_in_clmoutput = ALL_CLM.index(variables_clm[ind_clm])\n",
    "            clm_save = clm_output[ind_in_clmoutput,:,:]\n",
    "        if variables_clm_mean[ind_clm]==1:\n",
    "            clm_save/=24\n",
    "        \n",
    "        #SAVE VARIABLES CLM outputs\n",
    "        write_pfb(f'{directory_out}/{variables_clm[ind_clm]}.{water_year}.daily.{timestamp_day_out}.pfb',clm_save,dx=dx,dy=dy,dz=dz,P=p,Q=q,R=r,dist=False)\n",
    "\n",
    "    "
   ]
  },
  {
   "cell_type": "code",
   "execution_count": 6,
   "metadata": {},
   "outputs": [
    {
     "data": {
      "text/plain": [
       "array([[4.47354074e-04, 6.57464670e-05],\n",
       "       [4.47279567e-04, 4.50862310e-04]])"
      ]
     },
     "execution_count": 6,
     "metadata": {},
     "output_type": "execute_result"
    }
   ],
   "source": [
    "clm_output[4,20:22,20:22]"
   ]
  },
  {
   "cell_type": "code",
   "execution_count": 7,
   "metadata": {},
   "outputs": [],
   "source": [
    "day1_ET = read_pfb(f'{directory_out}/ET.1999.daily.001.pfb')"
   ]
  },
  {
   "cell_type": "code",
   "execution_count": 8,
   "metadata": {},
   "outputs": [
    {
     "data": {
      "text/plain": [
       "(1, 47, 45)"
      ]
     },
     "execution_count": 8,
     "metadata": {},
     "output_type": "execute_result"
    }
   ],
   "source": [
    "day1_ET.shape"
   ]
  },
  {
   "cell_type": "code",
   "execution_count": 9,
   "metadata": {},
   "outputs": [
    {
     "data": {
      "text/plain": [
       "array([[0.00222829, 0.00191517, 0.00191714, 0.00211404, 0.0021388 ],\n",
       "       [0.00221075, 0.0022116 , 0.00221264, 0.00215943, 0.00222501],\n",
       "       [0.00192433, 0.00213168, 0.00220674, 0.00220976, 0.00221751],\n",
       "       [0.00191311, 0.00189339, 0.00220083, 0.00220568, 0.00212568],\n",
       "       [0.00186233, 0.00186869, 0.00219993, 0.00220119, 0.002209  ]])"
      ]
     },
     "execution_count": 9,
     "metadata": {},
     "output_type": "execute_result"
    }
   ],
   "source": [
    "day1_ET[0,20:25,20:25]"
   ]
  },
  {
   "cell_type": "code",
   "execution_count": 10,
   "metadata": {},
   "outputs": [],
   "source": [
    "soil_temp = read_pfb(f'{directory_out}/t_soil.1999.daily.001.pfb')"
   ]
  },
  {
   "cell_type": "code",
   "execution_count": 11,
   "metadata": {},
   "outputs": [
    {
     "data": {
      "text/plain": [
       "(3, 47, 45)"
      ]
     },
     "execution_count": 11,
     "metadata": {},
     "output_type": "execute_result"
    }
   ],
   "source": [
    "soil_temp.shape"
   ]
  },
  {
   "cell_type": "code",
   "execution_count": 12,
   "metadata": {},
   "outputs": [
    {
     "data": {
      "text/plain": [
       "(47, 45)"
      ]
     },
     "execution_count": 12,
     "metadata": {},
     "output_type": "execute_result"
    }
   ],
   "source": [
    "#SWE\n",
    "swe = np.squeeze(read_pfb(f'{directory_out}/swe_out.1999.daily.001.pfb'))\n",
    "swe.shape"
   ]
  },
  {
   "cell_type": "code",
   "execution_count": 13,
   "metadata": {},
   "outputs": [
    {
     "data": {
      "text/plain": [
       "array([[0., 0., 0., 0., 0.],\n",
       "       [0., 0., 0., 0., 0.],\n",
       "       [0., 0., 0., 0., 0.],\n",
       "       [0., 0., 0., 0., 0.],\n",
       "       [0., 0., 0., 0., 0.]])"
      ]
     },
     "execution_count": 13,
     "metadata": {},
     "output_type": "execute_result"
    }
   ],
   "source": [
    "swe[20:25,20:25]"
   ]
  },
  {
   "cell_type": "code",
   "execution_count": null,
   "metadata": {},
   "outputs": [],
   "source": []
  }
 ],
 "metadata": {
  "kernelspec": {
   "display_name": "Python 3",
   "language": "python",
   "name": "python3"
  },
  "language_info": {
   "codemirror_mode": {
    "name": "ipython",
    "version": 3
   },
   "file_extension": ".py",
   "mimetype": "text/x-python",
   "name": "python",
   "nbconvert_exporter": "python",
   "pygments_lexer": "ipython3",
   "version": "3.8.3"
  }
 },
 "nbformat": 4,
 "nbformat_minor": 5
}
