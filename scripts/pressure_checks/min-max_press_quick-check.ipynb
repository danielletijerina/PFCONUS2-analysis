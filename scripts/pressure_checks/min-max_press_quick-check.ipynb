{
 "cells": [
  {
   "cell_type": "code",
   "execution_count": 9,
   "metadata": {},
   "outputs": [],
   "source": [
    "import parflow as pf\n",
    "from parflow import Run\n",
    "import numpy as np\n",
    "from osgeo import gdal"
   ]
  },
  {
   "cell_type": "code",
   "execution_count": 44,
   "metadata": {},
   "outputs": [],
   "source": [
    "# path_to_dir = '/glade/scratch/tijerina/CONUS2/scaling_runs/modified_pressure_run/output-pf'\n",
    "# run_name = 'mod_pressure'\n",
    "# timestep = '00120'\n",
    "\n",
    "path_to_dir = '/glade/scratch/tijerina/CONUS2/scaling_runs/spinup_scaling/outputs_r9_0-25_4'\n",
    "run_name = 'spinup.scaling.9.70_54'\n",
    "#run_name = 'spinup.scaling.9.48_36'\n",
    "timestep = '00024'"
   ]
  },
  {
   "cell_type": "code",
   "execution_count": 45,
   "metadata": {},
   "outputs": [
    {
     "name": "stdout",
     "output_type": "stream",
     "text": [
      "Solver: Field BinaryOutDir is not part of the expected schema <class 'parflow.tools.database.generated.Solver'>\n",
      "Solver.OverlandKinematic: Field SeepageOne is not part of the expected schema <class 'parflow.tools.database.generated.OverlandKinematic'>\n",
      "Solver.OverlandKinematic: Field SeepageTwo is not part of the expected schema <class 'parflow.tools.database.generated.OverlandKinematic'>\n",
      " => Error during CLM import - CLM specific key have been skipped\n"
     ]
    }
   ],
   "source": [
    "run = Run.from_definition(f'{path_to_dir}/{run_name}.pfidb')\n",
    "data = run.data_accessor\n",
    "\n",
    "# # Set inactive domain to Nan\n",
    "mask = data.mask\n",
    "\n",
    "# formatting the mask so that values outside the domain are 0 and inside the domain are 1\n",
    "# check with mask that has 0 and 1\n",
    "nanmask=mask.copy()\n",
    "nanmask[nanmask > 0] = 1"
   ]
  },
  {
   "cell_type": "code",
   "execution_count": 46,
   "metadata": {},
   "outputs": [
    {
     "data": {
      "text/plain": [
       "(10, 3256, 4442)"
      ]
     },
     "execution_count": 46,
     "metadata": {},
     "output_type": "execute_result"
    }
   ],
   "source": [
    "pfb = pf.read_pfb(f'{path_to_dir}/{run_name}.out.press.{timestep}.pfb')*nanmask\n",
    "pfb.shape"
   ]
  },
  {
   "cell_type": "code",
   "execution_count": 47,
   "metadata": {},
   "outputs": [],
   "source": [
    "# select layer (only for outputs with multiple layers)\n",
    "pfb10 = pfb[9,...]\n",
    "#### Flip pfb array to make tif\n",
    "# need to do this because read_pfb starts indexing at top left and we need it to start at bottom left\n",
    "\n",
    "pfb_flip = np.flipud(pfb10) # USE FOR SINGLE LAYER: np.flipud(pfb)"
   ]
  },
  {
   "cell_type": "markdown",
   "metadata": {},
   "source": [
    "### Check min and max pressure for different runs/timesteps"
   ]
  },
  {
   "cell_type": "code",
   "execution_count": 31,
   "metadata": {},
   "outputs": [
    {
     "name": "stdout",
     "output_type": "stream",
     "text": [
      "73.93407532990818\n",
      "-9651.508984738086\n"
     ]
    }
   ],
   "source": [
    "# SPINUP SCALING RUNS\n",
    "# min and max pressure for day 2, at hour 24\n",
    "print(pfb_flip.max())\n",
    "print(pfb_flip.min())"
   ]
  },
  {
   "cell_type": "code",
   "execution_count": 48,
   "metadata": {},
   "outputs": [
    {
     "name": "stdout",
     "output_type": "stream",
     "text": [
      "79.57444589181392\n",
      "-14474.139788609855\n"
     ]
    }
   ],
   "source": [
    "# SPINUP SCALING RUNS\n",
    "# min and max pressure for day 9, at hour 24\n",
    "print(pfb_flip.max())\n",
    "print(pfb_flip.min())"
   ]
  },
  {
   "cell_type": "code",
   "execution_count": 36,
   "metadata": {},
   "outputs": [
    {
     "name": "stdout",
     "output_type": "stream",
     "text": [
      "15.618672536747374\n",
      "-14474.123651541711\n"
     ]
    }
   ],
   "source": [
    "# MODIFIED PRESSURE RUN\n",
    "# min and max pressure at hour 1\n",
    "print(pfb_flip.max())\n",
    "print(pfb_flip.min())"
   ]
  },
  {
   "cell_type": "code",
   "execution_count": 41,
   "metadata": {},
   "outputs": [
    {
     "name": "stdout",
     "output_type": "stream",
     "text": [
      "22.94431667841405\n",
      "-16480.063593906423\n"
     ]
    }
   ],
   "source": [
    "# MODIFIED PRESSURE RUN\n",
    "# min and max pressure at hour 120\n",
    "print(pfb_flip.max())\n",
    "print(pfb_flip.min())"
   ]
  },
  {
   "cell_type": "code",
   "execution_count": null,
   "metadata": {},
   "outputs": [],
   "source": []
  }
 ],
 "metadata": {
  "kernelspec": {
   "display_name": "Python 3",
   "language": "python",
   "name": "python3"
  },
  "language_info": {
   "codemirror_mode": {
    "name": "ipython",
    "version": 3
   },
   "file_extension": ".py",
   "mimetype": "text/x-python",
   "name": "python",
   "nbconvert_exporter": "python",
   "pygments_lexer": "ipython3",
   "version": "3.8.3"
  }
 },
 "nbformat": 4,
 "nbformat_minor": 5
}
