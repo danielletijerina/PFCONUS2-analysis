{
 "cells": [
  {
   "cell_type": "markdown",
   "id": "f5c6c94c-04de-463c-a0bf-4a58b2eb6ac5",
   "metadata": {},
   "source": [
    "# Change pressure above a threshold\n",
    "- Running into HUGE pressures adjacent to sinks in CONUS2, particularly in the Great Basin. \n",
    "- Here, change a pressure file so that an pressure above a certain threshold will be ~0.1m\n",
    "\n",
    "### Import Packages\n",
    "Here we will be using the reading and writing tools that come with the ParFlow tools package.  "
   ]
  },
  {
   "cell_type": "code",
   "execution_count": 1,
   "id": "9b56f368-ec65-4774-a783-9486abdbaa0b",
   "metadata": {},
   "outputs": [
    {
     "name": "stdout",
     "output_type": "stream",
     "text": [
      "/glade/scratch/tijerina/CONUS2/scaling_runs/clm-update-run\n"
     ]
    }
   ],
   "source": [
    "import xarray as xr\n",
    "import numpy as np\n",
    "import os\n",
    "from glob import glob\n",
    "import matplotlib.pyplot as plt\n",
    "from matplotlib import figure\n",
    "import pandas as pd\n",
    "from osgeo import gdal\n",
    "\n",
    "\n",
    "import parflow as pf\n",
    "from parflow.tools.fs import get_absolute_path\n",
    "from parflow.tools.io import write_pfb, read_pfb\n",
    "from parflow import Run\n",
    "import parflow.tools.hydrology as hydro\n",
    "\n",
    "import math\n",
    "#setting the directory name that we will read our outputs from\n",
    "\n",
    "# run_dir ='/glade/scratch/tijerina/CONUS2/scaling_runs/spinup_scaling/outputs_r1_0-25_4'\n",
    "# run_name ='spinup.scaling.48_36'\n",
    "run_name = 'clm-update_CONUS2'\n",
    "run_dir = '/glade/scratch/tijerina/CONUS2/scaling_runs/clm-update-run'\n",
    "\n",
    " \n",
    "\n",
    "print(run_dir)"
   ]
  },
  {
   "cell_type": "markdown",
   "id": "6ce59a83-4651-454d-bc26-febf5d9b87e6",
   "metadata": {
    "tags": []
   },
   "source": [
    "#### Read in the domain properties\n",
    "- Outputs are from a test simulation of 24 hours from the scaling study"
   ]
  },
  {
   "cell_type": "code",
   "execution_count": 2,
   "id": "7f561c9f-d6dc-419f-9349-c8acb303e299",
   "metadata": {},
   "outputs": [
    {
     "name": "stdout",
     "output_type": "stream",
     "text": [
      "Solver: Field BinaryOutDir is not part of the expected schema <class 'parflow.tools.database.generated.Solver'>\n",
      "Solver.OverlandKinematic: Field SeepageOne is not part of the expected schema <class 'parflow.tools.database.generated.OverlandKinematic'>\n",
      "Solver.OverlandKinematic: Field SeepageTwo is not part of the expected schema <class 'parflow.tools.database.generated.OverlandKinematic'>\n",
      "Warning: The following CLM variables could not be set:\n",
      "  - nt\n",
      "  - sw_ini\n",
      "  - hkdepth\n",
      "  - wtfact\n",
      "  - trsmx0\n",
      "  - smpmax\n",
      "  - pondmx\n",
      "97 4442 3256 10 1000.0 1000.0 [2.0e+02 1.0e+02 5.0e+01 2.5e+01 1.0e+01 5.0e+00 1.0e+00 6.0e-01 3.0e-01\n",
      " 1.0e-01]\n"
     ]
    }
   ],
   "source": [
    "run = Run.from_definition(f'{run_dir}/{run_name}.pfidb')\n",
    "data = run.data_accessor\n",
    "nt = len(data.times)\n",
    "nx = data.shape[2]\n",
    "ny = data.shape[1]\n",
    "nz = data.shape[0]\n",
    "dx = data.dx\n",
    "dy = data.dy\n",
    "dz = data.dz\n",
    "\n",
    "print(nt,nx,ny,nz,dx,dy,dz)\n",
    "\n",
    "porosity = data.computed_porosity \n",
    "specific_storage = data.specific_storage \n",
    "#mannings = pf.read_pfb(f'{run_dir}/spinup.scaling.48_36.out.n.pfb') #run.Mannings.Geom.domain.Value\n",
    "mannings = data.mannings\n",
    "\n",
    "## remove input filenames for TopoSlopes to force the data accessor to read the output slopes\n",
    "## this fixes a windows issue\n",
    "run.TopoSlopesX.FileName = None\n",
    "run.TopoSlopesY.FileName = None\n",
    "\n",
    "slopex = data.slope_x \n",
    "slopey = data.slope_y \n",
    "mask = data.mask\n",
    "\n",
    "# formatting the mask so that values outside the domain are NA and inside the domain are 1\n",
    "# check with mask that has 0 and 1\n",
    "nanmask=mask.copy()\n",
    "#nanmask[nanmask == 0] = 'NaN' ---> Use this for NaNs np.nan\n",
    "nanmask[nanmask > 0] = 1"
   ]
  },
  {
   "cell_type": "markdown",
   "id": "80021223-211d-4d98-8c86-6491515adc3f",
   "metadata": {},
   "source": [
    "#### Read a pressure output file"
   ]
  },
  {
   "cell_type": "code",
   "execution_count": 3,
   "id": "d56750bc-26a4-4656-9842-095b3d8a0811",
   "metadata": {},
   "outputs": [],
   "source": [
    "#read in pressure file into a 3D NParray\n",
    "pressure_array = pf.read_pfb(f'{run_dir}/{run_name}.out.press.00024.pfb') * nanmask\n"
   ]
  },
  {
   "cell_type": "code",
   "execution_count": 4,
   "id": "12963dbd-15b7-43cc-8328-7b236832e36b",
   "metadata": {},
   "outputs": [
    {
     "name": "stdout",
     "output_type": "stream",
     "text": [
      "(10, 3256, 4442)\n"
     ]
    },
    {
     "data": {
      "text/plain": [
       "(3256, 4442)"
      ]
     },
     "execution_count": 4,
     "metadata": {},
     "output_type": "execute_result"
    }
   ],
   "source": [
    "print(pressure_array.shape)\n",
    "# get one layer of pressure array\n",
    "pressure9 = pressure_array[9,:,:]\n",
    "pressure9.shape"
   ]
  },
  {
   "cell_type": "code",
   "execution_count": 5,
   "id": "2322e741-55c2-4538-bc9b-464c51ed45d7",
   "metadata": {},
   "outputs": [
    {
     "name": "stdout",
     "output_type": "stream",
     "text": [
      "34526.849718634214\n",
      "-21.051453299122553\n"
     ]
    }
   ],
   "source": [
    "print(pressure9.max())\n",
    "print(pressure9.min())"
   ]
  },
  {
   "cell_type": "code",
   "execution_count": 6,
   "id": "8db5fd76-d593-48cb-aca2-312e71121b98",
   "metadata": {},
   "outputs": [
    {
     "name": "stdout",
     "output_type": "stream",
     "text": [
      "34526.849718634214\n",
      "-21.051453299122553\n",
      "\n",
      "34438.02870332217\n",
      "-20.85773043024164\n",
      "\n",
      "34242.26094977139\n",
      "-20.462203402147708\n",
      "\n",
      "33456.776044840255\n",
      "-19.885036429916642\n",
      "\n",
      "30281.47770804876\n",
      "-18.21005517573819\n",
      "\n",
      "25366.635024381565\n",
      "-20.429080848458245\n",
      "\n",
      "4585.599982704118\n",
      "-11.402365957406777\n",
      "\n",
      "723.0528951514855\n",
      "-9.332261311209523\n",
      "\n",
      "624.97916925624\n",
      "-5.423892222591665\n",
      "\n",
      "780.014048685796\n",
      "-4.91754079942326\n"
     ]
    }
   ],
   "source": [
    "print(pressure_array[9,:,:].max())\n",
    "print(pressure_array[9,:,:].min())\n",
    "print(\"\")\n",
    "print(pressure_array[8,:,:].max())\n",
    "print(pressure_array[8,:,:].min())\n",
    "print(\"\")\n",
    "print(pressure_array[7,:,:].max())\n",
    "print(pressure_array[7,:,:].min())\n",
    "print(\"\")\n",
    "print(pressure_array[6,:,:].max())\n",
    "print(pressure_array[6,:,:].min())\n",
    "print(\"\")\n",
    "print(pressure_array[5,:,:].max())\n",
    "print(pressure_array[5,:,:].min())\n",
    "print(\"\")\n",
    "print(pressure_array[4,:,:].max())\n",
    "print(pressure_array[4,:,:].min())\n",
    "print(\"\")\n",
    "print(pressure_array[3,:,:].max())\n",
    "print(pressure_array[3,:,:].min())\n",
    "print(\"\")\n",
    "print(pressure_array[2,:,:].max())\n",
    "print(pressure_array[2,:,:].min())\n",
    "print(\"\")\n",
    "print(pressure_array[1,:,:].max())\n",
    "print(pressure_array[1,:,:].min())\n",
    "print(\"\")\n",
    "print(pressure_array[0,:,:].max())\n",
    "print(pressure_array[0,:,:].min())"
   ]
  },
  {
   "cell_type": "code",
   "execution_count": 7,
   "id": "a55dd741-1736-49a7-bc46-0300751db410",
   "metadata": {},
   "outputs": [
    {
     "data": {
      "text/plain": [
       "278"
      ]
     },
     "execution_count": 7,
     "metadata": {},
     "output_type": "execute_result"
    }
   ],
   "source": [
    "above_threshold = np.where(pressure9 > 15)\n",
    "np.count_nonzero(above_threshold)"
   ]
  },
  {
   "cell_type": "code",
   "execution_count": 8,
   "id": "71707c83-687f-4777-ae47-6893e5248cb1",
   "metadata": {},
   "outputs": [],
   "source": [
    "pressure_array[9,...][pressure_array[9,...]>15]=0.1 # change any pressures > 15 m to 0.1 m"
   ]
  },
  {
   "cell_type": "code",
   "execution_count": 9,
   "id": "c0969486-3176-4332-8f6e-18fa7dab98d3",
   "metadata": {},
   "outputs": [
    {
     "name": "stdout",
     "output_type": "stream",
     "text": [
      "14.81513210158111\n",
      "-21.051453299122553\n"
     ]
    }
   ],
   "source": [
    "print(pressure_array[9,...].max())\n",
    "print(pressure_array[9,...].min())"
   ]
  },
  {
   "cell_type": "code",
   "execution_count": 10,
   "id": "861bba70-8a98-4a72-bc31-37242592a090",
   "metadata": {},
   "outputs": [
    {
     "name": "stdout",
     "output_type": "stream",
     "text": [
      "14.81513210158111\n",
      "-21.051453299122553\n"
     ]
    }
   ],
   "source": [
    "print(pressure9.max())\n",
    "print(pressure9.min())"
   ]
  },
  {
   "cell_type": "markdown",
   "id": "9aa52231-3176-4cb0-ac68-7f655eb40356",
   "metadata": {},
   "source": [
    "### Create new pfb with high pressures set to a lower value"
   ]
  },
  {
   "cell_type": "code",
   "execution_count": 11,
   "id": "6413105d-a9a1-41e7-8542-c43636d0d7dc",
   "metadata": {},
   "outputs": [],
   "source": [
    "write_pfb('down_scaled_pressure_CLM-update.pfb',pressure_array)"
   ]
  },
  {
   "cell_type": "code",
   "execution_count": 12,
   "id": "ea9f99c8-0865-4393-8024-bbb875c10186",
   "metadata": {},
   "outputs": [
    {
     "data": {
      "text/plain": [
       "0"
      ]
     },
     "execution_count": 12,
     "metadata": {},
     "output_type": "execute_result"
    }
   ],
   "source": [
    "# Check below a threshold for fun / why are these pressures so low??\n",
    "below_threshold = np.where(pressure9 < -13000)\n",
    "np.count_nonzero(below_threshold)"
   ]
  },
  {
   "cell_type": "markdown",
   "id": "b2fa87f0-a6d4-43ed-b7b4-c5ec015b8d22",
   "metadata": {},
   "source": [
    "## Calculate overlandflow"
   ]
  },
  {
   "cell_type": "code",
   "execution_count": null,
   "id": "eaf6fb17-581a-4d88-acc4-e1a1b18c32be",
   "metadata": {},
   "outputs": [],
   "source": [
    "overland_flow= hydro.calculate_overland_flow_grid(pressure_array, slopex, slopey, mannings, dx, dy, mask = nanmask)/3600\n",
    "    # divide by 3600 to go from [m^3/h] to [m^3/s]"
   ]
  },
  {
   "cell_type": "code",
   "execution_count": null,
   "id": "bc007b5e-22a7-4646-b6c8-df86daaefb47",
   "metadata": {},
   "outputs": [],
   "source": [
    "plt.figure(figsize = (9,7))\n",
    "plt.imshow(overland_flow, cmap=\"Blues\", origin='lower', vmin = 0, vmax = 25)\n",
    "plt.colorbar()\n",
    "plt.title('Overland Flow for pressure file')\n",
    "#plt.savefig('overlandflow_hour_cms.png', dpi=1000)\n",
    "plt.show()\n"
   ]
  },
  {
   "cell_type": "code",
   "execution_count": null,
   "id": "69ad7ff9-9982-476d-b40c-b47673dcdef8",
   "metadata": {},
   "outputs": [],
   "source": [
    "# Checking min/max/shape (cms)\n",
    "print('Hourly overland flow (cms): ')\n",
    "print(f'Shape: {overland_flow.shape}')\n",
    "print(f'Max: {overland_flow.max()}')\n",
    "print(f'Min: {overland_flow.min()}')\n",
    "print(\" \")\n",
    "print('Daily overland flow (cms... not m^3/d?): ')\n",
    "print(f'Shape: {daily_overland_flow.shape}')\n",
    "print(f'Max: {daily_overland_flow.max()}')\n",
    "print(f'Min: {daily_overland_flow.min()}')"
   ]
  },
  {
   "cell_type": "markdown",
   "id": "41344535-1101-4a52-aeac-32e266d30438",
   "metadata": {},
   "source": [
    "### Create pressure GeoTiff for GIS "
   ]
  },
  {
   "cell_type": "code",
   "execution_count": 7,
   "id": "5841cd52-6604-476c-99be-9e72bf49b9d8",
   "metadata": {},
   "outputs": [
    {
     "data": {
      "text/plain": [
       "osgeo.gdal.Dataset"
      ]
     },
     "execution_count": 7,
     "metadata": {},
     "output_type": "execute_result"
    }
   ],
   "source": [
    "### CREATE GEOTIFF\n",
    "# this file is needed for the geotransform and projection below\n",
    "file = '1km_CONUS2_landcover_IGBP.tif'\n",
    "\n",
    "# open tiff mask\n",
    "lc_tif = gdal.Open(file)\n",
    "\n",
    "type(lc_tif)"
   ]
  },
  {
   "cell_type": "code",
   "execution_count": 8,
   "id": "11f5b715-b318-46f4-84b1-825195bf3264",
   "metadata": {},
   "outputs": [],
   "source": [
    "# Flip df to make tif\n",
    "pressure_array9_flip = np.flipud(pressure9) #pressure9\n",
    "\n",
    "# Create geotiff of CLM variables for QGIS\n",
    "dst_filename = 'bad_pressures.tiff' #'Pressure_top_layer_forThreshold.tiff'\n",
    "x_pixels = 4442  # number of grid cells in x\n",
    "y_pixels = 3256  # number of grid cells in y\n",
    "driver = gdal.GetDriverByName('GTiff')\n",
    "dataset = driver.Create(dst_filename,x_pixels, y_pixels, 1,gdal.GDT_Float32)\n",
    "dataset.GetRasterBand(1).WriteArray(pressure_array9_flip) ### create tif with array you want to use\n",
    "\n",
    "# Add GeoTranform and Projection information to newly created tif file\n",
    "geotrans=lc_tif.GetGeoTransform()  #get GeoTranform from existing tif file (here 'conus2tiff')\n",
    "proj=lc_tif.GetProjection() #you can import or get from a existing tif   \n",
    "dataset.SetGeoTransform(geotrans)\n",
    "dataset.SetProjection(proj)\n",
    "dataset.FlushCache()\n",
    "dataset=None"
   ]
  },
  {
   "cell_type": "code",
   "execution_count": null,
   "id": "ed7aa3ed-f035-4994-9856-6f53dd2ccea8",
   "metadata": {},
   "outputs": [],
   "source": []
  }
 ],
 "metadata": {
  "kernelspec": {
   "display_name": "NPL (conda)",
   "language": "python",
   "name": "npl-conda"
  },
  "language_info": {
   "codemirror_mode": {
    "name": "ipython",
    "version": 3
   },
   "file_extension": ".py",
   "mimetype": "text/x-python",
   "name": "python",
   "nbconvert_exporter": "python",
   "pygments_lexer": "ipython3",
   "version": "3.7.12"
  }
 },
 "nbformat": 4,
 "nbformat_minor": 5
}
