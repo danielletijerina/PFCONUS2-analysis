{
 "cells": [
  {
   "cell_type": "markdown",
   "metadata": {},
   "source": [
    "# Compare PF-CONUS2 WTD to long-term WTD average observations\n",
    "D. Tijerina, 7/2023\n",
    "\n",
    "This script reads in WTD observations queried from Hydrodata and Fan et al. and compares to PF-CONUS2 WTD. The notebook is broken up into these sections:  \n",
    "1. Read in WTD observations and metadata; organize into pandas dataframes\n",
    "2. Read in CONUS2 WTD and extract indices for CONUS2 grid cells that are common to the WTD observations;  organize all data\n",
    "3. Compute statistics between PF-CONUS2 and WTD observations\n",
    "4. Create summary plots, maps\n",
    "\n",
    "\n",
    "Inputs:\n",
    "- WTD Metadata csv file of stations from a Hydrodata query (from point_observations.ipynb)\n",
    "- WTD Observation data csv file of stations from a Hydrodata query (from point_observations.ipynb)\n",
    "\n",
    "Outputs:\n",
    "- Matched ParFlow WTD csv\n",
    "- Rematched Metadata file csv\n",
    "- Rematched observation file csv\n",
    "- Summary station SNOTEL csv containing station info, CONUS x and y, averages, statistics\n",
    "- Summary plots/maps\n",
    "\n",
    "Notes: \n",
    "- Need to add a basemap to summary plots (Geopandas? Basemap from matplot.toolkit?)"
   ]
  },
  {
   "cell_type": "code",
   "execution_count": 1,
   "metadata": {},
   "outputs": [],
   "source": [
    "import sys\n",
    "from parflow.tools.io import read_pfb,write_pfb\n",
    "import numpy as np\n",
    "import pandas as pd\n",
    "import matplotlib.pyplot as plt"
   ]
  },
  {
   "cell_type": "markdown",
   "metadata": {},
   "source": [
    "##### Change paths to directories, run information..."
   ]
  },
  {
   "cell_type": "code",
   "execution_count": 2,
   "metadata": {},
   "outputs": [
    {
     "name": "stdout",
     "output_type": "stream",
     "text": [
      "Figures saving to: /hydrodata/temp/CONUS2_transfers/CONUS2/spinup_WY2003/spinup_Validation/WTD/steady_state\n"
     ]
    }
   ],
   "source": [
    "### Directory where model output and observation CSVs live\n",
    "directory_out = '/hydrodata/temp/CONUS2_transfers/CONUS2/spinup_WY2003/averages'\n",
    "organized_dir = './Organized_steady-state_WTD'\n",
    "\n",
    "### Where you want to save plots, etc. to\n",
    "#plot_dir = '/home/dtt2/CONUS2/PFCONUS2-analysis/scripts/Validation/SNOTEL/precip_temp/Figures' # verde\n",
    "#plot_dir = '/glade/work/tijerina/PFCONUS2-analysis/scripts/Validation/SNOTEL/precip_temp/Figures' # cheyenne \n",
    "plot_dir = '/hydrodata/temp/CONUS2_transfers/CONUS2/spinup_WY2003/spinup_Validation/WTD/steady_state' # hydrodata\n",
    "print(f'Figures saving to: {plot_dir}')\n",
    "\n",
    "\n",
    "### need to change water year and number of days\n",
    "water_year = 2003\n",
    "no_days = 364\n",
    "variable = 'WTD'\n",
    "\n",
    "### CONUS2 domain\n",
    "ny = 3256\n",
    "nx = 4442"
   ]
  },
  {
   "cell_type": "markdown",
   "metadata": {},
   "source": [
    "##### Names of observation csv files, these are usually saved from Hydrodata"
   ]
  },
  {
   "cell_type": "code",
   "execution_count": 3,
   "metadata": {},
   "outputs": [],
   "source": [
    "### Files for observations from Hydrodata\n",
    "data_file = 'Hydrodata_wtd_obs_instantaneous_instantaneous_WY2003.csv' \n",
    "metadata_file = 'Hydrodata_wtd_metadata_instantaneous_instantaneous_WY2003.csv'"
   ]
  },
  {
   "cell_type": "markdown",
   "metadata": {},
   "source": [
    "##### Name of path and file name of PFB reading in"
   ]
  },
  {
   "cell_type": "code",
   "execution_count": 4,
   "metadata": {},
   "outputs": [
    {
     "name": "stdout",
     "output_type": "stream",
     "text": [
      "WTD.2003.daily\n"
     ]
    }
   ],
   "source": [
    "# path to daily forcing PFB files\n",
    "pfb_read_path = '/hydrodata/temp/CONUS2_transfers/CONUS2/spinup_WY2003/averages'\n",
    "# This is the partial name of the pfb, without the timestamp or .pfb file extension\n",
    "# (for example, 'NLDAS.APCP.daily.sum.008.pfb' -> 'NLDAS.APCP.daily.sum')\n",
    "pfb_name = f'{variable}.2003.daily' \n",
    "print(pfb_name)"
   ]
  },
  {
   "cell_type": "markdown",
   "metadata": {},
   "source": [
    "##### Create file names for all files you will save out\n",
    "These include:\n",
    "- CSV of ParFlow or CW3E modeled values from pfb at station-matched CONUS2 x, y\n",
    "- Rematched observation csv file (this is a reorganized version of `data_file`\n",
    "- Rematched observation metadata csv file (this is a reorganized version of `metadata_file`\n",
    "- Summary statistics csv with station info and stats for each station"
   ]
  },
  {
   "cell_type": "code",
   "execution_count": 5,
   "metadata": {},
   "outputs": [
    {
     "name": "stdout",
     "output_type": "stream",
     "text": [
      "Summary_Stations_CONUS2_WTD_WY2003.csv\n"
     ]
    }
   ],
   "source": [
    "### Name files you will save out\n",
    "# names of csv files for model and observations that contain the same stations\n",
    "pf_matched_csv = f'PF_Daily_matched_CONUS2_{variable}_{water_year}.csv'\n",
    "snotel_matched_csv = f'OBS_Daily_matched_CONUS2_{variable}_{water_year}.csv'\n",
    "metadata_matched_csv = f'OBS_metadata_matched_CONUS2_{variable}_{water_year}.csv'\n",
    "# summary stats\n",
    "summary_stats_csv = f'Summary_Stations_CONUS2_{variable}_WY{water_year}.csv'\n",
    "print(summary_stats_csv)"
   ]
  },
  {
   "cell_type": "markdown",
   "metadata": {},
   "source": [
    "##### Other things that likely need to be changed\n",
    "- names of plots saved out  are named within in the plotting function\n",
    "- same for some specifics of the plot titles"
   ]
  },
  {
   "cell_type": "markdown",
   "metadata": {},
   "source": [
    "# 1. Read in observations and organize"
   ]
  },
  {
   "cell_type": "markdown",
   "metadata": {},
   "source": [
    "### WTD"
   ]
  },
  {
   "cell_type": "code",
   "execution_count": 20,
   "metadata": {},
   "outputs": [
    {
     "data": {
      "text/html": [
       "<div>\n",
       "<style scoped>\n",
       "    .dataframe tbody tr th:only-of-type {\n",
       "        vertical-align: middle;\n",
       "    }\n",
       "\n",
       "    .dataframe tbody tr th {\n",
       "        vertical-align: top;\n",
       "    }\n",
       "\n",
       "    .dataframe thead th {\n",
       "        text-align: right;\n",
       "    }\n",
       "</style>\n",
       "<table border=\"1\" class=\"dataframe\">\n",
       "  <thead>\n",
       "    <tr style=\"text-align: right;\">\n",
       "      <th></th>\n",
       "      <th>wtd</th>\n",
       "    </tr>\n",
       "    <tr>\n",
       "      <th>site_id</th>\n",
       "      <th></th>\n",
       "    </tr>\n",
       "  </thead>\n",
       "  <tbody>\n",
       "    <tr>\n",
       "      <th>251241080385302</th>\n",
       "      <td>0.271272</td>\n",
       "    </tr>\n",
       "    <tr>\n",
       "      <th>251922080340701</th>\n",
       "      <td>0.277368</td>\n",
       "    </tr>\n",
       "    <tr>\n",
       "      <th>251922080340701</th>\n",
       "      <td>0.371856</td>\n",
       "    </tr>\n",
       "    <tr>\n",
       "      <th>251922080340701</th>\n",
       "      <td>0.518160</td>\n",
       "    </tr>\n",
       "    <tr>\n",
       "      <th>251922080340701</th>\n",
       "      <td>0.484632</td>\n",
       "    </tr>\n",
       "    <tr>\n",
       "      <th>...</th>\n",
       "      <td>...</td>\n",
       "    </tr>\n",
       "    <tr>\n",
       "      <th>485907116294701</th>\n",
       "      <td>1.804416</td>\n",
       "    </tr>\n",
       "    <tr>\n",
       "      <th>485907116294701</th>\n",
       "      <td>2.063496</td>\n",
       "    </tr>\n",
       "    <tr>\n",
       "      <th>485907116294701</th>\n",
       "      <td>2.331720</td>\n",
       "    </tr>\n",
       "    <tr>\n",
       "      <th>485907116294701</th>\n",
       "      <td>2.322576</td>\n",
       "    </tr>\n",
       "    <tr>\n",
       "      <th>485917122241901</th>\n",
       "      <td>4.785360</td>\n",
       "    </tr>\n",
       "  </tbody>\n",
       "</table>\n",
       "<p>109299 rows × 1 columns</p>\n",
       "</div>"
      ],
      "text/plain": [
       "                      wtd\n",
       "site_id                  \n",
       "251241080385302  0.271272\n",
       "251922080340701  0.277368\n",
       "251922080340701  0.371856\n",
       "251922080340701  0.518160\n",
       "251922080340701  0.484632\n",
       "...                   ...\n",
       "485907116294701  1.804416\n",
       "485907116294701  2.063496\n",
       "485907116294701  2.331720\n",
       "485907116294701  2.322576\n",
       "485917122241901  4.785360\n",
       "\n",
       "[109299 rows x 1 columns]"
      ]
     },
     "execution_count": 20,
     "metadata": {},
     "output_type": "execute_result"
    }
   ],
   "source": [
    "obs_data = pd.read_csv(f'{organized_dir}/{data_file}', index_col=['site_id'])\n",
    "obs_data = obs_data.drop(columns=['Unnamed: 0'])\n",
    "obs_data = obs_data.loc[(obs_data['wtd']>0.0)]\n",
    "obs_data = obs_data.drop(columns=['num_obs', 'pumping_status', 'date'])\n",
    "obs_data"
   ]
  },
  {
   "cell_type": "code",
   "execution_count": 22,
   "metadata": {},
   "outputs": [
    {
     "data": {
      "text/html": [
       "<div>\n",
       "<style scoped>\n",
       "    .dataframe tbody tr th:only-of-type {\n",
       "        vertical-align: middle;\n",
       "    }\n",
       "\n",
       "    .dataframe tbody tr th {\n",
       "        vertical-align: top;\n",
       "    }\n",
       "\n",
       "    .dataframe thead th {\n",
       "        text-align: right;\n",
       "    }\n",
       "</style>\n",
       "<table border=\"1\" class=\"dataframe\">\n",
       "  <thead>\n",
       "    <tr style=\"text-align: right;\">\n",
       "      <th></th>\n",
       "      <th>wtd</th>\n",
       "    </tr>\n",
       "    <tr>\n",
       "      <th>site_id</th>\n",
       "      <th></th>\n",
       "    </tr>\n",
       "  </thead>\n",
       "  <tbody>\n",
       "    <tr>\n",
       "      <th>251241080385302</th>\n",
       "      <td>0.271272</td>\n",
       "    </tr>\n",
       "    <tr>\n",
       "      <th>251922080340701</th>\n",
       "      <td>0.393573</td>\n",
       "    </tr>\n",
       "    <tr>\n",
       "      <th>252007080335701</th>\n",
       "      <td>0.585978</td>\n",
       "    </tr>\n",
       "    <tr>\n",
       "      <th>252243080335501</th>\n",
       "      <td>0.338328</td>\n",
       "    </tr>\n",
       "    <tr>\n",
       "      <th>252332080300501</th>\n",
       "      <td>0.969264</td>\n",
       "    </tr>\n",
       "    <tr>\n",
       "      <th>...</th>\n",
       "      <td>...</td>\n",
       "    </tr>\n",
       "    <tr>\n",
       "      <th>485904116303701</th>\n",
       "      <td>2.360981</td>\n",
       "    </tr>\n",
       "    <tr>\n",
       "      <th>485904116303702</th>\n",
       "      <td>2.670175</td>\n",
       "    </tr>\n",
       "    <tr>\n",
       "      <th>485906116313101</th>\n",
       "      <td>1.941068</td>\n",
       "    </tr>\n",
       "    <tr>\n",
       "      <th>485907116294701</th>\n",
       "      <td>1.691386</td>\n",
       "    </tr>\n",
       "    <tr>\n",
       "      <th>485917122241901</th>\n",
       "      <td>4.785360</td>\n",
       "    </tr>\n",
       "  </tbody>\n",
       "</table>\n",
       "<p>33809 rows × 1 columns</p>\n",
       "</div>"
      ],
      "text/plain": [
       "                      wtd\n",
       "site_id                  \n",
       "251241080385302  0.271272\n",
       "251922080340701  0.393573\n",
       "252007080335701  0.585978\n",
       "252243080335501  0.338328\n",
       "252332080300501  0.969264\n",
       "...                   ...\n",
       "485904116303701  2.360981\n",
       "485904116303702  2.670175\n",
       "485906116313101  1.941068\n",
       "485907116294701  1.691386\n",
       "485917122241901  4.785360\n",
       "\n",
       "[33809 rows x 1 columns]"
      ]
     },
     "execution_count": 22,
     "metadata": {},
     "output_type": "execute_result"
    }
   ],
   "source": [
    "obs_data = obs_data.groupby('site_id').mean()\n",
    "obs_data"
   ]
  },
  {
   "cell_type": "code",
   "execution_count": 23,
   "metadata": {},
   "outputs": [
    {
     "data": {
      "text/html": [
       "<div>\n",
       "<style scoped>\n",
       "    .dataframe tbody tr th:only-of-type {\n",
       "        vertical-align: middle;\n",
       "    }\n",
       "\n",
       "    .dataframe tbody tr th {\n",
       "        vertical-align: top;\n",
       "    }\n",
       "\n",
       "    .dataframe thead th {\n",
       "        text-align: right;\n",
       "    }\n",
       "</style>\n",
       "<table border=\"1\" class=\"dataframe\">\n",
       "  <thead>\n",
       "    <tr style=\"text-align: right;\">\n",
       "      <th></th>\n",
       "      <th>site_type</th>\n",
       "      <th>agency</th>\n",
       "      <th>site_name</th>\n",
       "      <th>site_id_agency</th>\n",
       "      <th>site_query_url</th>\n",
       "      <th>date_metadata_last_updated</th>\n",
       "      <th>latitude</th>\n",
       "      <th>longitude</th>\n",
       "      <th>state</th>\n",
       "      <th>huc</th>\n",
       "      <th>...</th>\n",
       "      <th>aqfr_cd</th>\n",
       "      <th>aqfr_type_cd</th>\n",
       "      <th>well_depth_va</th>\n",
       "      <th>hole_depth_va</th>\n",
       "      <th>depth_src_cd</th>\n",
       "      <th>project_no</th>\n",
       "      <th>conus1_x</th>\n",
       "      <th>conus1_y</th>\n",
       "      <th>conus2_x</th>\n",
       "      <th>conus2_y</th>\n",
       "    </tr>\n",
       "    <tr>\n",
       "      <th>site_id</th>\n",
       "      <th></th>\n",
       "      <th></th>\n",
       "      <th></th>\n",
       "      <th></th>\n",
       "      <th></th>\n",
       "      <th></th>\n",
       "      <th></th>\n",
       "      <th></th>\n",
       "      <th></th>\n",
       "      <th></th>\n",
       "      <th></th>\n",
       "      <th></th>\n",
       "      <th></th>\n",
       "      <th></th>\n",
       "      <th></th>\n",
       "      <th></th>\n",
       "      <th></th>\n",
       "      <th></th>\n",
       "      <th></th>\n",
       "      <th></th>\n",
       "      <th></th>\n",
       "    </tr>\n",
       "  </thead>\n",
       "  <tbody>\n",
       "    <tr>\n",
       "      <th>251241080385302</th>\n",
       "      <td>groundwater well</td>\n",
       "      <td>USGS</td>\n",
       "      <td>G  -3763</td>\n",
       "      <td>2.512411e+14</td>\n",
       "      <td>https://waterservices.usgs.gov/nwis/site/?form...</td>\n",
       "      <td>2023-03-08</td>\n",
       "      <td>25.210000</td>\n",
       "      <td>-80.647778</td>\n",
       "      <td>FL</td>\n",
       "      <td>3090202.0</td>\n",
       "      <td>...</td>\n",
       "      <td>112BSCNN</td>\n",
       "      <td>NaN</td>\n",
       "      <td>22.40</td>\n",
       "      <td>NaN</td>\n",
       "      <td>NaN</td>\n",
       "      <td>NaN</td>\n",
       "      <td>NaN</td>\n",
       "      <td>NaN</td>\n",
       "      <td>3880.0</td>\n",
       "      <td>209.0</td>\n",
       "    </tr>\n",
       "    <tr>\n",
       "      <th>251922080340701</th>\n",
       "      <td>groundwater well</td>\n",
       "      <td>USGS</td>\n",
       "      <td>G  -1251</td>\n",
       "      <td>2.519221e+14</td>\n",
       "      <td>https://waterservices.usgs.gov/nwis/site/?form...</td>\n",
       "      <td>2023-03-08</td>\n",
       "      <td>25.321083</td>\n",
       "      <td>-80.565750</td>\n",
       "      <td>FL</td>\n",
       "      <td>3090202.0</td>\n",
       "      <td>...</td>\n",
       "      <td>112BSCNN</td>\n",
       "      <td>U</td>\n",
       "      <td>59.00</td>\n",
       "      <td>NaN</td>\n",
       "      <td>NaN</td>\n",
       "      <td>2080-00200</td>\n",
       "      <td>NaN</td>\n",
       "      <td>NaN</td>\n",
       "      <td>3886.0</td>\n",
       "      <td>223.0</td>\n",
       "    </tr>\n",
       "    <tr>\n",
       "      <th>251922080340701</th>\n",
       "      <td>groundwater well</td>\n",
       "      <td>USGS</td>\n",
       "      <td>G  -1251</td>\n",
       "      <td>2.519221e+14</td>\n",
       "      <td>https://waterservices.usgs.gov/nwis/site/?form...</td>\n",
       "      <td>2023-03-08</td>\n",
       "      <td>25.321083</td>\n",
       "      <td>-80.565750</td>\n",
       "      <td>FL</td>\n",
       "      <td>3090202.0</td>\n",
       "      <td>...</td>\n",
       "      <td>112BSCNN</td>\n",
       "      <td>U</td>\n",
       "      <td>59.00</td>\n",
       "      <td>NaN</td>\n",
       "      <td>NaN</td>\n",
       "      <td>2080-00200</td>\n",
       "      <td>NaN</td>\n",
       "      <td>NaN</td>\n",
       "      <td>3886.0</td>\n",
       "      <td>223.0</td>\n",
       "    </tr>\n",
       "    <tr>\n",
       "      <th>251922080340701</th>\n",
       "      <td>groundwater well</td>\n",
       "      <td>USGS</td>\n",
       "      <td>G  -1251</td>\n",
       "      <td>2.519221e+14</td>\n",
       "      <td>https://waterservices.usgs.gov/nwis/site/?form...</td>\n",
       "      <td>2023-03-08</td>\n",
       "      <td>25.321083</td>\n",
       "      <td>-80.565750</td>\n",
       "      <td>FL</td>\n",
       "      <td>3090202.0</td>\n",
       "      <td>...</td>\n",
       "      <td>112BSCNN</td>\n",
       "      <td>U</td>\n",
       "      <td>59.00</td>\n",
       "      <td>NaN</td>\n",
       "      <td>NaN</td>\n",
       "      <td>2080-00200</td>\n",
       "      <td>NaN</td>\n",
       "      <td>NaN</td>\n",
       "      <td>3886.0</td>\n",
       "      <td>223.0</td>\n",
       "    </tr>\n",
       "    <tr>\n",
       "      <th>251922080340701</th>\n",
       "      <td>groundwater well</td>\n",
       "      <td>USGS</td>\n",
       "      <td>G  -1251</td>\n",
       "      <td>2.519221e+14</td>\n",
       "      <td>https://waterservices.usgs.gov/nwis/site/?form...</td>\n",
       "      <td>2023-03-08</td>\n",
       "      <td>25.321083</td>\n",
       "      <td>-80.565750</td>\n",
       "      <td>FL</td>\n",
       "      <td>3090202.0</td>\n",
       "      <td>...</td>\n",
       "      <td>112BSCNN</td>\n",
       "      <td>U</td>\n",
       "      <td>59.00</td>\n",
       "      <td>NaN</td>\n",
       "      <td>NaN</td>\n",
       "      <td>2080-00200</td>\n",
       "      <td>NaN</td>\n",
       "      <td>NaN</td>\n",
       "      <td>3886.0</td>\n",
       "      <td>223.0</td>\n",
       "    </tr>\n",
       "    <tr>\n",
       "      <th>...</th>\n",
       "      <td>...</td>\n",
       "      <td>...</td>\n",
       "      <td>...</td>\n",
       "      <td>...</td>\n",
       "      <td>...</td>\n",
       "      <td>...</td>\n",
       "      <td>...</td>\n",
       "      <td>...</td>\n",
       "      <td>...</td>\n",
       "      <td>...</td>\n",
       "      <td>...</td>\n",
       "      <td>...</td>\n",
       "      <td>...</td>\n",
       "      <td>...</td>\n",
       "      <td>...</td>\n",
       "      <td>...</td>\n",
       "      <td>...</td>\n",
       "      <td>...</td>\n",
       "      <td>...</td>\n",
       "      <td>...</td>\n",
       "      <td>...</td>\n",
       "    </tr>\n",
       "    <tr>\n",
       "      <th>485907116294701</th>\n",
       "      <td>groundwater well</td>\n",
       "      <td>USGS</td>\n",
       "      <td>65N 01W 17BDD1</td>\n",
       "      <td>4.859071e+14</td>\n",
       "      <td>https://waterservices.usgs.gov/nwis/site/?form...</td>\n",
       "      <td>2023-03-08</td>\n",
       "      <td>48.985353</td>\n",
       "      <td>-116.497453</td>\n",
       "      <td>ID</td>\n",
       "      <td>17010104.0</td>\n",
       "      <td>...</td>\n",
       "      <td>NaN</td>\n",
       "      <td>NaN</td>\n",
       "      <td>26.93</td>\n",
       "      <td>27.0</td>\n",
       "      <td>S</td>\n",
       "      <td>ID-02-05101</td>\n",
       "      <td>382.0</td>\n",
       "      <td>1885.0</td>\n",
       "      <td>845.0</td>\n",
       "      <td>2801.0</td>\n",
       "    </tr>\n",
       "    <tr>\n",
       "      <th>485907116294701</th>\n",
       "      <td>groundwater well</td>\n",
       "      <td>USGS</td>\n",
       "      <td>65N 01W 17BDD1</td>\n",
       "      <td>4.859071e+14</td>\n",
       "      <td>https://waterservices.usgs.gov/nwis/site/?form...</td>\n",
       "      <td>2023-03-08</td>\n",
       "      <td>48.985353</td>\n",
       "      <td>-116.497453</td>\n",
       "      <td>ID</td>\n",
       "      <td>17010104.0</td>\n",
       "      <td>...</td>\n",
       "      <td>NaN</td>\n",
       "      <td>NaN</td>\n",
       "      <td>26.93</td>\n",
       "      <td>27.0</td>\n",
       "      <td>S</td>\n",
       "      <td>ID-02-05101</td>\n",
       "      <td>382.0</td>\n",
       "      <td>1885.0</td>\n",
       "      <td>845.0</td>\n",
       "      <td>2801.0</td>\n",
       "    </tr>\n",
       "    <tr>\n",
       "      <th>485907116294701</th>\n",
       "      <td>groundwater well</td>\n",
       "      <td>USGS</td>\n",
       "      <td>65N 01W 17BDD1</td>\n",
       "      <td>4.859071e+14</td>\n",
       "      <td>https://waterservices.usgs.gov/nwis/site/?form...</td>\n",
       "      <td>2023-03-08</td>\n",
       "      <td>48.985353</td>\n",
       "      <td>-116.497453</td>\n",
       "      <td>ID</td>\n",
       "      <td>17010104.0</td>\n",
       "      <td>...</td>\n",
       "      <td>NaN</td>\n",
       "      <td>NaN</td>\n",
       "      <td>26.93</td>\n",
       "      <td>27.0</td>\n",
       "      <td>S</td>\n",
       "      <td>ID-02-05101</td>\n",
       "      <td>382.0</td>\n",
       "      <td>1885.0</td>\n",
       "      <td>845.0</td>\n",
       "      <td>2801.0</td>\n",
       "    </tr>\n",
       "    <tr>\n",
       "      <th>485907116294701</th>\n",
       "      <td>groundwater well</td>\n",
       "      <td>USGS</td>\n",
       "      <td>65N 01W 17BDD1</td>\n",
       "      <td>4.859071e+14</td>\n",
       "      <td>https://waterservices.usgs.gov/nwis/site/?form...</td>\n",
       "      <td>2023-03-08</td>\n",
       "      <td>48.985353</td>\n",
       "      <td>-116.497453</td>\n",
       "      <td>ID</td>\n",
       "      <td>17010104.0</td>\n",
       "      <td>...</td>\n",
       "      <td>NaN</td>\n",
       "      <td>NaN</td>\n",
       "      <td>26.93</td>\n",
       "      <td>27.0</td>\n",
       "      <td>S</td>\n",
       "      <td>ID-02-05101</td>\n",
       "      <td>382.0</td>\n",
       "      <td>1885.0</td>\n",
       "      <td>845.0</td>\n",
       "      <td>2801.0</td>\n",
       "    </tr>\n",
       "    <tr>\n",
       "      <th>485917122241901</th>\n",
       "      <td>groundwater well</td>\n",
       "      <td>USGS</td>\n",
       "      <td>40N/03E-03G02 AG06</td>\n",
       "      <td>4.859171e+14</td>\n",
       "      <td>https://waterservices.usgs.gov/nwis/site/?form...</td>\n",
       "      <td>2023-03-08</td>\n",
       "      <td>48.987842</td>\n",
       "      <td>-122.406750</td>\n",
       "      <td>WA</td>\n",
       "      <td>17110004.0</td>\n",
       "      <td>...</td>\n",
       "      <td>112SUMS</td>\n",
       "      <td>U</td>\n",
       "      <td>28.00</td>\n",
       "      <td>29.0</td>\n",
       "      <td>D</td>\n",
       "      <td>WA38900</td>\n",
       "      <td>NaN</td>\n",
       "      <td>NaN</td>\n",
       "      <td>444.0</td>\n",
       "      <td>2917.0</td>\n",
       "    </tr>\n",
       "  </tbody>\n",
       "</table>\n",
       "<p>110429 rows × 61 columns</p>\n",
       "</div>"
      ],
      "text/plain": [
       "                        site_type agency           site_name  site_id_agency  \\\n",
       "site_id                                                                        \n",
       "251241080385302  groundwater well   USGS            G  -3763    2.512411e+14   \n",
       "251922080340701  groundwater well   USGS            G  -1251    2.519221e+14   \n",
       "251922080340701  groundwater well   USGS            G  -1251    2.519221e+14   \n",
       "251922080340701  groundwater well   USGS            G  -1251    2.519221e+14   \n",
       "251922080340701  groundwater well   USGS            G  -1251    2.519221e+14   \n",
       "...                           ...    ...                 ...             ...   \n",
       "485907116294701  groundwater well   USGS      65N 01W 17BDD1    4.859071e+14   \n",
       "485907116294701  groundwater well   USGS      65N 01W 17BDD1    4.859071e+14   \n",
       "485907116294701  groundwater well   USGS      65N 01W 17BDD1    4.859071e+14   \n",
       "485907116294701  groundwater well   USGS      65N 01W 17BDD1    4.859071e+14   \n",
       "485917122241901  groundwater well   USGS  40N/03E-03G02 AG06    4.859171e+14   \n",
       "\n",
       "                                                    site_query_url  \\\n",
       "site_id                                                              \n",
       "251241080385302  https://waterservices.usgs.gov/nwis/site/?form...   \n",
       "251922080340701  https://waterservices.usgs.gov/nwis/site/?form...   \n",
       "251922080340701  https://waterservices.usgs.gov/nwis/site/?form...   \n",
       "251922080340701  https://waterservices.usgs.gov/nwis/site/?form...   \n",
       "251922080340701  https://waterservices.usgs.gov/nwis/site/?form...   \n",
       "...                                                            ...   \n",
       "485907116294701  https://waterservices.usgs.gov/nwis/site/?form...   \n",
       "485907116294701  https://waterservices.usgs.gov/nwis/site/?form...   \n",
       "485907116294701  https://waterservices.usgs.gov/nwis/site/?form...   \n",
       "485907116294701  https://waterservices.usgs.gov/nwis/site/?form...   \n",
       "485917122241901  https://waterservices.usgs.gov/nwis/site/?form...   \n",
       "\n",
       "                date_metadata_last_updated   latitude   longitude state  \\\n",
       "site_id                                                                   \n",
       "251241080385302                 2023-03-08  25.210000  -80.647778    FL   \n",
       "251922080340701                 2023-03-08  25.321083  -80.565750    FL   \n",
       "251922080340701                 2023-03-08  25.321083  -80.565750    FL   \n",
       "251922080340701                 2023-03-08  25.321083  -80.565750    FL   \n",
       "251922080340701                 2023-03-08  25.321083  -80.565750    FL   \n",
       "...                                    ...        ...         ...   ...   \n",
       "485907116294701                 2023-03-08  48.985353 -116.497453    ID   \n",
       "485907116294701                 2023-03-08  48.985353 -116.497453    ID   \n",
       "485907116294701                 2023-03-08  48.985353 -116.497453    ID   \n",
       "485907116294701                 2023-03-08  48.985353 -116.497453    ID   \n",
       "485917122241901                 2023-03-08  48.987842 -122.406750    WA   \n",
       "\n",
       "                        huc  ...   aqfr_cd  aqfr_type_cd  well_depth_va  \\\n",
       "site_id                      ...                                          \n",
       "251241080385302   3090202.0  ...  112BSCNN           NaN          22.40   \n",
       "251922080340701   3090202.0  ...  112BSCNN             U          59.00   \n",
       "251922080340701   3090202.0  ...  112BSCNN             U          59.00   \n",
       "251922080340701   3090202.0  ...  112BSCNN             U          59.00   \n",
       "251922080340701   3090202.0  ...  112BSCNN             U          59.00   \n",
       "...                     ...  ...       ...           ...            ...   \n",
       "485907116294701  17010104.0  ...       NaN           NaN          26.93   \n",
       "485907116294701  17010104.0  ...       NaN           NaN          26.93   \n",
       "485907116294701  17010104.0  ...       NaN           NaN          26.93   \n",
       "485907116294701  17010104.0  ...       NaN           NaN          26.93   \n",
       "485917122241901  17110004.0  ...   112SUMS             U          28.00   \n",
       "\n",
       "                 hole_depth_va  depth_src_cd   project_no conus1_x  conus1_y  \\\n",
       "site_id                                                                        \n",
       "251241080385302            NaN           NaN          NaN      NaN       NaN   \n",
       "251922080340701            NaN           NaN   2080-00200      NaN       NaN   \n",
       "251922080340701            NaN           NaN   2080-00200      NaN       NaN   \n",
       "251922080340701            NaN           NaN   2080-00200      NaN       NaN   \n",
       "251922080340701            NaN           NaN   2080-00200      NaN       NaN   \n",
       "...                        ...           ...          ...      ...       ...   \n",
       "485907116294701           27.0             S  ID-02-05101    382.0    1885.0   \n",
       "485907116294701           27.0             S  ID-02-05101    382.0    1885.0   \n",
       "485907116294701           27.0             S  ID-02-05101    382.0    1885.0   \n",
       "485907116294701           27.0             S  ID-02-05101    382.0    1885.0   \n",
       "485917122241901           29.0             D      WA38900      NaN       NaN   \n",
       "\n",
       "                 conus2_x conus2_y  \n",
       "site_id                             \n",
       "251241080385302    3880.0    209.0  \n",
       "251922080340701    3886.0    223.0  \n",
       "251922080340701    3886.0    223.0  \n",
       "251922080340701    3886.0    223.0  \n",
       "251922080340701    3886.0    223.0  \n",
       "...                   ...      ...  \n",
       "485907116294701     845.0   2801.0  \n",
       "485907116294701     845.0   2801.0  \n",
       "485907116294701     845.0   2801.0  \n",
       "485907116294701     845.0   2801.0  \n",
       "485917122241901     444.0   2917.0  \n",
       "\n",
       "[110429 rows x 61 columns]"
      ]
     },
     "execution_count": 23,
     "metadata": {},
     "output_type": "execute_result"
    }
   ],
   "source": [
    "metadata = pd.read_csv(f'{organized_dir}/{metadata_file}', index_col=['site_id'])\n",
    "metadata  = metadata.drop(columns=['Unnamed: 0'])\n",
    "# also remove the sites with WTD less than 0\n",
    "metadata = metadata[metadata.index.isin(obs_data.index)]\n",
    "#metadata = metadata[~metadata.index.duplicated(keep='first')]\n",
    "\n",
    "# add number of observations column from the obs_data df\n",
    "# metadata['num_obs'] = obs_data['num_obs']\n",
    "# metadata['pumping_status'] = obs_data['pumping_status']\n",
    "# metadata['date'] = obs_data['date']\n",
    "\n",
    "\n",
    "metadata"
   ]
  },
  {
   "cell_type": "code",
   "execution_count": null,
   "metadata": {},
   "outputs": [],
   "source": [
    "len(obs_data)"
   ]
  },
  {
   "cell_type": "markdown",
   "metadata": {},
   "source": [
    "# 2. Read in PFBs and organize"
   ]
  },
  {
   "cell_type": "markdown",
   "metadata": {},
   "source": [
    "#### Read in pfb and extract data at each CONUS2 index pair included in the observations/metadata files"
   ]
  },
  {
   "cell_type": "code",
   "execution_count": null,
   "metadata": {},
   "outputs": [],
   "source": [
    "# read daily variable for no_days\n",
    "pf_full_array = np.zeros((no_days, ny, nx))\n",
    "for i in range(no_days):\n",
    "    step = str(int(i+1)).rjust(3, '0')\n",
    "    ### CHECK THIS PATH TO CONFIRM CORRECT OBS FILE ###\n",
    "    pf_pfb = np.squeeze(read_pfb(f'{pfb_read_path}/{pfb_name}.{step}.pfb'))\n",
    "    pf_full_array[i,...] = pf_pfb\n",
    "    print(f'reading {variable} for day {step}')"
   ]
  },
  {
   "cell_type": "code",
   "execution_count": null,
   "metadata": {},
   "outputs": [],
   "source": [
    "# compute annual mean\n",
    "annual_mean = np.mean(pf_full_array, axis = 0)\n",
    "annual_total = pf_full_array.sum(axis=0)\n",
    "write_pfb(f'{directory_out}/{variable}.{water_year}.annual_mean.pfb',annual_mean,dist=False)\n",
    "write_pfb(f'{directory_out}/{variable}.{water_year}.annual_total.pfb',annual_mean,dist=False)"
   ]
  },
  {
   "cell_type": "code",
   "execution_count": null,
   "metadata": {},
   "outputs": [],
   "source": [
    "annual_mean_pfb = np.squeeze(read_pfb(f'{directory_out}/{variable}.{water_year}.annual_mean.pfb'))\n",
    "plt.imshow(annual_mean_pfb)"
   ]
  },
  {
   "cell_type": "code",
   "execution_count": null,
   "metadata": {},
   "outputs": [],
   "source": [
    "obs_data.shape"
   ]
  },
  {
   "cell_type": "code",
   "execution_count": null,
   "metadata": {},
   "outputs": [],
   "source": []
  },
  {
   "cell_type": "markdown",
   "metadata": {},
   "source": [
    "# Match WTD observations to CONUS2 indices"
   ]
  },
  {
   "cell_type": "code",
   "execution_count": null,
   "metadata": {},
   "outputs": [],
   "source": []
  },
  {
   "cell_type": "code",
   "execution_count": null,
   "metadata": {},
   "outputs": [],
   "source": [
    "# make CONUS2 x and y into arrays for the for loop\n",
    "conusy = np.asarray(metadata['conus2_y'],dtype = 'int')\n",
    "conusx = np.asarray(metadata['conus2_x'],dtype = 'int')\n",
    "print(f'{conusy},{conusx}')"
   ]
  },
  {
   "cell_type": "code",
   "execution_count": null,
   "metadata": {},
   "outputs": [],
   "source": [
    "# Set up arrays \n",
    "#pf_full_array = np.zeros((no_days, ny, nx))\n",
    "pf_matched = np.zeros(obs_data.shape)\n",
    "\n",
    "for j in range(len(obs_data.index)):\n",
    "    print(obs_data.index)\n",
    "    if conusy[j] < 0:\n",
    "        pf_matched[j] = 'nan'\n",
    "        #print('Gage is outside of CONUS2 range')\n",
    "    else:\n",
    "        pf_matched[j] = annual_mean[conusy[j], conusx[j]]\n",
    "        #print('Finding value in CONUS2 grid')"
   ]
  },
  {
   "cell_type": "code",
   "execution_count": null,
   "metadata": {},
   "outputs": [],
   "source": [
    "len(pf_matched)"
   ]
  },
  {
   "cell_type": "code",
   "execution_count": null,
   "metadata": {},
   "outputs": [],
   "source": [
    "# Organize PF daily matched array with the same index and dates as the obs_data\n",
    "pf_match_df = pd.DataFrame(pf_matched)\n",
    "pf_match_df = pf_match_df.set_index(obs_data.index)\n",
    "column_headers = list(obs_data.columns.values)\n",
    "pf_match_df.columns = column_headers"
   ]
  },
  {
   "cell_type": "code",
   "execution_count": null,
   "metadata": {},
   "outputs": [],
   "source": [
    "# drop any na's\n",
    "pf_match_df_new = pf_match_df.dropna()\n",
    "pf_match_df_new"
   ]
  },
  {
   "cell_type": "code",
   "execution_count": null,
   "metadata": {},
   "outputs": [],
   "source": [
    "# parse down observation df to include the same stations as the final ParFlow matched df\n",
    "obs_data_new = obs_data[obs_data.index.isin(pf_match_df_new.index)]\n",
    "obs_data_new"
   ]
  },
  {
   "cell_type": "code",
   "execution_count": null,
   "metadata": {},
   "outputs": [],
   "source": [
    "# parse down metadata df to include the same stations as the final ParFlow matched df\n",
    "metadata_new = metadata[metadata.index.isin(pf_match_df_new.index)]\n",
    "metadata_new"
   ]
  },
  {
   "cell_type": "code",
   "execution_count": null,
   "metadata": {},
   "outputs": [],
   "source": [
    "# save the newly matched daily average, observations, and metadata as csv's\n",
    "pf_match_df_new.to_csv(f'{organized_dir}/{pf_matched_csv}', sep = \",\")\n",
    "obs_data_new.to_csv(f'{organized_dir}/{snotel_matched_csv}', sep = \",\")\n",
    "metadata_new.to_csv(f'{organized_dir}/{metadata_matched_csv}', sep = \",\")"
   ]
  },
  {
   "cell_type": "markdown",
   "metadata": {},
   "source": [
    "# 3. Compute and save stats"
   ]
  },
  {
   "cell_type": "code",
   "execution_count": null,
   "metadata": {},
   "outputs": [],
   "source": [
    "from sklearn.metrics import mean_squared_error, r2_score, mean_absolute_error\n",
    "from math import sqrt\n",
    "from scipy import stats"
   ]
  },
  {
   "cell_type": "code",
   "execution_count": null,
   "metadata": {},
   "outputs": [],
   "source": [
    "### read in CONUS2 daily matched csv\n",
    "# Precipitation in mm (OR mm/s???)\n",
    "pfdata = pd.read_csv(f'{organized_dir}/{pf_matched_csv}',index_col=['site_id'])\n",
    "print(pfdata.shape)\n",
    "pfdata.head()"
   ]
  },
  {
   "cell_type": "code",
   "execution_count": null,
   "metadata": {},
   "outputs": [],
   "source": [
    "### read in matched csv\n",
    "snotel_data= pd.read_csv(f'{organized_dir}/{snotel_matched_csv}',index_col=['site_id']) \n",
    "print(snotel_data.shape)\n",
    "snotel_data.head()"
   ]
  },
  {
   "cell_type": "code",
   "execution_count": null,
   "metadata": {},
   "outputs": [],
   "source": [
    "### read in SNOTEL Temperature metadata for all stations \n",
    "snotel_metadata = pd.read_csv(f'{organized_dir}/{metadata_matched_csv}',index_col=['site_id'])\n",
    "print(snotel_metadata.shape)\n",
    "snotel_metadata.head()"
   ]
  },
  {
   "cell_type": "code",
   "execution_count": null,
   "metadata": {},
   "outputs": [],
   "source": [
    "# set up DF for daily stats, index is station site_id\n",
    "stats_df = pd.DataFrame(index = snotel_metadata.index, columns = ['site_name', 'state', 'latitude', 'longitude', 'conus2_x','conus2_y']) \n",
    "#, 'bias', 'pbias','absrelbias', 'relbias','srho', 'r2', 'mse', 'rmse', 'nse',scaled RMSE\n",
    "\n",
    "stats_df['site_name'] = snotel_metadata['site_name']\n",
    "stats_df['state'] = snotel_metadata['state']\n",
    "stats_df['latitude'] = snotel_metadata['latitude']\n",
    "stats_df['longitude'] = snotel_metadata['longitude']\n",
    "stats_df['conus2_x'] = snotel_metadata['conus2_x'].astype(int)\n",
    "stats_df['conus2_y'] = snotel_metadata['conus2_y'].astype(int)\n",
    "print(stats_df.shape)\n",
    "stats_df.head()"
   ]
  },
  {
   "cell_type": "code",
   "execution_count": null,
   "metadata": {},
   "outputs": [],
   "source": [
    "# compute annual average for observations\n",
    "# calculate \"yearly average\" by dividing annual sum by num_obs (note not all sites have 365 observations)\n",
    "snotel_Temp_sum = snotel_data.sum(axis=1)\n",
    "\n",
    "### CHANGE THE NAMES OF THESE COLUMN HEADERS ###\n",
    "stats_df['SNOTEL_meanTotal_P_mm'] = snotel_Temp_sum/snotel_metadata.num_obs\n",
    "stats_df['CW3E_meanTotal_P_mm'] = np.mean(pfdata, axis = 1)"
   ]
  },
  {
   "cell_type": "code",
   "execution_count": null,
   "metadata": {},
   "outputs": [],
   "source": [
    "# Set up array for stats\n",
    "r2_daily = np.zeros(len(pfdata.index))\n",
    "srho_daily = np.zeros(len(pfdata.index))\n",
    "pval_daily = np.zeros(len(pfdata.index))\n",
    "mse_daily = np.zeros(len(pfdata.index))\n",
    "rmse_daily = np.zeros(len(pfdata.index))\n",
    "nse_daily = np.zeros(len(pfdata.index))\n",
    "bias_daily = np.zeros(len(pfdata.index))\n",
    "pbias_daily = np.zeros(len(pfdata.index))\n",
    "pbias_test = np.zeros(len(pfdata.index))\n",
    "absrelbias_daily = np.zeros(len(pfdata.index))\n",
    "relbias_daily = np.zeros(len(pfdata.index))\n",
    "r2_daily.shape"
   ]
  },
  {
   "cell_type": "code",
   "execution_count": null,
   "metadata": {},
   "outputs": [],
   "source": [
    "for g in range(len(pfdata.index)):\n",
    "    gage = pfdata.index[g]\n",
    "    absrelbias_daily[g] = abs((pfdata.loc[gage].sum()-snotel_data.loc[gage].sum())/snotel_data.loc[gage].sum()) #absolute relative bias\n",
    "    bias_daily[g] = (pfdata.loc[gage].sum()-snotel_data.loc[gage].sum())/snotel_data.loc[gage].sum()\n",
    "    pbias_daily[g] = bias_daily[g]*100\n",
    "    srho_daily[g], pval_daily[g] = stats.spearmanr(snotel_data.loc[gage], pfdata.loc[gage])\n",
    "    # mse_daily[g] = mean_squared_error(usgs_flow_matched.loc[gage], pf_flow_matched.loc[gage])\n",
    "    #rmse_daily[g] = sqrt(mean_squared_error(snotel_data.loc[gage], pfdata.loc[gage]))\n",
    "    #r2_daily[g] = r2_score(snotel_data.loc[gage], pfdata.loc[gage])"
   ]
  },
  {
   "cell_type": "code",
   "execution_count": null,
   "metadata": {},
   "outputs": [],
   "source": [
    "# assign arrays to pandas columns in stats_df\n",
    "stats_df['absrelbias'] = absrelbias_daily\n",
    "stats_df['bias'] = bias_daily\n",
    "stats_df['pbias'] = pbias_daily\n",
    "stats_df['srho'] = srho_daily\n",
    "# stats_df['r2'] = r2_daily\n",
    "# stats_df['rmse'] = rmse_daily\n",
    "# stats_df['mse'] = mse_daily"
   ]
  },
  {
   "cell_type": "code",
   "execution_count": null,
   "metadata": {},
   "outputs": [],
   "source": [
    "stats_df.head()"
   ]
  },
  {
   "cell_type": "code",
   "execution_count": null,
   "metadata": {},
   "outputs": [],
   "source": [
    "stats_df.to_csv(f'{organized_dir}/{summary_stats_csv}')"
   ]
  },
  {
   "cell_type": "markdown",
   "metadata": {},
   "source": [
    "# 4. Plotting Results"
   ]
  },
  {
   "cell_type": "code",
   "execution_count": null,
   "metadata": {},
   "outputs": [],
   "source": [
    "#from parflow.tools.io import read_pfb,write_pfb\n",
    "import numpy as np\n",
    "import pandas as pd\n",
    "import matplotlib.pyplot as plt\n",
    "import matplotlib.dates as mdates\n",
    "import datetime as dt\n",
    "#import geopandas as gpd\n",
    "from PIL import Image\n",
    "from mpl_toolkits.basemap import Basemap as Basemap"
   ]
  },
  {
   "cell_type": "code",
   "execution_count": null,
   "metadata": {},
   "outputs": [],
   "source": [
    "# Read in CONUS2 mask and HUC2 png for map plot border and HUC2 outlines\n",
    "CONUS2_mask = Image.open('/hydrodata/PFCLM/CONUS2_baseline/inputs/domain_files/CONUS2.0.Final1km.Mask.tif')\n",
    "mask_array = np.array(CONUS2_mask)\n",
    "HUC2_outline = Image.open('/hydrodata/temp/CONUS2_transfers/CONUS2/CONUS2_from_ucsm0002/domain_files/CONUS2_outline_with_HUC2_noSqrBorder.png')"
   ]
  },
  {
   "cell_type": "code",
   "execution_count": null,
   "metadata": {},
   "outputs": [],
   "source": [
    "# # Read in CONUS2 mask for map plot border\n",
    "# CONUS2_mask = Image.open('/hydrodata/PFCLM/CONUS2_baseline/inputs/domain_files/CONUS2.0.Final1km.Mask.tif')\n",
    "# #CONUS2_mask = Image.open('/home/dtt2/CONUS2/shape_files/CONUS2_HUC2_boundaries_clipped.tif')\n",
    "# mask_array = np.array(CONUS2_mask)"
   ]
  },
  {
   "cell_type": "code",
   "execution_count": null,
   "metadata": {},
   "outputs": [],
   "source": [
    "### read in summary stats (from section 3)\n",
    "stats_df = pd.read_csv(f'{organized_dir}/{summary_stats_csv}',index_col=['site_id']) \n",
    "stats_df.head()"
   ]
  },
  {
   "cell_type": "markdown",
   "metadata": {},
   "source": [
    "### Summary plots of stats"
   ]
  },
  {
   "cell_type": "code",
   "execution_count": null,
   "metadata": {},
   "outputs": [],
   "source": [
    "summary_plot_dir = 'summary_plots_precip'\n",
    "timeseries_plot_dir = 'Timeseries_2003_Precip_SNOTEL'"
   ]
  },
  {
   "cell_type": "code",
   "execution_count": null,
   "metadata": {},
   "outputs": [],
   "source": [
    "### Absolute Relative Bias\n",
    "### Good values are closer to 0.0\n",
    "fig, ax = plt.subplots(1,1,figsize=(16,9))\n",
    "im = ax.imshow(HUC2_outline, extent=[0, 4442, 0, 3256],zorder=2)\n",
    "points = ax.scatter(stats_df.conus2_x,stats_df.conus2_y, c=stats_df.absrelbias, zorder=1, s=30, vmax = 1, vmin = -1) #\n",
    "plt.title(f'SNOTEL-CW3E {variable} absolute relative bias, WY{water_year}', fontsize=14)\n",
    "plt.colorbar(points)\n",
    "plt.axis('off')\n",
    "# plt.savefig(f'{plot_dir}/{summary_plot_dir}/WY{water_year}_SNOTEL_CW3E_{variable}_AbsRelBias_Map.png',\\\n",
    "#             dpi = 200, facecolor='white', transparent=False, bbox_inches=\"tight\")\n",
    "    "
   ]
  },
  {
   "cell_type": "code",
   "execution_count": null,
   "metadata": {},
   "outputs": [],
   "source": [
    "### Relative Bias\n",
    "### Good values are closer to 0.0, positive is PF overestimation, negative is PF underestimation\n",
    "fig, ax = plt.subplots(1,1,figsize=(16,9))\n",
    "im = ax.imshow(HUC2_outline, extent=[0, 4442, 0, 3256],zorder=2)\n",
    "points = ax.scatter(stats_df.conus2_x,stats_df.conus2_y, c=stats_df.bias, zorder=1, s=30, vmax = 1, vmin = -1) #\n",
    "plt.title(f'SNOTEL-CW3E {variable} absolute relative bias, WY{water_year}', fontsize=14)\n",
    "plt.colorbar(points)\n",
    "plt.axis('off')\n",
    "plt.title(f'SNOTEL-CW3E {variable} relative bias, WY{water_year}')\n",
    "# plt.savefig(f'{plot_dir}/{summary_plot_dir}/WY{water_year}_SNOTEL_CW3E_{variable}_RelBias_Map.png',\\\n",
    "#             dpi = 200, facecolor='white', transparent=False, bbox_inches=\"tight\")\n",
    "    "
   ]
  },
  {
   "cell_type": "code",
   "execution_count": null,
   "metadata": {},
   "outputs": [],
   "source": [
    "fig, ax = plt.subplots(1,1,figsize=(16,9))\n",
    "im = ax.imshow(HUC2_outline, extent=[0, 4442, 0, 3256],zorder=2)\n",
    "points = ax.scatter(stats_df.conus2_x,stats_df.conus2_y, c=stats_df.absrelbias, zorder=1, s=30, vmax = 1, vmin = -1) #\n",
    "plt.title(f'SNOTEL-CW3E {variable} absolute relative bias, WY{water_year}', fontsize=14)\n",
    "plt.colorbar(points)\n",
    "plt.axis('off')\n",
    "plt.title(f'SNOTEL CW3E {variable} Srho, WY{water_year}')\n",
    "# plt.savefig(f'{plot_dir}/WY{water_year}_SNOTEL_CW3E_{variable}_SpearmansRho_Map.png',\\\n",
    "#             dpi = 200, facecolor='white', transparent=False, bbox_inches=\"tight\")\n",
    "    "
   ]
  },
  {
   "cell_type": "code",
   "execution_count": null,
   "metadata": {},
   "outputs": [],
   "source": [
    "# Scatter plot of daily mean flow for  WY2003, PF vs. USGS\n",
    "fig = plt.figure(figsize=(10,10), dpi=72)\n",
    "ax = fig.add_subplot()\n",
    "\n",
    "#ax.scatter(stats_df['SNOTEL_meanTotal_P_mm'], stats_df['CW3E_meanTotal_P_mm'], color = 'dimgrey')\n",
    "ax.scatter(obs_data_new, pf_match_df_new, color = 'dimgrey')\n",
    "#ax.scatter(longTermMean,annual_mean, color = 'dimgrey')\n",
    "ax.plot(range(300), color = 'lightcoral')\n",
    "plt.ylabel('PF-CONUS2 WTD',fontsize=18)\n",
    "plt.xlabel('Obs WTD',fontsize=18) #from hydrodata\n",
    "#plt.title('Daily total precipitation comparison, WY2003',fontsize=20)\n",
    "ax.set_xscale('log')\n",
    "ax.set_yscale('log')\n",
    "ax.xaxis.set_tick_params(labelsize=16)\n",
    "ax.yaxis.set_tick_params(labelsize=16)\n",
    "# square plot\n",
    "ax.set_aspect('equal', adjustable='box')\n",
    "#plt.savefig(f'{plot_dir}/{summary_plot_dir}/SNOTEL_CW3E_totalPrecip_scatter_WY{water_year}.png')\n"
   ]
  },
  {
   "cell_type": "code",
   "execution_count": null,
   "metadata": {},
   "outputs": [],
   "source": [
    "plt.figure(figsize=(12,6))\n",
    "plt.hist(pf_match_df_new, bins = 50, color='r',alpha=0.5, label='USGS mean')\n",
    "plt.hist(obs_data_new, bins = 50, color='b',alpha=0.5, label='ParFlow')\n",
    "plt.xlabel('WTD (m)')\n",
    "plt.legend()\n",
    "plt.xlim(0,100)\n",
    "# plt.savefig('histogram_domain_USGS.png', dpi=300)"
   ]
  },
  {
   "cell_type": "code",
   "execution_count": null,
   "metadata": {},
   "outputs": [],
   "source": [
    "len(obs_data_new)"
   ]
  },
  {
   "cell_type": "code",
   "execution_count": null,
   "metadata": {},
   "outputs": [],
   "source": [
    "longTermMean = np.squeeze(read_pfb(f'{organized_dir}/gridded_WTD_mean_obs_CONUS2.pfb'))"
   ]
  },
  {
   "cell_type": "code",
   "execution_count": null,
   "metadata": {},
   "outputs": [],
   "source": [
    "plt.imshow(longTermMean)"
   ]
  },
  {
   "cell_type": "code",
   "execution_count": null,
   "metadata": {},
   "outputs": [],
   "source": [
    "longTermMean.shape"
   ]
  },
  {
   "cell_type": "code",
   "execution_count": null,
   "metadata": {},
   "outputs": [],
   "source": [
    "annual_mean1 = np.copy(annual_mean)"
   ]
  },
  {
   "cell_type": "code",
   "execution_count": null,
   "metadata": {},
   "outputs": [],
   "source": [
    "annual_mean1 = annual_mean[np.where(np.isnan(longTermMean)) == 'nan']"
   ]
  },
  {
   "cell_type": "code",
   "execution_count": null,
   "metadata": {},
   "outputs": [],
   "source": [
    "grid_diff = annual_mean1-longTermMean"
   ]
  },
  {
   "cell_type": "code",
   "execution_count": null,
   "metadata": {},
   "outputs": [],
   "source": [
    "plt.scatter(longTermMean,annual_mean)\n",
    "ax.set_xscale('log')\n",
    "ax.set_yscale('log')"
   ]
  },
  {
   "cell_type": "code",
   "execution_count": null,
   "metadata": {},
   "outputs": [],
   "source": [
    "diff = annual_mean-longTermMean"
   ]
  },
  {
   "cell_type": "code",
   "execution_count": null,
   "metadata": {},
   "outputs": [],
   "source": [
    "plt.imshow(diff)"
   ]
  },
  {
   "cell_type": "code",
   "execution_count": null,
   "metadata": {},
   "outputs": [],
   "source": [
    "annual_mean.min()"
   ]
  },
  {
   "cell_type": "code",
   "execution_count": null,
   "metadata": {},
   "outputs": [],
   "source": []
  }
 ],
 "metadata": {
  "kernelspec": {
   "display_name": "Python 3",
   "language": "python",
   "name": "python3"
  },
  "language_info": {
   "codemirror_mode": {
    "name": "ipython",
    "version": 3
   },
   "file_extension": ".py",
   "mimetype": "text/x-python",
   "name": "python",
   "nbconvert_exporter": "python",
   "pygments_lexer": "ipython3",
   "version": "3.8.3"
  }
 },
 "nbformat": 4,
 "nbformat_minor": 5
}
