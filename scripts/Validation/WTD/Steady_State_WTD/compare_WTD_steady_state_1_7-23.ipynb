{
 "cells": [
  {
   "cell_type": "markdown",
   "metadata": {},
   "source": [
    "# Compare PF-CONUS2 WTD to long-term WTD average observations\n",
    "D. Tijerina, 7/2023\n",
    "\n",
    "This script reads in WTD observations queried from Hydrodata and Fan et al. and compares to PF-CONUS2 WTD. The notebook is broken up into these sections:  \n",
    "1. Read in WTD observations and metadata; organize into pandas dataframes\n",
    "2. Read in CONUS2 WTD and extract indices for CONUS2 grid cells that are common to the WTD observations;  organize all data\n",
    "3. Compute statistics between PF-CONUS2 and WTD observations\n",
    "4. Create summary plots, maps\n",
    "\n",
    "\n",
    "Inputs:\n",
    "- WTD Metadata csv file of stations from a Hydrodata query (from point_observations.ipynb)\n",
    "- WTD Observation data csv file of stations from a Hydrodata query (from point_observations.ipynb)\n",
    "\n",
    "Outputs:\n",
    "- Matched ParFlow WTD csv\n",
    "- Rematched Metadata file csv\n",
    "- Rematched observation file csv\n",
    "- Summary station SNOTEL csv containing station info, CONUS x and y, averages, statistics\n",
    "- Summary plots/maps\n",
    "\n",
    "Notes: \n"
   ]
  },
  {
   "cell_type": "code",
   "execution_count": 2,
   "metadata": {},
   "outputs": [],
   "source": [
    "import sys\n",
    "from parflow.tools.io import read_pfb,write_pfb\n",
    "import numpy as np\n",
    "import pandas as pd\n",
    "import matplotlib.pyplot as plt\n",
    "from PIL import Image"
   ]
  },
  {
   "cell_type": "markdown",
   "metadata": {},
   "source": [
    "##### Change paths to directories, run information..."
   ]
  },
  {
   "cell_type": "code",
   "execution_count": 2,
   "metadata": {},
   "outputs": [
    {
     "name": "stdout",
     "output_type": "stream",
     "text": [
      "Figures saving to: /hydrodata/temp/CONUS2_transfers/CONUS2/spinup_WY2003/spinup_Validation/WTD/steady_state\n"
     ]
    }
   ],
   "source": [
    "### Directory where model output and observation CSVs live\n",
    "directory_out = '/hydrodata/temp/CONUS2_transfers/CONUS2/spinup_WY2003/averages'\n",
    "organized_dir = './Organized_steady-state_WTD'\n",
    "\n",
    "### Where you want to save plots, etc. to\n",
    "#plot_dir = '/home/dtt2/CONUS2/PFCONUS2-analysis/scripts/Validation/SNOTEL/precip_temp/Figures' # verde\n",
    "#plot_dir = '/glade/work/tijerina/PFCONUS2-analysis/scripts/Validation/SNOTEL/precip_temp/Figures' # cheyenne \n",
    "plot_dir = '/hydrodata/temp/CONUS2_transfers/CONUS2/spinup_WY2003/spinup_Validation/WTD/steady_state' # hydrodata\n",
    "print(f'Figures saving to: {plot_dir}')\n",
    "\n",
    "\n",
    "### need to change water year and number of days\n",
    "water_year = 2003\n",
    "no_days = 364\n",
    "variable = 'WTD'\n",
    "\n",
    "### CONUS2 domain\n",
    "ny = 3256\n",
    "nx = 4442"
   ]
  },
  {
   "cell_type": "markdown",
   "metadata": {},
   "source": [
    "##### Names of observation csv files, these are usually saved from Hydrodata"
   ]
  },
  {
   "cell_type": "code",
   "execution_count": 3,
   "metadata": {},
   "outputs": [],
   "source": [
    "### Files for observations from Hydrodata\n",
    "data_file = 'Hydrodata_wtd_obs_instantaneous_instantaneous_WY2003.csv' \n",
    "metadata_file = 'Hydrodata_wtd_metadata_instantaneous_instantaneous_WY2003.csv'"
   ]
  },
  {
   "cell_type": "markdown",
   "metadata": {},
   "source": [
    "##### Name of path and file name of PFB reading in"
   ]
  },
  {
   "cell_type": "code",
   "execution_count": 4,
   "metadata": {},
   "outputs": [
    {
     "name": "stdout",
     "output_type": "stream",
     "text": [
      "WTD.2003.daily\n"
     ]
    }
   ],
   "source": [
    "# path to daily forcing PFB files\n",
    "pfb_read_path = '/hydrodata/temp/CONUS2_transfers/CONUS2/spinup_WY2003/averages'\n",
    "# This is the partial name of the pfb, without the timestamp or .pfb file extension\n",
    "# (for example, 'NLDAS.APCP.daily.sum.008.pfb' -> 'NLDAS.APCP.daily.sum')\n",
    "pfb_name = f'{variable}.2003.daily' \n",
    "print(pfb_name)"
   ]
  },
  {
   "cell_type": "markdown",
   "metadata": {},
   "source": [
    "##### Create file names for all files you will save out\n",
    "These include:\n",
    "- CSV of ParFlow or CW3E modeled values from pfb at station-matched CONUS2 x, y\n",
    "- Rematched observation csv file (this is a reorganized version of `data_file`\n",
    "- Rematched observation metadata csv file (this is a reorganized version of `metadata_file`\n",
    "- Summary statistics csv with station info and stats for each station"
   ]
  },
  {
   "cell_type": "code",
   "execution_count": 5,
   "metadata": {},
   "outputs": [
    {
     "name": "stdout",
     "output_type": "stream",
     "text": [
      "Summary_Stations_CONUS2_WTD_WY2003.csv\n"
     ]
    }
   ],
   "source": [
    "### Name files you will save out\n",
    "# names of csv files for model and observations that contain the same stations\n",
    "pf_matched_csv = f'PF_Daily_matched_CONUS2_{variable}_{water_year}.csv'\n",
    "snotel_matched_csv = f'OBS_Daily_matched_CONUS2_{variable}_{water_year}.csv'\n",
    "metadata_matched_csv = f'OBS_metadata_matched_CONUS2_{variable}_{water_year}.csv'\n",
    "# summary stats\n",
    "summary_stats_csv = f'Summary_Stations_CONUS2_{variable}_WY{water_year}.csv'\n",
    "print(summary_stats_csv)"
   ]
  },
  {
   "cell_type": "markdown",
   "metadata": {},
   "source": [
    "##### Other things that likely need to be changed\n",
    "- names of plots saved out  are named within in the plotting function\n",
    "- same for some specifics of the plot titles"
   ]
  },
  {
   "cell_type": "markdown",
   "metadata": {},
   "source": [
    "##### Add CONUS2 mask information to mask simulated WTD"
   ]
  },
  {
   "cell_type": "code",
   "execution_count": 101,
   "metadata": {},
   "outputs": [
    {
     "name": "stdout",
     "output_type": "stream",
     "text": [
      "<class 'PIL.TiffImagePlugin.TiffImageFile'>\n",
      "<class 'numpy.ndarray'>\n"
     ]
    },
    {
     "data": {
      "text/plain": [
       "array([ 1., nan], dtype=float32)"
      ]
     },
     "execution_count": 101,
     "metadata": {},
     "output_type": "execute_result"
    }
   ],
   "source": [
    "mask_tif = Image.open('/hydrodata/PFCLM/CONUS2_baseline/inputs/domain_files/CONUS2.0.Final1km.Mask.tif')\n",
    "print(type(mask_tif))\n",
    "mask_array = np.array(mask_tif)\n",
    "print(type(mask_array))\n",
    "\n",
    "# Make copy of mask with nan's in the inactive domain\n",
    "nan_mask = np.copy(mask_array)\n",
    "nan_mask[nan_mask == 0.0] = 'nan'\n",
    "np.unique(nan_mask)"
   ]
  },
  {
   "cell_type": "code",
   "execution_count": 102,
   "metadata": {},
   "outputs": [
    {
     "data": {
      "text/plain": [
       "<matplotlib.image.AxesImage at 0x1472a1c21df0>"
      ]
     },
     "execution_count": 102,
     "metadata": {},
     "output_type": "execute_result"
    },
    {
     "data": {
      "image/png": "[encoded data removed]",
      "text/plain": [
       "<Figure size 432x288 with 1 Axes>"
      ]
     },
     "metadata": {
      "needs_background": "light"
     },
     "output_type": "display_data"
    }
   ],
   "source": [
    "# flip the nan mask so that it is the correct orientation compared to the CONUS2 files\n",
    "nan_mask_flip = np.flipud(nan_mask)\n",
    "plt.imshow(nan_mask_flip)"
   ]
  },
  {
   "cell_type": "markdown",
   "metadata": {},
   "source": [
    "# 1. Read in observations and organize"
   ]
  },
  {
   "cell_type": "markdown",
   "metadata": {},
   "source": [
    "### WTD"
   ]
  },
  {
   "cell_type": "code",
   "execution_count": 6,
   "metadata": {},
   "outputs": [
    {
     "data": {
      "text/html": [
       "<div>\n",
       "<style scoped>\n",
       "    .dataframe tbody tr th:only-of-type {\n",
       "        vertical-align: middle;\n",
       "    }\n",
       "\n",
       "    .dataframe tbody tr th {\n",
       "        vertical-align: top;\n",
       "    }\n",
       "\n",
       "    .dataframe thead th {\n",
       "        text-align: right;\n",
       "    }\n",
       "</style>\n",
       "<table border=\"1\" class=\"dataframe\">\n",
       "  <thead>\n",
       "    <tr style=\"text-align: right;\">\n",
       "      <th></th>\n",
       "      <th>wtd</th>\n",
       "    </tr>\n",
       "    <tr>\n",
       "      <th>site_id</th>\n",
       "      <th></th>\n",
       "    </tr>\n",
       "  </thead>\n",
       "  <tbody>\n",
       "    <tr>\n",
       "      <th>251241080385302</th>\n",
       "      <td>0.271272</td>\n",
       "    </tr>\n",
       "    <tr>\n",
       "      <th>251922080340701</th>\n",
       "      <td>0.277368</td>\n",
       "    </tr>\n",
       "    <tr>\n",
       "      <th>251922080340701</th>\n",
       "      <td>0.371856</td>\n",
       "    </tr>\n",
       "    <tr>\n",
       "      <th>251922080340701</th>\n",
       "      <td>0.518160</td>\n",
       "    </tr>\n",
       "    <tr>\n",
       "      <th>251922080340701</th>\n",
       "      <td>0.484632</td>\n",
       "    </tr>\n",
       "    <tr>\n",
       "      <th>...</th>\n",
       "      <td>...</td>\n",
       "    </tr>\n",
       "    <tr>\n",
       "      <th>485907116294701</th>\n",
       "      <td>1.804416</td>\n",
       "    </tr>\n",
       "    <tr>\n",
       "      <th>485907116294701</th>\n",
       "      <td>2.063496</td>\n",
       "    </tr>\n",
       "    <tr>\n",
       "      <th>485907116294701</th>\n",
       "      <td>2.331720</td>\n",
       "    </tr>\n",
       "    <tr>\n",
       "      <th>485907116294701</th>\n",
       "      <td>2.322576</td>\n",
       "    </tr>\n",
       "    <tr>\n",
       "      <th>485917122241901</th>\n",
       "      <td>4.785360</td>\n",
       "    </tr>\n",
       "  </tbody>\n",
       "</table>\n",
       "<p>109299 rows × 1 columns</p>\n",
       "</div>"
      ],
      "text/plain": [
       "                      wtd\n",
       "site_id                  \n",
       "251241080385302  0.271272\n",
       "251922080340701  0.277368\n",
       "251922080340701  0.371856\n",
       "251922080340701  0.518160\n",
       "251922080340701  0.484632\n",
       "...                   ...\n",
       "485907116294701  1.804416\n",
       "485907116294701  2.063496\n",
       "485907116294701  2.331720\n",
       "485907116294701  2.322576\n",
       "485917122241901  4.785360\n",
       "\n",
       "[109299 rows x 1 columns]"
      ]
     },
     "execution_count": 6,
     "metadata": {},
     "output_type": "execute_result"
    }
   ],
   "source": [
    "obs_data = pd.read_csv(f'{organized_dir}/{data_file}', index_col=['site_id'])\n",
    "obs_data = obs_data.drop(columns=['Unnamed: 0'])\n",
    "obs_data = obs_data.loc[(obs_data['wtd']>0.0)]\n",
    "obs_data = obs_data.drop(columns=['num_obs', 'pumping_status', 'date'])\n",
    "obs_data"
   ]
  },
  {
   "cell_type": "code",
   "execution_count": 7,
   "metadata": {},
   "outputs": [
    {
     "data": {
      "text/html": [
       "<div>\n",
       "<style scoped>\n",
       "    .dataframe tbody tr th:only-of-type {\n",
       "        vertical-align: middle;\n",
       "    }\n",
       "\n",
       "    .dataframe tbody tr th {\n",
       "        vertical-align: top;\n",
       "    }\n",
       "\n",
       "    .dataframe thead th {\n",
       "        text-align: right;\n",
       "    }\n",
       "</style>\n",
       "<table border=\"1\" class=\"dataframe\">\n",
       "  <thead>\n",
       "    <tr style=\"text-align: right;\">\n",
       "      <th></th>\n",
       "      <th>wtd</th>\n",
       "    </tr>\n",
       "    <tr>\n",
       "      <th>site_id</th>\n",
       "      <th></th>\n",
       "    </tr>\n",
       "  </thead>\n",
       "  <tbody>\n",
       "    <tr>\n",
       "      <th>251241080385302</th>\n",
       "      <td>0.271272</td>\n",
       "    </tr>\n",
       "    <tr>\n",
       "      <th>251922080340701</th>\n",
       "      <td>0.393573</td>\n",
       "    </tr>\n",
       "    <tr>\n",
       "      <th>252007080335701</th>\n",
       "      <td>0.585978</td>\n",
       "    </tr>\n",
       "    <tr>\n",
       "      <th>252243080335501</th>\n",
       "      <td>0.338328</td>\n",
       "    </tr>\n",
       "    <tr>\n",
       "      <th>252332080300501</th>\n",
       "      <td>0.969264</td>\n",
       "    </tr>\n",
       "    <tr>\n",
       "      <th>...</th>\n",
       "      <td>...</td>\n",
       "    </tr>\n",
       "    <tr>\n",
       "      <th>485904116303701</th>\n",
       "      <td>2.360981</td>\n",
       "    </tr>\n",
       "    <tr>\n",
       "      <th>485904116303702</th>\n",
       "      <td>2.670175</td>\n",
       "    </tr>\n",
       "    <tr>\n",
       "      <th>485906116313101</th>\n",
       "      <td>1.941068</td>\n",
       "    </tr>\n",
       "    <tr>\n",
       "      <th>485907116294701</th>\n",
       "      <td>1.691386</td>\n",
       "    </tr>\n",
       "    <tr>\n",
       "      <th>485917122241901</th>\n",
       "      <td>4.785360</td>\n",
       "    </tr>\n",
       "  </tbody>\n",
       "</table>\n",
       "<p>33809 rows × 1 columns</p>\n",
       "</div>"
      ],
      "text/plain": [
       "                      wtd\n",
       "site_id                  \n",
       "251241080385302  0.271272\n",
       "251922080340701  0.393573\n",
       "252007080335701  0.585978\n",
       "252243080335501  0.338328\n",
       "252332080300501  0.969264\n",
       "...                   ...\n",
       "485904116303701  2.360981\n",
       "485904116303702  2.670175\n",
       "485906116313101  1.941068\n",
       "485907116294701  1.691386\n",
       "485917122241901  4.785360\n",
       "\n",
       "[33809 rows x 1 columns]"
      ]
     },
     "execution_count": 7,
     "metadata": {},
     "output_type": "execute_result"
    }
   ],
   "source": [
    "obs_data = obs_data.groupby('site_id').mean()\n",
    "obs_data"
   ]
  },
  {
   "cell_type": "code",
   "execution_count": 9,
   "metadata": {},
   "outputs": [
    {
     "data": {
      "text/html": [
       "<div>\n",
       "<style scoped>\n",
       "    .dataframe tbody tr th:only-of-type {\n",
       "        vertical-align: middle;\n",
       "    }\n",
       "\n",
       "    .dataframe tbody tr th {\n",
       "        vertical-align: top;\n",
       "    }\n",
       "\n",
       "    .dataframe thead th {\n",
       "        text-align: right;\n",
       "    }\n",
       "</style>\n",
       "<table border=\"1\" class=\"dataframe\">\n",
       "  <thead>\n",
       "    <tr style=\"text-align: right;\">\n",
       "      <th></th>\n",
       "      <th>site_type</th>\n",
       "      <th>agency</th>\n",
       "      <th>site_name</th>\n",
       "      <th>site_id_agency</th>\n",
       "      <th>site_query_url</th>\n",
       "      <th>date_metadata_last_updated</th>\n",
       "      <th>latitude</th>\n",
       "      <th>longitude</th>\n",
       "      <th>state</th>\n",
       "      <th>huc</th>\n",
       "      <th>...</th>\n",
       "      <th>aqfr_cd</th>\n",
       "      <th>aqfr_type_cd</th>\n",
       "      <th>well_depth_va</th>\n",
       "      <th>hole_depth_va</th>\n",
       "      <th>depth_src_cd</th>\n",
       "      <th>project_no</th>\n",
       "      <th>conus1_x</th>\n",
       "      <th>conus1_y</th>\n",
       "      <th>conus2_x</th>\n",
       "      <th>conus2_y</th>\n",
       "    </tr>\n",
       "    <tr>\n",
       "      <th>site_id</th>\n",
       "      <th></th>\n",
       "      <th></th>\n",
       "      <th></th>\n",
       "      <th></th>\n",
       "      <th></th>\n",
       "      <th></th>\n",
       "      <th></th>\n",
       "      <th></th>\n",
       "      <th></th>\n",
       "      <th></th>\n",
       "      <th></th>\n",
       "      <th></th>\n",
       "      <th></th>\n",
       "      <th></th>\n",
       "      <th></th>\n",
       "      <th></th>\n",
       "      <th></th>\n",
       "      <th></th>\n",
       "      <th></th>\n",
       "      <th></th>\n",
       "      <th></th>\n",
       "    </tr>\n",
       "  </thead>\n",
       "  <tbody>\n",
       "    <tr>\n",
       "      <th>251241080385302</th>\n",
       "      <td>groundwater well</td>\n",
       "      <td>USGS</td>\n",
       "      <td>G  -3763</td>\n",
       "      <td>2.512411e+14</td>\n",
       "      <td>https://waterservices.usgs.gov/nwis/site/?form...</td>\n",
       "      <td>2023-03-08</td>\n",
       "      <td>25.210000</td>\n",
       "      <td>-80.647778</td>\n",
       "      <td>FL</td>\n",
       "      <td>3090202.0</td>\n",
       "      <td>...</td>\n",
       "      <td>112BSCNN</td>\n",
       "      <td>NaN</td>\n",
       "      <td>22.40</td>\n",
       "      <td>NaN</td>\n",
       "      <td>NaN</td>\n",
       "      <td>NaN</td>\n",
       "      <td>NaN</td>\n",
       "      <td>NaN</td>\n",
       "      <td>3880.0</td>\n",
       "      <td>209.0</td>\n",
       "    </tr>\n",
       "    <tr>\n",
       "      <th>251922080340701</th>\n",
       "      <td>groundwater well</td>\n",
       "      <td>USGS</td>\n",
       "      <td>G  -1251</td>\n",
       "      <td>2.519221e+14</td>\n",
       "      <td>https://waterservices.usgs.gov/nwis/site/?form...</td>\n",
       "      <td>2023-03-08</td>\n",
       "      <td>25.321083</td>\n",
       "      <td>-80.565750</td>\n",
       "      <td>FL</td>\n",
       "      <td>3090202.0</td>\n",
       "      <td>...</td>\n",
       "      <td>112BSCNN</td>\n",
       "      <td>U</td>\n",
       "      <td>59.00</td>\n",
       "      <td>NaN</td>\n",
       "      <td>NaN</td>\n",
       "      <td>2080-00200</td>\n",
       "      <td>NaN</td>\n",
       "      <td>NaN</td>\n",
       "      <td>3886.0</td>\n",
       "      <td>223.0</td>\n",
       "    </tr>\n",
       "    <tr>\n",
       "      <th>252007080335701</th>\n",
       "      <td>groundwater well</td>\n",
       "      <td>USGS</td>\n",
       "      <td>G  -3336</td>\n",
       "      <td>2.520071e+14</td>\n",
       "      <td>https://waterservices.usgs.gov/nwis/site/?form...</td>\n",
       "      <td>2023-03-08</td>\n",
       "      <td>25.337806</td>\n",
       "      <td>-80.565639</td>\n",
       "      <td>FL</td>\n",
       "      <td>3090202.0</td>\n",
       "      <td>...</td>\n",
       "      <td>112BSCNN</td>\n",
       "      <td>U</td>\n",
       "      <td>38.00</td>\n",
       "      <td>NaN</td>\n",
       "      <td>NaN</td>\n",
       "      <td>2080-00200</td>\n",
       "      <td>NaN</td>\n",
       "      <td>NaN</td>\n",
       "      <td>3886.0</td>\n",
       "      <td>224.0</td>\n",
       "    </tr>\n",
       "    <tr>\n",
       "      <th>252243080335501</th>\n",
       "      <td>groundwater well</td>\n",
       "      <td>USGS</td>\n",
       "      <td>G  -3619</td>\n",
       "      <td>2.522431e+14</td>\n",
       "      <td>https://waterservices.usgs.gov/nwis/site/?form...</td>\n",
       "      <td>2023-03-08</td>\n",
       "      <td>25.378972</td>\n",
       "      <td>-80.565361</td>\n",
       "      <td>FL</td>\n",
       "      <td>3090202.0</td>\n",
       "      <td>...</td>\n",
       "      <td>112BSCNN</td>\n",
       "      <td>U</td>\n",
       "      <td>12.00</td>\n",
       "      <td>12.0</td>\n",
       "      <td>A</td>\n",
       "      <td>2080-00200</td>\n",
       "      <td>NaN</td>\n",
       "      <td>NaN</td>\n",
       "      <td>3885.0</td>\n",
       "      <td>229.0</td>\n",
       "    </tr>\n",
       "    <tr>\n",
       "      <th>252332080300501</th>\n",
       "      <td>groundwater well</td>\n",
       "      <td>USGS</td>\n",
       "      <td>G  -3355</td>\n",
       "      <td>2.523321e+14</td>\n",
       "      <td>https://waterservices.usgs.gov/nwis/site/?form...</td>\n",
       "      <td>2023-03-08</td>\n",
       "      <td>25.393306</td>\n",
       "      <td>-80.500917</td>\n",
       "      <td>FL</td>\n",
       "      <td>3090202.0</td>\n",
       "      <td>...</td>\n",
       "      <td>112BSCNN</td>\n",
       "      <td>U</td>\n",
       "      <td>13.00</td>\n",
       "      <td>NaN</td>\n",
       "      <td>NaN</td>\n",
       "      <td>2080-00200</td>\n",
       "      <td>NaN</td>\n",
       "      <td>NaN</td>\n",
       "      <td>3891.0</td>\n",
       "      <td>232.0</td>\n",
       "    </tr>\n",
       "    <tr>\n",
       "      <th>...</th>\n",
       "      <td>...</td>\n",
       "      <td>...</td>\n",
       "      <td>...</td>\n",
       "      <td>...</td>\n",
       "      <td>...</td>\n",
       "      <td>...</td>\n",
       "      <td>...</td>\n",
       "      <td>...</td>\n",
       "      <td>...</td>\n",
       "      <td>...</td>\n",
       "      <td>...</td>\n",
       "      <td>...</td>\n",
       "      <td>...</td>\n",
       "      <td>...</td>\n",
       "      <td>...</td>\n",
       "      <td>...</td>\n",
       "      <td>...</td>\n",
       "      <td>...</td>\n",
       "      <td>...</td>\n",
       "      <td>...</td>\n",
       "      <td>...</td>\n",
       "    </tr>\n",
       "    <tr>\n",
       "      <th>485904116303701</th>\n",
       "      <td>groundwater well</td>\n",
       "      <td>USGS</td>\n",
       "      <td>65N 01W 18DAB1</td>\n",
       "      <td>4.859041e+14</td>\n",
       "      <td>https://waterservices.usgs.gov/nwis/site/?form...</td>\n",
       "      <td>2023-03-08</td>\n",
       "      <td>48.984464</td>\n",
       "      <td>-116.511481</td>\n",
       "      <td>ID</td>\n",
       "      <td>17010104.0</td>\n",
       "      <td>...</td>\n",
       "      <td>NaN</td>\n",
       "      <td>NaN</td>\n",
       "      <td>27.00</td>\n",
       "      <td>28.0</td>\n",
       "      <td>S</td>\n",
       "      <td>ID-02-05101</td>\n",
       "      <td>381.0</td>\n",
       "      <td>1885.0</td>\n",
       "      <td>844.0</td>\n",
       "      <td>2801.0</td>\n",
       "    </tr>\n",
       "    <tr>\n",
       "      <th>485904116303702</th>\n",
       "      <td>groundwater well</td>\n",
       "      <td>USGS</td>\n",
       "      <td>65N 01W 18DAB2</td>\n",
       "      <td>4.859041e+14</td>\n",
       "      <td>https://waterservices.usgs.gov/nwis/site/?form...</td>\n",
       "      <td>2023-03-08</td>\n",
       "      <td>48.984464</td>\n",
       "      <td>-116.511481</td>\n",
       "      <td>ID</td>\n",
       "      <td>17010104.0</td>\n",
       "      <td>...</td>\n",
       "      <td>NaN</td>\n",
       "      <td>NaN</td>\n",
       "      <td>52.16</td>\n",
       "      <td>55.0</td>\n",
       "      <td>S</td>\n",
       "      <td>ID-02-05101</td>\n",
       "      <td>381.0</td>\n",
       "      <td>1885.0</td>\n",
       "      <td>844.0</td>\n",
       "      <td>2801.0</td>\n",
       "    </tr>\n",
       "    <tr>\n",
       "      <th>485906116313101</th>\n",
       "      <td>groundwater well</td>\n",
       "      <td>USGS</td>\n",
       "      <td>65N 01W 18CBB1</td>\n",
       "      <td>4.859061e+14</td>\n",
       "      <td>https://waterservices.usgs.gov/nwis/site/?form...</td>\n",
       "      <td>2023-03-08</td>\n",
       "      <td>48.985183</td>\n",
       "      <td>-116.526367</td>\n",
       "      <td>ID</td>\n",
       "      <td>17010104.0</td>\n",
       "      <td>...</td>\n",
       "      <td>NaN</td>\n",
       "      <td>NaN</td>\n",
       "      <td>27.35</td>\n",
       "      <td>28.0</td>\n",
       "      <td>S</td>\n",
       "      <td>ID-02-05101</td>\n",
       "      <td>380.0</td>\n",
       "      <td>1885.0</td>\n",
       "      <td>843.0</td>\n",
       "      <td>2802.0</td>\n",
       "    </tr>\n",
       "    <tr>\n",
       "      <th>485907116294701</th>\n",
       "      <td>groundwater well</td>\n",
       "      <td>USGS</td>\n",
       "      <td>65N 01W 17BDD1</td>\n",
       "      <td>4.859071e+14</td>\n",
       "      <td>https://waterservices.usgs.gov/nwis/site/?form...</td>\n",
       "      <td>2023-03-08</td>\n",
       "      <td>48.985353</td>\n",
       "      <td>-116.497453</td>\n",
       "      <td>ID</td>\n",
       "      <td>17010104.0</td>\n",
       "      <td>...</td>\n",
       "      <td>NaN</td>\n",
       "      <td>NaN</td>\n",
       "      <td>26.93</td>\n",
       "      <td>27.0</td>\n",
       "      <td>S</td>\n",
       "      <td>ID-02-05101</td>\n",
       "      <td>382.0</td>\n",
       "      <td>1885.0</td>\n",
       "      <td>845.0</td>\n",
       "      <td>2801.0</td>\n",
       "    </tr>\n",
       "    <tr>\n",
       "      <th>485917122241901</th>\n",
       "      <td>groundwater well</td>\n",
       "      <td>USGS</td>\n",
       "      <td>40N/03E-03G02 AG06</td>\n",
       "      <td>4.859171e+14</td>\n",
       "      <td>https://waterservices.usgs.gov/nwis/site/?form...</td>\n",
       "      <td>2023-03-08</td>\n",
       "      <td>48.987842</td>\n",
       "      <td>-122.406750</td>\n",
       "      <td>WA</td>\n",
       "      <td>17110004.0</td>\n",
       "      <td>...</td>\n",
       "      <td>112SUMS</td>\n",
       "      <td>U</td>\n",
       "      <td>28.00</td>\n",
       "      <td>29.0</td>\n",
       "      <td>D</td>\n",
       "      <td>WA38900</td>\n",
       "      <td>NaN</td>\n",
       "      <td>NaN</td>\n",
       "      <td>444.0</td>\n",
       "      <td>2917.0</td>\n",
       "    </tr>\n",
       "  </tbody>\n",
       "</table>\n",
       "<p>33809 rows × 61 columns</p>\n",
       "</div>"
      ],
      "text/plain": [
       "                        site_type agency           site_name  site_id_agency  \\\n",
       "site_id                                                                        \n",
       "251241080385302  groundwater well   USGS            G  -3763    2.512411e+14   \n",
       "251922080340701  groundwater well   USGS            G  -1251    2.519221e+14   \n",
       "252007080335701  groundwater well   USGS            G  -3336    2.520071e+14   \n",
       "252243080335501  groundwater well   USGS            G  -3619    2.522431e+14   \n",
       "252332080300501  groundwater well   USGS            G  -3355    2.523321e+14   \n",
       "...                           ...    ...                 ...             ...   \n",
       "485904116303701  groundwater well   USGS      65N 01W 18DAB1    4.859041e+14   \n",
       "485904116303702  groundwater well   USGS      65N 01W 18DAB2    4.859041e+14   \n",
       "485906116313101  groundwater well   USGS      65N 01W 18CBB1    4.859061e+14   \n",
       "485907116294701  groundwater well   USGS      65N 01W 17BDD1    4.859071e+14   \n",
       "485917122241901  groundwater well   USGS  40N/03E-03G02 AG06    4.859171e+14   \n",
       "\n",
       "                                                    site_query_url  \\\n",
       "site_id                                                              \n",
       "251241080385302  https://waterservices.usgs.gov/nwis/site/?form...   \n",
       "251922080340701  https://waterservices.usgs.gov/nwis/site/?form...   \n",
       "252007080335701  https://waterservices.usgs.gov/nwis/site/?form...   \n",
       "252243080335501  https://waterservices.usgs.gov/nwis/site/?form...   \n",
       "252332080300501  https://waterservices.usgs.gov/nwis/site/?form...   \n",
       "...                                                            ...   \n",
       "485904116303701  https://waterservices.usgs.gov/nwis/site/?form...   \n",
       "485904116303702  https://waterservices.usgs.gov/nwis/site/?form...   \n",
       "485906116313101  https://waterservices.usgs.gov/nwis/site/?form...   \n",
       "485907116294701  https://waterservices.usgs.gov/nwis/site/?form...   \n",
       "485917122241901  https://waterservices.usgs.gov/nwis/site/?form...   \n",
       "\n",
       "                date_metadata_last_updated   latitude   longitude state  \\\n",
       "site_id                                                                   \n",
       "251241080385302                 2023-03-08  25.210000  -80.647778    FL   \n",
       "251922080340701                 2023-03-08  25.321083  -80.565750    FL   \n",
       "252007080335701                 2023-03-08  25.337806  -80.565639    FL   \n",
       "252243080335501                 2023-03-08  25.378972  -80.565361    FL   \n",
       "252332080300501                 2023-03-08  25.393306  -80.500917    FL   \n",
       "...                                    ...        ...         ...   ...   \n",
       "485904116303701                 2023-03-08  48.984464 -116.511481    ID   \n",
       "485904116303702                 2023-03-08  48.984464 -116.511481    ID   \n",
       "485906116313101                 2023-03-08  48.985183 -116.526367    ID   \n",
       "485907116294701                 2023-03-08  48.985353 -116.497453    ID   \n",
       "485917122241901                 2023-03-08  48.987842 -122.406750    WA   \n",
       "\n",
       "                        huc  ...   aqfr_cd  aqfr_type_cd  well_depth_va  \\\n",
       "site_id                      ...                                          \n",
       "251241080385302   3090202.0  ...  112BSCNN           NaN          22.40   \n",
       "251922080340701   3090202.0  ...  112BSCNN             U          59.00   \n",
       "252007080335701   3090202.0  ...  112BSCNN             U          38.00   \n",
       "252243080335501   3090202.0  ...  112BSCNN             U          12.00   \n",
       "252332080300501   3090202.0  ...  112BSCNN             U          13.00   \n",
       "...                     ...  ...       ...           ...            ...   \n",
       "485904116303701  17010104.0  ...       NaN           NaN          27.00   \n",
       "485904116303702  17010104.0  ...       NaN           NaN          52.16   \n",
       "485906116313101  17010104.0  ...       NaN           NaN          27.35   \n",
       "485907116294701  17010104.0  ...       NaN           NaN          26.93   \n",
       "485917122241901  17110004.0  ...   112SUMS             U          28.00   \n",
       "\n",
       "                 hole_depth_va  depth_src_cd   project_no conus1_x  conus1_y  \\\n",
       "site_id                                                                        \n",
       "251241080385302            NaN           NaN          NaN      NaN       NaN   \n",
       "251922080340701            NaN           NaN   2080-00200      NaN       NaN   \n",
       "252007080335701            NaN           NaN   2080-00200      NaN       NaN   \n",
       "252243080335501           12.0             A   2080-00200      NaN       NaN   \n",
       "252332080300501            NaN           NaN   2080-00200      NaN       NaN   \n",
       "...                        ...           ...          ...      ...       ...   \n",
       "485904116303701           28.0             S  ID-02-05101    381.0    1885.0   \n",
       "485904116303702           55.0             S  ID-02-05101    381.0    1885.0   \n",
       "485906116313101           28.0             S  ID-02-05101    380.0    1885.0   \n",
       "485907116294701           27.0             S  ID-02-05101    382.0    1885.0   \n",
       "485917122241901           29.0             D      WA38900      NaN       NaN   \n",
       "\n",
       "                 conus2_x conus2_y  \n",
       "site_id                             \n",
       "251241080385302    3880.0    209.0  \n",
       "251922080340701    3886.0    223.0  \n",
       "252007080335701    3886.0    224.0  \n",
       "252243080335501    3885.0    229.0  \n",
       "252332080300501    3891.0    232.0  \n",
       "...                   ...      ...  \n",
       "485904116303701     844.0   2801.0  \n",
       "485904116303702     844.0   2801.0  \n",
       "485906116313101     843.0   2802.0  \n",
       "485907116294701     845.0   2801.0  \n",
       "485917122241901     444.0   2917.0  \n",
       "\n",
       "[33809 rows x 61 columns]"
      ]
     },
     "execution_count": 9,
     "metadata": {},
     "output_type": "execute_result"
    }
   ],
   "source": [
    "metadata = pd.read_csv(f'{organized_dir}/{metadata_file}', index_col=['site_id'])\n",
    "metadata  = metadata.drop(columns=['Unnamed: 0'])\n",
    "# also remove the sites with WTD less than 0 and duplicated site ids\n",
    "metadata = metadata[metadata.index.isin(obs_data.index)]\n",
    "metadata = metadata[~metadata.index.duplicated(keep='first')]\n",
    "\n",
    "# add number of observations column from the obs_data df\n",
    "# metadata['num_obs'] = obs_data['num_obs']\n",
    "# metadata['pumping_status'] = obs_data['pumping_status']\n",
    "# metadata['date'] = obs_data['date']\n",
    "\n",
    "\n",
    "metadata"
   ]
  },
  {
   "cell_type": "code",
   "execution_count": 15,
   "metadata": {},
   "outputs": [
    {
     "name": "stdout",
     "output_type": "stream",
     "text": [
      "Metadata and Observation dataframes have same number of site ids.\n"
     ]
    }
   ],
   "source": [
    "if len(obs_data)!=len(metadata):\n",
    "    print('CHECK THAT METADATA AND OBSERVATIONS HAVE THE SAME SITE IDS!')\n",
    "else: \n",
    "    print('Metadata and Observation dataframes have same number of site ids.')"
   ]
  },
  {
   "cell_type": "markdown",
   "metadata": {},
   "source": [
    "# 2. Read in PFBs and organize"
   ]
  },
  {
   "cell_type": "markdown",
   "metadata": {},
   "source": [
    "#### Read in pfb and extract data at each CONUS2 index pair included in the observations/metadata files"
   ]
  },
  {
   "cell_type": "code",
   "execution_count": 16,
   "metadata": {},
   "outputs": [
    {
     "name": "stdout",
     "output_type": "stream",
     "text": [
      "reading WTD for day 001\n",
      "reading WTD for day 002\n",
      "reading WTD for day 003\n",
      "reading WTD for day 004\n",
      "reading WTD for day 005\n",
      "reading WTD for day 006\n",
      "reading WTD for day 007\n",
      "reading WTD for day 008\n",
      "reading WTD for day 009\n",
      "reading WTD for day 010\n",
      "reading WTD for day 011\n",
      "reading WTD for day 012\n",
      "reading WTD for day 013\n",
      "reading WTD for day 014\n",
      "reading WTD for day 015\n",
      "reading WTD for day 016\n",
      "reading WTD for day 017\n",
      "reading WTD for day 018\n",
      "reading WTD for day 019\n",
      "reading WTD for day 020\n",
      "reading WTD for day 021\n",
      "reading WTD for day 022\n",
      "reading WTD for day 023\n",
      "reading WTD for day 024\n",
      "reading WTD for day 025\n",
      "reading WTD for day 026\n",
      "reading WTD for day 027\n",
      "reading WTD for day 028\n",
      "reading WTD for day 029\n",
      "reading WTD for day 030\n",
      "reading WTD for day 031\n",
      "reading WTD for day 032\n",
      "reading WTD for day 033\n",
      "reading WTD for day 034\n",
      "reading WTD for day 035\n",
      "reading WTD for day 036\n",
      "reading WTD for day 037\n",
      "reading WTD for day 038\n",
      "reading WTD for day 039\n",
      "reading WTD for day 040\n",
      "reading WTD for day 041\n",
      "reading WTD for day 042\n",
      "reading WTD for day 043\n",
      "reading WTD for day 044\n",
      "reading WTD for day 045\n",
      "reading WTD for day 046\n",
      "reading WTD for day 047\n",
      "reading WTD for day 048\n",
      "reading WTD for day 049\n",
      "reading WTD for day 050\n",
      "reading WTD for day 051\n",
      "reading WTD for day 052\n",
      "reading WTD for day 053\n",
      "reading WTD for day 054\n",
      "reading WTD for day 055\n",
      "reading WTD for day 056\n",
      "reading WTD for day 057\n",
      "reading WTD for day 058\n",
      "reading WTD for day 059\n",
      "reading WTD for day 060\n",
      "reading WTD for day 061\n",
      "reading WTD for day 062\n",
      "reading WTD for day 063\n",
      "reading WTD for day 064\n",
      "reading WTD for day 065\n",
      "reading WTD for day 066\n",
      "reading WTD for day 067\n",
      "reading WTD for day 068\n",
      "reading WTD for day 069\n",
      "reading WTD for day 070\n",
      "reading WTD for day 071\n",
      "reading WTD for day 072\n",
      "reading WTD for day 073\n",
      "reading WTD for day 074\n",
      "reading WTD for day 075\n",
      "reading WTD for day 076\n",
      "reading WTD for day 077\n",
      "reading WTD for day 078\n",
      "reading WTD for day 079\n",
      "reading WTD for day 080\n",
      "reading WTD for day 081\n",
      "reading WTD for day 082\n",
      "reading WTD for day 083\n",
      "reading WTD for day 084\n",
      "reading WTD for day 085\n",
      "reading WTD for day 086\n",
      "reading WTD for day 087\n",
      "reading WTD for day 088\n",
      "reading WTD for day 089\n",
      "reading WTD for day 090\n",
      "reading WTD for day 091\n",
      "reading WTD for day 092\n",
      "reading WTD for day 093\n",
      "reading WTD for day 094\n",
      "reading WTD for day 095\n",
      "reading WTD for day 096\n",
      "reading WTD for day 097\n",
      "reading WTD for day 098\n",
      "reading WTD for day 099\n",
      "reading WTD for day 100\n",
      "reading WTD for day 101\n",
      "reading WTD for day 102\n",
      "reading WTD for day 103\n",
      "reading WTD for day 104\n",
      "reading WTD for day 105\n",
      "reading WTD for day 106\n",
      "reading WTD for day 107\n",
      "reading WTD for day 108\n",
      "reading WTD for day 109\n",
      "reading WTD for day 110\n",
      "reading WTD for day 111\n",
      "reading WTD for day 112\n",
      "reading WTD for day 113\n",
      "reading WTD for day 114\n",
      "reading WTD for day 115\n",
      "reading WTD for day 116\n",
      "reading WTD for day 117\n",
      "reading WTD for day 118\n",
      "reading WTD for day 119\n",
      "reading WTD for day 120\n",
      "reading WTD for day 121\n",
      "reading WTD for day 122\n",
      "reading WTD for day 123\n",
      "reading WTD for day 124\n",
      "reading WTD for day 125\n",
      "reading WTD for day 126\n",
      "reading WTD for day 127\n",
      "reading WTD for day 128\n",
      "reading WTD for day 129\n",
      "reading WTD for day 130\n",
      "reading WTD for day 131\n",
      "reading WTD for day 132\n",
      "reading WTD for day 133\n",
      "reading WTD for day 134\n",
      "reading WTD for day 135\n",
      "reading WTD for day 136\n",
      "reading WTD for day 137\n",
      "reading WTD for day 138\n",
      "reading WTD for day 139\n",
      "reading WTD for day 140\n",
      "reading WTD for day 141\n",
      "reading WTD for day 142\n",
      "reading WTD for day 143\n",
      "reading WTD for day 144\n",
      "reading WTD for day 145\n",
      "reading WTD for day 146\n",
      "reading WTD for day 147\n",
      "reading WTD for day 148\n",
      "reading WTD for day 149\n",
      "reading WTD for day 150\n",
      "reading WTD for day 151\n",
      "reading WTD for day 152\n",
      "reading WTD for day 153\n",
      "reading WTD for day 154\n",
      "reading WTD for day 155\n",
      "reading WTD for day 156\n",
      "reading WTD for day 157\n",
      "reading WTD for day 158\n",
      "reading WTD for day 159\n",
      "reading WTD for day 160\n",
      "reading WTD for day 161\n",
      "reading WTD for day 162\n",
      "reading WTD for day 163\n",
      "reading WTD for day 164\n",
      "reading WTD for day 165\n",
      "reading WTD for day 166\n",
      "reading WTD for day 167\n",
      "reading WTD for day 168\n",
      "reading WTD for day 169\n",
      "reading WTD for day 170\n",
      "reading WTD for day 171\n",
      "reading WTD for day 172\n",
      "reading WTD for day 173\n",
      "reading WTD for day 174\n",
      "reading WTD for day 175\n",
      "reading WTD for day 176\n",
      "reading WTD for day 177\n",
      "reading WTD for day 178\n",
      "reading WTD for day 179\n",
      "reading WTD for day 180\n",
      "reading WTD for day 181\n",
      "reading WTD for day 182\n",
      "reading WTD for day 183\n",
      "reading WTD for day 184\n",
      "reading WTD for day 185\n",
      "reading WTD for day 186\n",
      "reading WTD for day 187\n",
      "reading WTD for day 188\n",
      "reading WTD for day 189\n",
      "reading WTD for day 190\n",
      "reading WTD for day 191\n",
      "reading WTD for day 192\n",
      "reading WTD for day 193\n",
      "reading WTD for day 194\n",
      "reading WTD for day 195\n",
      "reading WTD for day 196\n",
      "reading WTD for day 197\n",
      "reading WTD for day 198\n",
      "reading WTD for day 199\n",
      "reading WTD for day 200\n",
      "reading WTD for day 201\n",
      "reading WTD for day 202\n",
      "reading WTD for day 203\n",
      "reading WTD for day 204\n",
      "reading WTD for day 205\n",
      "reading WTD for day 206\n",
      "reading WTD for day 207\n",
      "reading WTD for day 208\n",
      "reading WTD for day 209\n",
      "reading WTD for day 210\n",
      "reading WTD for day 211\n",
      "reading WTD for day 212\n",
      "reading WTD for day 213\n",
      "reading WTD for day 214\n",
      "reading WTD for day 215\n",
      "reading WTD for day 216\n",
      "reading WTD for day 217\n",
      "reading WTD for day 218\n",
      "reading WTD for day 219\n",
      "reading WTD for day 220\n",
      "reading WTD for day 221\n",
      "reading WTD for day 222\n",
      "reading WTD for day 223\n",
      "reading WTD for day 224\n",
      "reading WTD for day 225\n",
      "reading WTD for day 226\n",
      "reading WTD for day 227\n",
      "reading WTD for day 228\n",
      "reading WTD for day 229\n",
      "reading WTD for day 230\n",
      "reading WTD for day 231\n",
      "reading WTD for day 232\n",
      "reading WTD for day 233\n",
      "reading WTD for day 234\n",
      "reading WTD for day 235\n",
      "reading WTD for day 236\n",
      "reading WTD for day 237\n",
      "reading WTD for day 238\n",
      "reading WTD for day 239\n",
      "reading WTD for day 240\n",
      "reading WTD for day 241\n",
      "reading WTD for day 242\n",
      "reading WTD for day 243\n",
      "reading WTD for day 244\n",
      "reading WTD for day 245\n",
      "reading WTD for day 246\n",
      "reading WTD for day 247\n",
      "reading WTD for day 248\n",
      "reading WTD for day 249\n",
      "reading WTD for day 250\n",
      "reading WTD for day 251\n",
      "reading WTD for day 252\n",
      "reading WTD for day 253\n",
      "reading WTD for day 254\n",
      "reading WTD for day 255\n",
      "reading WTD for day 256\n",
      "reading WTD for day 257\n",
      "reading WTD for day 258\n",
      "reading WTD for day 259\n",
      "reading WTD for day 260\n",
      "reading WTD for day 261\n",
      "reading WTD for day 262\n",
      "reading WTD for day 263\n",
      "reading WTD for day 264\n",
      "reading WTD for day 265\n",
      "reading WTD for day 266\n",
      "reading WTD for day 267\n",
      "reading WTD for day 268\n",
      "reading WTD for day 269\n",
      "reading WTD for day 270\n",
      "reading WTD for day 271\n",
      "reading WTD for day 272\n",
      "reading WTD for day 273\n",
      "reading WTD for day 274\n",
      "reading WTD for day 275\n",
      "reading WTD for day 276\n",
      "reading WTD for day 277\n",
      "reading WTD for day 278\n",
      "reading WTD for day 279\n",
      "reading WTD for day 280\n",
      "reading WTD for day 281\n",
      "reading WTD for day 282\n",
      "reading WTD for day 283\n",
      "reading WTD for day 284\n",
      "reading WTD for day 285\n",
      "reading WTD for day 286\n",
      "reading WTD for day 287\n",
      "reading WTD for day 288\n",
      "reading WTD for day 289\n",
      "reading WTD for day 290\n",
      "reading WTD for day 291\n",
      "reading WTD for day 292\n",
      "reading WTD for day 293\n",
      "reading WTD for day 294\n",
      "reading WTD for day 295\n",
      "reading WTD for day 296\n",
      "reading WTD for day 297\n",
      "reading WTD for day 298\n",
      "reading WTD for day 299\n",
      "reading WTD for day 300\n",
      "reading WTD for day 301\n",
      "reading WTD for day 302\n",
      "reading WTD for day 303\n",
      "reading WTD for day 304\n",
      "reading WTD for day 305\n",
      "reading WTD for day 306\n",
      "reading WTD for day 307\n",
      "reading WTD for day 308\n",
      "reading WTD for day 309\n",
      "reading WTD for day 310\n",
      "reading WTD for day 311\n",
      "reading WTD for day 312\n",
      "reading WTD for day 313\n",
      "reading WTD for day 314\n",
      "reading WTD for day 315\n",
      "reading WTD for day 316\n",
      "reading WTD for day 317\n",
      "reading WTD for day 318\n",
      "reading WTD for day 319\n",
      "reading WTD for day 320\n",
      "reading WTD for day 321\n",
      "reading WTD for day 322\n",
      "reading WTD for day 323\n",
      "reading WTD for day 324\n",
      "reading WTD for day 325\n",
      "reading WTD for day 326\n",
      "reading WTD for day 327\n",
      "reading WTD for day 328\n",
      "reading WTD for day 329\n",
      "reading WTD for day 330\n",
      "reading WTD for day 331\n",
      "reading WTD for day 332\n",
      "reading WTD for day 333\n",
      "reading WTD for day 334\n",
      "reading WTD for day 335\n",
      "reading WTD for day 336\n",
      "reading WTD for day 337\n",
      "reading WTD for day 338\n",
      "reading WTD for day 339\n",
      "reading WTD for day 340\n",
      "reading WTD for day 341\n",
      "reading WTD for day 342\n",
      "reading WTD for day 343\n",
      "reading WTD for day 344\n",
      "reading WTD for day 345\n",
      "reading WTD for day 346\n",
      "reading WTD for day 347\n",
      "reading WTD for day 348\n",
      "reading WTD for day 349\n",
      "reading WTD for day 350\n",
      "reading WTD for day 351\n",
      "reading WTD for day 352\n",
      "reading WTD for day 353\n",
      "reading WTD for day 354\n",
      "reading WTD for day 355\n",
      "reading WTD for day 356\n",
      "reading WTD for day 357\n",
      "reading WTD for day 358\n",
      "reading WTD for day 359\n",
      "reading WTD for day 360\n",
      "reading WTD for day 361\n",
      "reading WTD for day 362\n",
      "reading WTD for day 363\n",
      "reading WTD for day 364\n"
     ]
    }
   ],
   "source": [
    "# read daily variable for no_days\n",
    "pf_full_array = np.zeros((no_days, ny, nx))\n",
    "for i in range(no_days):\n",
    "    step = str(int(i+1)).rjust(3, '0')\n",
    "    ### CHECK THIS PATH TO CONFIRM CORRECT OBS FILE ###\n",
    "    pf_pfb = np.squeeze(read_pfb(f'{pfb_read_path}/{pfb_name}.{step}.pfb'))\n",
    "    pf_full_array[i,...] = pf_pfb\n",
    "    print(f'reading {variable} for day {step}')"
   ]
  },
  {
   "cell_type": "code",
   "execution_count": 104,
   "metadata": {},
   "outputs": [],
   "source": [
    "# compute annual mean\n",
    "# axis = 0 ensures that you are taking the daily mean of the array (so along the first dimension axis (364))\n",
    "annual_mean = np.mean(pf_full_array, axis = 0)*nan_mask_flip\n",
    "annual_total = pf_full_array.sum(axis=0)*nan_mask_flip\n",
    "write_pfb(f'{organized_dir}/PF_{variable}.{water_year}.gridded_annual_mean.pfb',annual_mean,dist=False)\n",
    "write_pfb(f'{organized_dir}/PF_{variable}.{water_year}.gridded_annual_total.pfb',annual_total,dist=False)"
   ]
  },
  {
   "cell_type": "code",
   "execution_count": 105,
   "metadata": {},
   "outputs": [
    {
     "data": {
      "text/plain": [
       "<matplotlib.colorbar.Colorbar at 0x1472a27970a0>"
      ]
     },
     "execution_count": 105,
     "metadata": {},
     "output_type": "execute_result"
    },
    {
     "data": {
      "image/png": "[encoded data removed]",
      "text/plain": [
       "<Figure size 432x288 with 2 Axes>"
      ]
     },
     "metadata": {
      "needs_background": "light"
     },
     "output_type": "display_data"
    }
   ],
   "source": [
    "annual_mean_pfb = np.squeeze(read_pfb(f'{organized_dir}/PF_{variable}.{water_year}.gridded_annual_mean.pfb'))\n",
    "plt.imshow(annual_mean_pfb, origin='lower')\n",
    "plt.colorbar()"
   ]
  },
  {
   "cell_type": "markdown",
   "metadata": {},
   "source": [
    "# Match WTD observations to CONUS2 indices"
   ]
  },
  {
   "cell_type": "code",
   "execution_count": 49,
   "metadata": {},
   "outputs": [
    {
     "name": "stdout",
     "output_type": "stream",
     "text": [
      "33809,[3880 3886 3886 ...  843  845  444]\n"
     ]
    }
   ],
   "source": [
    "# make CONUS2 x and y into arrays for the for loop\n",
    "conusy = np.asarray(metadata['conus2_y'],dtype = 'int')\n",
    "conusx = np.asarray(metadata['conus2_x'],dtype = 'int')"
   ]
  },
  {
   "cell_type": "code",
   "execution_count": 53,
   "metadata": {},
   "outputs": [],
   "source": [
    "# Set up arrays \n",
    "#pf_full_array = np.zeros((no_days, ny, nx))\n",
    "pf_matched = np.zeros(obs_data.shape)\n",
    "\n",
    "for j in range(len(obs_data.index)):\n",
    "    #print(obs_data.index)\n",
    "    if conusy[j] < 0:\n",
    "        pf_matched[j] = 'nan'\n",
    "        #print('Gage is outside of CONUS2 range')\n",
    "    else:\n",
    "        pf_matched[j] = annual_mean[conusy[j], conusx[j]]\n",
    "        #print('Finding value in CONUS2 grid')"
   ]
  },
  {
   "cell_type": "code",
   "execution_count": 55,
   "metadata": {},
   "outputs": [
    {
     "data": {
      "text/html": [
       "<div>\n",
       "<style scoped>\n",
       "    .dataframe tbody tr th:only-of-type {\n",
       "        vertical-align: middle;\n",
       "    }\n",
       "\n",
       "    .dataframe tbody tr th {\n",
       "        vertical-align: top;\n",
       "    }\n",
       "\n",
       "    .dataframe thead th {\n",
       "        text-align: right;\n",
       "    }\n",
       "</style>\n",
       "<table border=\"1\" class=\"dataframe\">\n",
       "  <thead>\n",
       "    <tr style=\"text-align: right;\">\n",
       "      <th></th>\n",
       "      <th>wtd</th>\n",
       "    </tr>\n",
       "    <tr>\n",
       "      <th>site_id</th>\n",
       "      <th></th>\n",
       "    </tr>\n",
       "  </thead>\n",
       "  <tbody>\n",
       "    <tr>\n",
       "      <th>251241080385302</th>\n",
       "      <td>0.680495</td>\n",
       "    </tr>\n",
       "    <tr>\n",
       "      <th>251922080340701</th>\n",
       "      <td>0.793044</td>\n",
       "    </tr>\n",
       "    <tr>\n",
       "      <th>252007080335701</th>\n",
       "      <td>0.829416</td>\n",
       "    </tr>\n",
       "    <tr>\n",
       "      <th>252243080335501</th>\n",
       "      <td>0.766528</td>\n",
       "    </tr>\n",
       "    <tr>\n",
       "      <th>252332080300501</th>\n",
       "      <td>0.569691</td>\n",
       "    </tr>\n",
       "    <tr>\n",
       "      <th>...</th>\n",
       "      <td>...</td>\n",
       "    </tr>\n",
       "    <tr>\n",
       "      <th>485904116303701</th>\n",
       "      <td>0.000182</td>\n",
       "    </tr>\n",
       "    <tr>\n",
       "      <th>485904116303702</th>\n",
       "      <td>0.000182</td>\n",
       "    </tr>\n",
       "    <tr>\n",
       "      <th>485906116313101</th>\n",
       "      <td>0.000232</td>\n",
       "    </tr>\n",
       "    <tr>\n",
       "      <th>485907116294701</th>\n",
       "      <td>0.928640</td>\n",
       "    </tr>\n",
       "    <tr>\n",
       "      <th>485917122241901</th>\n",
       "      <td>0.253269</td>\n",
       "    </tr>\n",
       "  </tbody>\n",
       "</table>\n",
       "<p>33809 rows × 1 columns</p>\n",
       "</div>"
      ],
      "text/plain": [
       "                      wtd\n",
       "site_id                  \n",
       "251241080385302  0.680495\n",
       "251922080340701  0.793044\n",
       "252007080335701  0.829416\n",
       "252243080335501  0.766528\n",
       "252332080300501  0.569691\n",
       "...                   ...\n",
       "485904116303701  0.000182\n",
       "485904116303702  0.000182\n",
       "485906116313101  0.000232\n",
       "485907116294701  0.928640\n",
       "485917122241901  0.253269\n",
       "\n",
       "[33809 rows x 1 columns]"
      ]
     },
     "execution_count": 55,
     "metadata": {},
     "output_type": "execute_result"
    }
   ],
   "source": [
    "# Organize PF daily matched array with the same index and dates as the obs_data\n",
    "pf_match_df = pd.DataFrame(pf_matched)\n",
    "pf_match_df = pf_match_df.set_index(obs_data.index)\n",
    "column_headers = list(obs_data.columns.values)\n",
    "pf_match_df.columns = column_headers\n",
    "pf_match_df"
   ]
  },
  {
   "cell_type": "code",
   "execution_count": 56,
   "metadata": {},
   "outputs": [
    {
     "data": {
      "text/html": [
       "<div>\n",
       "<style scoped>\n",
       "    .dataframe tbody tr th:only-of-type {\n",
       "        vertical-align: middle;\n",
       "    }\n",
       "\n",
       "    .dataframe tbody tr th {\n",
       "        vertical-align: top;\n",
       "    }\n",
       "\n",
       "    .dataframe thead th {\n",
       "        text-align: right;\n",
       "    }\n",
       "</style>\n",
       "<table border=\"1\" class=\"dataframe\">\n",
       "  <thead>\n",
       "    <tr style=\"text-align: right;\">\n",
       "      <th></th>\n",
       "      <th>wtd</th>\n",
       "    </tr>\n",
       "    <tr>\n",
       "      <th>site_id</th>\n",
       "      <th></th>\n",
       "    </tr>\n",
       "  </thead>\n",
       "  <tbody>\n",
       "    <tr>\n",
       "      <th>251241080385302</th>\n",
       "      <td>0.680495</td>\n",
       "    </tr>\n",
       "    <tr>\n",
       "      <th>251922080340701</th>\n",
       "      <td>0.793044</td>\n",
       "    </tr>\n",
       "    <tr>\n",
       "      <th>252007080335701</th>\n",
       "      <td>0.829416</td>\n",
       "    </tr>\n",
       "    <tr>\n",
       "      <th>252243080335501</th>\n",
       "      <td>0.766528</td>\n",
       "    </tr>\n",
       "    <tr>\n",
       "      <th>252332080300501</th>\n",
       "      <td>0.569691</td>\n",
       "    </tr>\n",
       "    <tr>\n",
       "      <th>...</th>\n",
       "      <td>...</td>\n",
       "    </tr>\n",
       "    <tr>\n",
       "      <th>485904116303701</th>\n",
       "      <td>0.000182</td>\n",
       "    </tr>\n",
       "    <tr>\n",
       "      <th>485904116303702</th>\n",
       "      <td>0.000182</td>\n",
       "    </tr>\n",
       "    <tr>\n",
       "      <th>485906116313101</th>\n",
       "      <td>0.000232</td>\n",
       "    </tr>\n",
       "    <tr>\n",
       "      <th>485907116294701</th>\n",
       "      <td>0.928640</td>\n",
       "    </tr>\n",
       "    <tr>\n",
       "      <th>485917122241901</th>\n",
       "      <td>0.253269</td>\n",
       "    </tr>\n",
       "  </tbody>\n",
       "</table>\n",
       "<p>33808 rows × 1 columns</p>\n",
       "</div>"
      ],
      "text/plain": [
       "                      wtd\n",
       "site_id                  \n",
       "251241080385302  0.680495\n",
       "251922080340701  0.793044\n",
       "252007080335701  0.829416\n",
       "252243080335501  0.766528\n",
       "252332080300501  0.569691\n",
       "...                   ...\n",
       "485904116303701  0.000182\n",
       "485904116303702  0.000182\n",
       "485906116313101  0.000232\n",
       "485907116294701  0.928640\n",
       "485917122241901  0.253269\n",
       "\n",
       "[33808 rows x 1 columns]"
      ]
     },
     "execution_count": 56,
     "metadata": {},
     "output_type": "execute_result"
    }
   ],
   "source": [
    "# drop any na's\n",
    "pf_match_df_new = pf_match_df.dropna()\n",
    "pf_match_df_new"
   ]
  },
  {
   "cell_type": "code",
   "execution_count": 57,
   "metadata": {},
   "outputs": [
    {
     "data": {
      "text/html": [
       "<div>\n",
       "<style scoped>\n",
       "    .dataframe tbody tr th:only-of-type {\n",
       "        vertical-align: middle;\n",
       "    }\n",
       "\n",
       "    .dataframe tbody tr th {\n",
       "        vertical-align: top;\n",
       "    }\n",
       "\n",
       "    .dataframe thead th {\n",
       "        text-align: right;\n",
       "    }\n",
       "</style>\n",
       "<table border=\"1\" class=\"dataframe\">\n",
       "  <thead>\n",
       "    <tr style=\"text-align: right;\">\n",
       "      <th></th>\n",
       "      <th>wtd</th>\n",
       "    </tr>\n",
       "    <tr>\n",
       "      <th>site_id</th>\n",
       "      <th></th>\n",
       "    </tr>\n",
       "  </thead>\n",
       "  <tbody>\n",
       "    <tr>\n",
       "      <th>251241080385302</th>\n",
       "      <td>0.271272</td>\n",
       "    </tr>\n",
       "    <tr>\n",
       "      <th>251922080340701</th>\n",
       "      <td>0.393573</td>\n",
       "    </tr>\n",
       "    <tr>\n",
       "      <th>252007080335701</th>\n",
       "      <td>0.585978</td>\n",
       "    </tr>\n",
       "    <tr>\n",
       "      <th>252243080335501</th>\n",
       "      <td>0.338328</td>\n",
       "    </tr>\n",
       "    <tr>\n",
       "      <th>252332080300501</th>\n",
       "      <td>0.969264</td>\n",
       "    </tr>\n",
       "    <tr>\n",
       "      <th>...</th>\n",
       "      <td>...</td>\n",
       "    </tr>\n",
       "    <tr>\n",
       "      <th>485904116303701</th>\n",
       "      <td>2.360981</td>\n",
       "    </tr>\n",
       "    <tr>\n",
       "      <th>485904116303702</th>\n",
       "      <td>2.670175</td>\n",
       "    </tr>\n",
       "    <tr>\n",
       "      <th>485906116313101</th>\n",
       "      <td>1.941068</td>\n",
       "    </tr>\n",
       "    <tr>\n",
       "      <th>485907116294701</th>\n",
       "      <td>1.691386</td>\n",
       "    </tr>\n",
       "    <tr>\n",
       "      <th>485917122241901</th>\n",
       "      <td>4.785360</td>\n",
       "    </tr>\n",
       "  </tbody>\n",
       "</table>\n",
       "<p>33808 rows × 1 columns</p>\n",
       "</div>"
      ],
      "text/plain": [
       "                      wtd\n",
       "site_id                  \n",
       "251241080385302  0.271272\n",
       "251922080340701  0.393573\n",
       "252007080335701  0.585978\n",
       "252243080335501  0.338328\n",
       "252332080300501  0.969264\n",
       "...                   ...\n",
       "485904116303701  2.360981\n",
       "485904116303702  2.670175\n",
       "485906116313101  1.941068\n",
       "485907116294701  1.691386\n",
       "485917122241901  4.785360\n",
       "\n",
       "[33808 rows x 1 columns]"
      ]
     },
     "execution_count": 57,
     "metadata": {},
     "output_type": "execute_result"
    }
   ],
   "source": [
    "# parse down observation df to include the same stations as the final ParFlow matched df\n",
    "obs_data_new = obs_data[obs_data.index.isin(pf_match_df_new.index)]\n",
    "obs_data_new"
   ]
  },
  {
   "cell_type": "code",
   "execution_count": 58,
   "metadata": {},
   "outputs": [
    {
     "data": {
      "text/html": [
       "<div>\n",
       "<style scoped>\n",
       "    .dataframe tbody tr th:only-of-type {\n",
       "        vertical-align: middle;\n",
       "    }\n",
       "\n",
       "    .dataframe tbody tr th {\n",
       "        vertical-align: top;\n",
       "    }\n",
       "\n",
       "    .dataframe thead th {\n",
       "        text-align: right;\n",
       "    }\n",
       "</style>\n",
       "<table border=\"1\" class=\"dataframe\">\n",
       "  <thead>\n",
       "    <tr style=\"text-align: right;\">\n",
       "      <th></th>\n",
       "      <th>site_type</th>\n",
       "      <th>agency</th>\n",
       "      <th>site_name</th>\n",
       "      <th>site_id_agency</th>\n",
       "      <th>site_query_url</th>\n",
       "      <th>date_metadata_last_updated</th>\n",
       "      <th>latitude</th>\n",
       "      <th>longitude</th>\n",
       "      <th>state</th>\n",
       "      <th>huc</th>\n",
       "      <th>...</th>\n",
       "      <th>aqfr_cd</th>\n",
       "      <th>aqfr_type_cd</th>\n",
       "      <th>well_depth_va</th>\n",
       "      <th>hole_depth_va</th>\n",
       "      <th>depth_src_cd</th>\n",
       "      <th>project_no</th>\n",
       "      <th>conus1_x</th>\n",
       "      <th>conus1_y</th>\n",
       "      <th>conus2_x</th>\n",
       "      <th>conus2_y</th>\n",
       "    </tr>\n",
       "    <tr>\n",
       "      <th>site_id</th>\n",
       "      <th></th>\n",
       "      <th></th>\n",
       "      <th></th>\n",
       "      <th></th>\n",
       "      <th></th>\n",
       "      <th></th>\n",
       "      <th></th>\n",
       "      <th></th>\n",
       "      <th></th>\n",
       "      <th></th>\n",
       "      <th></th>\n",
       "      <th></th>\n",
       "      <th></th>\n",
       "      <th></th>\n",
       "      <th></th>\n",
       "      <th></th>\n",
       "      <th></th>\n",
       "      <th></th>\n",
       "      <th></th>\n",
       "      <th></th>\n",
       "      <th></th>\n",
       "    </tr>\n",
       "  </thead>\n",
       "  <tbody>\n",
       "    <tr>\n",
       "      <th>251241080385302</th>\n",
       "      <td>groundwater well</td>\n",
       "      <td>USGS</td>\n",
       "      <td>G  -3763</td>\n",
       "      <td>2.512411e+14</td>\n",
       "      <td>https://waterservices.usgs.gov/nwis/site/?form...</td>\n",
       "      <td>2023-03-08</td>\n",
       "      <td>25.210000</td>\n",
       "      <td>-80.647778</td>\n",
       "      <td>FL</td>\n",
       "      <td>3090202.0</td>\n",
       "      <td>...</td>\n",
       "      <td>112BSCNN</td>\n",
       "      <td>NaN</td>\n",
       "      <td>22.40</td>\n",
       "      <td>NaN</td>\n",
       "      <td>NaN</td>\n",
       "      <td>NaN</td>\n",
       "      <td>NaN</td>\n",
       "      <td>NaN</td>\n",
       "      <td>3880.0</td>\n",
       "      <td>209.0</td>\n",
       "    </tr>\n",
       "    <tr>\n",
       "      <th>251922080340701</th>\n",
       "      <td>groundwater well</td>\n",
       "      <td>USGS</td>\n",
       "      <td>G  -1251</td>\n",
       "      <td>2.519221e+14</td>\n",
       "      <td>https://waterservices.usgs.gov/nwis/site/?form...</td>\n",
       "      <td>2023-03-08</td>\n",
       "      <td>25.321083</td>\n",
       "      <td>-80.565750</td>\n",
       "      <td>FL</td>\n",
       "      <td>3090202.0</td>\n",
       "      <td>...</td>\n",
       "      <td>112BSCNN</td>\n",
       "      <td>U</td>\n",
       "      <td>59.00</td>\n",
       "      <td>NaN</td>\n",
       "      <td>NaN</td>\n",
       "      <td>2080-00200</td>\n",
       "      <td>NaN</td>\n",
       "      <td>NaN</td>\n",
       "      <td>3886.0</td>\n",
       "      <td>223.0</td>\n",
       "    </tr>\n",
       "    <tr>\n",
       "      <th>252007080335701</th>\n",
       "      <td>groundwater well</td>\n",
       "      <td>USGS</td>\n",
       "      <td>G  -3336</td>\n",
       "      <td>2.520071e+14</td>\n",
       "      <td>https://waterservices.usgs.gov/nwis/site/?form...</td>\n",
       "      <td>2023-03-08</td>\n",
       "      <td>25.337806</td>\n",
       "      <td>-80.565639</td>\n",
       "      <td>FL</td>\n",
       "      <td>3090202.0</td>\n",
       "      <td>...</td>\n",
       "      <td>112BSCNN</td>\n",
       "      <td>U</td>\n",
       "      <td>38.00</td>\n",
       "      <td>NaN</td>\n",
       "      <td>NaN</td>\n",
       "      <td>2080-00200</td>\n",
       "      <td>NaN</td>\n",
       "      <td>NaN</td>\n",
       "      <td>3886.0</td>\n",
       "      <td>224.0</td>\n",
       "    </tr>\n",
       "    <tr>\n",
       "      <th>252243080335501</th>\n",
       "      <td>groundwater well</td>\n",
       "      <td>USGS</td>\n",
       "      <td>G  -3619</td>\n",
       "      <td>2.522431e+14</td>\n",
       "      <td>https://waterservices.usgs.gov/nwis/site/?form...</td>\n",
       "      <td>2023-03-08</td>\n",
       "      <td>25.378972</td>\n",
       "      <td>-80.565361</td>\n",
       "      <td>FL</td>\n",
       "      <td>3090202.0</td>\n",
       "      <td>...</td>\n",
       "      <td>112BSCNN</td>\n",
       "      <td>U</td>\n",
       "      <td>12.00</td>\n",
       "      <td>12.0</td>\n",
       "      <td>A</td>\n",
       "      <td>2080-00200</td>\n",
       "      <td>NaN</td>\n",
       "      <td>NaN</td>\n",
       "      <td>3885.0</td>\n",
       "      <td>229.0</td>\n",
       "    </tr>\n",
       "    <tr>\n",
       "      <th>252332080300501</th>\n",
       "      <td>groundwater well</td>\n",
       "      <td>USGS</td>\n",
       "      <td>G  -3355</td>\n",
       "      <td>2.523321e+14</td>\n",
       "      <td>https://waterservices.usgs.gov/nwis/site/?form...</td>\n",
       "      <td>2023-03-08</td>\n",
       "      <td>25.393306</td>\n",
       "      <td>-80.500917</td>\n",
       "      <td>FL</td>\n",
       "      <td>3090202.0</td>\n",
       "      <td>...</td>\n",
       "      <td>112BSCNN</td>\n",
       "      <td>U</td>\n",
       "      <td>13.00</td>\n",
       "      <td>NaN</td>\n",
       "      <td>NaN</td>\n",
       "      <td>2080-00200</td>\n",
       "      <td>NaN</td>\n",
       "      <td>NaN</td>\n",
       "      <td>3891.0</td>\n",
       "      <td>232.0</td>\n",
       "    </tr>\n",
       "    <tr>\n",
       "      <th>...</th>\n",
       "      <td>...</td>\n",
       "      <td>...</td>\n",
       "      <td>...</td>\n",
       "      <td>...</td>\n",
       "      <td>...</td>\n",
       "      <td>...</td>\n",
       "      <td>...</td>\n",
       "      <td>...</td>\n",
       "      <td>...</td>\n",
       "      <td>...</td>\n",
       "      <td>...</td>\n",
       "      <td>...</td>\n",
       "      <td>...</td>\n",
       "      <td>...</td>\n",
       "      <td>...</td>\n",
       "      <td>...</td>\n",
       "      <td>...</td>\n",
       "      <td>...</td>\n",
       "      <td>...</td>\n",
       "      <td>...</td>\n",
       "      <td>...</td>\n",
       "    </tr>\n",
       "    <tr>\n",
       "      <th>485904116303701</th>\n",
       "      <td>groundwater well</td>\n",
       "      <td>USGS</td>\n",
       "      <td>65N 01W 18DAB1</td>\n",
       "      <td>4.859041e+14</td>\n",
       "      <td>https://waterservices.usgs.gov/nwis/site/?form...</td>\n",
       "      <td>2023-03-08</td>\n",
       "      <td>48.984464</td>\n",
       "      <td>-116.511481</td>\n",
       "      <td>ID</td>\n",
       "      <td>17010104.0</td>\n",
       "      <td>...</td>\n",
       "      <td>NaN</td>\n",
       "      <td>NaN</td>\n",
       "      <td>27.00</td>\n",
       "      <td>28.0</td>\n",
       "      <td>S</td>\n",
       "      <td>ID-02-05101</td>\n",
       "      <td>381.0</td>\n",
       "      <td>1885.0</td>\n",
       "      <td>844.0</td>\n",
       "      <td>2801.0</td>\n",
       "    </tr>\n",
       "    <tr>\n",
       "      <th>485904116303702</th>\n",
       "      <td>groundwater well</td>\n",
       "      <td>USGS</td>\n",
       "      <td>65N 01W 18DAB2</td>\n",
       "      <td>4.859041e+14</td>\n",
       "      <td>https://waterservices.usgs.gov/nwis/site/?form...</td>\n",
       "      <td>2023-03-08</td>\n",
       "      <td>48.984464</td>\n",
       "      <td>-116.511481</td>\n",
       "      <td>ID</td>\n",
       "      <td>17010104.0</td>\n",
       "      <td>...</td>\n",
       "      <td>NaN</td>\n",
       "      <td>NaN</td>\n",
       "      <td>52.16</td>\n",
       "      <td>55.0</td>\n",
       "      <td>S</td>\n",
       "      <td>ID-02-05101</td>\n",
       "      <td>381.0</td>\n",
       "      <td>1885.0</td>\n",
       "      <td>844.0</td>\n",
       "      <td>2801.0</td>\n",
       "    </tr>\n",
       "    <tr>\n",
       "      <th>485906116313101</th>\n",
       "      <td>groundwater well</td>\n",
       "      <td>USGS</td>\n",
       "      <td>65N 01W 18CBB1</td>\n",
       "      <td>4.859061e+14</td>\n",
       "      <td>https://waterservices.usgs.gov/nwis/site/?form...</td>\n",
       "      <td>2023-03-08</td>\n",
       "      <td>48.985183</td>\n",
       "      <td>-116.526367</td>\n",
       "      <td>ID</td>\n",
       "      <td>17010104.0</td>\n",
       "      <td>...</td>\n",
       "      <td>NaN</td>\n",
       "      <td>NaN</td>\n",
       "      <td>27.35</td>\n",
       "      <td>28.0</td>\n",
       "      <td>S</td>\n",
       "      <td>ID-02-05101</td>\n",
       "      <td>380.0</td>\n",
       "      <td>1885.0</td>\n",
       "      <td>843.0</td>\n",
       "      <td>2802.0</td>\n",
       "    </tr>\n",
       "    <tr>\n",
       "      <th>485907116294701</th>\n",
       "      <td>groundwater well</td>\n",
       "      <td>USGS</td>\n",
       "      <td>65N 01W 17BDD1</td>\n",
       "      <td>4.859071e+14</td>\n",
       "      <td>https://waterservices.usgs.gov/nwis/site/?form...</td>\n",
       "      <td>2023-03-08</td>\n",
       "      <td>48.985353</td>\n",
       "      <td>-116.497453</td>\n",
       "      <td>ID</td>\n",
       "      <td>17010104.0</td>\n",
       "      <td>...</td>\n",
       "      <td>NaN</td>\n",
       "      <td>NaN</td>\n",
       "      <td>26.93</td>\n",
       "      <td>27.0</td>\n",
       "      <td>S</td>\n",
       "      <td>ID-02-05101</td>\n",
       "      <td>382.0</td>\n",
       "      <td>1885.0</td>\n",
       "      <td>845.0</td>\n",
       "      <td>2801.0</td>\n",
       "    </tr>\n",
       "    <tr>\n",
       "      <th>485917122241901</th>\n",
       "      <td>groundwater well</td>\n",
       "      <td>USGS</td>\n",
       "      <td>40N/03E-03G02 AG06</td>\n",
       "      <td>4.859171e+14</td>\n",
       "      <td>https://waterservices.usgs.gov/nwis/site/?form...</td>\n",
       "      <td>2023-03-08</td>\n",
       "      <td>48.987842</td>\n",
       "      <td>-122.406750</td>\n",
       "      <td>WA</td>\n",
       "      <td>17110004.0</td>\n",
       "      <td>...</td>\n",
       "      <td>112SUMS</td>\n",
       "      <td>U</td>\n",
       "      <td>28.00</td>\n",
       "      <td>29.0</td>\n",
       "      <td>D</td>\n",
       "      <td>WA38900</td>\n",
       "      <td>NaN</td>\n",
       "      <td>NaN</td>\n",
       "      <td>444.0</td>\n",
       "      <td>2917.0</td>\n",
       "    </tr>\n",
       "  </tbody>\n",
       "</table>\n",
       "<p>33808 rows × 61 columns</p>\n",
       "</div>"
      ],
      "text/plain": [
       "                        site_type agency           site_name  site_id_agency  \\\n",
       "site_id                                                                        \n",
       "251241080385302  groundwater well   USGS            G  -3763    2.512411e+14   \n",
       "251922080340701  groundwater well   USGS            G  -1251    2.519221e+14   \n",
       "252007080335701  groundwater well   USGS            G  -3336    2.520071e+14   \n",
       "252243080335501  groundwater well   USGS            G  -3619    2.522431e+14   \n",
       "252332080300501  groundwater well   USGS            G  -3355    2.523321e+14   \n",
       "...                           ...    ...                 ...             ...   \n",
       "485904116303701  groundwater well   USGS      65N 01W 18DAB1    4.859041e+14   \n",
       "485904116303702  groundwater well   USGS      65N 01W 18DAB2    4.859041e+14   \n",
       "485906116313101  groundwater well   USGS      65N 01W 18CBB1    4.859061e+14   \n",
       "485907116294701  groundwater well   USGS      65N 01W 17BDD1    4.859071e+14   \n",
       "485917122241901  groundwater well   USGS  40N/03E-03G02 AG06    4.859171e+14   \n",
       "\n",
       "                                                    site_query_url  \\\n",
       "site_id                                                              \n",
       "251241080385302  https://waterservices.usgs.gov/nwis/site/?form...   \n",
       "251922080340701  https://waterservices.usgs.gov/nwis/site/?form...   \n",
       "252007080335701  https://waterservices.usgs.gov/nwis/site/?form...   \n",
       "252243080335501  https://waterservices.usgs.gov/nwis/site/?form...   \n",
       "252332080300501  https://waterservices.usgs.gov/nwis/site/?form...   \n",
       "...                                                            ...   \n",
       "485904116303701  https://waterservices.usgs.gov/nwis/site/?form...   \n",
       "485904116303702  https://waterservices.usgs.gov/nwis/site/?form...   \n",
       "485906116313101  https://waterservices.usgs.gov/nwis/site/?form...   \n",
       "485907116294701  https://waterservices.usgs.gov/nwis/site/?form...   \n",
       "485917122241901  https://waterservices.usgs.gov/nwis/site/?form...   \n",
       "\n",
       "                date_metadata_last_updated   latitude   longitude state  \\\n",
       "site_id                                                                   \n",
       "251241080385302                 2023-03-08  25.210000  -80.647778    FL   \n",
       "251922080340701                 2023-03-08  25.321083  -80.565750    FL   \n",
       "252007080335701                 2023-03-08  25.337806  -80.565639    FL   \n",
       "252243080335501                 2023-03-08  25.378972  -80.565361    FL   \n",
       "252332080300501                 2023-03-08  25.393306  -80.500917    FL   \n",
       "...                                    ...        ...         ...   ...   \n",
       "485904116303701                 2023-03-08  48.984464 -116.511481    ID   \n",
       "485904116303702                 2023-03-08  48.984464 -116.511481    ID   \n",
       "485906116313101                 2023-03-08  48.985183 -116.526367    ID   \n",
       "485907116294701                 2023-03-08  48.985353 -116.497453    ID   \n",
       "485917122241901                 2023-03-08  48.987842 -122.406750    WA   \n",
       "\n",
       "                        huc  ...   aqfr_cd  aqfr_type_cd  well_depth_va  \\\n",
       "site_id                      ...                                          \n",
       "251241080385302   3090202.0  ...  112BSCNN           NaN          22.40   \n",
       "251922080340701   3090202.0  ...  112BSCNN             U          59.00   \n",
       "252007080335701   3090202.0  ...  112BSCNN             U          38.00   \n",
       "252243080335501   3090202.0  ...  112BSCNN             U          12.00   \n",
       "252332080300501   3090202.0  ...  112BSCNN             U          13.00   \n",
       "...                     ...  ...       ...           ...            ...   \n",
       "485904116303701  17010104.0  ...       NaN           NaN          27.00   \n",
       "485904116303702  17010104.0  ...       NaN           NaN          52.16   \n",
       "485906116313101  17010104.0  ...       NaN           NaN          27.35   \n",
       "485907116294701  17010104.0  ...       NaN           NaN          26.93   \n",
       "485917122241901  17110004.0  ...   112SUMS             U          28.00   \n",
       "\n",
       "                 hole_depth_va  depth_src_cd   project_no conus1_x  conus1_y  \\\n",
       "site_id                                                                        \n",
       "251241080385302            NaN           NaN          NaN      NaN       NaN   \n",
       "251922080340701            NaN           NaN   2080-00200      NaN       NaN   \n",
       "252007080335701            NaN           NaN   2080-00200      NaN       NaN   \n",
       "252243080335501           12.0             A   2080-00200      NaN       NaN   \n",
       "252332080300501            NaN           NaN   2080-00200      NaN       NaN   \n",
       "...                        ...           ...          ...      ...       ...   \n",
       "485904116303701           28.0             S  ID-02-05101    381.0    1885.0   \n",
       "485904116303702           55.0             S  ID-02-05101    381.0    1885.0   \n",
       "485906116313101           28.0             S  ID-02-05101    380.0    1885.0   \n",
       "485907116294701           27.0             S  ID-02-05101    382.0    1885.0   \n",
       "485917122241901           29.0             D      WA38900      NaN       NaN   \n",
       "\n",
       "                 conus2_x conus2_y  \n",
       "site_id                             \n",
       "251241080385302    3880.0    209.0  \n",
       "251922080340701    3886.0    223.0  \n",
       "252007080335701    3886.0    224.0  \n",
       "252243080335501    3885.0    229.0  \n",
       "252332080300501    3891.0    232.0  \n",
       "...                   ...      ...  \n",
       "485904116303701     844.0   2801.0  \n",
       "485904116303702     844.0   2801.0  \n",
       "485906116313101     843.0   2802.0  \n",
       "485907116294701     845.0   2801.0  \n",
       "485917122241901     444.0   2917.0  \n",
       "\n",
       "[33808 rows x 61 columns]"
      ]
     },
     "execution_count": 58,
     "metadata": {},
     "output_type": "execute_result"
    }
   ],
   "source": [
    "# parse down metadata df to include the same stations as the final ParFlow matched df\n",
    "metadata_new = metadata[metadata.index.isin(pf_match_df_new.index)]\n",
    "metadata_new"
   ]
  },
  {
   "cell_type": "code",
   "execution_count": 59,
   "metadata": {},
   "outputs": [],
   "source": [
    "# save the newly matched daily average, observations, and metadata as csv's\n",
    "pf_match_df_new.to_csv(f'{organized_dir}/{pf_matched_csv}', sep = \",\")\n",
    "obs_data_new.to_csv(f'{organized_dir}/{snotel_matched_csv}', sep = \",\")\n",
    "metadata_new.to_csv(f'{organized_dir}/{metadata_matched_csv}', sep = \",\")"
   ]
  },
  {
   "cell_type": "markdown",
   "metadata": {},
   "source": [
    "# 3. Compute and save stats"
   ]
  },
  {
   "cell_type": "code",
   "execution_count": null,
   "metadata": {},
   "outputs": [],
   "source": [
    "from sklearn.metrics import mean_squared_error, r2_score, mean_absolute_error\n",
    "from math import sqrt\n",
    "from scipy import stats"
   ]
  },
  {
   "cell_type": "code",
   "execution_count": null,
   "metadata": {},
   "outputs": [],
   "source": [
    "### read in CONUS2 daily matched csv\n",
    "# Precipitation in mm (OR mm/s???)\n",
    "pfdata = pd.read_csv(f'{organized_dir}/{pf_matched_csv}',index_col=['site_id'])\n",
    "print(pfdata.shape)\n",
    "pfdata.head()"
   ]
  },
  {
   "cell_type": "code",
   "execution_count": null,
   "metadata": {},
   "outputs": [],
   "source": [
    "### read in matched csv\n",
    "snotel_data= pd.read_csv(f'{organized_dir}/{snotel_matched_csv}',index_col=['site_id']) \n",
    "print(snotel_data.shape)\n",
    "snotel_data.head()"
   ]
  },
  {
   "cell_type": "code",
   "execution_count": null,
   "metadata": {},
   "outputs": [],
   "source": [
    "### read in SNOTEL Temperature metadata for all stations \n",
    "snotel_metadata = pd.read_csv(f'{organized_dir}/{metadata_matched_csv}',index_col=['site_id'])\n",
    "print(snotel_metadata.shape)\n",
    "snotel_metadata.head()"
   ]
  },
  {
   "cell_type": "code",
   "execution_count": null,
   "metadata": {},
   "outputs": [],
   "source": [
    "# set up DF for daily stats, index is station site_id\n",
    "stats_df = pd.DataFrame(index = snotel_metadata.index, columns = ['site_name', 'state', 'latitude', 'longitude', 'conus2_x','conus2_y']) \n",
    "#, 'bias', 'pbias','absrelbias', 'relbias','srho', 'r2', 'mse', 'rmse', 'nse',scaled RMSE\n",
    "\n",
    "stats_df['site_name'] = snotel_metadata['site_name']\n",
    "stats_df['state'] = snotel_metadata['state']\n",
    "stats_df['latitude'] = snotel_metadata['latitude']\n",
    "stats_df['longitude'] = snotel_metadata['longitude']\n",
    "stats_df['conus2_x'] = snotel_metadata['conus2_x'].astype(int)\n",
    "stats_df['conus2_y'] = snotel_metadata['conus2_y'].astype(int)\n",
    "print(stats_df.shape)\n",
    "stats_df.head()"
   ]
  },
  {
   "cell_type": "code",
   "execution_count": null,
   "metadata": {},
   "outputs": [],
   "source": [
    "# compute annual average for observations\n",
    "# calculate \"yearly average\" by dividing annual sum by num_obs (note not all sites have 365 observations)\n",
    "snotel_Temp_sum = snotel_data.sum(axis=1)\n",
    "\n",
    "### CHANGE THE NAMES OF THESE COLUMN HEADERS ###\n",
    "stats_df['SNOTEL_meanTotal_P_mm'] = snotel_Temp_sum/snotel_metadata.num_obs\n",
    "stats_df['CW3E_meanTotal_P_mm'] = np.mean(pfdata, axis = 1)"
   ]
  },
  {
   "cell_type": "code",
   "execution_count": null,
   "metadata": {},
   "outputs": [],
   "source": [
    "# Set up array for stats\n",
    "r2_daily = np.zeros(len(pfdata.index))\n",
    "srho_daily = np.zeros(len(pfdata.index))\n",
    "pval_daily = np.zeros(len(pfdata.index))\n",
    "mse_daily = np.zeros(len(pfdata.index))\n",
    "rmse_daily = np.zeros(len(pfdata.index))\n",
    "nse_daily = np.zeros(len(pfdata.index))\n",
    "bias_daily = np.zeros(len(pfdata.index))\n",
    "pbias_daily = np.zeros(len(pfdata.index))\n",
    "pbias_test = np.zeros(len(pfdata.index))\n",
    "absrelbias_daily = np.zeros(len(pfdata.index))\n",
    "relbias_daily = np.zeros(len(pfdata.index))\n",
    "r2_daily.shape"
   ]
  },
  {
   "cell_type": "code",
   "execution_count": null,
   "metadata": {},
   "outputs": [],
   "source": [
    "for g in range(len(pfdata.index)):\n",
    "    gage = pfdata.index[g]\n",
    "    absrelbias_daily[g] = abs((pfdata.loc[gage].sum()-snotel_data.loc[gage].sum())/snotel_data.loc[gage].sum()) #absolute relative bias\n",
    "    bias_daily[g] = (pfdata.loc[gage].sum()-snotel_data.loc[gage].sum())/snotel_data.loc[gage].sum()\n",
    "    pbias_daily[g] = bias_daily[g]*100\n",
    "    srho_daily[g], pval_daily[g] = stats.spearmanr(snotel_data.loc[gage], pfdata.loc[gage])\n",
    "    # mse_daily[g] = mean_squared_error(usgs_flow_matched.loc[gage], pf_flow_matched.loc[gage])\n",
    "    #rmse_daily[g] = sqrt(mean_squared_error(snotel_data.loc[gage], pfdata.loc[gage]))\n",
    "    #r2_daily[g] = r2_score(snotel_data.loc[gage], pfdata.loc[gage])"
   ]
  },
  {
   "cell_type": "code",
   "execution_count": null,
   "metadata": {},
   "outputs": [],
   "source": [
    "# assign arrays to pandas columns in stats_df\n",
    "stats_df['absrelbias'] = absrelbias_daily\n",
    "stats_df['bias'] = bias_daily\n",
    "stats_df['pbias'] = pbias_daily\n",
    "stats_df['srho'] = srho_daily\n",
    "# stats_df['r2'] = r2_daily\n",
    "# stats_df['rmse'] = rmse_daily\n",
    "# stats_df['mse'] = mse_daily"
   ]
  },
  {
   "cell_type": "code",
   "execution_count": null,
   "metadata": {},
   "outputs": [],
   "source": [
    "stats_df.head()"
   ]
  },
  {
   "cell_type": "code",
   "execution_count": null,
   "metadata": {},
   "outputs": [],
   "source": [
    "stats_df.to_csv(f'{organized_dir}/{summary_stats_csv}')"
   ]
  },
  {
   "cell_type": "markdown",
   "metadata": {},
   "source": [
    "# 4. Plotting Results"
   ]
  },
  {
   "cell_type": "code",
   "execution_count": null,
   "metadata": {},
   "outputs": [],
   "source": [
    "#from parflow.tools.io import read_pfb,write_pfb\n",
    "import numpy as np\n",
    "import pandas as pd\n",
    "import matplotlib.pyplot as plt\n",
    "import matplotlib.dates as mdates\n",
    "import datetime as dt\n",
    "#import geopandas as gpd\n",
    "from PIL import Image\n",
    "from mpl_toolkits.basemap import Basemap as Basemap"
   ]
  },
  {
   "cell_type": "code",
   "execution_count": null,
   "metadata": {},
   "outputs": [],
   "source": [
    "# Read in CONUS2 mask and HUC2 png for map plot border and HUC2 outlines\n",
    "CONUS2_mask = Image.open('/hydrodata/PFCLM/CONUS2_baseline/inputs/domain_files/CONUS2.0.Final1km.Mask.tif')\n",
    "mask_array = np.array(CONUS2_mask)\n",
    "HUC2_outline = Image.open('/hydrodata/temp/CONUS2_transfers/CONUS2/CONUS2_from_ucsm0002/domain_files/CONUS2_outline_with_HUC2_noSqrBorder.png')"
   ]
  },
  {
   "cell_type": "code",
   "execution_count": null,
   "metadata": {},
   "outputs": [],
   "source": [
    "# # Read in CONUS2 mask for map plot border\n",
    "# CONUS2_mask = Image.open('/hydrodata/PFCLM/CONUS2_baseline/inputs/domain_files/CONUS2.0.Final1km.Mask.tif')\n",
    "# #CONUS2_mask = Image.open('/home/dtt2/CONUS2/shape_files/CONUS2_HUC2_boundaries_clipped.tif')\n",
    "# mask_array = np.array(CONUS2_mask)"
   ]
  },
  {
   "cell_type": "code",
   "execution_count": null,
   "metadata": {},
   "outputs": [],
   "source": [
    "### read in summary stats (from section 3)\n",
    "stats_df = pd.read_csv(f'{organized_dir}/{summary_stats_csv}',index_col=['site_id']) \n",
    "stats_df.head()"
   ]
  },
  {
   "cell_type": "markdown",
   "metadata": {},
   "source": [
    "### Summary plots of stats"
   ]
  },
  {
   "cell_type": "code",
   "execution_count": null,
   "metadata": {},
   "outputs": [],
   "source": [
    "summary_plot_dir = 'summary_plots_precip'\n",
    "timeseries_plot_dir = 'Timeseries_2003_Precip_SNOTEL'"
   ]
  },
  {
   "cell_type": "code",
   "execution_count": null,
   "metadata": {},
   "outputs": [],
   "source": [
    "### Absolute Relative Bias\n",
    "### Good values are closer to 0.0\n",
    "fig, ax = plt.subplots(1,1,figsize=(16,9))\n",
    "im = ax.imshow(HUC2_outline, extent=[0, 4442, 0, 3256],zorder=2)\n",
    "points = ax.scatter(stats_df.conus2_x,stats_df.conus2_y, c=stats_df.absrelbias, zorder=1, s=30, vmax = 1, vmin = -1) #\n",
    "plt.title(f'SNOTEL-CW3E {variable} absolute relative bias, WY{water_year}', fontsize=14)\n",
    "plt.colorbar(points)\n",
    "plt.axis('off')\n",
    "# plt.savefig(f'{plot_dir}/{summary_plot_dir}/WY{water_year}_SNOTEL_CW3E_{variable}_AbsRelBias_Map.png',\\\n",
    "#             dpi = 200, facecolor='white', transparent=False, bbox_inches=\"tight\")\n",
    "    "
   ]
  },
  {
   "cell_type": "code",
   "execution_count": null,
   "metadata": {},
   "outputs": [],
   "source": [
    "### Relative Bias\n",
    "### Good values are closer to 0.0, positive is PF overestimation, negative is PF underestimation\n",
    "fig, ax = plt.subplots(1,1,figsize=(16,9))\n",
    "im = ax.imshow(HUC2_outline, extent=[0, 4442, 0, 3256],zorder=2)\n",
    "points = ax.scatter(stats_df.conus2_x,stats_df.conus2_y, c=stats_df.bias, zorder=1, s=30, vmax = 1, vmin = -1) #\n",
    "plt.title(f'SNOTEL-CW3E {variable} absolute relative bias, WY{water_year}', fontsize=14)\n",
    "plt.colorbar(points)\n",
    "plt.axis('off')\n",
    "plt.title(f'SNOTEL-CW3E {variable} relative bias, WY{water_year}')\n",
    "# plt.savefig(f'{plot_dir}/{summary_plot_dir}/WY{water_year}_SNOTEL_CW3E_{variable}_RelBias_Map.png',\\\n",
    "#             dpi = 200, facecolor='white', transparent=False, bbox_inches=\"tight\")\n",
    "    "
   ]
  },
  {
   "cell_type": "code",
   "execution_count": null,
   "metadata": {},
   "outputs": [],
   "source": [
    "fig, ax = plt.subplots(1,1,figsize=(16,9))\n",
    "im = ax.imshow(HUC2_outline, extent=[0, 4442, 0, 3256],zorder=2)\n",
    "points = ax.scatter(stats_df.conus2_x,stats_df.conus2_y, c=stats_df.absrelbias, zorder=1, s=30, vmax = 1, vmin = -1) #\n",
    "plt.title(f'SNOTEL-CW3E {variable} absolute relative bias, WY{water_year}', fontsize=14)\n",
    "plt.colorbar(points)\n",
    "plt.axis('off')\n",
    "plt.title(f'SNOTEL CW3E {variable} Srho, WY{water_year}')\n",
    "# plt.savefig(f'{plot_dir}/WY{water_year}_SNOTEL_CW3E_{variable}_SpearmansRho_Map.png',\\\n",
    "#             dpi = 200, facecolor='white', transparent=False, bbox_inches=\"tight\")\n",
    "    "
   ]
  },
  {
   "cell_type": "code",
   "execution_count": 64,
   "metadata": {},
   "outputs": [
    {
     "data": {
      "text/html": [
       "<div>\n",
       "<style scoped>\n",
       "    .dataframe tbody tr th:only-of-type {\n",
       "        vertical-align: middle;\n",
       "    }\n",
       "\n",
       "    .dataframe tbody tr th {\n",
       "        vertical-align: top;\n",
       "    }\n",
       "\n",
       "    .dataframe thead th {\n",
       "        text-align: right;\n",
       "    }\n",
       "</style>\n",
       "<table border=\"1\" class=\"dataframe\">\n",
       "  <thead>\n",
       "    <tr style=\"text-align: right;\">\n",
       "      <th></th>\n",
       "      <th>wtd</th>\n",
       "    </tr>\n",
       "    <tr>\n",
       "      <th>site_id</th>\n",
       "      <th></th>\n",
       "    </tr>\n",
       "  </thead>\n",
       "  <tbody>\n",
       "    <tr>\n",
       "      <th>251241080385302</th>\n",
       "      <td>0.271272</td>\n",
       "    </tr>\n",
       "    <tr>\n",
       "      <th>251922080340701</th>\n",
       "      <td>0.393573</td>\n",
       "    </tr>\n",
       "    <tr>\n",
       "      <th>252007080335701</th>\n",
       "      <td>0.585978</td>\n",
       "    </tr>\n",
       "    <tr>\n",
       "      <th>252243080335501</th>\n",
       "      <td>0.338328</td>\n",
       "    </tr>\n",
       "    <tr>\n",
       "      <th>252332080300501</th>\n",
       "      <td>0.969264</td>\n",
       "    </tr>\n",
       "    <tr>\n",
       "      <th>...</th>\n",
       "      <td>...</td>\n",
       "    </tr>\n",
       "    <tr>\n",
       "      <th>485904116303701</th>\n",
       "      <td>2.360981</td>\n",
       "    </tr>\n",
       "    <tr>\n",
       "      <th>485904116303702</th>\n",
       "      <td>2.670175</td>\n",
       "    </tr>\n",
       "    <tr>\n",
       "      <th>485906116313101</th>\n",
       "      <td>1.941068</td>\n",
       "    </tr>\n",
       "    <tr>\n",
       "      <th>485907116294701</th>\n",
       "      <td>1.691386</td>\n",
       "    </tr>\n",
       "    <tr>\n",
       "      <th>485917122241901</th>\n",
       "      <td>4.785360</td>\n",
       "    </tr>\n",
       "  </tbody>\n",
       "</table>\n",
       "<p>33808 rows × 1 columns</p>\n",
       "</div>"
      ],
      "text/plain": [
       "                      wtd\n",
       "site_id                  \n",
       "251241080385302  0.271272\n",
       "251922080340701  0.393573\n",
       "252007080335701  0.585978\n",
       "252243080335501  0.338328\n",
       "252332080300501  0.969264\n",
       "...                   ...\n",
       "485904116303701  2.360981\n",
       "485904116303702  2.670175\n",
       "485906116313101  1.941068\n",
       "485907116294701  1.691386\n",
       "485917122241901  4.785360\n",
       "\n",
       "[33808 rows x 1 columns]"
      ]
     },
     "execution_count": 64,
     "metadata": {},
     "output_type": "execute_result"
    }
   ],
   "source": [
    "obs_data_new"
   ]
  },
  {
   "cell_type": "code",
   "execution_count": 65,
   "metadata": {},
   "outputs": [
    {
     "data": {
      "text/html": [
       "<div>\n",
       "<style scoped>\n",
       "    .dataframe tbody tr th:only-of-type {\n",
       "        vertical-align: middle;\n",
       "    }\n",
       "\n",
       "    .dataframe tbody tr th {\n",
       "        vertical-align: top;\n",
       "    }\n",
       "\n",
       "    .dataframe thead th {\n",
       "        text-align: right;\n",
       "    }\n",
       "</style>\n",
       "<table border=\"1\" class=\"dataframe\">\n",
       "  <thead>\n",
       "    <tr style=\"text-align: right;\">\n",
       "      <th></th>\n",
       "      <th>wtd</th>\n",
       "    </tr>\n",
       "    <tr>\n",
       "      <th>site_id</th>\n",
       "      <th></th>\n",
       "    </tr>\n",
       "  </thead>\n",
       "  <tbody>\n",
       "    <tr>\n",
       "      <th>251241080385302</th>\n",
       "      <td>0.680495</td>\n",
       "    </tr>\n",
       "    <tr>\n",
       "      <th>251922080340701</th>\n",
       "      <td>0.793044</td>\n",
       "    </tr>\n",
       "    <tr>\n",
       "      <th>252007080335701</th>\n",
       "      <td>0.829416</td>\n",
       "    </tr>\n",
       "    <tr>\n",
       "      <th>252243080335501</th>\n",
       "      <td>0.766528</td>\n",
       "    </tr>\n",
       "    <tr>\n",
       "      <th>252332080300501</th>\n",
       "      <td>0.569691</td>\n",
       "    </tr>\n",
       "    <tr>\n",
       "      <th>...</th>\n",
       "      <td>...</td>\n",
       "    </tr>\n",
       "    <tr>\n",
       "      <th>485904116303701</th>\n",
       "      <td>0.000182</td>\n",
       "    </tr>\n",
       "    <tr>\n",
       "      <th>485904116303702</th>\n",
       "      <td>0.000182</td>\n",
       "    </tr>\n",
       "    <tr>\n",
       "      <th>485906116313101</th>\n",
       "      <td>0.000232</td>\n",
       "    </tr>\n",
       "    <tr>\n",
       "      <th>485907116294701</th>\n",
       "      <td>0.928640</td>\n",
       "    </tr>\n",
       "    <tr>\n",
       "      <th>485917122241901</th>\n",
       "      <td>0.253269</td>\n",
       "    </tr>\n",
       "  </tbody>\n",
       "</table>\n",
       "<p>33808 rows × 1 columns</p>\n",
       "</div>"
      ],
      "text/plain": [
       "                      wtd\n",
       "site_id                  \n",
       "251241080385302  0.680495\n",
       "251922080340701  0.793044\n",
       "252007080335701  0.829416\n",
       "252243080335501  0.766528\n",
       "252332080300501  0.569691\n",
       "...                   ...\n",
       "485904116303701  0.000182\n",
       "485904116303702  0.000182\n",
       "485906116313101  0.000232\n",
       "485907116294701  0.928640\n",
       "485917122241901  0.253269\n",
       "\n",
       "[33808 rows x 1 columns]"
      ]
     },
     "execution_count": 65,
     "metadata": {},
     "output_type": "execute_result"
    }
   ],
   "source": [
    "pf_match_df_new"
   ]
  },
  {
   "cell_type": "code",
   "execution_count": 67,
   "metadata": {},
   "outputs": [
    {
     "data": {
      "image/png": "[encoded data removed]",
      "text/plain": [
       "<Figure size 720x720 with 1 Axes>"
      ]
     },
     "metadata": {
      "needs_background": "light"
     },
     "output_type": "display_data"
    }
   ],
   "source": [
    "# Scatter plot of daily mean flow for  WY2003, PF vs. USGS\n",
    "fig = plt.figure(figsize=(10,10), dpi=72)\n",
    "ax = fig.add_subplot()\n",
    "\n",
    "#ax.scatter(stats_df['SNOTEL_meanTotal_P_mm'], stats_df['CW3E_meanTotal_P_mm'], color = 'dimgrey')\n",
    "ax.scatter(obs_data_new.wtd, pf_match_df_new.wtd, color = 'dimgrey')\n",
    "#ax.scatter(longTermMean,annual_mean, color = 'dimgrey')\n",
    "#ax.plot(range(300), color = 'lightcoral')\n",
    "plt.ylabel('PF-CONUS2 WTD',fontsize=18)\n",
    "plt.xlabel('Obs WTD',fontsize=18) #from hydrodata\n",
    "#plt.title('Daily total precipitation comparison, WY2003',fontsize=20)\n",
    "ax.set_xscale('log')\n",
    "ax.set_yscale('log')\n",
    "ax.xaxis.set_tick_params(labelsize=16)\n",
    "ax.yaxis.set_tick_params(labelsize=16)\n",
    "# # square plot\n",
    "# ax.set_aspect('equal', adjustable='box')\n",
    "#plt.savefig(f'{plot_dir}/{summary_plot_dir}/SNOTEL_CW3E_totalPrecip_scatter_WY{water_year}.png')\n"
   ]
  },
  {
   "cell_type": "code",
   "execution_count": 63,
   "metadata": {},
   "outputs": [
    {
     "ename": "ValueError",
     "evalue": "color kwarg must have one color per data set. 33808 data sets and 1 colors were provided",
     "output_type": "error",
     "traceback": [
      "\u001b[0;31m---------------------------------------------------------------------------\u001b[0m",
      "\u001b[0;31mValueError\u001b[0m                                Traceback (most recent call last)",
      "\u001b[0;32m<ipython-input-63-3f1f1429ef8e>\u001b[0m in \u001b[0;36m<module>\u001b[0;34m\u001b[0m\n\u001b[1;32m      1\u001b[0m \u001b[0mplt\u001b[0m\u001b[0;34m.\u001b[0m\u001b[0mfigure\u001b[0m\u001b[0;34m(\u001b[0m\u001b[0mfigsize\u001b[0m\u001b[0;34m=\u001b[0m\u001b[0;34m(\u001b[0m\u001b[0;36m12\u001b[0m\u001b[0;34m,\u001b[0m\u001b[0;36m6\u001b[0m\u001b[0;34m)\u001b[0m\u001b[0;34m)\u001b[0m\u001b[0;34m\u001b[0m\u001b[0;34m\u001b[0m\u001b[0m\n\u001b[0;32m----> 2\u001b[0;31m \u001b[0mplt\u001b[0m\u001b[0;34m.\u001b[0m\u001b[0mhist\u001b[0m\u001b[0;34m(\u001b[0m\u001b[0mpf_match_df_new\u001b[0m\u001b[0;34m,\u001b[0m \u001b[0mbins\u001b[0m \u001b[0;34m=\u001b[0m \u001b[0;36m50\u001b[0m\u001b[0;34m,\u001b[0m \u001b[0mcolor\u001b[0m\u001b[0;34m=\u001b[0m\u001b[0;34m'r'\u001b[0m\u001b[0;34m,\u001b[0m\u001b[0malpha\u001b[0m\u001b[0;34m=\u001b[0m\u001b[0;36m0.5\u001b[0m\u001b[0;34m,\u001b[0m \u001b[0mlabel\u001b[0m\u001b[0;34m=\u001b[0m\u001b[0;34m'USGS mean'\u001b[0m\u001b[0;34m)\u001b[0m\u001b[0;34m\u001b[0m\u001b[0;34m\u001b[0m\u001b[0m\n\u001b[0m\u001b[1;32m      3\u001b[0m \u001b[0mplt\u001b[0m\u001b[0;34m.\u001b[0m\u001b[0mhist\u001b[0m\u001b[0;34m(\u001b[0m\u001b[0mobs_data_new\u001b[0m\u001b[0;34m,\u001b[0m \u001b[0mbins\u001b[0m \u001b[0;34m=\u001b[0m \u001b[0;36m50\u001b[0m\u001b[0;34m,\u001b[0m \u001b[0mcolor\u001b[0m\u001b[0;34m=\u001b[0m\u001b[0;34m'b'\u001b[0m\u001b[0;34m,\u001b[0m\u001b[0malpha\u001b[0m\u001b[0;34m=\u001b[0m\u001b[0;36m0.5\u001b[0m\u001b[0;34m,\u001b[0m \u001b[0mlabel\u001b[0m\u001b[0;34m=\u001b[0m\u001b[0;34m'ParFlow'\u001b[0m\u001b[0;34m)\u001b[0m\u001b[0;34m\u001b[0m\u001b[0;34m\u001b[0m\u001b[0m\n\u001b[1;32m      4\u001b[0m \u001b[0mplt\u001b[0m\u001b[0;34m.\u001b[0m\u001b[0mxlabel\u001b[0m\u001b[0;34m(\u001b[0m\u001b[0;34m'WTD (m)'\u001b[0m\u001b[0;34m)\u001b[0m\u001b[0;34m\u001b[0m\u001b[0;34m\u001b[0m\u001b[0m\n\u001b[1;32m      5\u001b[0m \u001b[0mplt\u001b[0m\u001b[0;34m.\u001b[0m\u001b[0mlegend\u001b[0m\u001b[0;34m(\u001b[0m\u001b[0;34m)\u001b[0m\u001b[0;34m\u001b[0m\u001b[0;34m\u001b[0m\u001b[0m\n",
      "\u001b[0;32m/home/SHARED/software/anaconda3/2020.07e/lib/python3.8/site-packages/matplotlib/pyplot.py\u001b[0m in \u001b[0;36mhist\u001b[0;34m(x, bins, range, density, weights, cumulative, bottom, histtype, align, orientation, rwidth, log, color, label, stacked, data, **kwargs)\u001b[0m\n\u001b[1;32m   2603\u001b[0m         \u001b[0morientation\u001b[0m\u001b[0;34m=\u001b[0m\u001b[0;34m'vertical'\u001b[0m\u001b[0;34m,\u001b[0m \u001b[0mrwidth\u001b[0m\u001b[0;34m=\u001b[0m\u001b[0;32mNone\u001b[0m\u001b[0;34m,\u001b[0m \u001b[0mlog\u001b[0m\u001b[0;34m=\u001b[0m\u001b[0;32mFalse\u001b[0m\u001b[0;34m,\u001b[0m \u001b[0mcolor\u001b[0m\u001b[0;34m=\u001b[0m\u001b[0;32mNone\u001b[0m\u001b[0;34m,\u001b[0m\u001b[0;34m\u001b[0m\u001b[0;34m\u001b[0m\u001b[0m\n\u001b[1;32m   2604\u001b[0m         label=None, stacked=False, *, data=None, **kwargs):\n\u001b[0;32m-> 2605\u001b[0;31m     return gca().hist(\n\u001b[0m\u001b[1;32m   2606\u001b[0m         \u001b[0mx\u001b[0m\u001b[0;34m,\u001b[0m \u001b[0mbins\u001b[0m\u001b[0;34m=\u001b[0m\u001b[0mbins\u001b[0m\u001b[0;34m,\u001b[0m \u001b[0mrange\u001b[0m\u001b[0;34m=\u001b[0m\u001b[0mrange\u001b[0m\u001b[0;34m,\u001b[0m \u001b[0mdensity\u001b[0m\u001b[0;34m=\u001b[0m\u001b[0mdensity\u001b[0m\u001b[0;34m,\u001b[0m \u001b[0mweights\u001b[0m\u001b[0;34m=\u001b[0m\u001b[0mweights\u001b[0m\u001b[0;34m,\u001b[0m\u001b[0;34m\u001b[0m\u001b[0;34m\u001b[0m\u001b[0m\n\u001b[1;32m   2607\u001b[0m         \u001b[0mcumulative\u001b[0m\u001b[0;34m=\u001b[0m\u001b[0mcumulative\u001b[0m\u001b[0;34m,\u001b[0m \u001b[0mbottom\u001b[0m\u001b[0;34m=\u001b[0m\u001b[0mbottom\u001b[0m\u001b[0;34m,\u001b[0m \u001b[0mhisttype\u001b[0m\u001b[0;34m=\u001b[0m\u001b[0mhisttype\u001b[0m\u001b[0;34m,\u001b[0m\u001b[0;34m\u001b[0m\u001b[0;34m\u001b[0m\u001b[0m\n",
      "\u001b[0;32m/home/SHARED/software/anaconda3/2020.07e/lib/python3.8/site-packages/matplotlib/__init__.py\u001b[0m in \u001b[0;36minner\u001b[0;34m(ax, data, *args, **kwargs)\u001b[0m\n\u001b[1;32m   1563\u001b[0m     \u001b[0;32mdef\u001b[0m \u001b[0minner\u001b[0m\u001b[0;34m(\u001b[0m\u001b[0max\u001b[0m\u001b[0;34m,\u001b[0m \u001b[0;34m*\u001b[0m\u001b[0margs\u001b[0m\u001b[0;34m,\u001b[0m \u001b[0mdata\u001b[0m\u001b[0;34m=\u001b[0m\u001b[0;32mNone\u001b[0m\u001b[0;34m,\u001b[0m \u001b[0;34m**\u001b[0m\u001b[0mkwargs\u001b[0m\u001b[0;34m)\u001b[0m\u001b[0;34m:\u001b[0m\u001b[0;34m\u001b[0m\u001b[0;34m\u001b[0m\u001b[0m\n\u001b[1;32m   1564\u001b[0m         \u001b[0;32mif\u001b[0m \u001b[0mdata\u001b[0m \u001b[0;32mis\u001b[0m \u001b[0;32mNone\u001b[0m\u001b[0;34m:\u001b[0m\u001b[0;34m\u001b[0m\u001b[0;34m\u001b[0m\u001b[0m\n\u001b[0;32m-> 1565\u001b[0;31m             \u001b[0;32mreturn\u001b[0m \u001b[0mfunc\u001b[0m\u001b[0;34m(\u001b[0m\u001b[0max\u001b[0m\u001b[0;34m,\u001b[0m \u001b[0;34m*\u001b[0m\u001b[0mmap\u001b[0m\u001b[0;34m(\u001b[0m\u001b[0msanitize_sequence\u001b[0m\u001b[0;34m,\u001b[0m \u001b[0margs\u001b[0m\u001b[0;34m)\u001b[0m\u001b[0;34m,\u001b[0m \u001b[0;34m**\u001b[0m\u001b[0mkwargs\u001b[0m\u001b[0;34m)\u001b[0m\u001b[0;34m\u001b[0m\u001b[0;34m\u001b[0m\u001b[0m\n\u001b[0m\u001b[1;32m   1566\u001b[0m \u001b[0;34m\u001b[0m\u001b[0m\n\u001b[1;32m   1567\u001b[0m         \u001b[0mbound\u001b[0m \u001b[0;34m=\u001b[0m \u001b[0mnew_sig\u001b[0m\u001b[0;34m.\u001b[0m\u001b[0mbind\u001b[0m\u001b[0;34m(\u001b[0m\u001b[0max\u001b[0m\u001b[0;34m,\u001b[0m \u001b[0;34m*\u001b[0m\u001b[0margs\u001b[0m\u001b[0;34m,\u001b[0m \u001b[0;34m**\u001b[0m\u001b[0mkwargs\u001b[0m\u001b[0;34m)\u001b[0m\u001b[0;34m\u001b[0m\u001b[0;34m\u001b[0m\u001b[0m\n",
      "\u001b[0;32m/home/SHARED/software/anaconda3/2020.07e/lib/python3.8/site-packages/matplotlib/axes/_axes.py\u001b[0m in \u001b[0;36mhist\u001b[0;34m(self, x, bins, range, density, weights, cumulative, bottom, histtype, align, orientation, rwidth, log, color, label, stacked, **kwargs)\u001b[0m\n\u001b[1;32m   6614\u001b[0m                     \u001b[0;34m\"color kwarg must have one color per data set. %d data \"\u001b[0m\u001b[0;34m\u001b[0m\u001b[0;34m\u001b[0m\u001b[0m\n\u001b[1;32m   6615\u001b[0m                     \"sets and %d colors were provided\" % (nx, len(color)))\n\u001b[0;32m-> 6616\u001b[0;31m                 \u001b[0;32mraise\u001b[0m \u001b[0mValueError\u001b[0m\u001b[0;34m(\u001b[0m\u001b[0merror_message\u001b[0m\u001b[0;34m)\u001b[0m\u001b[0;34m\u001b[0m\u001b[0;34m\u001b[0m\u001b[0m\n\u001b[0m\u001b[1;32m   6617\u001b[0m \u001b[0;34m\u001b[0m\u001b[0m\n\u001b[1;32m   6618\u001b[0m         \u001b[0mhist_kwargs\u001b[0m \u001b[0;34m=\u001b[0m \u001b[0mdict\u001b[0m\u001b[0;34m(\u001b[0m\u001b[0;34m)\u001b[0m\u001b[0;34m\u001b[0m\u001b[0;34m\u001b[0m\u001b[0m\n",
      "\u001b[0;31mValueError\u001b[0m: color kwarg must have one color per data set. 33808 data sets and 1 colors were provided"
     ]
    },
    {
     "data": {
      "image/png": "[encoded data removed]",
      "text/plain": [
       "<Figure size 864x432 with 1 Axes>"
      ]
     },
     "metadata": {
      "needs_background": "light"
     },
     "output_type": "display_data"
    }
   ],
   "source": [
    "plt.figure(figsize=(12,6))\n",
    "plt.hist(pf_match_df_new, bins = 50, color='r',alpha=0.5, label='USGS mean')\n",
    "plt.hist(obs_data_new, bins = 50, color='b',alpha=0.5, label='ParFlow')\n",
    "plt.xlabel('WTD (m)')\n",
    "plt.legend()\n",
    "plt.xlim(0,100)\n",
    "# plt.savefig('histogram_domain_USGS.png', dpi=300)"
   ]
  },
  {
   "cell_type": "code",
   "execution_count": null,
   "metadata": {},
   "outputs": [],
   "source": [
    "len(obs_data_new)"
   ]
  },
  {
   "cell_type": "code",
   "execution_count": 68,
   "metadata": {},
   "outputs": [],
   "source": [
    "longTermMean = np.squeeze(read_pfb(f'{organized_dir}/gridded_WTD_mean_obs_CONUS2.pfb'))"
   ]
  },
  {
   "cell_type": "code",
   "execution_count": 69,
   "metadata": {},
   "outputs": [
    {
     "data": {
      "text/plain": [
       "<matplotlib.image.AxesImage at 0x1472a14297f0>"
      ]
     },
     "execution_count": 69,
     "metadata": {},
     "output_type": "execute_result"
    },
    {
     "data": {
      "image/png": "[encoded data removed]",
      "text/plain": [
       "<Figure size 432x288 with 1 Axes>"
      ]
     },
     "metadata": {
      "needs_background": "light"
     },
     "output_type": "display_data"
    }
   ],
   "source": [
    "plt.imshow(longTermMean)"
   ]
  },
  {
   "cell_type": "code",
   "execution_count": 70,
   "metadata": {},
   "outputs": [
    {
     "data": {
      "text/plain": [
       "(3256, 4442)"
      ]
     },
     "execution_count": 70,
     "metadata": {},
     "output_type": "execute_result"
    }
   ],
   "source": [
    "longTermMean.shape"
   ]
  },
  {
   "cell_type": "code",
   "execution_count": 71,
   "metadata": {},
   "outputs": [],
   "source": [
    "annual_mean1 = np.copy(annual_mean)"
   ]
  },
  {
   "cell_type": "code",
   "execution_count": 72,
   "metadata": {},
   "outputs": [],
   "source": [
    "annual_mean1 = annual_mean[np.where(np.isnan(longTermMean)) == 'nan']"
   ]
  },
  {
   "cell_type": "code",
   "execution_count": 73,
   "metadata": {},
   "outputs": [],
   "source": [
    "grid_diff = annual_mean1-longTermMean"
   ]
  },
  {
   "cell_type": "code",
   "execution_count": 82,
   "metadata": {},
   "outputs": [
    {
     "data": {
      "text/plain": [
       "(0.1, 300)"
      ]
     },
     "execution_count": 82,
     "metadata": {},
     "output_type": "execute_result"
    },
    {
     "data": {
      "image/png": "[encoded data removed]",
      "text/plain": [
       "<Figure size 720x720 with 1 Axes>"
      ]
     },
     "metadata": {
      "needs_background": "light"
     },
     "output_type": "display_data"
    }
   ],
   "source": [
    "fig = plt.figure(figsize=(10,10), dpi=72)\n",
    "ax = fig.add_subplot()\n",
    "\n",
    "ax.scatter(longTermMean,annual_mean)\n",
    "ax.set_xscale('log')\n",
    "ax.set_yscale('log')\n",
    "ax.set_xlim(0.1,300)\n",
    "ax.set_ylim(0.1,300)"
   ]
  },
  {
   "cell_type": "code",
   "execution_count": 123,
   "metadata": {},
   "outputs": [],
   "source": [
    "diff = annual_mean-longTermMean"
   ]
  },
  {
   "cell_type": "code",
   "execution_count": 124,
   "metadata": {},
   "outputs": [
    {
     "data": {
      "text/plain": [
       "<matplotlib.image.AxesImage at 0x1472a1897490>"
      ]
     },
     "execution_count": 124,
     "metadata": {},
     "output_type": "execute_result"
    },
    {
     "data": {
      "image/png": "[encoded data removed]",
      "text/plain": [
       "<Figure size 432x288 with 1 Axes>"
      ]
     },
     "metadata": {
      "needs_background": "light"
     },
     "output_type": "display_data"
    }
   ],
   "source": [
    "plt.imshow(diff)"
   ]
  },
  {
   "cell_type": "code",
   "execution_count": 88,
   "metadata": {},
   "outputs": [
    {
     "data": {
      "text/plain": [
       "300.41651749541745"
      ]
     },
     "execution_count": 88,
     "metadata": {},
     "output_type": "execute_result"
    }
   ],
   "source": [
    "annual_mean.max()"
   ]
  },
  {
   "cell_type": "code",
   "execution_count": 95,
   "metadata": {},
   "outputs": [
    {
     "data": {
      "text/plain": [
       "299.9854433684211"
      ]
     },
     "execution_count": 95,
     "metadata": {},
     "output_type": "execute_result"
    }
   ],
   "source": [
    "np.nanmax(longTermMean)"
   ]
  },
  {
   "cell_type": "code",
   "execution_count": 84,
   "metadata": {},
   "outputs": [],
   "source": [
    "#CONUS2 steady state water table depth from Chen\n",
    "C2_wtd = np.load('/home/dtt2/GW_Pumping/wtdepth3.npy')"
   ]
  },
  {
   "cell_type": "code",
   "execution_count": 85,
   "metadata": {},
   "outputs": [
    {
     "data": {
      "text/plain": [
       "(3256, 4442)"
      ]
     },
     "execution_count": 85,
     "metadata": {},
     "output_type": "execute_result"
    }
   ],
   "source": [
    "C2_wtd.shape"
   ]
  },
  {
   "cell_type": "code",
   "execution_count": 94,
   "metadata": {},
   "outputs": [
    {
     "data": {
      "text/plain": [
       "300.4160091059641"
      ]
     },
     "execution_count": 94,
     "metadata": {},
     "output_type": "execute_result"
    }
   ],
   "source": [
    "np.nanmax(C2_wtd)"
   ]
  },
  {
   "cell_type": "code",
   "execution_count": 126,
   "metadata": {},
   "outputs": [
    {
     "data": {
      "text/plain": [
       "<matplotlib.image.AxesImage at 0x1472a1259580>"
      ]
     },
     "execution_count": 126,
     "metadata": {},
     "output_type": "execute_result"
    },
    {
     "data": {
      "image/png": "[encoded data removed]",
      "text/plain": [
       "<Figure size 432x288 with 1 Axes>"
      ]
     },
     "metadata": {
      "needs_background": "light"
     },
     "output_type": "display_data"
    }
   ],
   "source": [
    "plt.imshow(C2_wtd, origin='lower')"
   ]
  },
  {
   "cell_type": "code",
   "execution_count": 106,
   "metadata": {},
   "outputs": [],
   "source": [
    "# difference between transient and steady state WTD\n",
    "# I DON'T KNOW IF CHEN AVERAGED THE WTD (or exactly what she did) BUT THIS IS A COMPARISON TO ANNUAL AVERAGE CONUS2 WTD\n",
    "CONUS2_diff = annual_mean-C2_wtd"
   ]
  },
  {
   "cell_type": "code",
   "execution_count": 125,
   "metadata": {},
   "outputs": [
    {
     "data": {
      "text/plain": [
       "Text(0.5, 1.0, 'CONUS2 Transient Annual Mean minus Steady State WTD')"
      ]
     },
     "execution_count": 125,
     "metadata": {},
     "output_type": "execute_result"
    },
    {
     "data": {
      "image/png": "[encoded data removed]",
      "text/plain": [
       "<Figure size 648x504 with 2 Axes>"
      ]
     },
     "metadata": {
      "needs_background": "light"
     },
     "output_type": "display_data"
    }
   ],
   "source": [
    "plt.figure(figsize = (9,7))\n",
    "plt.imshow(CONUS2_diff, origin='lower',vmin= -1, vmax = 1, interpolation=None, cmap='RdYlBu')\n",
    "plt.colorbar()\n",
    "plt.title('CONUS2 Transient Annual Mean minus Steady State WTD')"
   ]
  },
  {
   "cell_type": "code",
   "execution_count": 112,
   "metadata": {},
   "outputs": [
    {
     "data": {
      "text/plain": [
       "-58.26426305676824"
      ]
     },
     "execution_count": 112,
     "metadata": {},
     "output_type": "execute_result"
    }
   ],
   "source": [
    "np.nanmax(CONUS2_diff)\n",
    "np.nanmin(CONUS2_diff)"
   ]
  },
  {
   "cell_type": "code",
   "execution_count": 114,
   "metadata": {},
   "outputs": [
    {
     "data": {
      "text/plain": [
       "0.23993440239283184"
      ]
     },
     "execution_count": 114,
     "metadata": {},
     "output_type": "execute_result"
    }
   ],
   "source": [
    "np.nanmean(CONUS2_diff)"
   ]
  },
  {
   "cell_type": "code",
   "execution_count": 5,
   "metadata": {},
   "outputs": [],
   "source": [
    "obs_wtds = np.load('/home/dtt2/CONUS2/Chen_WTD_CONUS2-validation/npy/obs_wtds.npy')"
   ]
  },
  {
   "cell_type": "code",
   "execution_count": 8,
   "metadata": {},
   "outputs": [
    {
     "data": {
      "text/plain": [
       "array([0.08903368, 0.36646216, 0.804672  , ..., 6.54580698, 6.3915263 ,\n",
       "       7.0254368 ])"
      ]
     },
     "execution_count": 8,
     "metadata": {},
     "output_type": "execute_result"
    }
   ],
   "source": [
    "obs_wtds"
   ]
  },
  {
   "cell_type": "code",
   "execution_count": null,
   "metadata": {},
   "outputs": [],
   "source": []
  }
 ],
 "metadata": {
  "kernelspec": {
   "display_name": "Python 3",
   "language": "python",
   "name": "python3"
  },
  "language_info": {
   "codemirror_mode": {
    "name": "ipython",
    "version": 3
   },
   "file_extension": ".py",
   "mimetype": "text/x-python",
   "name": "python",
   "nbconvert_exporter": "python",
   "pygments_lexer": "ipython3",
   "version": "3.8.3"
  }
 },
 "nbformat": 4,
 "nbformat_minor": 5
}
