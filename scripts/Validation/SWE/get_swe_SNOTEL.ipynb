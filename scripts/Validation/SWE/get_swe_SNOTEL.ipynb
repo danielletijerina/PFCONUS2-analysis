{
 "cells": [
  {
   "cell_type": "markdown",
   "id": "b486f022-dea1-47d4-9616-b20699d1d7a5",
   "metadata": {},
   "source": [
    "# Get SWE, Air Temp, and Precip from SNOTEL Stations\n",
    "This code was adapted from scripts Amy D wrote and that were used in Reed's CEE306 course. \n",
    "\n",
    "- Gathers SNOTEL metadata\n",
    "- Gathers SNOTEL variables SWE, Temp, and Precip from station\n",
    "\n",
    "Notes:\n",
    "- This currently is configured to only find data for one station, need to rewrite so that it gets SNOTEL data from multiple stations"
   ]
  },
  {
   "cell_type": "code",
   "execution_count": 1,
   "id": "b3610cbf-c54c-42d3-a48d-e0b292f6f68d",
   "metadata": {},
   "outputs": [],
   "source": [
    "# import libraries\n",
    "from zeep import Client\n",
    "from zeep import helpers\n",
    "import pandas as pd\n",
    "import numpy as np\n",
    "import matplotlib.pyplot as plt\n",
    "\n",
    "# set WSDL Client file to zeep.Client object\n",
    "# this retrieves the contents of the WSDL file, which contains 'instructions'\n",
    "# on what types of methods and parameters are available from this Web Service\n",
    "client = Client('https://wcc.sc.egov.usda.gov/awdbWebService/services?WSDL')"
   ]
  },
  {
   "cell_type": "markdown",
   "id": "cda5559f-ee92-4578-95a2-7ea6d83c71b6",
   "metadata": {},
   "source": [
    "The variable `client` is now an object in the zeep package. We now use different methods (provided by zeep) to act on the `client` object for various tasks, such as retriving metadata or obtaining possible measurement sites."
   ]
  },
  {
   "cell_type": "code",
   "execution_count": 3,
   "id": "01a84d6e-3200-4874-86ab-a10112644764",
   "metadata": {},
   "outputs": [
    {
     "name": "stdout",
     "output_type": "stream",
     "text": [
      "['301:CA:SNTL', '907:UT:SNTL', '916:MT:SNTL', '908:WA:SNTL', '1239:CA:SNTLT', '1198:NV:SNTLT', '1062:AK:SNTL', '302:OR:SNTL', '1000:OR:SNTL', '1245:OR:SNTLT', '303:CO:SNTL', '1030:CO:SNTL', '304:OR:SNTL', '305:CO:SNTL', '1165:MT:SNTLT', '306:ID:SNTL', '1308:UT:SNTL', '307:MT:SNTL', '308:AZ:SNTL', '1140:AZ:SNTL', '1240:NV:SNTLT', '447:OR:SNTLT', '309:WY:SNTL', '310:AZ:SNTL', '311:MT:SNTL', '312:ID:SNTL', '1212:AZ:SNTL', '313:MT:SNTL', '1246:OR:SNTLT', '314:WY:SNTL', '315:MT:SNTL', '1190:MT:SNTL', '316:NM:SNTL', '1295:ID:SNTLT', '317:WY:SNTL', '318:MT:SNTL', '319:ID:SNTL', '320:ID:SNTL', '321:NV:SNTL', '1291:OR:SNTLT', '1166:OR:SNTL', '322:CO:SNTL', '323:ID:SNTL', '1061:CO:SNTL', '992:UT:SNTL', '324:ID:SNTL', '325:WY:SNTL', '326:WY:SNTL', '327:CO:SNTL', '1041:CO:SNTL', '328:MT:SNTL', '329:UT:SNTL', '330:UT:SNTL', '902:AZ:SNTL', '990:WA:SNTL', '331:OR:SNTL', '1143:AZ:SNTL', '332:UT:SNTL', '333:UT:SNTL', '334:NV:SNTL', '335:CO:SNTL', '1214:UT:SNTL', '336:NV:SNTL', '337:NV:SNTL', '338:ID:SNTL', '339:UT:SNTL', '931:WY:SNTL', '340:NV:SNTL', '341:OR:SNTL', '342:WY:SNTL', '1229:OR:SNTLT', '343:OR:SNTL', '344:OR:SNTL', '1155:NV:SNTL', '345:CO:SNTL', '346:MT:SNTL', '347:MT:SNTL', '348:UT:SNTL', '1185:CO:SNTL', '1161:CO:SNTL', '349:MT:SNTL', '1119:WY:SNTL', '1162:UT:SNTL', '1144:MT:SNTL', '350:WY:SNTL', '351:OR:SNTL', '352:WA:SNTL', '353:WY:SNTL', '354:SD:SNTL', '355:MT:SNTL', '356:CA:SNTL', '357:OR:SNTL', '1278:UT:SNTL', '978:ID:SNTL', '358:WY:SNTL', '359:ID:SNTL', '360:MT:SNTL', '361:OR:SNTL', '362:OR:SNTL', '363:MT:SNTL', '364:UT:SNTL', '1156:UT:SNTL', '365:MT:SNTL', '1154:UT:SNTL', '366:UT:SNTL', '1111:NV:SNTL', '367:WY:SNTL', '368:UT:SNTL', '1080:WA:SNTL', '369:CO:SNTL', '370:ID:SNTL', '371:UT:SNTL', '1192:UT:SNTL', '1153:UT:SNTL', '1107:WA:SNTL', '938:CO:SNTL', '1292:OR:SNTLT', '373:NV:SNTL', '913:CO:SNTL', '374:UT:SNTL', '1293:ID:SNTLT', '375:WA:SNTL', '376:WA:SNTL', '377:WY:SNTL', '1051:CA:SNTL', '942:WA:SNTL', '981:MT:SNTL', '378:CO:SNTL', '379:WY:SNTL', '1135:UT:SNTL', '380:CO:SNTL', '1109:WA:SNTL', '1289:OR:SNTLT', '381:MT:SNTL', '382:ID:SNTL', '383:UT:SNTL', '384:WY:SNTL', '385:MT:SNTL', '1067:CA:SNTL', '386:CO:SNTL', '387:CO:SNTL', '1039:UT:SNTL', '388:OR:SNTL', '389:WY:SNTL', '1130:WY:SNTL', '390:UT:SNTL', '1152:NV:SNTL', '1085:WA:SNTL', '391:CA:SNTL', '1139:AZ:SNTL', '392:UT:SNTL', '393:UT:SNTL', '394:NM:SNTL', '1101:CO:SNTL', '395:OR:SNTL', '396:UT:SNTL', '1312:MT:SNTL', '895:ID:SNTL', '1046:WY:SNTL', '398:OR:SNTL', '983:UT:SNTL', '399:UT:SNTL', '400:UT:SNTL', '401:OR:SNTL', '402:WY:SNTL', '403:MT:SNTL', '1059:CO:SNTL', '405:WY:SNTL', '406:OR:SNTL', '982:WY:SNTL', '407:MT:SNTL', '1204:NV:SNTL', '408:CO:SNTL', '409:CO:SNTL', '904:CO:SNTL', '410:MT:SNTL', '411:ID:SNTL', '412:CO:SNTL', '413:MT:SNTL', '414:MT:SNTL', '415:CO:SNTL', '1209:NV:SNTL', '416:AZ:SNTL', '1236:UT:SNTL', '417:NV:SNTL', '418:WA:SNTL', '419:WY:SNTL', '1281:CO:SNTLT', '1306:ID:SNTL', '420:WA:SNTL', '422:OR:SNTL', '1273:OR:SNTLT', '423:ID:SNTL', '424:ID:SNTL', '425:ID:SNTL', '1010:OR:SNTL', '426:CO:SNTL', '1045:WY:SNTL', '977:CA:SNTL', '427:MT:SNTL', '428:CA:SNTL', '430:CO:SNTL', '431:CO:SNTL', '432:UT:SNTL', '919:MT:SNTL', '433:MT:SNTL', '434:OR:SNTL', '435:UT:SNTL', '436:MT:SNTL', '437:MT:SNTL', '438:CO:SNTL', '439:ID:SNTL', '923:WY:SNTL', '1210:NV:SNTL', '440:OR:SNTL', '442:OR:SNTL', '443:NV:SNTL', '444:UT:SNTL', '445:NV:SNTL', '446:CA:SNTL', '448:MT:SNTL', '449:WY:SNTL', '450:ID:SNTL', '451:WY:SNTL', '452:UT:SNTL', '453:NV:SNTL', '454:NV:SNTL', '455:UT:SNTL', '1243:NV:SNTL', '906:UT:SNTL', '457:CO:SNTL', '943:WA:SNTL', '458:MT:SNTL', '1105:MT:SNTL', '460:WY:SNTL', '461:UT:SNTL', '998:WA:SNTL', '462:CA:SNTL', '936:CO:SNTL', '463:CA:SNTL', '1163:UT:SNTL', '464:OR:SNTL', '465:CO:SNTL', '910:WA:SNTL', '466:ID:SNTL', '921:NM:SNTL', '1106:MT:SNTL', '536:MT:SNTLT', '467:CO:SNTL', '468:WY:SNTL', '1252:CO:SNTL', '1120:CO:SNTL', '469:MT:SNTL', '470:OR:SNTL', '471:ID:SNTL', '472:WY:SNTL', '1174:AK:SNTL', '473:CA:SNTL', '474:UT:SNTL', '1054:UT:SNTL', '475:UT:SNTL', '476:NV:SNTL', '1314:OR:SNTL', '1274:OR:SNTLT', '1305:ID:SNTL', '477:OR:SNTL', '478:WA:SNTL', '1149:UT:SNTL', '479:OR:SNTL', '480:MT:SNTL', '481:UT:SNTL', '482:MT:SNTL', '1186:CO:SNTL', '1049:CA:SNTL', '1121:AZ:SNTL', '483:OR:SNTL', '484:ID:SNTL', '1277:CA:SNTL', '485:CO:SNTL', '486:NM:SNTL', '487:MT:SNTL', '488:AZ:SNTL', '1262:NV:SNTL', '489:ID:SNTL', '490:ID:SNTL', '491:NM:SNTL', '1114:UT:SNTL', '1066:UT:SNTL', '492:ID:SNTL', '1173:NM:SNTL', '918:MT:SNTL', '1221:UT:SNTL', '1222:UT:SNTL', '1151:UT:SNTL', '945:OR:SNTL', '493:ID:SNTL', '1057:CO:SNTL', '1195:NV:SNTL', '1159:WA:SNTL', '1304:UT:SNTL', '494:OR:SNTL', '1256:WA:SNTL', '495:UT:SNTL', '1184:UT:SNTL', '1250:OR:SNTLT', '496:ID:SNTL', '1082:WY:SNTL', '497:WY:SNTL', '498:NV:SNTL', '567:MT:SNTLT', '499:WY:SNTL', '500:MT:SNTL', '501:WY:SNTL', '1058:CO:SNTL', '502:WA:SNTL', '503:NV:SNTL', '504:OR:SNTL', '505:CO:SNTL', '506:WY:SNTL', '507:WA:SNTL', '2222:AK:SNTL', '944:WY:SNTL', '1065:UT:SNTL', '508:CA:SNTL', '509:WY:SNTL', '510:MT:SNTL', '511:AZ:SNTL', '512:WY:SNTL', '969:AZ:SNTL', '896:UT:SNTL', '514:UT:SNTL', '1218:OR:SNTLT', '515:WA:SNTL', '516:MT:SNTL', '1271:AZ:SNTL', '517:UT:SNTL', '1102:CO:SNTL', '518:CA:SNTL', '519:AZ:SNTL', '520:ID:SNTL', '1193:UT:SNTLT', '521:UT:SNTL', '522:UT:SNTL', '988:ID:SNTL', '1187:CO:SNTL', '523:OR:SNTL', '524:ID:SNTL', '1223:UT:SNTL', '525:WY:SNTL', '526:OR:SNTL', '527:NV:SNTL', '528:UT:SNTL', '529:OR:SNTL', '530:MT:SNTL', '531:CO:SNTL', '532:NM:SNTL', '1050:CA:SNTL', '533:UT:SNTL', '1122:CO:SNTL', '1158:OR:SNTL', '534:ID:SNTL', '991:WA:SNTL', '928:WA:SNTL', '535:ID:SNTL', '1253:NM:SNTLT', '1216:UT:SNTL', '537:ID:SNTL', '538:CO:SNTL', '539:CA:SNTL', '540:CA:SNTL', '541:CA:SNTL', '542:CO:SNTL', '544:WY:SNTL', '1129:WA:SNTL', '545:OR:SNTL', '546:ID:SNTL', '547:CO:SNTL', '548:NV:SNTL', '549:NV:SNTL', '550:ID:SNTL', '935:CO:SNTL', '456:MT:SNTLT', '1211:NV:SNTL', '1287:MT:SNTL', '551:CO:SNTL', '1099:UT:SNTL', '970:CO:SNTL', '552:OR:SNTL', '553:WA:SNTL', '1150:NV:SNTL', '554:WY:SNTL', '966:AK:SNTL', '555:WY:SNTL', '1145:UT:SNTL', '556:CO:SNTL', '557:UT:SNTL', '558:OR:SNTL', '559:UT:SNTL', '560:WY:SNTL', '1115:UT:SNTL', '561:UT:SNTL', '562:MT:SNTL', '563:OR:SNTL', '564:CO:SNTL', '565:CO:SNTL', '566:UT:SNTL', '1116:UT:SNTL', '513:UT:SNTL', '568:MT:SNTL', '569:NV:SNTL', '570:NV:SNTL', '1310:NV:SNTL', '571:WY:SNTL', '1134:WY:SNTL', '572:UT:SNTL', '1215:UT:SNTL', '573:NV:SNTL', '574:CA:SNTL', '575:CA:SNTL', '1112:NV:SNTL', '576:MT:SNTL', '577:WY:SNTL', '1006:NV:SNTL', '578:MT:SNTL', '1056:UT:SNTL', '579:UT:SNTL', '580:CO:SNTL', '582:UT:SNTL', '1131:WY:SNTL', '583:UT:SNTL', '584:OR:SNTL', '1047:WY:SNTL', '1242:NV:SNTL', '585:WY:SNTL', '586:CO:SNTL', '587:CA:SNTL', '588:ID:SNTL', '589:CO:SNTL', '590:MT:SNTL', '591:WA:SNTL', '1261:UT:SNTL', '1123:CO:SNTL', '592:UT:SNTL', '1016:ID:SNTL', '593:UT:SNTL', '594:ID:SNTL', '1298:OR:SNTLT', '595:NM:SNTL', '596:UT:SNTL', '597:WY:SNTL', '1118:UT:SNTL', '940:CO:SNTL', '599:WA:SNTL', '600:ID:SNTL', '601:ID:SNTL', '972:UT:SNTL', '1296:OR:SNTLT', '602:CO:SNTL', '603:MT:SNTL', '604:MT:SNTL', '605:OR:SNTL', '606:WA:SNTL', '1069:WA:SNTL', '607:CO:SNTL', '608:OR:SNTL', '609:MT:SNTL', '610:ID:SNTL', '612:UT:SNTL', '905:CO:SNTL', '613:MT:SNTL', '614:OR:SNTL', '615:NV:SNTL', '616:WY:SNTL', '999:WA:SNTL', '617:AZ:SNTL', '618:CO:SNTL', '1040:CO:SNTL', '619:OR:SNTL', '1048:NM:SNTL', '1191:AK:SNTL', '620:ID:SNTL', '897:WA:SNTL', '1196:WY:SNTL', '914:CO:SNTL', '621:UT:SNTL', '1207:NV:SNTL', '622:CO:SNTL', '1011:WA:SNTL', '623:ID:SNTL', '937:CO:SNTL', '1206:NV:SNTL', '624:CO:SNTL', '1014:CO:SNTL', '625:WY:SNTL', '626:UT:SNTL', '1079:OR:SNTL', '627:ID:SNTL', '628:UT:SNTL', '1084:OR:SNTL', '629:CO:SNTL', '631:UT:SNTL', '632:CO:SNTL', '633:CA:SNTL', '634:UT:SNTL', '635:MT:SNTL', '1124:CO:SNTL', '636:ID:SNTL', '638:ID:SNTL', '637:ID:SNTL', '639:ID:SNTL', '640:AZ:SNTL', '1125:AZ:SNTL', '642:WA:SNTL', '643:UT:SNTL', '989:ID:SNTL', '644:WA:SNTL', '645:ID:SNTL', '646:MT:SNTL', '647:OR:SNTL', '648:WA:SNTL', '898:WA:SNTL', '649:MT:SNTL', '650:ID:SNTL', '941:WA:SNTL', '1224:UT:SNTL', '651:OR:SNTL', '1269:UT:SNTL', '652:NV:SNTL', '1073:AK:SNTL', '653:OR:SNTL', '1126:WA:SNTL', '1259:WA:SNTL', '654:ID:SNTL', '655:OR:SNTL', '656:MT:SNTL', '1053:ID:SNTL', '657:MT:SNTL', '658:CO:SNTL', '1138:NM:SNTL', '903:MT:SNTL', '1031:CO:SNTL', '660:OR:SNTL', '661:WY:SNTL', '662:MT:SNTL', '663:CO:SNTL', '664:MT:SNTL', '665:NM:SNTL', '666:OR:SNTL', '667:MT:SNTL', '668:WY:SNTL', '669:CO:SNTL', '920:SD:SNTL', '670:MT:SNTL', '1127:AZ:SNTL', '1146:UT:SNTL', '671:OR:SNTL', '672:WA:SNTL', '673:WY:SNTL', '1272:NV:SNTL', '1008:MT:SNTL', '675:CO:SNTL', '676:WY:SNTL', '677:ID:SNTL', '784:CA:SNTL', '1170:NM:SNTL', '1148:UT:SNTL', '679:WA:SNTL', '986:AK:SNTL', '680:CO:SNTL', '681:WA:SNTL', '682:CO:SNTL', '683:WY:SNTL', '684:UT:SNTL', '856:UT:SNTL', '971:UT:SNTL', '1241:OR:SNTLT', '686:UT:SNTL', '687:OR:SNTL', '1299:ID:SNTL', '1104:WA:SNTL', '930:MT:SNTL', '688:CO:SNTL', '689:WY:SNTL', '690:MT:SNTL', '691:UT:SNTL', '1142:ID:SNTL', '692:WA:SNTL', '693:MT:SNTL', '694:UT:SNTL', '695:ID:SNTL', '1263:WA:SNTL', '696:MT:SNTL', '1133:WY:SNTL', '697:CA:SNTL', '1244:NV:SNTL', '698:NV:SNTL', '932:MT:SNTL', '699:WA:SNTL', '700:MT:SNTL', '701:CO:SNTL', '2170:NV:SNTL', '702:WA:SNTL', '1300:UT:SNTL', '703:WY:SNTL', '704:ID:SNTL', '705:AZ:SNTL', '782:ID:SNTL', '706:OR:SNTL', '707:WA:SNTL', '708:NM:SNTL', '1297:NV:SNTLT', '709:CO:SNTL', '1081:ID:SNTL', '710:OR:SNTL', '1110:NV:SNTL', '711:WA:SNTL', '1032:CO:SNTL', '1290:ID:SNTLT', '712:OR:SNTL', '713:CO:SNTL', '714:UT:SNTL', '715:NM:SNTL', '1225:UT:SNTL', '1217:UT:SNTL', '716:WY:SNTL', '911:WA:SNTL', '2029:ID:SNTL', '933:NM:SNTL', '1254:NM:SNTL', '717:CO:SNTL', '718:CO:SNTL', '719:OR:SNTL', '1199:NV:SNTLT', '720:UT:SNTL', '721:OR:SNTL', '722:MT:SNTL', '1309:UT:SNTL', '723:UT:SNTL', '917:MT:SNTL', '1220:OR:SNTLT', '939:CO:SNTL', '724:CA:SNTL', '725:MT:SNTL', '929:MT:SNTL', '726:OR:SNTL', '727:MT:SNTL', '1015:WY:SNTL', '1100:CO:SNTL', '728:WA:SNTL', '729:OR:SNTL', '730:WY:SNTL', '1172:NM:SNTL', '731:WY:SNTL', '732:WY:SNTL', '922:NM:SNTL', '1280:UT:SNTL', '733:OR:SNTL', '1128:CO:SNTL', '734:WA:SNTL', '1231:WA:SNTL', '735:ID:SNTL', '1068:WA:SNTL', '1251:CO:SNTL', '736:OR:SNTL', '737:CO:SNTL', '915:ID:SNTL', '738:ID:SNTL', '1038:ID:SNTL', '739:CO:SNTL', '740:ID:SNTL', '741:ID:SNTL', '742:UT:SNTL', '743:OR:SNTL', '744:NM:SNTL', '1043:WA:SNTL', '745:OR:SNTL', '746:NV:SNTL', '747:ID:SNTL', '1060:CO:SNTL', '748:WA:SNTL', '749:ID:SNTL', '750:NV:SNTL', '751:WY:SNTL', '1219:OR:SNTLT', '752:ID:SNTL', '753:MT:SNTL', '754:MT:SNTL', '1169:NM:SNTL', '1034:NM:SNTL', '755:NM:SNTL', '756:OR:SNTL', '757:NM:SNTL', '1205:NV:SNTL', '759:OR:SNTL', '760:MT:SNTL', '1257:WA:SNTL', '912:WA:SNTL', '1286:MT:SNTL', '783:MT:SNTL', '761:ID:SNTL', '762:CO:SNTL', '926:ID:SNTL', '763:UT:SNTL', '1235:NV:SNTLT', '1167:OR:SNTL', '764:WY:SNTL', '765:WY:SNTL', '767:OR:SNTL', '766:UT:SNTL', '927:AZ:SNTL', '1208:NV:SNTL', '1132:WY:SNTL', '769:ID:SNTL', '770:ID:SNTL', '771:CA:SNTL', '985:WA:SNTL', '772:WY:SNTL', '773:CO:SNTL', '925:OR:SNTL', '774:ID:SNTL', '775:WY:SNTL', '776:WA:SNTL', '777:WA:SNTL', '1117:UT:SNTL', '778:CA:SNTL', '779:WY:SNTL', '984:WA:SNTL', '780:CO:SNTL', '781:MT:SNTL', '786:WY:SNTL', '1203:NV:SNTL', '787:MT:SNTL', '788:WA:SNTL', '789:OR:SNTL', '1258:CA:SNTL', '993:CA:SNTLT', '790:UT:SNTL', '791:WA:SNTL', '792:ID:SNTL', '793:CO:SNTL', '794:OR:SNTL', '795:UT:SNTL', '1009:MT:SNTL', '1311:MT:SNTL', '901:MT:SNTL', '797:CO:SNTL', '798:WY:SNTL', '800:OR:SNTL', '801:OR:SNTL', '1194:NV:SNTL', '1052:CA:SNTL', '802:CO:SNTL', '1078:OR:SNTL', '1249:UT:SNTL', '803:ID:SNTL', '804:WA:SNTL', '1248:UT:SNTL', '975:WA:SNTL', '1077:OR:SNTL', '805:ID:SNTL', '1012:WA:SNTL', '806:WY:SNTL', '807:WY:SNTL', '809:CA:SNTL', '1247:UT:SNTL', '1168:NM:SNTL', '1307:NM:SNTL', '810:OR:SNTL', '811:NV:SNTL', '812:OR:SNTL', '1013:UT:SNTL', '1202:NV:SNTL', '1201:NV:SNTLT', '813:MT:SNTL', '814:UT:SNTL', '1226:UT:SNTL', '815:OR:SNTL', '816:WY:SNTL', '817:WA:SNTL', '818:WY:SNTL', '819:WY:SNTL', '1097:UT:SNTL', '820:UT:SNTL', '899:WA:SNTL', '821:OR:SNTL', '893:MT:SNTL', '1136:NV:SNTL', '822:WY:SNTL', '1044:OR:SNTL', '934:NM:SNTL', '823:UT:SNTL', '1113:UT:SNTL', '824:WA:SNTL', '825:CO:SNTL', '826:WY:SNTL', '827:CO:SNTL', '1083:NM:SNTL', '828:UT:SNTL', '829:CO:SNTL', '1171:WA:SNTL', '830:ID:SNTL', '831:WY:SNTL', '832:WA:SNTL', '833:UT:SNTL', '1238:OR:SNTLT', '1200:NV:SNTLT', '834:CA:SNTL', '1230:OR:SNTLT', '835:MT:SNTL', '836:MT:SNTL', '837:WY:SNTL', '838:CO:SNTL', '1227:UT:SNTL', '839:CO:SNTL', '840:CO:SNTL', '1141:CO:SNTL', '841:WA:SNTL', '1098:UT:SNTL', '1005:CO:SNTL', '1237:OR:SNTLT', '1137:NV:SNTL', '1017:NM:SNTL', '842:CO:SNTL', '843:CO:SNTL', '979:ID:SNTL', '1294:ID:SNTLT', '844:UT:SNTL', '845:ID:SNTL', '846:CA:SNTL', '1188:CO:SNTL', '847:MT:SNTL', '848:CA:SNTL', '849:NV:SNTL', '850:MT:SNTL', '974:WA:SNTL', '852:WY:SNTL', '853:UT:SNTL', '909:WA:SNTL', '1160:CO:SNTL', '854:NM:SNTL', '855:ID:SNTL', '1288:OR:SNTLT', '924:MT:SNTL', '1147:NV:SNTL', '857:CO:SNTL', '858:MT:SNTL', '859:WY:SNTL', '860:ID:SNTL', '861:AZ:SNTL', '862:MT:SNTL', '863:WA:SNTL', '864:UT:SNTL', '1213:NV:SNTL', '1255:NM:SNTLT', '865:UT:SNTL', '543:UT:SNTL', '1042:CO:SNTL', '866:AZ:SNTL', '867:ID:SNTL', '868:WY:SNTL', '869:CO:SNTL', '870:CO:SNTL', '871:ID:SNTL', '872:WY:SNTL', '873:OR:SNTL', '1164:UT:SNTL', '874:CO:SNTL', '875:WY:SNTL', '876:MT:SNTL', '877:AZ:SNTL', '1228:UT:SNTL', '1197:UT:SNTL', '878:WY:SNTL', '1033:CO:SNTL']\n"
     ]
    }
   ],
   "source": [
    "# collect list of IDs for SNOTEL and SNOTEL-LITE stations?\n",
    "# .service.getStations() is a method for getting the IDs for these stations in object 'client'\n",
    "snotel_sites = client.service.getStations(networkCds=['SNTL', 'SNTLT'], logicalAnd=True)\n",
    "\n",
    "# remove sites from Alaska (not part of CONUS)\n",
    "for s in snotel_sites:\n",
    "    if s.split(\":\")[1] == \"AK\":\n",
    "        snotel_sites.remove(s)\n",
    "\n",
    "print(snotel_sites)\n",
    "\n",
    "# collect site metadata for these sites\n",
    "# .service.getStationMetadataMultiple is a method to collect metadata on the object 'client'\n",
    "snotel_sites_metadata = client.service.getStationMetadataMultiple(snotel_sites)\n",
    "\n",
    "# transform into Pandas DataFrame (first transform into dict)\n",
    "metadata_dict = helpers.serialize_object(snotel_sites_metadata)\n",
    "metadata_df = pd.DataFrame.from_dict(metadata_dict)\n",
    "\n",
    "# truncate begin and end dates to only YYYY-MM-DD (remove time component)\n",
    "metadata_df['beginDate_adj'] = metadata_df['beginDate'].apply(lambda x: x.split(\" \")[0])\n",
    "metadata_df['endDate_adj'] = metadata_df['endDate'].apply(lambda x: x.split(\" \")[0])\n",
    "\n",
    "metadata_df.drop(columns=['beginDate', 'endDate'], inplace=True)\n",
    "metadata_df.rename(columns={'beginDate_adj': 'beginDate', 'endDate_adj': 'endDate'}, inplace=True)\n",
    "\n",
    "# Write to .csv\n",
    "metadata_df.to_csv('nrcs_snotel_site_list.csv', index=False, header=True)\n",
    "# We now have a .csv file, `nrcs_snotel_site_list.csv`, which lists all non-Alaska SNOTEL and SNOTEL-LITE site attribute information."
   ]
  },
  {
   "cell_type": "code",
   "execution_count": 4,
   "id": "4e1badd6-97d1-45b5-98cb-28398a75b293",
   "metadata": {},
   "outputs": [
    {
     "data": {
      "text/html": [
       "<div>\n",
       "<style scoped>\n",
       "    .dataframe tbody tr th:only-of-type {\n",
       "        vertical-align: middle;\n",
       "    }\n",
       "\n",
       "    .dataframe tbody tr th {\n",
       "        vertical-align: top;\n",
       "    }\n",
       "\n",
       "    .dataframe thead th {\n",
       "        text-align: right;\n",
       "    }\n",
       "</style>\n",
       "<table border=\"1\" class=\"dataframe\">\n",
       "  <thead>\n",
       "    <tr style=\"text-align: right;\">\n",
       "      <th></th>\n",
       "      <th>actonId</th>\n",
       "      <th>countyName</th>\n",
       "      <th>elevation</th>\n",
       "      <th>fipsCountryCd</th>\n",
       "      <th>fipsCountyCd</th>\n",
       "      <th>fipsStateNumber</th>\n",
       "      <th>huc</th>\n",
       "      <th>hud</th>\n",
       "      <th>latitude</th>\n",
       "      <th>longitude</th>\n",
       "      <th>name</th>\n",
       "      <th>shefId</th>\n",
       "      <th>stationDataTimeZone</th>\n",
       "      <th>stationTimeZone</th>\n",
       "      <th>stationTriplet</th>\n",
       "      <th>beginDate</th>\n",
       "      <th>endDate</th>\n",
       "    </tr>\n",
       "  </thead>\n",
       "  <tbody>\n",
       "    <tr>\n",
       "      <th>0</th>\n",
       "      <td>20H13S</td>\n",
       "      <td>Modoc</td>\n",
       "      <td>6190.00</td>\n",
       "      <td>US</td>\n",
       "      <td>049</td>\n",
       "      <td>06</td>\n",
       "      <td>180200021403</td>\n",
       "      <td>18020002</td>\n",
       "      <td>41.23583</td>\n",
       "      <td>-120.79192</td>\n",
       "      <td>Adin Mtn</td>\n",
       "      <td>ADMC1</td>\n",
       "      <td>-8.0</td>\n",
       "      <td>None</td>\n",
       "      <td>301:CA:SNTL</td>\n",
       "      <td>1983-10-01</td>\n",
       "      <td>2100-01-01</td>\n",
       "    </tr>\n",
       "    <tr>\n",
       "      <th>1</th>\n",
       "      <td>12M26S</td>\n",
       "      <td>Kane</td>\n",
       "      <td>8900.00</td>\n",
       "      <td>US</td>\n",
       "      <td>025</td>\n",
       "      <td>49</td>\n",
       "      <td>160300020301</td>\n",
       "      <td>16030002</td>\n",
       "      <td>37.52217</td>\n",
       "      <td>-112.27118</td>\n",
       "      <td>Agua Canyon</td>\n",
       "      <td>AGUU1</td>\n",
       "      <td>-8.0</td>\n",
       "      <td>None</td>\n",
       "      <td>907:UT:SNTL</td>\n",
       "      <td>1994-10-01</td>\n",
       "      <td>2100-01-01</td>\n",
       "    </tr>\n",
       "    <tr>\n",
       "      <th>2</th>\n",
       "      <td>11D28S</td>\n",
       "      <td>Madison</td>\n",
       "      <td>8300.00</td>\n",
       "      <td>US</td>\n",
       "      <td>057</td>\n",
       "      <td>30</td>\n",
       "      <td>100200050701</td>\n",
       "      <td>10020005</td>\n",
       "      <td>45.59723</td>\n",
       "      <td>-111.95902</td>\n",
       "      <td>Albro Lake</td>\n",
       "      <td>ABRM8</td>\n",
       "      <td>-8.0</td>\n",
       "      <td>None</td>\n",
       "      <td>916:MT:SNTL</td>\n",
       "      <td>1996-09-01</td>\n",
       "      <td>2100-01-01</td>\n",
       "    </tr>\n",
       "    <tr>\n",
       "      <th>3</th>\n",
       "      <td>21B48S</td>\n",
       "      <td>King</td>\n",
       "      <td>3500.00</td>\n",
       "      <td>US</td>\n",
       "      <td>033</td>\n",
       "      <td>53</td>\n",
       "      <td>171100100501</td>\n",
       "      <td>17110010</td>\n",
       "      <td>47.77957</td>\n",
       "      <td>-121.69847</td>\n",
       "      <td>Alpine Meadows</td>\n",
       "      <td>APSW1</td>\n",
       "      <td>-8.0</td>\n",
       "      <td>None</td>\n",
       "      <td>908:WA:SNTL</td>\n",
       "      <td>1994-09-01</td>\n",
       "      <td>2100-01-01</td>\n",
       "    </tr>\n",
       "    <tr>\n",
       "      <th>4</th>\n",
       "      <td>23G16S</td>\n",
       "      <td>Del Norte</td>\n",
       "      <td>4970.00</td>\n",
       "      <td>US</td>\n",
       "      <td>015</td>\n",
       "      <td>06</td>\n",
       "      <td>171003110302</td>\n",
       "      <td>None</td>\n",
       "      <td>41.99617</td>\n",
       "      <td>-123.54700</td>\n",
       "      <td>Althouse</td>\n",
       "      <td>ABZO3</td>\n",
       "      <td>-8.0</td>\n",
       "      <td>None</td>\n",
       "      <td>1239:CA:SNTLT</td>\n",
       "      <td>2013-06-25</td>\n",
       "      <td>2100-01-01</td>\n",
       "    </tr>\n",
       "    <tr>\n",
       "      <th>...</th>\n",
       "      <td>...</td>\n",
       "      <td>...</td>\n",
       "      <td>...</td>\n",
       "      <td>...</td>\n",
       "      <td>...</td>\n",
       "      <td>...</td>\n",
       "      <td>...</td>\n",
       "      <td>...</td>\n",
       "      <td>...</td>\n",
       "      <td>...</td>\n",
       "      <td>...</td>\n",
       "      <td>...</td>\n",
       "      <td>...</td>\n",
       "      <td>...</td>\n",
       "      <td>...</td>\n",
       "      <td>...</td>\n",
       "      <td>...</td>\n",
       "    </tr>\n",
       "    <tr>\n",
       "      <th>869</th>\n",
       "      <td>10S01S</td>\n",
       "      <td>Gila</td>\n",
       "      <td>7032.00</td>\n",
       "      <td>US</td>\n",
       "      <td>007</td>\n",
       "      <td>04</td>\n",
       "      <td>150601030802</td>\n",
       "      <td>15060103</td>\n",
       "      <td>33.81259</td>\n",
       "      <td>-110.91852</td>\n",
       "      <td>Workman Creek</td>\n",
       "      <td>WKMA3</td>\n",
       "      <td>-8.0</td>\n",
       "      <td>None</td>\n",
       "      <td>877:AZ:SNTL</td>\n",
       "      <td>1938-12-01</td>\n",
       "      <td>2100-01-01</td>\n",
       "    </tr>\n",
       "    <tr>\n",
       "      <th>870</th>\n",
       "      <td>11K32S</td>\n",
       "      <td>Sanpete</td>\n",
       "      <td>9327.00</td>\n",
       "      <td>US</td>\n",
       "      <td>039</td>\n",
       "      <td>49</td>\n",
       "      <td>140600090303</td>\n",
       "      <td>14060009</td>\n",
       "      <td>39.13233</td>\n",
       "      <td>-111.35685</td>\n",
       "      <td>Wrigley Creek</td>\n",
       "      <td>WRIU1</td>\n",
       "      <td>-8.0</td>\n",
       "      <td>None</td>\n",
       "      <td>1228:UT:SNTL</td>\n",
       "      <td>2012-10-01</td>\n",
       "      <td>2100-01-01</td>\n",
       "    </tr>\n",
       "    <tr>\n",
       "      <th>871</th>\n",
       "      <td>12M11S</td>\n",
       "      <td>Iron</td>\n",
       "      <td>8692.00</td>\n",
       "      <td>US</td>\n",
       "      <td>021</td>\n",
       "      <td>49</td>\n",
       "      <td>160300060202</td>\n",
       "      <td>16030006</td>\n",
       "      <td>37.74797</td>\n",
       "      <td>-112.77495</td>\n",
       "      <td>Yankee Reservoir</td>\n",
       "      <td>YKEU1</td>\n",
       "      <td>-8.0</td>\n",
       "      <td>None</td>\n",
       "      <td>1197:UT:SNTL</td>\n",
       "      <td>2012-10-01</td>\n",
       "      <td>2100-01-01</td>\n",
       "    </tr>\n",
       "    <tr>\n",
       "      <th>872</th>\n",
       "      <td>09F18S</td>\n",
       "      <td>Park</td>\n",
       "      <td>8350.00</td>\n",
       "      <td>US</td>\n",
       "      <td>029</td>\n",
       "      <td>56</td>\n",
       "      <td>100800130103</td>\n",
       "      <td>10080013</td>\n",
       "      <td>43.93225</td>\n",
       "      <td>-109.81775</td>\n",
       "      <td>Younts Peak</td>\n",
       "      <td>YOUW4</td>\n",
       "      <td>-8.0</td>\n",
       "      <td>None</td>\n",
       "      <td>878:WY:SNTL</td>\n",
       "      <td>1979-10-01</td>\n",
       "      <td>2100-01-01</td>\n",
       "    </tr>\n",
       "    <tr>\n",
       "      <th>873</th>\n",
       "      <td>06J19S</td>\n",
       "      <td>Jackson</td>\n",
       "      <td>9338.00</td>\n",
       "      <td>US</td>\n",
       "      <td>057</td>\n",
       "      <td>08</td>\n",
       "      <td>101800010202</td>\n",
       "      <td>10180001</td>\n",
       "      <td>40.79492</td>\n",
       "      <td>-106.59544</td>\n",
       "      <td>Zirkel</td>\n",
       "      <td>ZIRC2</td>\n",
       "      <td>-8.0</td>\n",
       "      <td>None</td>\n",
       "      <td>1033:CO:SNTL</td>\n",
       "      <td>2002-08-14</td>\n",
       "      <td>2100-01-01</td>\n",
       "    </tr>\n",
       "  </tbody>\n",
       "</table>\n",
       "<p>874 rows × 17 columns</p>\n",
       "</div>"
      ],
      "text/plain": [
       "    actonId countyName elevation fipsCountryCd fipsCountyCd fipsStateNumber  \\\n",
       "0    20H13S      Modoc   6190.00            US          049              06   \n",
       "1    12M26S       Kane   8900.00            US          025              49   \n",
       "2    11D28S    Madison   8300.00            US          057              30   \n",
       "3    21B48S       King   3500.00            US          033              53   \n",
       "4    23G16S  Del Norte   4970.00            US          015              06   \n",
       "..      ...        ...       ...           ...          ...             ...   \n",
       "869  10S01S       Gila   7032.00            US          007              04   \n",
       "870  11K32S    Sanpete   9327.00            US          039              49   \n",
       "871  12M11S       Iron   8692.00            US          021              49   \n",
       "872  09F18S       Park   8350.00            US          029              56   \n",
       "873  06J19S    Jackson   9338.00            US          057              08   \n",
       "\n",
       "              huc       hud  latitude   longitude              name shefId  \\\n",
       "0    180200021403  18020002  41.23583  -120.79192          Adin Mtn  ADMC1   \n",
       "1    160300020301  16030002  37.52217  -112.27118       Agua Canyon  AGUU1   \n",
       "2    100200050701  10020005  45.59723  -111.95902        Albro Lake  ABRM8   \n",
       "3    171100100501  17110010  47.77957  -121.69847    Alpine Meadows  APSW1   \n",
       "4    171003110302      None  41.99617  -123.54700          Althouse  ABZO3   \n",
       "..            ...       ...       ...         ...               ...    ...   \n",
       "869  150601030802  15060103  33.81259  -110.91852     Workman Creek  WKMA3   \n",
       "870  140600090303  14060009  39.13233  -111.35685     Wrigley Creek  WRIU1   \n",
       "871  160300060202  16030006  37.74797  -112.77495  Yankee Reservoir  YKEU1   \n",
       "872  100800130103  10080013  43.93225  -109.81775       Younts Peak  YOUW4   \n",
       "873  101800010202  10180001  40.79492  -106.59544            Zirkel  ZIRC2   \n",
       "\n",
       "    stationDataTimeZone stationTimeZone stationTriplet   beginDate     endDate  \n",
       "0                  -8.0            None    301:CA:SNTL  1983-10-01  2100-01-01  \n",
       "1                  -8.0            None    907:UT:SNTL  1994-10-01  2100-01-01  \n",
       "2                  -8.0            None    916:MT:SNTL  1996-09-01  2100-01-01  \n",
       "3                  -8.0            None    908:WA:SNTL  1994-09-01  2100-01-01  \n",
       "4                  -8.0            None  1239:CA:SNTLT  2013-06-25  2100-01-01  \n",
       "..                  ...             ...            ...         ...         ...  \n",
       "869                -8.0            None    877:AZ:SNTL  1938-12-01  2100-01-01  \n",
       "870                -8.0            None   1228:UT:SNTL  2012-10-01  2100-01-01  \n",
       "871                -8.0            None   1197:UT:SNTL  2012-10-01  2100-01-01  \n",
       "872                -8.0            None    878:WY:SNTL  1979-10-01  2100-01-01  \n",
       "873                -8.0            None   1033:CO:SNTL  2002-08-14  2100-01-01  \n",
       "\n",
       "[874 rows x 17 columns]"
      ]
     },
     "execution_count": 4,
     "metadata": {},
     "output_type": "execute_result"
    }
   ],
   "source": [
    "metadata_df"
   ]
  },
  {
   "cell_type": "code",
   "execution_count": 44,
   "id": "e2c15382-c74a-4d39-b97e-c9717e55d7e2",
   "metadata": {},
   "outputs": [],
   "source": [
    "### filter out stations that start recording after WY of interest\n",
    "metadata_df = metadata_df.loc[(metadata_df['beginDate']<='2002-10-01')]\n",
    "### filter out AK stations\n",
    "metadata_df = metadata_df[metadata_df['stationTriplet'].str.contains(':AK:') == False]\n",
    "\n",
    "metadata_df.reset_index(drop=True)\n",
    "\n",
    "### get just the station triplets and make np array for loop\n",
    "station_triplets = metadata_df['stationTriplet']\n",
    "station_triplets_array = station_triplets.to_numpy()\n",
    "type(station_triplets_array)"
   ]
  },
  {
   "cell_type": "code",
   "execution_count": 72,
   "id": "fbe4f91a-9237-47d7-9354-094d09f89334",
   "metadata": {},
   "outputs": [
    {
     "data": {
      "text/plain": [
       "641"
      ]
     },
     "execution_count": 72,
     "metadata": {},
     "output_type": "execute_result"
    }
   ],
   "source": [
    "len(metadata_df.index) "
   ]
  },
  {
   "cell_type": "code",
   "execution_count": 19,
   "id": "640ae413-cfb8-46c8-80a4-9f418e95e9ad",
   "metadata": {},
   "outputs": [],
   "source": [
    "# define a function to get SWE based on the client, begin and end date, and station triplets\n",
    "def get_snotel_swe(client, user_stationTriplets, user_beginDate, user_endDate):\n",
    "    \n",
    "    # get the data using zeep and the arguements given above\n",
    "    instant_data_WTEQ = client.service.getData(duration='DAILY', stationTriplets=user_stationTriplets,\n",
    "                                          elementCd='WTEQ', ordinal=1, beginDate=user_beginDate,\n",
    "                                          endDate=user_endDate, getFlags = True)\n",
    "    \n",
    "    instant_data_TAVG = client.service.getData(duration='DAILY', stationTriplets=user_stationTriplets,\n",
    "                                          elementCd='TAVG', ordinal=1, beginDate=user_beginDate,\n",
    "                                          endDate=user_endDate, getFlags = True)\n",
    "    \n",
    "    instant_data_PREC = client.service.getData(duration='DAILY', stationTriplets=user_stationTriplets,\n",
    "                                          elementCd='PREC', ordinal=1, beginDate=user_beginDate,\n",
    "                                          endDate=user_endDate, getFlags = True)\n",
    "\n",
    "    # convert the XML output to Python dictionary\n",
    "    instant_dict_WTEQ = helpers.serialize_object(instant_data_WTEQ[0]['values'])\n",
    "    instant_dict_TAVG = helpers.serialize_object(instant_data_TAVG[0]['values'])\n",
    "    instant_dict_PREC = helpers.serialize_object(instant_data_PREC[0]['values'])\n",
    "\n",
    "    # convert to Pandas DataFrame\n",
    "    instant_df = pd.DataFrame.from_dict(instant_dict_WTEQ)\n",
    "    instant_df['1'] = pd.Series(instant_dict_TAVG)\n",
    "    instant_df['2'] = pd.Series(instant_dict_PREC)\n",
    "    \n",
    "    # rename columns\n",
    "    instant_df.columns = ['SWE [in]', 'AirT [F]', 'PRCP [in]'] \n",
    "    \n",
    "    \n",
    "    \n",
    "    # replace NaN values with interpolated values\n",
    "    for i in range(len(instant_df)):\n",
    "        if instant_df['SWE [in]'].isnull()[i]:\n",
    "            instant_df['SWE [in]'][i] = instant_df['SWE [in]'][i-1]\n",
    "        if instant_df['AirT [F]'].isnull()[i]:\n",
    "            instant_df['AirT [F]'][i] = instant_df['AirT [F]'][i-1]\n",
    "        if instant_df['PRCP [in]'].isnull()[i]:\n",
    "            instant_df['PRCP [in]'][i] = instant_df['PRCP [in]'][i-1]\n",
    "            \n",
    "    # make type floats\n",
    "    instant_df = instant_df.astype(float)\n",
    "\n",
    "    \n",
    "    # return the dataframe\n",
    "    return instant_df"
   ]
  },
  {
   "cell_type": "code",
   "execution_count": 77,
   "id": "807e6137-d045-4897-880f-9c479f2b3956",
   "metadata": {},
   "outputs": [
    {
     "name": "stderr",
     "output_type": "stream",
     "text": [
      "/glade/work/tijerina/conda-envs/parflow-npl/lib/python3.7/site-packages/ipykernel_launcher.py:24: DeprecationWarning: The default dtype for empty Series will be 'object' instead of 'float64' in a future version. Specify a dtype explicitly to silence this warning.\n"
     ]
    },
    {
     "ename": "KeyError",
     "evalue": "-1",
     "output_type": "error",
     "traceback": [
      "\u001b[0;31m---------------------------------------------------------------------------\u001b[0m",
      "\u001b[0;31mValueError\u001b[0m                                Traceback (most recent call last)",
      "\u001b[0;32m/glade/work/tijerina/conda-envs/parflow-npl/lib/python3.7/site-packages/pandas/core/indexes/range.py\u001b[0m in \u001b[0;36mget_loc\u001b[0;34m(self, key, method, tolerance)\u001b[0m\n\u001b[1;32m    384\u001b[0m                 \u001b[0;32mtry\u001b[0m\u001b[0;34m:\u001b[0m\u001b[0;34m\u001b[0m\u001b[0;34m\u001b[0m\u001b[0m\n\u001b[0;32m--> 385\u001b[0;31m                     \u001b[0;32mreturn\u001b[0m \u001b[0mself\u001b[0m\u001b[0;34m.\u001b[0m\u001b[0m_range\u001b[0m\u001b[0;34m.\u001b[0m\u001b[0mindex\u001b[0m\u001b[0;34m(\u001b[0m\u001b[0mnew_key\u001b[0m\u001b[0;34m)\u001b[0m\u001b[0;34m\u001b[0m\u001b[0;34m\u001b[0m\u001b[0m\n\u001b[0m\u001b[1;32m    386\u001b[0m                 \u001b[0;32mexcept\u001b[0m \u001b[0mValueError\u001b[0m \u001b[0;32mas\u001b[0m \u001b[0merr\u001b[0m\u001b[0;34m:\u001b[0m\u001b[0;34m\u001b[0m\u001b[0;34m\u001b[0m\u001b[0m\n",
      "\u001b[0;31mValueError\u001b[0m: -1 is not in range",
      "\nThe above exception was the direct cause of the following exception:\n",
      "\u001b[0;31mKeyError\u001b[0m                                  Traceback (most recent call last)",
      "\u001b[0;32m/glade/scratch/tijerina/ipykernel_8126/583332576.py\u001b[0m in \u001b[0;36m<module>\u001b[0;34m\u001b[0m\n\u001b[1;32m      6\u001b[0m \u001b[0;31m### get the desired dataframe in one function call\u001b[0m\u001b[0;34m\u001b[0m\u001b[0;34m\u001b[0m\u001b[0;34m\u001b[0m\u001b[0m\n\u001b[1;32m      7\u001b[0m swe_data = get_snotel_swe(client=client, user_stationTriplets=user_stationTriplets, \n\u001b[0;32m----> 8\u001b[0;31m                           user_beginDate=user_beginDate, user_endDate=user_endDate)\n\u001b[0m",
      "\u001b[0;32m/glade/scratch/tijerina/ipykernel_8126/3062406972.py\u001b[0m in \u001b[0;36mget_snotel_swe\u001b[0;34m(client, user_stationTriplets, user_beginDate, user_endDate)\u001b[0m\n\u001b[1;32m     35\u001b[0m             \u001b[0minstant_df\u001b[0m\u001b[0;34m[\u001b[0m\u001b[0;34m'SWE [in]'\u001b[0m\u001b[0;34m]\u001b[0m\u001b[0;34m[\u001b[0m\u001b[0mi\u001b[0m\u001b[0;34m]\u001b[0m \u001b[0;34m=\u001b[0m \u001b[0minstant_df\u001b[0m\u001b[0;34m[\u001b[0m\u001b[0;34m'SWE [in]'\u001b[0m\u001b[0;34m]\u001b[0m\u001b[0;34m[\u001b[0m\u001b[0mi\u001b[0m\u001b[0;34m-\u001b[0m\u001b[0;36m1\u001b[0m\u001b[0;34m]\u001b[0m\u001b[0;34m\u001b[0m\u001b[0;34m\u001b[0m\u001b[0m\n\u001b[1;32m     36\u001b[0m         \u001b[0;32mif\u001b[0m \u001b[0minstant_df\u001b[0m\u001b[0;34m[\u001b[0m\u001b[0;34m'AirT [F]'\u001b[0m\u001b[0;34m]\u001b[0m\u001b[0;34m.\u001b[0m\u001b[0misnull\u001b[0m\u001b[0;34m(\u001b[0m\u001b[0;34m)\u001b[0m\u001b[0;34m[\u001b[0m\u001b[0mi\u001b[0m\u001b[0;34m]\u001b[0m\u001b[0;34m:\u001b[0m\u001b[0;34m\u001b[0m\u001b[0;34m\u001b[0m\u001b[0m\n\u001b[0;32m---> 37\u001b[0;31m             \u001b[0minstant_df\u001b[0m\u001b[0;34m[\u001b[0m\u001b[0;34m'AirT [F]'\u001b[0m\u001b[0;34m]\u001b[0m\u001b[0;34m[\u001b[0m\u001b[0mi\u001b[0m\u001b[0;34m]\u001b[0m \u001b[0;34m=\u001b[0m \u001b[0minstant_df\u001b[0m\u001b[0;34m[\u001b[0m\u001b[0;34m'AirT [F]'\u001b[0m\u001b[0;34m]\u001b[0m\u001b[0;34m[\u001b[0m\u001b[0mi\u001b[0m\u001b[0;34m-\u001b[0m\u001b[0;36m1\u001b[0m\u001b[0;34m]\u001b[0m\u001b[0;34m\u001b[0m\u001b[0;34m\u001b[0m\u001b[0m\n\u001b[0m\u001b[1;32m     38\u001b[0m         \u001b[0;32mif\u001b[0m \u001b[0minstant_df\u001b[0m\u001b[0;34m[\u001b[0m\u001b[0;34m'PRCP [in]'\u001b[0m\u001b[0;34m]\u001b[0m\u001b[0;34m.\u001b[0m\u001b[0misnull\u001b[0m\u001b[0;34m(\u001b[0m\u001b[0;34m)\u001b[0m\u001b[0;34m[\u001b[0m\u001b[0mi\u001b[0m\u001b[0;34m]\u001b[0m\u001b[0;34m:\u001b[0m\u001b[0;34m\u001b[0m\u001b[0;34m\u001b[0m\u001b[0m\n\u001b[1;32m     39\u001b[0m             \u001b[0minstant_df\u001b[0m\u001b[0;34m[\u001b[0m\u001b[0;34m'PRCP [in]'\u001b[0m\u001b[0;34m]\u001b[0m\u001b[0;34m[\u001b[0m\u001b[0mi\u001b[0m\u001b[0;34m]\u001b[0m \u001b[0;34m=\u001b[0m \u001b[0minstant_df\u001b[0m\u001b[0;34m[\u001b[0m\u001b[0;34m'PRCP [in]'\u001b[0m\u001b[0;34m]\u001b[0m\u001b[0;34m[\u001b[0m\u001b[0mi\u001b[0m\u001b[0;34m-\u001b[0m\u001b[0;36m1\u001b[0m\u001b[0;34m]\u001b[0m\u001b[0;34m\u001b[0m\u001b[0;34m\u001b[0m\u001b[0m\n",
      "\u001b[0;32m/glade/work/tijerina/conda-envs/parflow-npl/lib/python3.7/site-packages/pandas/core/series.py\u001b[0m in \u001b[0;36m__getitem__\u001b[0;34m(self, key)\u001b[0m\n\u001b[1;32m    940\u001b[0m \u001b[0;34m\u001b[0m\u001b[0m\n\u001b[1;32m    941\u001b[0m         \u001b[0;32melif\u001b[0m \u001b[0mkey_is_scalar\u001b[0m\u001b[0;34m:\u001b[0m\u001b[0;34m\u001b[0m\u001b[0;34m\u001b[0m\u001b[0m\n\u001b[0;32m--> 942\u001b[0;31m             \u001b[0;32mreturn\u001b[0m \u001b[0mself\u001b[0m\u001b[0;34m.\u001b[0m\u001b[0m_get_value\u001b[0m\u001b[0;34m(\u001b[0m\u001b[0mkey\u001b[0m\u001b[0;34m)\u001b[0m\u001b[0;34m\u001b[0m\u001b[0;34m\u001b[0m\u001b[0m\n\u001b[0m\u001b[1;32m    943\u001b[0m \u001b[0;34m\u001b[0m\u001b[0m\n\u001b[1;32m    944\u001b[0m         \u001b[0;32mif\u001b[0m \u001b[0mis_hashable\u001b[0m\u001b[0;34m(\u001b[0m\u001b[0mkey\u001b[0m\u001b[0;34m)\u001b[0m\u001b[0;34m:\u001b[0m\u001b[0;34m\u001b[0m\u001b[0;34m\u001b[0m\u001b[0m\n",
      "\u001b[0;32m/glade/work/tijerina/conda-envs/parflow-npl/lib/python3.7/site-packages/pandas/core/series.py\u001b[0m in \u001b[0;36m_get_value\u001b[0;34m(self, label, takeable)\u001b[0m\n\u001b[1;32m   1049\u001b[0m \u001b[0;34m\u001b[0m\u001b[0m\n\u001b[1;32m   1050\u001b[0m         \u001b[0;31m# Similar to Index.get_value, but we do not fall back to positional\u001b[0m\u001b[0;34m\u001b[0m\u001b[0;34m\u001b[0m\u001b[0;34m\u001b[0m\u001b[0m\n\u001b[0;32m-> 1051\u001b[0;31m         \u001b[0mloc\u001b[0m \u001b[0;34m=\u001b[0m \u001b[0mself\u001b[0m\u001b[0;34m.\u001b[0m\u001b[0mindex\u001b[0m\u001b[0;34m.\u001b[0m\u001b[0mget_loc\u001b[0m\u001b[0;34m(\u001b[0m\u001b[0mlabel\u001b[0m\u001b[0;34m)\u001b[0m\u001b[0;34m\u001b[0m\u001b[0;34m\u001b[0m\u001b[0m\n\u001b[0m\u001b[1;32m   1052\u001b[0m         \u001b[0;32mreturn\u001b[0m \u001b[0mself\u001b[0m\u001b[0;34m.\u001b[0m\u001b[0mindex\u001b[0m\u001b[0;34m.\u001b[0m\u001b[0m_get_values_for_loc\u001b[0m\u001b[0;34m(\u001b[0m\u001b[0mself\u001b[0m\u001b[0;34m,\u001b[0m \u001b[0mloc\u001b[0m\u001b[0;34m,\u001b[0m \u001b[0mlabel\u001b[0m\u001b[0;34m)\u001b[0m\u001b[0;34m\u001b[0m\u001b[0;34m\u001b[0m\u001b[0m\n\u001b[1;32m   1053\u001b[0m \u001b[0;34m\u001b[0m\u001b[0m\n",
      "\u001b[0;32m/glade/work/tijerina/conda-envs/parflow-npl/lib/python3.7/site-packages/pandas/core/indexes/range.py\u001b[0m in \u001b[0;36mget_loc\u001b[0;34m(self, key, method, tolerance)\u001b[0m\n\u001b[1;32m    385\u001b[0m                     \u001b[0;32mreturn\u001b[0m \u001b[0mself\u001b[0m\u001b[0;34m.\u001b[0m\u001b[0m_range\u001b[0m\u001b[0;34m.\u001b[0m\u001b[0mindex\u001b[0m\u001b[0;34m(\u001b[0m\u001b[0mnew_key\u001b[0m\u001b[0;34m)\u001b[0m\u001b[0;34m\u001b[0m\u001b[0;34m\u001b[0m\u001b[0m\n\u001b[1;32m    386\u001b[0m                 \u001b[0;32mexcept\u001b[0m \u001b[0mValueError\u001b[0m \u001b[0;32mas\u001b[0m \u001b[0merr\u001b[0m\u001b[0;34m:\u001b[0m\u001b[0;34m\u001b[0m\u001b[0;34m\u001b[0m\u001b[0m\n\u001b[0;32m--> 387\u001b[0;31m                     \u001b[0;32mraise\u001b[0m \u001b[0mKeyError\u001b[0m\u001b[0;34m(\u001b[0m\u001b[0mkey\u001b[0m\u001b[0;34m)\u001b[0m \u001b[0;32mfrom\u001b[0m \u001b[0merr\u001b[0m\u001b[0;34m\u001b[0m\u001b[0;34m\u001b[0m\u001b[0m\n\u001b[0m\u001b[1;32m    388\u001b[0m             \u001b[0;32mraise\u001b[0m \u001b[0mKeyError\u001b[0m\u001b[0;34m(\u001b[0m\u001b[0mkey\u001b[0m\u001b[0;34m)\u001b[0m\u001b[0;34m\u001b[0m\u001b[0;34m\u001b[0m\u001b[0m\n\u001b[1;32m    389\u001b[0m         \u001b[0;32mreturn\u001b[0m \u001b[0msuper\u001b[0m\u001b[0;34m(\u001b[0m\u001b[0;34m)\u001b[0m\u001b[0;34m.\u001b[0m\u001b[0mget_loc\u001b[0m\u001b[0;34m(\u001b[0m\u001b[0mkey\u001b[0m\u001b[0;34m,\u001b[0m \u001b[0mmethod\u001b[0m\u001b[0;34m=\u001b[0m\u001b[0mmethod\u001b[0m\u001b[0;34m,\u001b[0m \u001b[0mtolerance\u001b[0m\u001b[0;34m=\u001b[0m\u001b[0mtolerance\u001b[0m\u001b[0;34m)\u001b[0m\u001b[0;34m\u001b[0m\u001b[0;34m\u001b[0m\u001b[0m\n",
      "\u001b[0;31mKeyError\u001b[0m: -1"
     ]
    }
   ],
   "source": [
    "# variables to get daily data\n",
    "user_beginDate = '2002-10-01'\n",
    "user_endDate = '2003-09-30'\n",
    "user_stationTriplets = '907:UT:SNTL'#'876:MT:SNTL'#838:CO:SNTL'#'1062:AK:SNTL'\n",
    "### For an individual station: ###\n",
    "### get the desired dataframe in one function call\n",
    "swe_data = get_snotel_swe(client=client, user_stationTriplets=user_stationTriplets, \n",
    "                          user_beginDate=user_beginDate, user_endDate=user_endDate)"
   ]
  },
  {
   "cell_type": "code",
   "execution_count": 76,
   "id": "ab5a74e8-29f3-4ac5-ac23-e315fd948e96",
   "metadata": {},
   "outputs": [
    {
     "name": "stdout",
     "output_type": "stream",
     "text": [
      "301:CA:SNTL\n",
      "907:UT:SNTL\n"
     ]
    },
    {
     "name": "stderr",
     "output_type": "stream",
     "text": [
      "/glade/work/tijerina/conda-envs/parflow-npl/lib/python3.7/site-packages/ipykernel_launcher.py:24: DeprecationWarning: The default dtype for empty Series will be 'object' instead of 'float64' in a future version. Specify a dtype explicitly to silence this warning.\n"
     ]
    },
    {
     "ename": "KeyError",
     "evalue": "-1",
     "output_type": "error",
     "traceback": [
      "\u001b[0;31m---------------------------------------------------------------------------\u001b[0m",
      "\u001b[0;31mValueError\u001b[0m                                Traceback (most recent call last)",
      "\u001b[0;32m/glade/work/tijerina/conda-envs/parflow-npl/lib/python3.7/site-packages/pandas/core/indexes/range.py\u001b[0m in \u001b[0;36mget_loc\u001b[0;34m(self, key, method, tolerance)\u001b[0m\n\u001b[1;32m    384\u001b[0m                 \u001b[0;32mtry\u001b[0m\u001b[0;34m:\u001b[0m\u001b[0;34m\u001b[0m\u001b[0;34m\u001b[0m\u001b[0m\n\u001b[0;32m--> 385\u001b[0;31m                     \u001b[0;32mreturn\u001b[0m \u001b[0mself\u001b[0m\u001b[0;34m.\u001b[0m\u001b[0m_range\u001b[0m\u001b[0;34m.\u001b[0m\u001b[0mindex\u001b[0m\u001b[0;34m(\u001b[0m\u001b[0mnew_key\u001b[0m\u001b[0;34m)\u001b[0m\u001b[0;34m\u001b[0m\u001b[0;34m\u001b[0m\u001b[0m\n\u001b[0m\u001b[1;32m    386\u001b[0m                 \u001b[0;32mexcept\u001b[0m \u001b[0mValueError\u001b[0m \u001b[0;32mas\u001b[0m \u001b[0merr\u001b[0m\u001b[0;34m:\u001b[0m\u001b[0;34m\u001b[0m\u001b[0;34m\u001b[0m\u001b[0m\n",
      "\u001b[0;31mValueError\u001b[0m: -1 is not in range",
      "\nThe above exception was the direct cause of the following exception:\n",
      "\u001b[0;31mKeyError\u001b[0m                                  Traceback (most recent call last)",
      "\u001b[0;32m/glade/scratch/tijerina/ipykernel_8126/3629078288.py\u001b[0m in \u001b[0;36m<module>\u001b[0;34m\u001b[0m\n\u001b[1;32m      5\u001b[0m     \u001b[0mprint\u001b[0m\u001b[0;34m(\u001b[0m\u001b[0mstation_triplets_array\u001b[0m\u001b[0;34m[\u001b[0m\u001b[0mi\u001b[0m\u001b[0;34m]\u001b[0m\u001b[0;34m)\u001b[0m\u001b[0;34m\u001b[0m\u001b[0;34m\u001b[0m\u001b[0m\n\u001b[1;32m      6\u001b[0m     swe_data[i,...] = get_snotel_swe(client=client, user_stationTriplets=station_triplets_array[i], \n\u001b[0;32m----> 7\u001b[0;31m                          user_beginDate=user_beginDate, user_endDate=user_endDate)\n\u001b[0m",
      "\u001b[0;32m/glade/scratch/tijerina/ipykernel_8126/3062406972.py\u001b[0m in \u001b[0;36mget_snotel_swe\u001b[0;34m(client, user_stationTriplets, user_beginDate, user_endDate)\u001b[0m\n\u001b[1;32m     35\u001b[0m             \u001b[0minstant_df\u001b[0m\u001b[0;34m[\u001b[0m\u001b[0;34m'SWE [in]'\u001b[0m\u001b[0;34m]\u001b[0m\u001b[0;34m[\u001b[0m\u001b[0mi\u001b[0m\u001b[0;34m]\u001b[0m \u001b[0;34m=\u001b[0m \u001b[0minstant_df\u001b[0m\u001b[0;34m[\u001b[0m\u001b[0;34m'SWE [in]'\u001b[0m\u001b[0;34m]\u001b[0m\u001b[0;34m[\u001b[0m\u001b[0mi\u001b[0m\u001b[0;34m-\u001b[0m\u001b[0;36m1\u001b[0m\u001b[0;34m]\u001b[0m\u001b[0;34m\u001b[0m\u001b[0;34m\u001b[0m\u001b[0m\n\u001b[1;32m     36\u001b[0m         \u001b[0;32mif\u001b[0m \u001b[0minstant_df\u001b[0m\u001b[0;34m[\u001b[0m\u001b[0;34m'AirT [F]'\u001b[0m\u001b[0;34m]\u001b[0m\u001b[0;34m.\u001b[0m\u001b[0misnull\u001b[0m\u001b[0;34m(\u001b[0m\u001b[0;34m)\u001b[0m\u001b[0;34m[\u001b[0m\u001b[0mi\u001b[0m\u001b[0;34m]\u001b[0m\u001b[0;34m:\u001b[0m\u001b[0;34m\u001b[0m\u001b[0;34m\u001b[0m\u001b[0m\n\u001b[0;32m---> 37\u001b[0;31m             \u001b[0minstant_df\u001b[0m\u001b[0;34m[\u001b[0m\u001b[0;34m'AirT [F]'\u001b[0m\u001b[0;34m]\u001b[0m\u001b[0;34m[\u001b[0m\u001b[0mi\u001b[0m\u001b[0;34m]\u001b[0m \u001b[0;34m=\u001b[0m \u001b[0minstant_df\u001b[0m\u001b[0;34m[\u001b[0m\u001b[0;34m'AirT [F]'\u001b[0m\u001b[0;34m]\u001b[0m\u001b[0;34m[\u001b[0m\u001b[0mi\u001b[0m\u001b[0;34m-\u001b[0m\u001b[0;36m1\u001b[0m\u001b[0;34m]\u001b[0m\u001b[0;34m\u001b[0m\u001b[0;34m\u001b[0m\u001b[0m\n\u001b[0m\u001b[1;32m     38\u001b[0m         \u001b[0;32mif\u001b[0m \u001b[0minstant_df\u001b[0m\u001b[0;34m[\u001b[0m\u001b[0;34m'PRCP [in]'\u001b[0m\u001b[0;34m]\u001b[0m\u001b[0;34m.\u001b[0m\u001b[0misnull\u001b[0m\u001b[0;34m(\u001b[0m\u001b[0;34m)\u001b[0m\u001b[0;34m[\u001b[0m\u001b[0mi\u001b[0m\u001b[0;34m]\u001b[0m\u001b[0;34m:\u001b[0m\u001b[0;34m\u001b[0m\u001b[0;34m\u001b[0m\u001b[0m\n\u001b[1;32m     39\u001b[0m             \u001b[0minstant_df\u001b[0m\u001b[0;34m[\u001b[0m\u001b[0;34m'PRCP [in]'\u001b[0m\u001b[0;34m]\u001b[0m\u001b[0;34m[\u001b[0m\u001b[0mi\u001b[0m\u001b[0;34m]\u001b[0m \u001b[0;34m=\u001b[0m \u001b[0minstant_df\u001b[0m\u001b[0;34m[\u001b[0m\u001b[0;34m'PRCP [in]'\u001b[0m\u001b[0;34m]\u001b[0m\u001b[0;34m[\u001b[0m\u001b[0mi\u001b[0m\u001b[0;34m-\u001b[0m\u001b[0;36m1\u001b[0m\u001b[0;34m]\u001b[0m\u001b[0;34m\u001b[0m\u001b[0;34m\u001b[0m\u001b[0m\n",
      "\u001b[0;32m/glade/work/tijerina/conda-envs/parflow-npl/lib/python3.7/site-packages/pandas/core/series.py\u001b[0m in \u001b[0;36m__getitem__\u001b[0;34m(self, key)\u001b[0m\n\u001b[1;32m    940\u001b[0m \u001b[0;34m\u001b[0m\u001b[0m\n\u001b[1;32m    941\u001b[0m         \u001b[0;32melif\u001b[0m \u001b[0mkey_is_scalar\u001b[0m\u001b[0;34m:\u001b[0m\u001b[0;34m\u001b[0m\u001b[0;34m\u001b[0m\u001b[0m\n\u001b[0;32m--> 942\u001b[0;31m             \u001b[0;32mreturn\u001b[0m \u001b[0mself\u001b[0m\u001b[0;34m.\u001b[0m\u001b[0m_get_value\u001b[0m\u001b[0;34m(\u001b[0m\u001b[0mkey\u001b[0m\u001b[0;34m)\u001b[0m\u001b[0;34m\u001b[0m\u001b[0;34m\u001b[0m\u001b[0m\n\u001b[0m\u001b[1;32m    943\u001b[0m \u001b[0;34m\u001b[0m\u001b[0m\n\u001b[1;32m    944\u001b[0m         \u001b[0;32mif\u001b[0m \u001b[0mis_hashable\u001b[0m\u001b[0;34m(\u001b[0m\u001b[0mkey\u001b[0m\u001b[0;34m)\u001b[0m\u001b[0;34m:\u001b[0m\u001b[0;34m\u001b[0m\u001b[0;34m\u001b[0m\u001b[0m\n",
      "\u001b[0;32m/glade/work/tijerina/conda-envs/parflow-npl/lib/python3.7/site-packages/pandas/core/series.py\u001b[0m in \u001b[0;36m_get_value\u001b[0;34m(self, label, takeable)\u001b[0m\n\u001b[1;32m   1049\u001b[0m \u001b[0;34m\u001b[0m\u001b[0m\n\u001b[1;32m   1050\u001b[0m         \u001b[0;31m# Similar to Index.get_value, but we do not fall back to positional\u001b[0m\u001b[0;34m\u001b[0m\u001b[0;34m\u001b[0m\u001b[0;34m\u001b[0m\u001b[0m\n\u001b[0;32m-> 1051\u001b[0;31m         \u001b[0mloc\u001b[0m \u001b[0;34m=\u001b[0m \u001b[0mself\u001b[0m\u001b[0;34m.\u001b[0m\u001b[0mindex\u001b[0m\u001b[0;34m.\u001b[0m\u001b[0mget_loc\u001b[0m\u001b[0;34m(\u001b[0m\u001b[0mlabel\u001b[0m\u001b[0;34m)\u001b[0m\u001b[0;34m\u001b[0m\u001b[0;34m\u001b[0m\u001b[0m\n\u001b[0m\u001b[1;32m   1052\u001b[0m         \u001b[0;32mreturn\u001b[0m \u001b[0mself\u001b[0m\u001b[0;34m.\u001b[0m\u001b[0mindex\u001b[0m\u001b[0;34m.\u001b[0m\u001b[0m_get_values_for_loc\u001b[0m\u001b[0;34m(\u001b[0m\u001b[0mself\u001b[0m\u001b[0;34m,\u001b[0m \u001b[0mloc\u001b[0m\u001b[0;34m,\u001b[0m \u001b[0mlabel\u001b[0m\u001b[0;34m)\u001b[0m\u001b[0;34m\u001b[0m\u001b[0;34m\u001b[0m\u001b[0m\n\u001b[1;32m   1053\u001b[0m \u001b[0;34m\u001b[0m\u001b[0m\n",
      "\u001b[0;32m/glade/work/tijerina/conda-envs/parflow-npl/lib/python3.7/site-packages/pandas/core/indexes/range.py\u001b[0m in \u001b[0;36mget_loc\u001b[0;34m(self, key, method, tolerance)\u001b[0m\n\u001b[1;32m    385\u001b[0m                     \u001b[0;32mreturn\u001b[0m \u001b[0mself\u001b[0m\u001b[0;34m.\u001b[0m\u001b[0m_range\u001b[0m\u001b[0;34m.\u001b[0m\u001b[0mindex\u001b[0m\u001b[0;34m(\u001b[0m\u001b[0mnew_key\u001b[0m\u001b[0;34m)\u001b[0m\u001b[0;34m\u001b[0m\u001b[0;34m\u001b[0m\u001b[0m\n\u001b[1;32m    386\u001b[0m                 \u001b[0;32mexcept\u001b[0m \u001b[0mValueError\u001b[0m \u001b[0;32mas\u001b[0m \u001b[0merr\u001b[0m\u001b[0;34m:\u001b[0m\u001b[0;34m\u001b[0m\u001b[0;34m\u001b[0m\u001b[0m\n\u001b[0;32m--> 387\u001b[0;31m                     \u001b[0;32mraise\u001b[0m \u001b[0mKeyError\u001b[0m\u001b[0;34m(\u001b[0m\u001b[0mkey\u001b[0m\u001b[0;34m)\u001b[0m \u001b[0;32mfrom\u001b[0m \u001b[0merr\u001b[0m\u001b[0;34m\u001b[0m\u001b[0;34m\u001b[0m\u001b[0m\n\u001b[0m\u001b[1;32m    388\u001b[0m             \u001b[0;32mraise\u001b[0m \u001b[0mKeyError\u001b[0m\u001b[0;34m(\u001b[0m\u001b[0mkey\u001b[0m\u001b[0;34m)\u001b[0m\u001b[0;34m\u001b[0m\u001b[0;34m\u001b[0m\u001b[0m\n\u001b[1;32m    389\u001b[0m         \u001b[0;32mreturn\u001b[0m \u001b[0msuper\u001b[0m\u001b[0;34m(\u001b[0m\u001b[0;34m)\u001b[0m\u001b[0;34m.\u001b[0m\u001b[0mget_loc\u001b[0m\u001b[0;34m(\u001b[0m\u001b[0mkey\u001b[0m\u001b[0;34m,\u001b[0m \u001b[0mmethod\u001b[0m\u001b[0;34m=\u001b[0m\u001b[0mmethod\u001b[0m\u001b[0;34m,\u001b[0m \u001b[0mtolerance\u001b[0m\u001b[0;34m=\u001b[0m\u001b[0mtolerance\u001b[0m\u001b[0;34m)\u001b[0m\u001b[0;34m\u001b[0m\u001b[0;34m\u001b[0m\u001b[0m\n",
      "\u001b[0;31mKeyError\u001b[0m: -1"
     ]
    }
   ],
   "source": [
    "### retrieve data for multiple stations\n",
    "swe_data = np.zeros((len(metadata_df.index),366,3))\n",
    "\n",
    "for i in range(0,2):#range(len(metadata_df.index)):\n",
    "    print(station_triplets_array[i])\n",
    "    swe_data[i,...] = get_snotel_swe(client=client, user_stationTriplets=station_triplets_array[i], \n",
    "                         user_beginDate=user_beginDate, user_endDate=user_endDate)"
   ]
  },
  {
   "cell_type": "code",
   "execution_count": 64,
   "id": "d1b35e3d-77de-4b83-999b-4da4c140897c",
   "metadata": {},
   "outputs": [
    {
     "data": {
      "text/plain": [
       "(641, 366, 3)"
      ]
     },
     "execution_count": 64,
     "metadata": {},
     "output_type": "execute_result"
    }
   ],
   "source": [
    "swe_data.shape"
   ]
  },
  {
   "cell_type": "code",
   "execution_count": 71,
   "id": "92b17d16-15c9-4efd-9284-9a358492ab10",
   "metadata": {},
   "outputs": [
    {
     "data": {
      "text/plain": [
       "array([[[ 0.  , 32.9 ,  0.  ],\n",
       "        [ 0.  , 34.88,  0.  ],\n",
       "        [ 0.  , 42.62,  0.  ],\n",
       "        ...,\n",
       "        [ 0.  , 57.74, 28.6 ],\n",
       "        [ 0.  , 51.8 , 28.6 ],\n",
       "        [ 0.  , 52.34, 28.6 ]],\n",
       "\n",
       "       [[ 0.  ,  0.  ,  0.  ],\n",
       "        [ 0.  ,  0.  ,  0.  ],\n",
       "        [ 0.  ,  0.  ,  0.  ],\n",
       "        ...,\n",
       "        [ 0.  ,  0.  ,  0.  ],\n",
       "        [ 0.  ,  0.  ,  0.  ],\n",
       "        [ 0.  ,  0.  ,  0.  ]],\n",
       "\n",
       "       [[ 0.  ,  0.  ,  0.  ],\n",
       "        [ 0.  ,  0.  ,  0.  ],\n",
       "        [ 0.  ,  0.  ,  0.  ],\n",
       "        ...,\n",
       "        [ 0.  ,  0.  ,  0.  ],\n",
       "        [ 0.  ,  0.  ,  0.  ],\n",
       "        [ 0.  ,  0.  ,  0.  ]],\n",
       "\n",
       "       ...,\n",
       "\n",
       "       [[ 0.  ,  0.  ,  0.  ],\n",
       "        [ 0.  ,  0.  ,  0.  ],\n",
       "        [ 0.  ,  0.  ,  0.  ],\n",
       "        ...,\n",
       "        [ 0.  ,  0.  ,  0.  ],\n",
       "        [ 0.  ,  0.  ,  0.  ],\n",
       "        [ 0.  ,  0.  ,  0.  ]],\n",
       "\n",
       "       [[ 0.  ,  0.  ,  0.  ],\n",
       "        [ 0.  ,  0.  ,  0.  ],\n",
       "        [ 0.  ,  0.  ,  0.  ],\n",
       "        ...,\n",
       "        [ 0.  ,  0.  ,  0.  ],\n",
       "        [ 0.  ,  0.  ,  0.  ],\n",
       "        [ 0.  ,  0.  ,  0.  ]],\n",
       "\n",
       "       [[ 0.  ,  0.  ,  0.  ],\n",
       "        [ 0.  ,  0.  ,  0.  ],\n",
       "        [ 0.  ,  0.  ,  0.  ],\n",
       "        ...,\n",
       "        [ 0.  ,  0.  ,  0.  ],\n",
       "        [ 0.  ,  0.  ,  0.  ],\n",
       "        [ 0.  ,  0.  ,  0.  ]]])"
      ]
     },
     "execution_count": 71,
     "metadata": {},
     "output_type": "execute_result"
    }
   ],
   "source": [
    "swe_data#[0,...]"
   ]
  },
  {
   "cell_type": "code",
   "execution_count": null,
   "id": "86a0464e-40d1-47df-9bb0-dc9bd9b76a03",
   "metadata": {},
   "outputs": [],
   "source": []
  },
  {
   "cell_type": "code",
   "execution_count": null,
   "id": "69446211-7202-4734-a285-48050e50e807",
   "metadata": {},
   "outputs": [],
   "source": []
  },
  {
   "cell_type": "code",
   "execution_count": null,
   "id": "5307dd3b-5fd1-4643-92f9-2c694fc81e7e",
   "metadata": {},
   "outputs": [],
   "source": []
  },
  {
   "cell_type": "code",
   "execution_count": 12,
   "id": "45750efc-a257-4a6f-b530-ce8a2cd6ad2f",
   "metadata": {},
   "outputs": [],
   "source": [
    "swe_data.to_csv('CopperMtn/SNOTEL_415-CopperMtn_SWE_WY2003.csv', header=True)"
   ]
  },
  {
   "cell_type": "code",
   "execution_count": 75,
   "id": "6b2bcf11-b9d5-41f3-86f0-8c8ac406af26",
   "metadata": {},
   "outputs": [
    {
     "data": {
      "text/plain": [
       "Text(0.5, 1.0, 'Precip from 2002-10-01 to 2003-09-30 at 876:MT:SNTL')"
      ]
     },
     "execution_count": 75,
     "metadata": {},
     "output_type": "execute_result"
    },
    {
     "data": {
      "image/png": "[encoded data removed]",
      "text/plain": [
       "<Figure size 504x360 with 1 Axes>"
      ]
     },
     "metadata": {
      "needs_background": "light"
     },
     "output_type": "display_data"
    },
    {
     "data": {
      "image/png": "[encoded data removed]",
      "text/plain": [
       "<Figure size 504x360 with 1 Axes>"
      ]
     },
     "metadata": {
      "needs_background": "light"
     },
     "output_type": "display_data"
    },
    {
     "data": {
      "image/png": "[encoded data removed]",
      "text/plain": [
       "<Figure size 504x360 with 1 Axes>"
      ]
     },
     "metadata": {
      "needs_background": "light"
     },
     "output_type": "display_data"
    }
   ],
   "source": [
    "# plot a station (need to fix this)\n",
    "fig, ax = plt.subplots(figsize=(7,5))\n",
    "ax.plot(swe_data['SWE [in]'])\n",
    "ax.set_ylabel('SWE [in]')\n",
    "ax.set_xlabel(f'Days After {user_beginDate}')\n",
    "ax.set_title(f'SWE from {user_beginDate} to {user_endDate} at {user_stationTriplets}')\n",
    "\n",
    "fig, ax = plt.subplots(figsize=(7,5))\n",
    "ax.plot(swe_data['AirT [F]'])\n",
    "ax.set_ylabel('Air Temp [F]')\n",
    "ax.set_xlabel(f'Days After {user_beginDate}')\n",
    "ax.set_title(f'AirT from {user_beginDate} to {user_endDate} at {user_stationTriplets}')\n",
    "\n",
    "fig, ax = plt.subplots(figsize=(7,5))\n",
    "ax.plot(swe_data['PRCP [in]'])\n",
    "ax.set_ylabel('Cummulative Precip [in]')\n",
    "ax.set_xlabel(f'Days After {user_beginDate}')\n",
    "ax.set_title(f'Precip from {user_beginDate} to {user_endDate} at {user_stationTriplets}')"
   ]
  },
  {
   "cell_type": "code",
   "execution_count": null,
   "id": "3b039768-6e62-4d09-8678-a9520c01354e",
   "metadata": {},
   "outputs": [],
   "source": []
  }
 ],
 "metadata": {
  "kernelspec": {
   "display_name": "Python [conda env:parflow-npl]",
   "language": "python",
   "name": "conda-env-parflow-npl-py"
  },
  "language_info": {
   "codemirror_mode": {
    "name": "ipython",
    "version": 3
   },
   "file_extension": ".py",
   "mimetype": "text/x-python",
   "name": "python",
   "nbconvert_exporter": "python",
   "pygments_lexer": "ipython3",
   "version": "3.7.12"
  }
 },
 "nbformat": 4,
 "nbformat_minor": 5
}
