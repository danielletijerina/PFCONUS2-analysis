{
 "cells": [
  {
   "cell_type": "markdown",
   "id": "2aa8e831-c0b4-4a5c-a9d0-d4c0ce47fcf6",
   "metadata": {},
   "source": [
    "# Test code blocks to keep"
   ]
  },
  {
   "cell_type": "code",
   "execution_count": 3,
   "id": "bbeae1f2-d4f1-426c-97a2-7223cb427ecd",
   "metadata": {},
   "outputs": [],
   "source": [
    "import numpy as np"
   ]
  },
  {
   "cell_type": "markdown",
   "id": "654a3473-4494-4013-98e5-bf7d3aca86d7",
   "metadata": {},
   "source": [
    "### For loop with an if-else statement. Good for skipping values in arrays without having to manipulate array first."
   ]
  },
  {
   "cell_type": "code",
   "execution_count": 7,
   "id": "37476578-76cc-4dc9-aa1c-bf426582d7a6",
   "metadata": {},
   "outputs": [
    {
     "name": "stdout",
     "output_type": "stream",
     "text": [
      "1\n",
      "Y is number\n",
      "2\n",
      "Y is number\n",
      "3\n",
      "Y is number\n",
      "nan\n",
      "Y IS NAN\n",
      "4\n",
      "Y is number\n",
      "5\n",
      "Y is number\n",
      "nan\n",
      "Y IS NAN\n",
      "7\n",
      "Y is number\n",
      "8\n",
      "Y is number\n",
      "nan\n",
      "Y IS NAN\n"
     ]
    }
   ],
   "source": [
    "na = np.nan\n",
    "conus2_y = [1,2,3,na,4,5,na,7,8,na,10]\n",
    "for z in range(10):\n",
    "    print(conus2_y[z])\n",
    "    if np.isnan(conus2_y[z]) == True:\n",
    "        print('Y IS NAN')\n",
    "    else:\n",
    "        print('Y is number')"
   ]
  },
  {
   "cell_type": "code",
   "execution_count": null,
   "id": "ef659f54-ef18-4b47-bc07-5ffcebf24f97",
   "metadata": {},
   "outputs": [],
   "source": [
    "\n",
    "for g in range(5714):\n",
    "    if conusy[g] < 0:\n",
    "        testarray[g] = 'nan'\n",
    "        print('Gage is outside of CONUS2 range')\n",
    "    else:\n",
    "        testarray[g] = test[conusy[g], conusx[g]]\n",
    "        print('Finding value in CONUS2 grid')"
   ]
  },
  {
   "cell_type": "markdown",
   "id": "fb662fb6-b677-4c50-a193-89a4c57c7d7d",
   "metadata": {},
   "source": [
    "### Find number zeros contained in each pandas column"
   ]
  },
  {
   "cell_type": "code",
   "execution_count": null,
   "id": "f8c3212b-330e-4706-9fc8-7215ee0406dd",
   "metadata": {},
   "outputs": [],
   "source": [
    "for column_name in usgsdata_no_zeros.columns:\n",
    "    column = usgsdata_no_zeros[column_name]\n",
    "    # Get the count of Zeros in column \n",
    "    count = (column == 0).sum()\n",
    "    print('Count of zeros in column ', column_name, ' is : ', count)"
   ]
  }
 ],
 "metadata": {
  "kernelspec": {
   "display_name": "Python [conda env:parflow-npl]",
   "language": "python",
   "name": "conda-env-parflow-npl-py"
  },
  "language_info": {
   "codemirror_mode": {
    "name": "ipython",
    "version": 3
   },
   "file_extension": ".py",
   "mimetype": "text/x-python",
   "name": "python",
   "nbconvert_exporter": "python",
   "pygments_lexer": "ipython3",
   "version": "3.7.12"
  }
 },
 "nbformat": 4,
 "nbformat_minor": 5
}
