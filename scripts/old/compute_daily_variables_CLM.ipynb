{
 "cells": [
  {
   "cell_type": "markdown",
   "id": "b48686ae-ebea-4e07-b8f9-48d9ccec349e",
   "metadata": {},
   "source": [
    "### Process and save CLM daily averages\n",
    "This script takes hourly CLM outputs as PFB files and computes the daily averages to be saved as PFB files.\n",
    "\n",
    "Inputs:\n",
    "- Directory where CLM outputs are and directory where you want to save output\n",
    "- Hourly PFB files of CLM outputs\n",
    "- water year and day start/end\n",
    "\n",
    "Outputs:\n",
    "- PFB files for daily average of each variable:  \n",
    "    - Latent heat (LH) – CLM out layer 1 [W/m^2]\n",
    "    - Sensible heat flux (SH) – CLM out layer 3 [W/m^2]\n",
    "    - ground evaporation without condensation (qflx_grnd) – CLM out layer 6 [mm/s]\n",
    "    - Vegetation transpiration (qflx_trans) – CLM out layer 9 [mm/s]\n",
    "    - Snow water equivalent (SWE) – CLM out layer 11 [mm]\n",
    "    - Ground temperature (Tgrnd) – CLM out layer 12 [K] skin temp\n",
    "    - Soil temperature (Tsoil) – CLM out layer 14 [K] @5cm\n",
    "    - Evapotranspiration calculation from qflx_evap_tot [m/h]\n",
    "\n",
    "\n",
    "Notes (10/23/22):  \n",
    "- Figure out which vars are sum (accumulated) and which are averages\n",
    "- UNITS!\n"
   ]
  },
  {
   "cell_type": "code",
   "execution_count": 1,
   "id": "17adc139-8e5e-4c5d-bcae-d4b39f83e0e1",
   "metadata": {},
   "outputs": [],
   "source": [
    "import numpy as np\n",
    "from parflow import Run\n",
    "import sys\n",
    "from parflow.tools.io import read_pfb,write_pfb\n",
    "import parflow.tools.hydrology as hydro"
   ]
  },
  {
   "cell_type": "code",
   "execution_count": 21,
   "id": "606c96c1-f93f-4543-8245-8a6103b5de76",
   "metadata": {},
   "outputs": [],
   "source": [
    "NCLMOUTPUTS = 13 + 4 #13 (number variables) + number of layers over which CLM is active, NZ root\n",
    "\n",
    "#these 3 entries (year, day start and day end) will eventually be argv to the script so that it can be run from bash script\n",
    "water_year = 2003\n",
    "day_start = 0\n",
    "day_end = 2\n",
    "\n",
    "# water_year = int(sys.argv[1])\n",
    "# day_start = int(sys.argv[1])\n",
    "# day_end = int(sys.argv[1])\n",
    "\n",
    "# path to CLM outputs and pfidb\n",
    "path_outputs = '/glade/scratch/tijerina/CONUS2/spinup_WY2003/run_inputs/'#f'/WY{water_year}/'\n",
    "runname = 'spinup.wy2003' #f'CONUS2_{water_year}'\n",
    "\n",
    "# directory to save averages to\n",
    "directory_out = f'/glade/scratch/tijerina/CONUS2/spinup_WY2003/averages'"
   ]
  },
  {
   "cell_type": "code",
   "execution_count": 22,
   "id": "2ded1750-43fc-4958-a9fb-92ed0e1b630f",
   "metadata": {},
   "outputs": [
    {
     "name": "stdout",
     "output_type": "stream",
     "text": [
      "Solver: Field BinaryOutDir is not part of the expected schema <class 'parflow.tools.database.generated.Solver'>\n",
      "Solver.OverlandKinematic: Field SeepageOne is not part of the expected schema <class 'parflow.tools.database.generated.OverlandKinematic'>\n",
      "Solver.OverlandKinematic: Field SeepageTwo is not part of the expected schema <class 'parflow.tools.database.generated.OverlandKinematic'>\n",
      " => Error during CLM import - CLM specific key have been skipped\n"
     ]
    }
   ],
   "source": [
    "run = Run.from_definition(f'{path_outputs}/{runname}.pfidb')\n",
    "data = run.data_accessor\n",
    "\n",
    "# porosity = data.computed_porosity \n",
    "# specific_storage = data.specific_storage \n",
    "# mannings = data.mannings\n",
    "\n",
    "# ## remove input filenames for TopoSlopes to force the data accessor to read the output slopes\n",
    "# ## this fixes a windows issue\n",
    "# run.TopoSlopesX.FileName = None\n",
    "# run.TopoSlopesY.FileName = None\n",
    "\n",
    "# slopex = data.slope_x \n",
    "# slopey = data.slope_y \n",
    "mask = data.mask\n",
    "\n",
    "# dz_3d = data.dz\n",
    "\n",
    "# formatting the mask so that values outside the domain are NA and inside the domain are 1\n",
    "# check with mask that has 0 and 1\n",
    "active_mask=mask.copy()\n",
    "active_mask[active_mask > 0] = 1"
   ]
  },
  {
   "cell_type": "code",
   "execution_count": 26,
   "id": "7bc3def2-ef22-4806-8db1-0c185aad6a28",
   "metadata": {},
   "outputs": [
    {
     "data": {
      "text/plain": [
       "(3256, 4442)"
      ]
     },
     "execution_count": 26,
     "metadata": {},
     "output_type": "execute_result"
    }
   ],
   "source": [
    "data.et.shape"
   ]
  },
  {
   "cell_type": "code",
   "execution_count": 28,
   "id": "4dd5ec60-264e-4822-925e-109c3ae77e39",
   "metadata": {},
   "outputs": [],
   "source": [
    "###READING ALL STATIC VARIABLES NEEDED\n",
    "# Read in porosity data\n",
    "#porosity = read_pfb(f'{path_outputs}{runname}.out.porosity.pfb')\n",
    "#...\n",
    "#etc.\n",
    "\n",
    "#nz,ny,nx = porosity.shape()\n",
    "\n",
    "# set data accessor time to 1 for reading CLM files\n",
    "data.time = 1\n",
    "\n",
    "nz = 10\n",
    "ny = 3256\n",
    "nx = 4442\n",
    "\n",
    "dx = 1000\n",
    "dy = 1000\n",
    "dz = 200\n",
    "dz_3d = data.dz\n",
    "\n",
    "#apparently it's good to use high numbers when saving files to speed up reading?\n",
    "p = 48\n",
    "q = 36\n",
    "r = 1\n",
    "\n",
    "#list of clm variables you want\n",
    "variables_clm = ['eflx_lh_tot', 'eflx_sh_tot', 'qflx_evap_grnd','qflx_tran_veg'] #,'swe_out','t_grnd','t_soil'\n",
    "#indication whether you want the mean (1) or the sum (0)\n",
    "variables_clm_mean = [0,0,0,1,1,1] #?????????????????????????????????????????????????????????\n",
    "\n",
    "# eflx_lh_tot    # CLM 1 # latent heat flux total [W/m2] using the silo variable LatentHeat;\n",
    "# eflx_lwrad_out # CLM 2 # outgoing long-wave radiation [W/m2] using the silo variable LongWave;\n",
    "# eflx_sh_tot    # CLM 3 # sensible heat flux total [W/m2] using the silo variable SensibleHeat;\n",
    "# eflx_soil_grnd # CLM 4 # ground heat flux [W/m2] using the silo variable GroundHeat;\n",
    "# qflx_evap_tot  # CLM 5 # total evaporation [mm/s] using the silo variable EvaporationTotal;\n",
    "# qflx_evap_grnd # CLM 6 # ground evaporation without condensation [mm/s] using the silo variable EvaporationGround- NoSublimation;\n",
    "# qflx_evap_soi  # CLM 7 # soil evaporation [mm/s] using the silo variable EvaporationGround;\n",
    "# qflx_evap_veg  # CLM 8 # vegetation evaporation (canopy) and transpiration (mms-1) using the silo variable EvaporationCanopy;\n",
    "# qflx_tran_veg  # CLM 9 # vegetation transpiration [mm/s] using the silo variable Transpiration;\n",
    "# qflx_infl      # CLM 10 # soil infiltration [mm/s] using the silo variable Infiltration;\n",
    "# swe_out        # CLM 11 # snow water equivalent [mm] using the silo variable SWE;\n",
    "# t_grnd         # CLM 12 # ground surface temperature [K] using the silo variable TemperatureGround;\n",
    "# qflx_qirr      # CLM 13 # irrigation flux\n",
    "# t_soil         # CLM \n",
    "\n",
    "ALL_CLM = ['eflx_lh_tot','eflx_lwrad_out','eflx_sh_tot','eflx_soil_grnd','qflx_evap_tot','qflx_evap_grnd','qflx_evap_soi','qflx_evap_veg','qflx_tran_veg','qflx_infl','swe_out','t_grnd','qflx_qirr','t_soil']"
   ]
  },
  {
   "cell_type": "code",
   "execution_count": 29,
   "id": "325a8d8a-098b-4e8f-bef4-57b2669bc042",
   "metadata": {},
   "outputs": [
    {
     "name": "stdout",
     "output_type": "stream",
     "text": [
      "reading /glade/scratch/tijerina/CONUS2/spinup_WY2003/run_inputs/output-pf/spinup.wy2003.out.clm_output.00001.C.pfb\n",
      "reading /glade/scratch/tijerina/CONUS2/spinup_WY2003/run_inputs/output-pf/spinup.wy2003.out.clm_output.00002.C.pfb\n",
      "reading /glade/scratch/tijerina/CONUS2/spinup_WY2003/run_inputs/output-pf/spinup.wy2003.out.clm_output.00003.C.pfb\n",
      "reading /glade/scratch/tijerina/CONUS2/spinup_WY2003/run_inputs/output-pf/spinup.wy2003.out.clm_output.00004.C.pfb\n",
      "reading /glade/scratch/tijerina/CONUS2/spinup_WY2003/run_inputs/output-pf/spinup.wy2003.out.clm_output.00005.C.pfb\n",
      "reading /glade/scratch/tijerina/CONUS2/spinup_WY2003/run_inputs/output-pf/spinup.wy2003.out.clm_output.00006.C.pfb\n",
      "reading /glade/scratch/tijerina/CONUS2/spinup_WY2003/run_inputs/output-pf/spinup.wy2003.out.clm_output.00007.C.pfb\n",
      "reading /glade/scratch/tijerina/CONUS2/spinup_WY2003/run_inputs/output-pf/spinup.wy2003.out.clm_output.00008.C.pfb\n",
      "reading /glade/scratch/tijerina/CONUS2/spinup_WY2003/run_inputs/output-pf/spinup.wy2003.out.clm_output.00009.C.pfb\n",
      "reading /glade/scratch/tijerina/CONUS2/spinup_WY2003/run_inputs/output-pf/spinup.wy2003.out.clm_output.00010.C.pfb\n",
      "reading /glade/scratch/tijerina/CONUS2/spinup_WY2003/run_inputs/output-pf/spinup.wy2003.out.clm_output.00011.C.pfb\n",
      "reading /glade/scratch/tijerina/CONUS2/spinup_WY2003/run_inputs/output-pf/spinup.wy2003.out.clm_output.00012.C.pfb\n",
      "reading /glade/scratch/tijerina/CONUS2/spinup_WY2003/run_inputs/output-pf/spinup.wy2003.out.clm_output.00013.C.pfb\n",
      "reading /glade/scratch/tijerina/CONUS2/spinup_WY2003/run_inputs/output-pf/spinup.wy2003.out.clm_output.00014.C.pfb\n",
      "reading /glade/scratch/tijerina/CONUS2/spinup_WY2003/run_inputs/output-pf/spinup.wy2003.out.clm_output.00015.C.pfb\n",
      "reading /glade/scratch/tijerina/CONUS2/spinup_WY2003/run_inputs/output-pf/spinup.wy2003.out.clm_output.00016.C.pfb\n",
      "reading /glade/scratch/tijerina/CONUS2/spinup_WY2003/run_inputs/output-pf/spinup.wy2003.out.clm_output.00017.C.pfb\n",
      "reading /glade/scratch/tijerina/CONUS2/spinup_WY2003/run_inputs/output-pf/spinup.wy2003.out.clm_output.00018.C.pfb\n",
      "reading /glade/scratch/tijerina/CONUS2/spinup_WY2003/run_inputs/output-pf/spinup.wy2003.out.clm_output.00019.C.pfb\n",
      "reading /glade/scratch/tijerina/CONUS2/spinup_WY2003/run_inputs/output-pf/spinup.wy2003.out.clm_output.00020.C.pfb\n",
      "reading /glade/scratch/tijerina/CONUS2/spinup_WY2003/run_inputs/output-pf/spinup.wy2003.out.clm_output.00021.C.pfb\n",
      "reading /glade/scratch/tijerina/CONUS2/spinup_WY2003/run_inputs/output-pf/spinup.wy2003.out.clm_output.00022.C.pfb\n",
      "reading /glade/scratch/tijerina/CONUS2/spinup_WY2003/run_inputs/output-pf/spinup.wy2003.out.clm_output.00023.C.pfb\n",
      "reading /glade/scratch/tijerina/CONUS2/spinup_WY2003/run_inputs/output-pf/spinup.wy2003.out.clm_output.00024.C.pfb\n",
      "reading /glade/scratch/tijerina/CONUS2/spinup_WY2003/run_inputs/output-pf/spinup.wy2003.out.clm_output.00025.C.pfb\n",
      "reading /glade/scratch/tijerina/CONUS2/spinup_WY2003/run_inputs/output-pf/spinup.wy2003.out.clm_output.00026.C.pfb\n",
      "reading /glade/scratch/tijerina/CONUS2/spinup_WY2003/run_inputs/output-pf/spinup.wy2003.out.clm_output.00027.C.pfb\n",
      "reading /glade/scratch/tijerina/CONUS2/spinup_WY2003/run_inputs/output-pf/spinup.wy2003.out.clm_output.00028.C.pfb\n",
      "reading /glade/scratch/tijerina/CONUS2/spinup_WY2003/run_inputs/output-pf/spinup.wy2003.out.clm_output.00029.C.pfb\n",
      "reading /glade/scratch/tijerina/CONUS2/spinup_WY2003/run_inputs/output-pf/spinup.wy2003.out.clm_output.00030.C.pfb\n",
      "reading /glade/scratch/tijerina/CONUS2/spinup_WY2003/run_inputs/output-pf/spinup.wy2003.out.clm_output.00031.C.pfb\n",
      "reading /glade/scratch/tijerina/CONUS2/spinup_WY2003/run_inputs/output-pf/spinup.wy2003.out.clm_output.00032.C.pfb\n",
      "reading /glade/scratch/tijerina/CONUS2/spinup_WY2003/run_inputs/output-pf/spinup.wy2003.out.clm_output.00033.C.pfb\n",
      "reading /glade/scratch/tijerina/CONUS2/spinup_WY2003/run_inputs/output-pf/spinup.wy2003.out.clm_output.00034.C.pfb\n",
      "reading /glade/scratch/tijerina/CONUS2/spinup_WY2003/run_inputs/output-pf/spinup.wy2003.out.clm_output.00035.C.pfb\n",
      "reading /glade/scratch/tijerina/CONUS2/spinup_WY2003/run_inputs/output-pf/spinup.wy2003.out.clm_output.00036.C.pfb\n",
      "reading /glade/scratch/tijerina/CONUS2/spinup_WY2003/run_inputs/output-pf/spinup.wy2003.out.clm_output.00037.C.pfb\n",
      "reading /glade/scratch/tijerina/CONUS2/spinup_WY2003/run_inputs/output-pf/spinup.wy2003.out.clm_output.00038.C.pfb\n",
      "reading /glade/scratch/tijerina/CONUS2/spinup_WY2003/run_inputs/output-pf/spinup.wy2003.out.clm_output.00039.C.pfb\n",
      "reading /glade/scratch/tijerina/CONUS2/spinup_WY2003/run_inputs/output-pf/spinup.wy2003.out.clm_output.00040.C.pfb\n",
      "reading /glade/scratch/tijerina/CONUS2/spinup_WY2003/run_inputs/output-pf/spinup.wy2003.out.clm_output.00041.C.pfb\n",
      "reading /glade/scratch/tijerina/CONUS2/spinup_WY2003/run_inputs/output-pf/spinup.wy2003.out.clm_output.00042.C.pfb\n",
      "reading /glade/scratch/tijerina/CONUS2/spinup_WY2003/run_inputs/output-pf/spinup.wy2003.out.clm_output.00043.C.pfb\n",
      "reading /glade/scratch/tijerina/CONUS2/spinup_WY2003/run_inputs/output-pf/spinup.wy2003.out.clm_output.00044.C.pfb\n",
      "reading /glade/scratch/tijerina/CONUS2/spinup_WY2003/run_inputs/output-pf/spinup.wy2003.out.clm_output.00045.C.pfb\n",
      "reading /glade/scratch/tijerina/CONUS2/spinup_WY2003/run_inputs/output-pf/spinup.wy2003.out.clm_output.00046.C.pfb\n",
      "reading /glade/scratch/tijerina/CONUS2/spinup_WY2003/run_inputs/output-pf/spinup.wy2003.out.clm_output.00047.C.pfb\n",
      "reading /glade/scratch/tijerina/CONUS2/spinup_WY2003/run_inputs/output-pf/spinup.wy2003.out.clm_output.00048.C.pfb\n"
     ]
    }
   ],
   "source": [
    "for day in range(day_start,day_end):\n",
    "\n",
    "    timestamp_day_out = str(int(day+1)).rjust(3, '0')\n",
    "\n",
    "    ##INITIALIZE WHATEVER DYNAMIC VARIABLES THAT NEED HOURLY READING \n",
    "    et = np.zeros((ny,nx)) \n",
    "    \n",
    "    if not variables_clm == False:\n",
    "        clm_output = np.zeros((NCLMOUTPUTS,ny,nx))\n",
    "    for h in range(day*24+1,(day+1)*24+1):\n",
    "        timestamp_reading = str(int(h)).rjust(5, '0')\n",
    "\n",
    "        #CLM Variables\n",
    "        clm_output += read_pfb(f'{path_outputs}{runname}.out.clm_output.{timestamp_reading}.C.pfb')\n",
    "        print(f'reading {path_outputs}{runname}.out.clm_output.{timestamp_reading}.C.pfb')\n",
    "        \n",
    "        # Calculate evapotranspiration from qflx_evap_tot\n",
    "        qflx_evap_total += clm_output[4, ...]\n",
    "        et += qflx_evap_total * 3600 / 1000 * dx * dy #mm/s > mm/h > m/d\n",
    "\n",
    "    # ### compute average for average variables\n",
    "    et /= 24\n",
    "\n",
    "    # ### SAVE VARIABLES\n",
    "    write_pfb(f'{directory_out}/ET.{water_year}.daily.{timestamp_day_out}.pfb',et,dx=dx,dy=dy,dz=dz,P=p,Q=q,R=r,dist=False)\n",
    "   \n",
    "\n",
    "    #Compute averages CLM outputs\n",
    "    for ind_clm in range(len(variables_clm)):\n",
    "        #Check if it's t_soil, then it's 3D!\n",
    "        if variables_clm[ind_clm] == 't_soil':\n",
    "            clm_save = clm_output[14:,:,:]\n",
    "        else:\n",
    "            ind_in_clmoutput = ALL_CLM.index(variables_clm[ind_clm])\n",
    "            clm_save = clm_output[ind_in_clmoutput,:,:]\n",
    "        if variables_clm_mean[ind_clm]==1:\n",
    "            clm_save/=24\n",
    "        \n",
    "        #SAVE VARIABLES CLM outputs\n",
    "        write_pfb(f'{directory_out}/{variables_clm[ind_clm]}.daily.{timestamp_day_out}.pfb',clm_save,dx=dx,dy=dy,dz=dz,P=p,Q=q,R=r,dist=False)\n",
    "\n",
    "    "
   ]
  },
  {
   "cell_type": "code",
   "execution_count": 15,
   "id": "ee836522-95a2-4ab8-a72c-550266e55fc1",
   "metadata": {},
   "outputs": [
    {
     "data": {
      "text/plain": [
       "(17, 3256, 4442)"
      ]
     },
     "execution_count": 15,
     "metadata": {},
     "output_type": "execute_result"
    }
   ],
   "source": [
    "clm_output.shape"
   ]
  },
  {
   "cell_type": "code",
   "execution_count": null,
   "id": "230357fd-1790-46e3-b062-f9b7b02487f9",
   "metadata": {},
   "outputs": [],
   "source": [
    "day1_sm = read_pfb(f'{directory_out}/spinup.wy2003.out.SM.001.pfb')"
   ]
  },
  {
   "cell_type": "code",
   "execution_count": null,
   "id": "b84232cc-81ba-4d2c-a398-b1bca0270fa6",
   "metadata": {},
   "outputs": [],
   "source": [
    "day1_sm.shape"
   ]
  },
  {
   "cell_type": "code",
   "execution_count": null,
   "id": "52c5fcc1-8691-4414-a84f-b06b04e1a949",
   "metadata": {},
   "outputs": [],
   "source": [
    "day1_sm[9,2000:2005,2000:2005]"
   ]
  },
  {
   "cell_type": "code",
   "execution_count": null,
   "id": "80fdf947-922a-481c-89ac-d3006b56edc6",
   "metadata": {},
   "outputs": [],
   "source": []
  }
 ],
 "metadata": {
  "kernelspec": {
   "display_name": "Python [conda env:parflow-npl]",
   "language": "python",
   "name": "conda-env-parflow-npl-py"
  },
  "language_info": {
   "codemirror_mode": {
    "name": "ipython",
    "version": 3
   },
   "file_extension": ".py",
   "mimetype": "text/x-python",
   "name": "python",
   "nbconvert_exporter": "python",
   "pygments_lexer": "ipython3",
   "version": "3.7.12"
  }
 },
 "nbformat": 4,
 "nbformat_minor": 5
}
